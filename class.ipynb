{
 "cells": [
  {
   "cell_type": "code",
   "execution_count": 1,
   "metadata": {
    "collapsed": true
   },
   "outputs": [],
   "source": [
    "class Soda:\n",
    "    def __init__(self, add):\n",
    "        if isinstance(add, str):\n",
    "            self.add = add\n",
    "        else:\n",
    "            self.add = None\n",
    "\n",
    "    def show_my_drink(self):\n",
    "        if self.add:\n",
    "            print(f'Газировка и {self.add}')\n",
    "        else:\n",
    "            print('Обычная газировка')\n"
   ]
  },
  {
   "cell_type": "code",
   "execution_count": 11,
   "outputs": [
    {
     "data": {
      "text/plain": "<__main__.Soda at 0x26e903853d0>"
     },
     "execution_count": 11,
     "metadata": {},
     "output_type": "execute_result"
    }
   ],
   "source": [
    "a = Soda('клубника')"
   ],
   "metadata": {
    "collapsed": false
   }
  },
  {
   "cell_type": "code",
   "execution_count": 14,
   "outputs": [
    {
     "ename": "NameError",
     "evalue": "name 'show_my_drink' is not defined",
     "output_type": "error",
     "traceback": [
      "\u001B[1;31m---------------------------------------------------------------------------\u001B[0m",
      "\u001B[1;31mNameError\u001B[0m                                 Traceback (most recent call last)",
      "Input \u001B[1;32mIn [14]\u001B[0m, in \u001B[0;36m<cell line: 1>\u001B[1;34m()\u001B[0m\n\u001B[1;32m----> 1\u001B[0m \u001B[43mshow_my_drink\u001B[49m(\u001B[38;5;124m'\u001B[39m\u001B[38;5;124mклубника\u001B[39m\u001B[38;5;124m'\u001B[39m)\n",
      "\u001B[1;31mNameError\u001B[0m: name 'show_my_drink' is not defined"
     ]
    }
   ],
   "source": [
    "a.show_my_drink()"
   ],
   "metadata": {
    "collapsed": false
   }
  },
  {
   "cell_type": "code",
   "execution_count": 27,
   "outputs": [],
   "source": [
    "class TriangleChecker:\n",
    "    def __init__(self, sides):\n",
    "        self.sides = sides\n",
    "    def is_triangle(self):\n",
    "        if all(isinstance(side, (int, float)) for side in self.sides):\n",
    "            if all(side > 0 for side in self.sides):\n",
    "                sort_sides = sorted(self.sides)\n",
    "                if sort_sides[0] + sort_sides[1] > sort_sides[2]:\n",
    "                    return 'Ура, можно построить треугольник!'\n",
    "                return 'Жаль, но из этого треугольника не сделать'\n",
    "            return 'С отрицательными числами ничего не выйдет'\n",
    "        return 'Нужно вводить только числа'\n",
    "\n",
    "\n",
    "\n",
    "\n"
   ],
   "metadata": {
    "collapsed": false
   }
  },
  {
   "cell_type": "code",
   "execution_count": 28,
   "outputs": [],
   "source": [
    "a = TriangleChecker([2, 4, 6])"
   ],
   "metadata": {
    "collapsed": false
   }
  },
  {
   "cell_type": "code",
   "execution_count": 29,
   "outputs": [
    {
     "data": {
      "text/plain": "'Жаль, но из этого треугольника не сделать'"
     },
     "execution_count": 29,
     "metadata": {},
     "output_type": "execute_result"
    }
   ],
   "source": [
    "a.is_triangle()"
   ],
   "metadata": {
    "collapsed": false
   }
  },
  {
   "cell_type": "code",
   "execution_count": 10,
   "outputs": [],
   "source": [
    "class KgToPounds:\n",
    "    def __init__(self, kg):\n",
    "        self.__kg = kg\n",
    "    def to_pounds(self):\n",
    "        return self.__kg * 2.2\n",
    "    def __set_kg(self, new_kg):\n",
    "        if isinstance(new_kg, (int, float)):\n",
    "            self.__kg = new_kg\n",
    "        else:\n",
    "            raise ValueError\n",
    "    def __get_kg(self):\n",
    "        return self.__kg\n",
    "    kg = property(__get_kg, __set_kg)"
   ],
   "metadata": {
    "collapsed": false
   }
  },
  {
   "cell_type": "code",
   "execution_count": 11,
   "outputs": [
    {
     "name": "stdout",
     "output_type": "stream",
     "text": [
      "26.400000000000002\n",
      "12\n",
      "41\n"
     ]
    },
    {
     "ename": "ValueError",
     "evalue": "",
     "output_type": "error",
     "traceback": [
      "\u001B[1;31m---------------------------------------------------------------------------\u001B[0m",
      "\u001B[1;31mValueError\u001B[0m                                Traceback (most recent call last)",
      "Input \u001B[1;32mIn [11]\u001B[0m, in \u001B[0;36m<cell line: 6>\u001B[1;34m()\u001B[0m\n\u001B[0;32m      4\u001B[0m weight\u001B[38;5;241m.\u001B[39mkg \u001B[38;5;241m=\u001B[39m \u001B[38;5;241m41\u001B[39m\n\u001B[0;32m      5\u001B[0m \u001B[38;5;28mprint\u001B[39m(weight\u001B[38;5;241m.\u001B[39mkg)\n\u001B[1;32m----> 6\u001B[0m weight\u001B[38;5;241m.\u001B[39mkg \u001B[38;5;241m=\u001B[39m \u001B[38;5;124m'\u001B[39m\u001B[38;5;124mдесять\u001B[39m\u001B[38;5;124m'\u001B[39m\n",
      "Input \u001B[1;32mIn [10]\u001B[0m, in \u001B[0;36mKgToPounds.__set_kg\u001B[1;34m(self, new_kg)\u001B[0m\n\u001B[0;32m      8\u001B[0m     \u001B[38;5;28mself\u001B[39m\u001B[38;5;241m.\u001B[39m__kg \u001B[38;5;241m=\u001B[39m new_kg\n\u001B[0;32m      9\u001B[0m \u001B[38;5;28;01melse\u001B[39;00m:\n\u001B[1;32m---> 10\u001B[0m     \u001B[38;5;28;01mraise\u001B[39;00m \u001B[38;5;167;01mValueError\u001B[39;00m\n",
      "\u001B[1;31mValueError\u001B[0m: "
     ]
    }
   ],
   "source": [
    "weight = KgToPounds(12)\n",
    "print(weight.to_pounds())\n",
    "print(weight.kg)\n",
    "weight.kg = 41\n",
    "print(weight.kg)\n",
    "weight.kg = 'десять'"
   ],
   "metadata": {
    "collapsed": false
   }
  },
  {
   "cell_type": "code",
   "execution_count": 1,
   "outputs": [
    {
     "name": "stdout",
     "output_type": "stream",
     "text": [
      "26.46\n",
      "12\n",
      "41\n"
     ]
    },
    {
     "ename": "ValueError",
     "evalue": "Килограммы задаются только числами",
     "output_type": "error",
     "traceback": [
      "\u001B[1;31m---------------------------------------------------------------------------\u001B[0m",
      "\u001B[1;31mValueError\u001B[0m                                Traceback (most recent call last)",
      "Input \u001B[1;32mIn [1]\u001B[0m, in \u001B[0;36m<cell line: 26>\u001B[1;34m()\u001B[0m\n\u001B[0;32m     24\u001B[0m weight\u001B[38;5;241m.\u001B[39mkg \u001B[38;5;241m=\u001B[39m \u001B[38;5;241m41\u001B[39m\n\u001B[0;32m     25\u001B[0m \u001B[38;5;28mprint\u001B[39m(weight\u001B[38;5;241m.\u001B[39mkg)\n\u001B[1;32m---> 26\u001B[0m weight\u001B[38;5;241m.\u001B[39mkg \u001B[38;5;241m=\u001B[39m \u001B[38;5;124m'\u001B[39m\u001B[38;5;124mдесять\u001B[39m\u001B[38;5;124m'\u001B[39m\n",
      "Input \u001B[1;32mIn [1]\u001B[0m, in \u001B[0;36mKgToPounds.kg\u001B[1;34m(self, new_kg)\u001B[0m\n\u001B[0;32m     15\u001B[0m     \u001B[38;5;28mself\u001B[39m\u001B[38;5;241m.\u001B[39m__kg \u001B[38;5;241m=\u001B[39m new_kg\n\u001B[0;32m     16\u001B[0m \u001B[38;5;28;01melse\u001B[39;00m:\n\u001B[1;32m---> 17\u001B[0m     \u001B[38;5;28;01mraise\u001B[39;00m \u001B[38;5;167;01mValueError\u001B[39;00m(\u001B[38;5;124m'\u001B[39m\u001B[38;5;124mКилограммы задаются только числами\u001B[39m\u001B[38;5;124m'\u001B[39m)\n",
      "\u001B[1;31mValueError\u001B[0m: Килограммы задаются только числами"
     ]
    }
   ],
   "source": [
    "class KgToPounds:\n",
    "    def __init__(self, kg):\n",
    "        self.__kg = kg\n",
    "\n",
    "    def to_pounds(self):\n",
    "        return self.__kg * 2.205\n",
    "\n",
    "    @property\n",
    "    def kg(self):\n",
    "        return self.__kg\n",
    "\n",
    "    @kg.setter\n",
    "    def kg(self, new_kg):\n",
    "        if isinstance(new_kg, (int, float)):\n",
    "            self.__kg = new_kg\n",
    "        else:\n",
    "            raise ValueError('Килограммы задаются только числами')\n",
    "\n",
    "\n",
    "# Тесты\n",
    "weight = KgToPounds(12)\n",
    "print(weight.to_pounds())\n",
    "print(weight.kg)\n",
    "weight.kg = 41\n",
    "print(weight.kg)\n",
    "weight.kg = 'десять'"
   ],
   "metadata": {
    "collapsed": false
   }
  },
  {
   "cell_type": "code",
   "execution_count": 3,
   "outputs": [
    {
     "name": "stdout",
     "output_type": "stream",
     "text": [
      "26.46\n",
      "12\n",
      "41\n"
     ]
    },
    {
     "ename": "ValueError",
     "evalue": "Килограммы задаются только числами",
     "output_type": "error",
     "traceback": [
      "\u001B[1;31m---------------------------------------------------------------------------\u001B[0m",
      "\u001B[1;31mValueError\u001B[0m                                Traceback (most recent call last)",
      "Input \u001B[1;32mIn [3]\u001B[0m, in \u001B[0;36m<cell line: 25>\u001B[1;34m()\u001B[0m\n\u001B[0;32m     23\u001B[0m weight\u001B[38;5;241m.\u001B[39mkg \u001B[38;5;241m=\u001B[39m \u001B[38;5;241m41\u001B[39m\n\u001B[0;32m     24\u001B[0m \u001B[38;5;28mprint\u001B[39m(weight\u001B[38;5;241m.\u001B[39mkg)\n\u001B[1;32m---> 25\u001B[0m weight\u001B[38;5;241m.\u001B[39mkg \u001B[38;5;241m=\u001B[39m \u001B[38;5;124m'\u001B[39m\u001B[38;5;124mдесять\u001B[39m\u001B[38;5;124m'\u001B[39m\n",
      "Input \u001B[1;32mIn [3]\u001B[0m, in \u001B[0;36mKgToPounds.__set_kg\u001B[1;34m(self, new_kg)\u001B[0m\n\u001B[0;32m     10\u001B[0m     \u001B[38;5;28mself\u001B[39m\u001B[38;5;241m.\u001B[39m__kg \u001B[38;5;241m=\u001B[39m new_kg\n\u001B[0;32m     11\u001B[0m \u001B[38;5;28;01melse\u001B[39;00m:\n\u001B[1;32m---> 12\u001B[0m     \u001B[38;5;28;01mraise\u001B[39;00m \u001B[38;5;167;01mValueError\u001B[39;00m(\u001B[38;5;124m'\u001B[39m\u001B[38;5;124mКилограммы задаются только числами\u001B[39m\u001B[38;5;124m'\u001B[39m)\n",
      "\u001B[1;31mValueError\u001B[0m: Килограммы задаются только числами"
     ]
    }
   ],
   "source": [
    "class KgToPounds:\n",
    "    def __init__(self, kg):\n",
    "        self.__kg = kg\n",
    "\n",
    "    def to_pounds(self):\n",
    "        return self.__kg * 2.205\n",
    "\n",
    "    def __set_kg(self, new_kg):\n",
    "        if isinstance(new_kg, (int, float)):\n",
    "            self.__kg = new_kg\n",
    "        else:\n",
    "            raise ValueError('Килограммы задаются только числами')\n",
    "\n",
    "    def __get_kg(self):\n",
    "        return self.__kg\n",
    "\n",
    "    kg = property(__get_kg, __set_kg)\n",
    "\n",
    "\n",
    "weight = KgToPounds(12)\n",
    "print(weight.to_pounds())\n",
    "print(weight.kg)\n",
    "weight.kg = 41\n",
    "print(weight.kg)\n",
    "weight.kg = 'десять'"
   ],
   "metadata": {
    "collapsed": false
   }
  },
  {
   "cell_type": "code",
   "execution_count": 11,
   "outputs": [],
   "source": [
    "class Nikola:\n",
    "    __slots__ = ['name', 'age']\n",
    "    def __init__(self, name, age):\n",
    "        if name == 'Николай':\n",
    "            self.name = name\n",
    "        else:\n",
    "            self.name = f'Я не {name}, а Николай'\n",
    "        self.age = age"
   ],
   "metadata": {
    "collapsed": false
   }
  },
  {
   "cell_type": "code",
   "execution_count": 16,
   "outputs": [],
   "source": [
    "b = Nikola('Николай', 25)"
   ],
   "metadata": {
    "collapsed": false
   }
  },
  {
   "cell_type": "code",
   "execution_count": 17,
   "outputs": [
    {
     "data": {
      "text/plain": "'Николай'"
     },
     "execution_count": 17,
     "metadata": {},
     "output_type": "execute_result"
    }
   ],
   "source": [
    "b.name"
   ],
   "metadata": {
    "collapsed": false
   }
  },
  {
   "cell_type": "code",
   "execution_count": null,
   "outputs": [],
   "source": [],
   "metadata": {
    "collapsed": false
   }
  }
 ],
 "metadata": {
  "kernelspec": {
   "display_name": "Python 3",
   "language": "python",
   "name": "python3"
  },
  "language_info": {
   "codemirror_mode": {
    "name": "ipython",
    "version": 2
   },
   "file_extension": ".py",
   "mimetype": "text/x-python",
   "name": "python",
   "nbconvert_exporter": "python",
   "pygments_lexer": "ipython2",
   "version": "2.7.6"
  }
 },
 "nbformat": 4,
 "nbformat_minor": 0
}
