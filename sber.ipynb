{
 "cells": [
  {
   "cell_type": "code",
   "execution_count": 1,
   "metadata": {
    "collapsed": true
   },
   "outputs": [],
   "source": [
    "import numpy as np\n",
    "import pandas as pd\n",
    "import os\n",
    "import datetime\n",
    "import matplotlib.pyplot as plt\n",
    "from statsmodels.tsa.seasonal import STL\n",
    "from statsmodels.graphics.tsaplots import plot_acf"
   ]
  },
  {
   "cell_type": "code",
   "execution_count": 2,
   "outputs": [],
   "source": [
    "files = os.listdir(r'C:\\Users\\gosti\\Downloads\\results (1)\\results')"
   ],
   "metadata": {
    "collapsed": false
   }
  },
  {
   "cell_type": "code",
   "execution_count": 3,
   "outputs": [],
   "source": [
    "dfs = []\n",
    "for f in files:\n",
    "    df1 = pd.read_csv(r'C:\\Users\\gosti\\Downloads\\results (1)\\results\\Adygeja_Resp_2022-03-20.csv')\n",
    "    dfs.append(df1)"
   ],
   "metadata": {
    "collapsed": false
   }
  },
  {
   "cell_type": "code",
   "execution_count": 4,
   "outputs": [],
   "source": [
    "data = pd.concat(dfs)"
   ],
   "metadata": {
    "collapsed": false
   }
  },
  {
   "cell_type": "code",
   "execution_count": 5,
   "outputs": [],
   "source": [
    "df = pd.read_csv(r'C:\\Users\\gosti\\Downloads\\44_result\\44_result.csv')"
   ],
   "metadata": {
    "collapsed": false
   }
  },
  {
   "cell_type": "code",
   "execution_count": 6,
   "outputs": [
    {
     "data": {
      "text/plain": "      Unnamed: 0             obj hash              name              reg num  \\\n0              0  3793294491059705333  contracts_output  1010101008321000004   \n1              1 -4348589201702449915  contracts_output  1010400570119000014   \n2              2  7104910193783858246  contracts_output  1010400570119000016   \n3              3 -1585908082334183978  contracts_output  1010400570119000027   \n4              4 -3961364508861951295  contracts_output  1010400570119000027   \n...          ...                  ...               ...                  ...   \n6359        6359 -4906157625135826188  contracts_output  3010800386421000022   \n6360        6360 -8165939967697628755  contracts_output  3010800386421000022   \n6361        6361  -725861710018253917  contracts_output  3010800386421000025   \n6362        6362 -2881107635711435453  contracts_output  3010800386421000025   \n6363        6363 -1158808855413502250  contracts_output  3010800386422000008   \n\n       sign date  suppliers count     st date    end date       price  \\\n0     2021-09-27                1  2021-09-27  2021-12-31   500000.00   \n1     2019-08-08                1  2021-01-01  2021-12-31   933718.40   \n2     2019-09-03                1  2021-01-01  2021-12-31   125125.25   \n3     2019-09-24                1  2021-01-01  2021-12-31   355169.38   \n4     2019-09-24                1  2021-01-01  2021-12-31   388020.88   \n...          ...              ...         ...         ...         ...   \n6359  2021-10-04                1  2021-10-04  2022-01-31  1452000.00   \n6360  2021-10-04                1  2021-10-04  2022-01-31  1452000.00   \n6361  2021-10-25                1  2021-10-25  2021-12-31   106600.00   \n6362  2021-10-25                1  2021-10-25  2021-12-31   106599.90   \n6363  2022-02-21                1  2022-03-01  2022-07-31   520192.00   \n\n      enforcement     amount        bg  \n0               1   25000.00  0.050000  \n1               1  373500.00  0.400014  \n2               0    6256.26  0.050000  \n3               1   19878.00  0.055968  \n4               1   19878.00  0.051229  \n...           ...        ...       ...  \n6359            0   72600.00  0.050000  \n6360            0   72600.00  0.050000  \n6361            1    5500.00  0.051595  \n6362            1    5500.00  0.051595  \n6363            0   26009.60  0.050000  \n\n[6359 rows x 12 columns]",
      "text/html": "<div>\n<style scoped>\n    .dataframe tbody tr th:only-of-type {\n        vertical-align: middle;\n    }\n\n    .dataframe tbody tr th {\n        vertical-align: top;\n    }\n\n    .dataframe thead th {\n        text-align: right;\n    }\n</style>\n<table border=\"1\" class=\"dataframe\">\n  <thead>\n    <tr style=\"text-align: right;\">\n      <th></th>\n      <th>Unnamed: 0</th>\n      <th>obj hash</th>\n      <th>name</th>\n      <th>reg num</th>\n      <th>sign date</th>\n      <th>suppliers count</th>\n      <th>st date</th>\n      <th>end date</th>\n      <th>price</th>\n      <th>enforcement</th>\n      <th>amount</th>\n      <th>bg</th>\n    </tr>\n  </thead>\n  <tbody>\n    <tr>\n      <th>0</th>\n      <td>0</td>\n      <td>3793294491059705333</td>\n      <td>contracts_output</td>\n      <td>1010101008321000004</td>\n      <td>2021-09-27</td>\n      <td>1</td>\n      <td>2021-09-27</td>\n      <td>2021-12-31</td>\n      <td>500000.00</td>\n      <td>1</td>\n      <td>25000.00</td>\n      <td>0.050000</td>\n    </tr>\n    <tr>\n      <th>1</th>\n      <td>1</td>\n      <td>-4348589201702449915</td>\n      <td>contracts_output</td>\n      <td>1010400570119000014</td>\n      <td>2019-08-08</td>\n      <td>1</td>\n      <td>2021-01-01</td>\n      <td>2021-12-31</td>\n      <td>933718.40</td>\n      <td>1</td>\n      <td>373500.00</td>\n      <td>0.400014</td>\n    </tr>\n    <tr>\n      <th>2</th>\n      <td>2</td>\n      <td>7104910193783858246</td>\n      <td>contracts_output</td>\n      <td>1010400570119000016</td>\n      <td>2019-09-03</td>\n      <td>1</td>\n      <td>2021-01-01</td>\n      <td>2021-12-31</td>\n      <td>125125.25</td>\n      <td>0</td>\n      <td>6256.26</td>\n      <td>0.050000</td>\n    </tr>\n    <tr>\n      <th>3</th>\n      <td>3</td>\n      <td>-1585908082334183978</td>\n      <td>contracts_output</td>\n      <td>1010400570119000027</td>\n      <td>2019-09-24</td>\n      <td>1</td>\n      <td>2021-01-01</td>\n      <td>2021-12-31</td>\n      <td>355169.38</td>\n      <td>1</td>\n      <td>19878.00</td>\n      <td>0.055968</td>\n    </tr>\n    <tr>\n      <th>4</th>\n      <td>4</td>\n      <td>-3961364508861951295</td>\n      <td>contracts_output</td>\n      <td>1010400570119000027</td>\n      <td>2019-09-24</td>\n      <td>1</td>\n      <td>2021-01-01</td>\n      <td>2021-12-31</td>\n      <td>388020.88</td>\n      <td>1</td>\n      <td>19878.00</td>\n      <td>0.051229</td>\n    </tr>\n    <tr>\n      <th>...</th>\n      <td>...</td>\n      <td>...</td>\n      <td>...</td>\n      <td>...</td>\n      <td>...</td>\n      <td>...</td>\n      <td>...</td>\n      <td>...</td>\n      <td>...</td>\n      <td>...</td>\n      <td>...</td>\n      <td>...</td>\n    </tr>\n    <tr>\n      <th>6359</th>\n      <td>6359</td>\n      <td>-4906157625135826188</td>\n      <td>contracts_output</td>\n      <td>3010800386421000022</td>\n      <td>2021-10-04</td>\n      <td>1</td>\n      <td>2021-10-04</td>\n      <td>2022-01-31</td>\n      <td>1452000.00</td>\n      <td>0</td>\n      <td>72600.00</td>\n      <td>0.050000</td>\n    </tr>\n    <tr>\n      <th>6360</th>\n      <td>6360</td>\n      <td>-8165939967697628755</td>\n      <td>contracts_output</td>\n      <td>3010800386421000022</td>\n      <td>2021-10-04</td>\n      <td>1</td>\n      <td>2021-10-04</td>\n      <td>2022-01-31</td>\n      <td>1452000.00</td>\n      <td>0</td>\n      <td>72600.00</td>\n      <td>0.050000</td>\n    </tr>\n    <tr>\n      <th>6361</th>\n      <td>6361</td>\n      <td>-725861710018253917</td>\n      <td>contracts_output</td>\n      <td>3010800386421000025</td>\n      <td>2021-10-25</td>\n      <td>1</td>\n      <td>2021-10-25</td>\n      <td>2021-12-31</td>\n      <td>106600.00</td>\n      <td>1</td>\n      <td>5500.00</td>\n      <td>0.051595</td>\n    </tr>\n    <tr>\n      <th>6362</th>\n      <td>6362</td>\n      <td>-2881107635711435453</td>\n      <td>contracts_output</td>\n      <td>3010800386421000025</td>\n      <td>2021-10-25</td>\n      <td>1</td>\n      <td>2021-10-25</td>\n      <td>2021-12-31</td>\n      <td>106599.90</td>\n      <td>1</td>\n      <td>5500.00</td>\n      <td>0.051595</td>\n    </tr>\n    <tr>\n      <th>6363</th>\n      <td>6363</td>\n      <td>-1158808855413502250</td>\n      <td>contracts_output</td>\n      <td>3010800386422000008</td>\n      <td>2022-02-21</td>\n      <td>1</td>\n      <td>2022-03-01</td>\n      <td>2022-07-31</td>\n      <td>520192.00</td>\n      <td>0</td>\n      <td>26009.60</td>\n      <td>0.050000</td>\n    </tr>\n  </tbody>\n</table>\n<p>6359 rows × 12 columns</p>\n</div>"
     },
     "execution_count": 6,
     "metadata": {},
     "output_type": "execute_result"
    }
   ],
   "source": [
    "data = data.drop(columns=data[['customer inn', 'supplier inn', 'protocol date', 'doc']])\n",
    "data = data.assign(bg=data.amount / data.price)\n",
    "data = data.drop_duplicates()\n",
    "data = data[data.bg <= 1]\n",
    "data"
   ],
   "metadata": {
    "collapsed": false
   }
  },
  {
   "cell_type": "code",
   "execution_count": 7,
   "outputs": [
    {
     "data": {
      "text/plain": "                     reg num        Region  customer inn   sign date  \\\n0        2010502596517000200       Adygeja  1.050260e+08  2017-12-25   \n1        2010504905018000002       Adygeja  1.050490e+08  2018-04-12   \n2        3010100582318000001       Adygeja  1.010058e+08  2018-05-31   \n3        2010501761118000104       Adygeja  1.050176e+08  2018-11-02   \n4        1010502217818000043       Adygeja  1.050222e+08  2018-11-07   \n...                      ...           ...           ...         ...   \n2287907  1753606732021000227  Zabajkalskij  7.536067e+09  2021-06-23   \n2287908  1753612387121000008  Zabajkalskij  7.536124e+09  2021-05-17   \n2287909  1752800139721000004  Zabajkalskij  7.528001e+09  2021-06-18   \n2287910  1753612387121000011  Zabajkalskij  7.536124e+09  2021-05-24   \n2287911  1753612387121000012  Zabajkalskij  7.536124e+09  2021-05-25   \n\n         supplier inn     st date    end date         price  enforcement  \\\n0        1.050203e+10  2018-01-01  2018-12-31  4.391168e+05            1   \n1        1.050183e+08  2018-04-12  2020-12-30  2.317070e+09            0   \n2        1.030082e+08  2018-05-31  2020-12-31  5.174012e+07            1   \n3        2.372019e+09  2018-11-02  2019-12-31  2.323856e+05            0   \n4        2.309132e+09  2018-11-07  2019-12-31  2.164861e+07            1   \n...               ...         ...         ...           ...          ...   \n2287907  7.536156e+09  2022-01-01  2022-12-31  5.961070e+05            0   \n2287908  7.536101e+09  2022-01-01  2022-12-31  8.000000e+05            0   \n2287909  7.536178e+09  2022-01-01  2023-12-31  1.999800e+06            1   \n2287910  7.536088e+09  2022-01-01  2023-12-31  6.800000e+05            1   \n2287911  2.465287e+09  2023-01-01  2023-12-25  8.396050e+05            1   \n\n               amount protocol date         bg supplier type  \n0        4.831433e+04    2017-12-13   9.088748            ИП  \n1        2.187371e+08    2018-03-28  10.592943            ЮР  \n2        1.552204e+07    2018-05-10   3.333333            ЮР  \n3        1.275690e+04    2018-10-22  18.216463            ЮР  \n4        3.327908e+06    2018-10-10   6.505170            ЮР  \n...               ...           ...        ...           ...  \n2287907  2.980535e+04    2021-06-09  20.000000            ЮР  \n2287908  4.000000e+04    2021-04-28  20.000000            ЮР  \n2287909  9.999000e+04    2021-06-07  20.000000            ЮР  \n2287910  3.400000e+04    2021-05-13  20.000000            ЮР  \n2287911  4.198025e+04    2021-05-13  20.000000            ЮР  \n\n[2287912 rows x 13 columns]",
      "text/html": "<div>\n<style scoped>\n    .dataframe tbody tr th:only-of-type {\n        vertical-align: middle;\n    }\n\n    .dataframe tbody tr th {\n        vertical-align: top;\n    }\n\n    .dataframe thead th {\n        text-align: right;\n    }\n</style>\n<table border=\"1\" class=\"dataframe\">\n  <thead>\n    <tr style=\"text-align: right;\">\n      <th></th>\n      <th>reg num</th>\n      <th>Region</th>\n      <th>customer inn</th>\n      <th>sign date</th>\n      <th>supplier inn</th>\n      <th>st date</th>\n      <th>end date</th>\n      <th>price</th>\n      <th>enforcement</th>\n      <th>amount</th>\n      <th>protocol date</th>\n      <th>bg</th>\n      <th>supplier type</th>\n    </tr>\n  </thead>\n  <tbody>\n    <tr>\n      <th>0</th>\n      <td>2010502596517000200</td>\n      <td>Adygeja</td>\n      <td>1.050260e+08</td>\n      <td>2017-12-25</td>\n      <td>1.050203e+10</td>\n      <td>2018-01-01</td>\n      <td>2018-12-31</td>\n      <td>4.391168e+05</td>\n      <td>1</td>\n      <td>4.831433e+04</td>\n      <td>2017-12-13</td>\n      <td>9.088748</td>\n      <td>ИП</td>\n    </tr>\n    <tr>\n      <th>1</th>\n      <td>2010504905018000002</td>\n      <td>Adygeja</td>\n      <td>1.050490e+08</td>\n      <td>2018-04-12</td>\n      <td>1.050183e+08</td>\n      <td>2018-04-12</td>\n      <td>2020-12-30</td>\n      <td>2.317070e+09</td>\n      <td>0</td>\n      <td>2.187371e+08</td>\n      <td>2018-03-28</td>\n      <td>10.592943</td>\n      <td>ЮР</td>\n    </tr>\n    <tr>\n      <th>2</th>\n      <td>3010100582318000001</td>\n      <td>Adygeja</td>\n      <td>1.010058e+08</td>\n      <td>2018-05-31</td>\n      <td>1.030082e+08</td>\n      <td>2018-05-31</td>\n      <td>2020-12-31</td>\n      <td>5.174012e+07</td>\n      <td>1</td>\n      <td>1.552204e+07</td>\n      <td>2018-05-10</td>\n      <td>3.333333</td>\n      <td>ЮР</td>\n    </tr>\n    <tr>\n      <th>3</th>\n      <td>2010501761118000104</td>\n      <td>Adygeja</td>\n      <td>1.050176e+08</td>\n      <td>2018-11-02</td>\n      <td>2.372019e+09</td>\n      <td>2018-11-02</td>\n      <td>2019-12-31</td>\n      <td>2.323856e+05</td>\n      <td>0</td>\n      <td>1.275690e+04</td>\n      <td>2018-10-22</td>\n      <td>18.216463</td>\n      <td>ЮР</td>\n    </tr>\n    <tr>\n      <th>4</th>\n      <td>1010502217818000043</td>\n      <td>Adygeja</td>\n      <td>1.050222e+08</td>\n      <td>2018-11-07</td>\n      <td>2.309132e+09</td>\n      <td>2018-11-07</td>\n      <td>2019-12-31</td>\n      <td>2.164861e+07</td>\n      <td>1</td>\n      <td>3.327908e+06</td>\n      <td>2018-10-10</td>\n      <td>6.505170</td>\n      <td>ЮР</td>\n    </tr>\n    <tr>\n      <th>...</th>\n      <td>...</td>\n      <td>...</td>\n      <td>...</td>\n      <td>...</td>\n      <td>...</td>\n      <td>...</td>\n      <td>...</td>\n      <td>...</td>\n      <td>...</td>\n      <td>...</td>\n      <td>...</td>\n      <td>...</td>\n      <td>...</td>\n    </tr>\n    <tr>\n      <th>2287907</th>\n      <td>1753606732021000227</td>\n      <td>Zabajkalskij</td>\n      <td>7.536067e+09</td>\n      <td>2021-06-23</td>\n      <td>7.536156e+09</td>\n      <td>2022-01-01</td>\n      <td>2022-12-31</td>\n      <td>5.961070e+05</td>\n      <td>0</td>\n      <td>2.980535e+04</td>\n      <td>2021-06-09</td>\n      <td>20.000000</td>\n      <td>ЮР</td>\n    </tr>\n    <tr>\n      <th>2287908</th>\n      <td>1753612387121000008</td>\n      <td>Zabajkalskij</td>\n      <td>7.536124e+09</td>\n      <td>2021-05-17</td>\n      <td>7.536101e+09</td>\n      <td>2022-01-01</td>\n      <td>2022-12-31</td>\n      <td>8.000000e+05</td>\n      <td>0</td>\n      <td>4.000000e+04</td>\n      <td>2021-04-28</td>\n      <td>20.000000</td>\n      <td>ЮР</td>\n    </tr>\n    <tr>\n      <th>2287909</th>\n      <td>1752800139721000004</td>\n      <td>Zabajkalskij</td>\n      <td>7.528001e+09</td>\n      <td>2021-06-18</td>\n      <td>7.536178e+09</td>\n      <td>2022-01-01</td>\n      <td>2023-12-31</td>\n      <td>1.999800e+06</td>\n      <td>1</td>\n      <td>9.999000e+04</td>\n      <td>2021-06-07</td>\n      <td>20.000000</td>\n      <td>ЮР</td>\n    </tr>\n    <tr>\n      <th>2287910</th>\n      <td>1753612387121000011</td>\n      <td>Zabajkalskij</td>\n      <td>7.536124e+09</td>\n      <td>2021-05-24</td>\n      <td>7.536088e+09</td>\n      <td>2022-01-01</td>\n      <td>2023-12-31</td>\n      <td>6.800000e+05</td>\n      <td>1</td>\n      <td>3.400000e+04</td>\n      <td>2021-05-13</td>\n      <td>20.000000</td>\n      <td>ЮР</td>\n    </tr>\n    <tr>\n      <th>2287911</th>\n      <td>1753612387121000012</td>\n      <td>Zabajkalskij</td>\n      <td>7.536124e+09</td>\n      <td>2021-05-25</td>\n      <td>2.465287e+09</td>\n      <td>2023-01-01</td>\n      <td>2023-12-25</td>\n      <td>8.396050e+05</td>\n      <td>1</td>\n      <td>4.198025e+04</td>\n      <td>2021-05-13</td>\n      <td>20.000000</td>\n      <td>ЮР</td>\n    </tr>\n  </tbody>\n</table>\n<p>2287912 rows × 13 columns</p>\n</div>"
     },
     "execution_count": 7,
     "metadata": {},
     "output_type": "execute_result"
    }
   ],
   "source": [
    "df"
   ],
   "metadata": {
    "collapsed": false
   }
  },
  {
   "cell_type": "code",
   "execution_count": 8,
   "outputs": [],
   "source": [
    "df.drop(columns=df[['customer inn', 'supplier inn', 'supplier type']], inplace=True)\n",
    "df = df.drop_duplicates()\n",
    "df = df[df.bg <= 1]"
   ],
   "metadata": {
    "collapsed": false
   }
  },
  {
   "cell_type": "code",
   "execution_count": 9,
   "outputs": [
    {
     "name": "stdout",
     "output_type": "stream",
     "text": [
      "<class 'pandas.core.frame.DataFrame'>\n",
      "Int64Index: 6359 entries, 0 to 6363\n",
      "Data columns (total 12 columns):\n",
      " #   Column           Non-Null Count  Dtype  \n",
      "---  ------           --------------  -----  \n",
      " 0   Unnamed: 0       6359 non-null   int64  \n",
      " 1   obj hash         6359 non-null   int64  \n",
      " 2   name             6359 non-null   object \n",
      " 3   reg num          6359 non-null   int64  \n",
      " 4   sign date        6359 non-null   object \n",
      " 5   suppliers count  6359 non-null   int64  \n",
      " 6   st date          6359 non-null   object \n",
      " 7   end date         6359 non-null   object \n",
      " 8   price            6359 non-null   float64\n",
      " 9   enforcement      6359 non-null   int64  \n",
      " 10  amount           6359 non-null   float64\n",
      " 11  bg               6359 non-null   float64\n",
      "dtypes: float64(3), int64(5), object(4)\n",
      "memory usage: 645.8+ KB\n"
     ]
    }
   ],
   "source": [
    "data.info()"
   ],
   "metadata": {
    "collapsed": false
   }
  },
  {
   "cell_type": "code",
   "execution_count": 10,
   "outputs": [],
   "source": [
    "data['st date'] = data['st date'].astype('datetime64[ns]')\n",
    "data['end date'] = data['end date'].astype('datetime64[ns]')"
   ],
   "metadata": {
    "collapsed": false
   }
  },
  {
   "cell_type": "code",
   "execution_count": 11,
   "outputs": [
    {
     "name": "stdout",
     "output_type": "stream",
     "text": [
      "<class 'pandas.core.frame.DataFrame'>\n",
      "Int64Index: 18677 entries, 636 to 2287899\n",
      "Data columns (total 10 columns):\n",
      " #   Column         Non-Null Count  Dtype  \n",
      "---  ------         --------------  -----  \n",
      " 0   reg num        18677 non-null  int64  \n",
      " 1   Region         18677 non-null  object \n",
      " 2   sign date      18677 non-null  object \n",
      " 3   st date        18677 non-null  object \n",
      " 4   end date       18677 non-null  object \n",
      " 5   price          18677 non-null  float64\n",
      " 6   enforcement    18677 non-null  int64  \n",
      " 7   amount         18677 non-null  float64\n",
      " 8   protocol date  17776 non-null  object \n",
      " 9   bg             18677 non-null  float64\n",
      "dtypes: float64(3), int64(2), object(5)\n",
      "memory usage: 1.6+ MB\n"
     ]
    }
   ],
   "source": [
    "df.info()"
   ],
   "metadata": {
    "collapsed": false
   }
  },
  {
   "cell_type": "code",
   "execution_count": 12,
   "outputs": [
    {
     "data": {
      "text/plain": "                     reg num        Region   sign date     st date  \\\n636      2010506625620000004       Adygeja  2019-12-30  2019-12-30   \n1218     3010700853120000001       Adygeja  2020-01-09  2020-01-09   \n1219     3010700853120000002       Adygeja  2020-01-09  2020-01-09   \n1262     2010501406420000002       Adygeja  2020-01-10  2020-01-10   \n1384     3010400808220000005       Adygeja  2020-01-16  2020-01-16   \n...                      ...           ...         ...         ...   \n2286652  1753600824421000042  Zabajkalskij  2021-05-31  2021-05-31   \n2286721  2753700310421000076  Zabajkalskij  2021-06-01  2021-06-01   \n2286792  2753609569521000214  Zabajkalskij  2021-06-03  2021-06-03   \n2286868  1753605746721000051  Zabajkalskij  2021-06-07  2021-06-07   \n2287899  1753600824421000049  Zabajkalskij  2021-06-21  2021-08-16   \n\n           end date       price  enforcement      amount protocol date  \\\n636      2020-01-13   137442.82            0   147800.00    2019-12-20   \n1218     2020-12-31   450253.00            0   450253.00           NaN   \n1219     2020-12-31  2015263.00            0  2015263.00           NaN   \n1262     2020-12-31    21269.00            1    34182.00    2019-12-27   \n1384     2021-08-15   113200.00            0   113200.00    2019-12-30   \n...             ...         ...          ...         ...           ...   \n2286652  2022-01-31    21923.22            0    22142.78    2021-05-18   \n2286721  2021-12-31     6996.00            0    31990.20    2021-05-19   \n2286792  2021-12-31   198810.00            1   228730.50    2021-05-20   \n2286868  2021-12-31      603.00            0      670.00    2021-05-27   \n2287899  2021-12-29     1825.25            0     7625.00    2021-06-10   \n\n               bg  \n636      0.929924  \n1218     1.000000  \n1219     1.000000  \n1262     0.622228  \n1384     1.000000  \n...           ...  \n2286652  0.990084  \n2286721  0.218692  \n2286792  0.869189  \n2286868  0.900000  \n2287899  0.239377  \n\n[18677 rows x 10 columns]",
      "text/html": "<div>\n<style scoped>\n    .dataframe tbody tr th:only-of-type {\n        vertical-align: middle;\n    }\n\n    .dataframe tbody tr th {\n        vertical-align: top;\n    }\n\n    .dataframe thead th {\n        text-align: right;\n    }\n</style>\n<table border=\"1\" class=\"dataframe\">\n  <thead>\n    <tr style=\"text-align: right;\">\n      <th></th>\n      <th>reg num</th>\n      <th>Region</th>\n      <th>sign date</th>\n      <th>st date</th>\n      <th>end date</th>\n      <th>price</th>\n      <th>enforcement</th>\n      <th>amount</th>\n      <th>protocol date</th>\n      <th>bg</th>\n    </tr>\n  </thead>\n  <tbody>\n    <tr>\n      <th>636</th>\n      <td>2010506625620000004</td>\n      <td>Adygeja</td>\n      <td>2019-12-30</td>\n      <td>2019-12-30</td>\n      <td>2020-01-13</td>\n      <td>137442.82</td>\n      <td>0</td>\n      <td>147800.00</td>\n      <td>2019-12-20</td>\n      <td>0.929924</td>\n    </tr>\n    <tr>\n      <th>1218</th>\n      <td>3010700853120000001</td>\n      <td>Adygeja</td>\n      <td>2020-01-09</td>\n      <td>2020-01-09</td>\n      <td>2020-12-31</td>\n      <td>450253.00</td>\n      <td>0</td>\n      <td>450253.00</td>\n      <td>NaN</td>\n      <td>1.000000</td>\n    </tr>\n    <tr>\n      <th>1219</th>\n      <td>3010700853120000002</td>\n      <td>Adygeja</td>\n      <td>2020-01-09</td>\n      <td>2020-01-09</td>\n      <td>2020-12-31</td>\n      <td>2015263.00</td>\n      <td>0</td>\n      <td>2015263.00</td>\n      <td>NaN</td>\n      <td>1.000000</td>\n    </tr>\n    <tr>\n      <th>1262</th>\n      <td>2010501406420000002</td>\n      <td>Adygeja</td>\n      <td>2020-01-10</td>\n      <td>2020-01-10</td>\n      <td>2020-12-31</td>\n      <td>21269.00</td>\n      <td>1</td>\n      <td>34182.00</td>\n      <td>2019-12-27</td>\n      <td>0.622228</td>\n    </tr>\n    <tr>\n      <th>1384</th>\n      <td>3010400808220000005</td>\n      <td>Adygeja</td>\n      <td>2020-01-16</td>\n      <td>2020-01-16</td>\n      <td>2021-08-15</td>\n      <td>113200.00</td>\n      <td>0</td>\n      <td>113200.00</td>\n      <td>2019-12-30</td>\n      <td>1.000000</td>\n    </tr>\n    <tr>\n      <th>...</th>\n      <td>...</td>\n      <td>...</td>\n      <td>...</td>\n      <td>...</td>\n      <td>...</td>\n      <td>...</td>\n      <td>...</td>\n      <td>...</td>\n      <td>...</td>\n      <td>...</td>\n    </tr>\n    <tr>\n      <th>2286652</th>\n      <td>1753600824421000042</td>\n      <td>Zabajkalskij</td>\n      <td>2021-05-31</td>\n      <td>2021-05-31</td>\n      <td>2022-01-31</td>\n      <td>21923.22</td>\n      <td>0</td>\n      <td>22142.78</td>\n      <td>2021-05-18</td>\n      <td>0.990084</td>\n    </tr>\n    <tr>\n      <th>2286721</th>\n      <td>2753700310421000076</td>\n      <td>Zabajkalskij</td>\n      <td>2021-06-01</td>\n      <td>2021-06-01</td>\n      <td>2021-12-31</td>\n      <td>6996.00</td>\n      <td>0</td>\n      <td>31990.20</td>\n      <td>2021-05-19</td>\n      <td>0.218692</td>\n    </tr>\n    <tr>\n      <th>2286792</th>\n      <td>2753609569521000214</td>\n      <td>Zabajkalskij</td>\n      <td>2021-06-03</td>\n      <td>2021-06-03</td>\n      <td>2021-12-31</td>\n      <td>198810.00</td>\n      <td>1</td>\n      <td>228730.50</td>\n      <td>2021-05-20</td>\n      <td>0.869189</td>\n    </tr>\n    <tr>\n      <th>2286868</th>\n      <td>1753605746721000051</td>\n      <td>Zabajkalskij</td>\n      <td>2021-06-07</td>\n      <td>2021-06-07</td>\n      <td>2021-12-31</td>\n      <td>603.00</td>\n      <td>0</td>\n      <td>670.00</td>\n      <td>2021-05-27</td>\n      <td>0.900000</td>\n    </tr>\n    <tr>\n      <th>2287899</th>\n      <td>1753600824421000049</td>\n      <td>Zabajkalskij</td>\n      <td>2021-06-21</td>\n      <td>2021-08-16</td>\n      <td>2021-12-29</td>\n      <td>1825.25</td>\n      <td>0</td>\n      <td>7625.00</td>\n      <td>2021-06-10</td>\n      <td>0.239377</td>\n    </tr>\n  </tbody>\n</table>\n<p>18677 rows × 10 columns</p>\n</div>"
     },
     "execution_count": 12,
     "metadata": {},
     "output_type": "execute_result"
    }
   ],
   "source": [
    "df"
   ],
   "metadata": {
    "collapsed": false
   }
  },
  {
   "cell_type": "code",
   "execution_count": 13,
   "outputs": [],
   "source": [
    "try:\n",
    "    df['st date'] = df['st date'].astype('datetime64[ns]')\n",
    "except pd.errors.OutOfBoundsDatetime:\n",
    "    df['st date'] = df['sign date'].astype('datetime64[ns]')"
   ],
   "metadata": {
    "collapsed": false
   }
  },
  {
   "cell_type": "code",
   "execution_count": 14,
   "outputs": [],
   "source": [
    "df['end date'] = df['end date'].astype('datetime64[ns]')"
   ],
   "metadata": {
    "collapsed": false
   }
  },
  {
   "cell_type": "code",
   "execution_count": 15,
   "outputs": [],
   "source": [
    "df2 = pd.read_csv(r'C:\\Users\\gosti\\Downloads\\result.csv')"
   ],
   "metadata": {
    "collapsed": false
   }
  },
  {
   "cell_type": "code",
   "execution_count": 16,
   "outputs": [
    {
     "data": {
      "text/plain": "         Unnamed: 0              reg num supplier type  customer inn  \\\n0              2802  3010100568619000004            ЮР  1.010057e+08   \n1               262  1010501746719000024            ЮР  1.050175e+08   \n2              6204  3010700913319000001            ЮР  1.070091e+08   \n3              1891  2010502596519000210            ЮР  1.050260e+08   \n4               263  1010501746719000027            ИП  1.050175e+08   \n...             ...                  ...           ...           ...   \n3174272        2841  1753609333821000052            ЮР  7.536093e+09   \n3174273        2855  1753609333821000059            ЮР  7.536093e+09   \n3174274        2857  1753609333821000060            ЮР  7.536093e+09   \n3174275        2886  1753609333821000075            ЮР  7.536093e+09   \n3174276        2902  1753609333821000086            ЮР  7.536093e+09   \n\n          sign date  supplier inn     st date    end date        price  \\\n0        2019-04-12  1.030071e+08  2019-04-12  2019-12-31  11170860.00   \n1        2019-06-25  2.635831e+09  2019-06-25  2021-12-31     89207.72   \n2        2019-06-28  1.070300e+08  2019-06-28  2019-12-31   3154510.00   \n3        2019-07-02  7.735165e+09  2019-07-02  2021-12-31  92438760.96   \n4        2019-07-15  1.080157e+10  2019-07-16  2021-12-19    200000.00   \n...             ...           ...         ...         ...          ...   \n3174272  2021-07-21  7.536178e+09  2023-01-01  2023-12-31   2024925.10   \n3174273  2021-08-04  3.810079e+09  2023-01-01  2023-12-31   2912100.00   \n3174274  2021-08-04  3.810079e+09  2023-01-01  2023-12-31   2727300.00   \n3174275  2021-10-04  5.262007e+09  2023-01-01  2023-12-31     85756.84   \n3174276  2021-12-21  2.465287e+09  2023-01-09  2023-12-29    118948.60   \n\n         enforcement      amount protocol date        Region          bg  \n0                  1  3351258.00    2019-03-29       Adygeja    3.333333  \n1                  0     3478.40    2019-06-13       Adygeja   25.646194  \n2                  0   157725.50    2019-06-17       Adygeja   20.000000  \n3                  0  9243936.00    2019-06-18       Adygeja    9.999935  \n4                  1    60000.00    2019-07-02       Adygeja    3.333333  \n...              ...         ...           ...           ...         ...  \n3174272            1    20249.25    2021-07-08  Zabajkalskij  100.000005  \n3174273            1   145605.00    2021-07-20  Zabajkalskij   20.000000  \n3174274            1   136365.00    2021-07-20  Zabajkalskij   20.000000  \n3174275            0     8662.31    2021-09-23  Zabajkalskij    9.899997  \n3174276            1     6038.00    2021-12-02  Zabajkalskij   19.700000  \n\n[3174277 rows x 14 columns]",
      "text/html": "<div>\n<style scoped>\n    .dataframe tbody tr th:only-of-type {\n        vertical-align: middle;\n    }\n\n    .dataframe tbody tr th {\n        vertical-align: top;\n    }\n\n    .dataframe thead th {\n        text-align: right;\n    }\n</style>\n<table border=\"1\" class=\"dataframe\">\n  <thead>\n    <tr style=\"text-align: right;\">\n      <th></th>\n      <th>Unnamed: 0</th>\n      <th>reg num</th>\n      <th>supplier type</th>\n      <th>customer inn</th>\n      <th>sign date</th>\n      <th>supplier inn</th>\n      <th>st date</th>\n      <th>end date</th>\n      <th>price</th>\n      <th>enforcement</th>\n      <th>amount</th>\n      <th>protocol date</th>\n      <th>Region</th>\n      <th>bg</th>\n    </tr>\n  </thead>\n  <tbody>\n    <tr>\n      <th>0</th>\n      <td>2802</td>\n      <td>3010100568619000004</td>\n      <td>ЮР</td>\n      <td>1.010057e+08</td>\n      <td>2019-04-12</td>\n      <td>1.030071e+08</td>\n      <td>2019-04-12</td>\n      <td>2019-12-31</td>\n      <td>11170860.00</td>\n      <td>1</td>\n      <td>3351258.00</td>\n      <td>2019-03-29</td>\n      <td>Adygeja</td>\n      <td>3.333333</td>\n    </tr>\n    <tr>\n      <th>1</th>\n      <td>262</td>\n      <td>1010501746719000024</td>\n      <td>ЮР</td>\n      <td>1.050175e+08</td>\n      <td>2019-06-25</td>\n      <td>2.635831e+09</td>\n      <td>2019-06-25</td>\n      <td>2021-12-31</td>\n      <td>89207.72</td>\n      <td>0</td>\n      <td>3478.40</td>\n      <td>2019-06-13</td>\n      <td>Adygeja</td>\n      <td>25.646194</td>\n    </tr>\n    <tr>\n      <th>2</th>\n      <td>6204</td>\n      <td>3010700913319000001</td>\n      <td>ЮР</td>\n      <td>1.070091e+08</td>\n      <td>2019-06-28</td>\n      <td>1.070300e+08</td>\n      <td>2019-06-28</td>\n      <td>2019-12-31</td>\n      <td>3154510.00</td>\n      <td>0</td>\n      <td>157725.50</td>\n      <td>2019-06-17</td>\n      <td>Adygeja</td>\n      <td>20.000000</td>\n    </tr>\n    <tr>\n      <th>3</th>\n      <td>1891</td>\n      <td>2010502596519000210</td>\n      <td>ЮР</td>\n      <td>1.050260e+08</td>\n      <td>2019-07-02</td>\n      <td>7.735165e+09</td>\n      <td>2019-07-02</td>\n      <td>2021-12-31</td>\n      <td>92438760.96</td>\n      <td>0</td>\n      <td>9243936.00</td>\n      <td>2019-06-18</td>\n      <td>Adygeja</td>\n      <td>9.999935</td>\n    </tr>\n    <tr>\n      <th>4</th>\n      <td>263</td>\n      <td>1010501746719000027</td>\n      <td>ИП</td>\n      <td>1.050175e+08</td>\n      <td>2019-07-15</td>\n      <td>1.080157e+10</td>\n      <td>2019-07-16</td>\n      <td>2021-12-19</td>\n      <td>200000.00</td>\n      <td>1</td>\n      <td>60000.00</td>\n      <td>2019-07-02</td>\n      <td>Adygeja</td>\n      <td>3.333333</td>\n    </tr>\n    <tr>\n      <th>...</th>\n      <td>...</td>\n      <td>...</td>\n      <td>...</td>\n      <td>...</td>\n      <td>...</td>\n      <td>...</td>\n      <td>...</td>\n      <td>...</td>\n      <td>...</td>\n      <td>...</td>\n      <td>...</td>\n      <td>...</td>\n      <td>...</td>\n      <td>...</td>\n    </tr>\n    <tr>\n      <th>3174272</th>\n      <td>2841</td>\n      <td>1753609333821000052</td>\n      <td>ЮР</td>\n      <td>7.536093e+09</td>\n      <td>2021-07-21</td>\n      <td>7.536178e+09</td>\n      <td>2023-01-01</td>\n      <td>2023-12-31</td>\n      <td>2024925.10</td>\n      <td>1</td>\n      <td>20249.25</td>\n      <td>2021-07-08</td>\n      <td>Zabajkalskij</td>\n      <td>100.000005</td>\n    </tr>\n    <tr>\n      <th>3174273</th>\n      <td>2855</td>\n      <td>1753609333821000059</td>\n      <td>ЮР</td>\n      <td>7.536093e+09</td>\n      <td>2021-08-04</td>\n      <td>3.810079e+09</td>\n      <td>2023-01-01</td>\n      <td>2023-12-31</td>\n      <td>2912100.00</td>\n      <td>1</td>\n      <td>145605.00</td>\n      <td>2021-07-20</td>\n      <td>Zabajkalskij</td>\n      <td>20.000000</td>\n    </tr>\n    <tr>\n      <th>3174274</th>\n      <td>2857</td>\n      <td>1753609333821000060</td>\n      <td>ЮР</td>\n      <td>7.536093e+09</td>\n      <td>2021-08-04</td>\n      <td>3.810079e+09</td>\n      <td>2023-01-01</td>\n      <td>2023-12-31</td>\n      <td>2727300.00</td>\n      <td>1</td>\n      <td>136365.00</td>\n      <td>2021-07-20</td>\n      <td>Zabajkalskij</td>\n      <td>20.000000</td>\n    </tr>\n    <tr>\n      <th>3174275</th>\n      <td>2886</td>\n      <td>1753609333821000075</td>\n      <td>ЮР</td>\n      <td>7.536093e+09</td>\n      <td>2021-10-04</td>\n      <td>5.262007e+09</td>\n      <td>2023-01-01</td>\n      <td>2023-12-31</td>\n      <td>85756.84</td>\n      <td>0</td>\n      <td>8662.31</td>\n      <td>2021-09-23</td>\n      <td>Zabajkalskij</td>\n      <td>9.899997</td>\n    </tr>\n    <tr>\n      <th>3174276</th>\n      <td>2902</td>\n      <td>1753609333821000086</td>\n      <td>ЮР</td>\n      <td>7.536093e+09</td>\n      <td>2021-12-21</td>\n      <td>2.465287e+09</td>\n      <td>2023-01-09</td>\n      <td>2023-12-29</td>\n      <td>118948.60</td>\n      <td>1</td>\n      <td>6038.00</td>\n      <td>2021-12-02</td>\n      <td>Zabajkalskij</td>\n      <td>19.700000</td>\n    </tr>\n  </tbody>\n</table>\n<p>3174277 rows × 14 columns</p>\n</div>"
     },
     "execution_count": 16,
     "metadata": {},
     "output_type": "execute_result"
    }
   ],
   "source": [
    "df2"
   ],
   "metadata": {
    "collapsed": false
   }
  },
  {
   "cell_type": "code",
   "execution_count": 17,
   "outputs": [
    {
     "data": {
      "text/plain": "                     reg num   sign date     st date    end date       price  \\\n89       3010400830020000019  2020-09-23  2020-09-23  2020-12-31    94111.75   \n543      1010501862221000009  2021-03-03  2021-03-01  2021-12-31        0.00   \n1429     3010503414121000005  2021-06-07  2021-06-07  2021-12-31   195500.00   \n1460     2010502596521000109  2021-06-09  2021-06-09  2021-12-31  1385680.00   \n1788     3010503896421000003  2021-06-28  2021-06-28  2022-01-31   196515.62   \n...                      ...         ...         ...         ...         ...   \n3173229  2753601151122000037  2022-01-10  2022-01-10  2022-12-31    15360.00   \n3173536  3750600145022000001  2022-01-17  2022-01-17  2022-12-31    89900.00   \n3173565  1753605735422000006  2022-01-18  2022-01-18  2024-01-10    32556.52   \n3173732  1753609333822000003  2022-01-25  2022-01-25  2022-12-30   116237.33   \n3174055  1753600824422000035  2022-02-04  2022-02-04  2022-04-29     9621.30   \n\n         enforcement      amount        Region        bg  \n89                 0    94111.75       Adygeja  1.000000  \n543                0     4201.15       Adygeja  0.000000  \n1429               1   230000.00       Adygeja  0.850000  \n1460               0  1385680.00       Adygeja  1.000000  \n1788               0   196515.62       Adygeja  1.000000  \n...              ...         ...           ...       ...  \n3173229            0    15438.00  Zabajkalskij  0.994948  \n3173536            0    89900.00  Zabajkalskij  1.000000  \n3173565            0    98050.68  Zabajkalskij  0.332038  \n3173732            0   116237.33  Zabajkalskij  1.000000  \n3174055            0    11329.66  Zabajkalskij  0.849213  \n\n[24926 rows x 9 columns]",
      "text/html": "<div>\n<style scoped>\n    .dataframe tbody tr th:only-of-type {\n        vertical-align: middle;\n    }\n\n    .dataframe tbody tr th {\n        vertical-align: top;\n    }\n\n    .dataframe thead th {\n        text-align: right;\n    }\n</style>\n<table border=\"1\" class=\"dataframe\">\n  <thead>\n    <tr style=\"text-align: right;\">\n      <th></th>\n      <th>reg num</th>\n      <th>sign date</th>\n      <th>st date</th>\n      <th>end date</th>\n      <th>price</th>\n      <th>enforcement</th>\n      <th>amount</th>\n      <th>Region</th>\n      <th>bg</th>\n    </tr>\n  </thead>\n  <tbody>\n    <tr>\n      <th>89</th>\n      <td>3010400830020000019</td>\n      <td>2020-09-23</td>\n      <td>2020-09-23</td>\n      <td>2020-12-31</td>\n      <td>94111.75</td>\n      <td>0</td>\n      <td>94111.75</td>\n      <td>Adygeja</td>\n      <td>1.000000</td>\n    </tr>\n    <tr>\n      <th>543</th>\n      <td>1010501862221000009</td>\n      <td>2021-03-03</td>\n      <td>2021-03-01</td>\n      <td>2021-12-31</td>\n      <td>0.00</td>\n      <td>0</td>\n      <td>4201.15</td>\n      <td>Adygeja</td>\n      <td>0.000000</td>\n    </tr>\n    <tr>\n      <th>1429</th>\n      <td>3010503414121000005</td>\n      <td>2021-06-07</td>\n      <td>2021-06-07</td>\n      <td>2021-12-31</td>\n      <td>195500.00</td>\n      <td>1</td>\n      <td>230000.00</td>\n      <td>Adygeja</td>\n      <td>0.850000</td>\n    </tr>\n    <tr>\n      <th>1460</th>\n      <td>2010502596521000109</td>\n      <td>2021-06-09</td>\n      <td>2021-06-09</td>\n      <td>2021-12-31</td>\n      <td>1385680.00</td>\n      <td>0</td>\n      <td>1385680.00</td>\n      <td>Adygeja</td>\n      <td>1.000000</td>\n    </tr>\n    <tr>\n      <th>1788</th>\n      <td>3010503896421000003</td>\n      <td>2021-06-28</td>\n      <td>2021-06-28</td>\n      <td>2022-01-31</td>\n      <td>196515.62</td>\n      <td>0</td>\n      <td>196515.62</td>\n      <td>Adygeja</td>\n      <td>1.000000</td>\n    </tr>\n    <tr>\n      <th>...</th>\n      <td>...</td>\n      <td>...</td>\n      <td>...</td>\n      <td>...</td>\n      <td>...</td>\n      <td>...</td>\n      <td>...</td>\n      <td>...</td>\n      <td>...</td>\n    </tr>\n    <tr>\n      <th>3173229</th>\n      <td>2753601151122000037</td>\n      <td>2022-01-10</td>\n      <td>2022-01-10</td>\n      <td>2022-12-31</td>\n      <td>15360.00</td>\n      <td>0</td>\n      <td>15438.00</td>\n      <td>Zabajkalskij</td>\n      <td>0.994948</td>\n    </tr>\n    <tr>\n      <th>3173536</th>\n      <td>3750600145022000001</td>\n      <td>2022-01-17</td>\n      <td>2022-01-17</td>\n      <td>2022-12-31</td>\n      <td>89900.00</td>\n      <td>0</td>\n      <td>89900.00</td>\n      <td>Zabajkalskij</td>\n      <td>1.000000</td>\n    </tr>\n    <tr>\n      <th>3173565</th>\n      <td>1753605735422000006</td>\n      <td>2022-01-18</td>\n      <td>2022-01-18</td>\n      <td>2024-01-10</td>\n      <td>32556.52</td>\n      <td>0</td>\n      <td>98050.68</td>\n      <td>Zabajkalskij</td>\n      <td>0.332038</td>\n    </tr>\n    <tr>\n      <th>3173732</th>\n      <td>1753609333822000003</td>\n      <td>2022-01-25</td>\n      <td>2022-01-25</td>\n      <td>2022-12-30</td>\n      <td>116237.33</td>\n      <td>0</td>\n      <td>116237.33</td>\n      <td>Zabajkalskij</td>\n      <td>1.000000</td>\n    </tr>\n    <tr>\n      <th>3174055</th>\n      <td>1753600824422000035</td>\n      <td>2022-02-04</td>\n      <td>2022-02-04</td>\n      <td>2022-04-29</td>\n      <td>9621.30</td>\n      <td>0</td>\n      <td>11329.66</td>\n      <td>Zabajkalskij</td>\n      <td>0.849213</td>\n    </tr>\n  </tbody>\n</table>\n<p>24926 rows × 9 columns</p>\n</div>"
     },
     "execution_count": 17,
     "metadata": {},
     "output_type": "execute_result"
    }
   ],
   "source": [
    "df2.drop(columns=df2[['Unnamed: 0','customer inn', 'supplier inn', 'protocol date', 'supplier type']], inplace=True)\n",
    "df2 = df2.drop_duplicates()\n",
    "df2 = df2[df2.bg <= 1]\n",
    "df2"
   ],
   "metadata": {
    "collapsed": false
   }
  },
  {
   "cell_type": "code",
   "execution_count": 18,
   "outputs": [],
   "source": [
    "try:\n",
    "    df2['st date'] = df2['st date'].astype('datetime64[ns]')\n",
    "except pd.errors.OutOfBoundsDatetime:\n",
    "    df2['st date'] = df2['sign date'].astype('datetime64[ns]')\n",
    "df2['end date'] = df2['end date'].astype('datetime64[ns]')"
   ],
   "metadata": {
    "collapsed": false
   }
  },
  {
   "cell_type": "code",
   "execution_count": 19,
   "outputs": [],
   "source": [
    "data = data.drop(columns=data[['Unnamed: 0', 'obj hash', 'name', 'sign date', 'suppliers count']])"
   ],
   "metadata": {
    "collapsed": false
   }
  },
  {
   "cell_type": "code",
   "execution_count": 20,
   "outputs": [],
   "source": [
    "df = df.drop(columns=df[['Region', 'sign date']])"
   ],
   "metadata": {
    "collapsed": false
   }
  },
  {
   "cell_type": "code",
   "execution_count": 21,
   "outputs": [],
   "source": [
    "df2 = df2.drop(columns=df2[['Region', 'sign date']])"
   ],
   "metadata": {
    "collapsed": false
   }
  },
  {
   "cell_type": "code",
   "execution_count": 22,
   "outputs": [],
   "source": [
    "new_data = pd.concat([data[data.amount<1e+10], df[df.amount<1e+10], df2[df2.amount<1e+10]])"
   ],
   "metadata": {
    "collapsed": false
   }
  },
  {
   "cell_type": "code",
   "execution_count": 23,
   "outputs": [
    {
     "data": {
      "text/plain": "reg num                   int64\nst date          datetime64[ns]\nend date         datetime64[ns]\nprice                   float64\nenforcement               int64\namount                  float64\nbg                      float64\nprotocol date            object\ndtype: object"
     },
     "execution_count": 23,
     "metadata": {},
     "output_type": "execute_result"
    }
   ],
   "source": [
    "new_data.dtypes"
   ],
   "metadata": {
    "collapsed": false
   }
  },
  {
   "cell_type": "code",
   "execution_count": 24,
   "outputs": [
    {
     "data": {
      "text/plain": "                    reg num    st date   end date       price  enforcement  \\\n642747  3861700618021000040 2021-04-20 2023-06-30  1307808.72            1   \n866878  3861700618021000040 2021-04-20 2023-06-30  1307808.72            1   \n\n              amount        bg protocol date  \n642747  8.617006e+09  0.000152    2021-04-08  \n866878  8.617006e+09  0.000152           NaN  ",
      "text/html": "<div>\n<style scoped>\n    .dataframe tbody tr th:only-of-type {\n        vertical-align: middle;\n    }\n\n    .dataframe tbody tr th {\n        vertical-align: top;\n    }\n\n    .dataframe thead th {\n        text-align: right;\n    }\n</style>\n<table border=\"1\" class=\"dataframe\">\n  <thead>\n    <tr style=\"text-align: right;\">\n      <th></th>\n      <th>reg num</th>\n      <th>st date</th>\n      <th>end date</th>\n      <th>price</th>\n      <th>enforcement</th>\n      <th>amount</th>\n      <th>bg</th>\n      <th>protocol date</th>\n    </tr>\n  </thead>\n  <tbody>\n    <tr>\n      <th>642747</th>\n      <td>3861700618021000040</td>\n      <td>2021-04-20</td>\n      <td>2023-06-30</td>\n      <td>1307808.72</td>\n      <td>1</td>\n      <td>8.617006e+09</td>\n      <td>0.000152</td>\n      <td>2021-04-08</td>\n    </tr>\n    <tr>\n      <th>866878</th>\n      <td>3861700618021000040</td>\n      <td>2021-04-20</td>\n      <td>2023-06-30</td>\n      <td>1307808.72</td>\n      <td>1</td>\n      <td>8.617006e+09</td>\n      <td>0.000152</td>\n      <td>NaN</td>\n    </tr>\n  </tbody>\n</table>\n</div>"
     },
     "execution_count": 24,
     "metadata": {},
     "output_type": "execute_result"
    }
   ],
   "source": [
    "new_data[new_data.amount == new_data.amount.max()]"
   ],
   "metadata": {
    "collapsed": false
   }
  },
  {
   "cell_type": "code",
   "execution_count": 25,
   "outputs": [
    {
     "name": "stderr",
     "output_type": "stream",
     "text": [
      "C:\\Temp\\ipykernel_8160\\1113842843.py:1: FutureWarning: Dropping invalid columns in DataFrameGroupBy.max is deprecated. In a future version, a TypeError will be raised. Before calling .max, select only columns which should be valid for the function.\n",
      "  new_data = new_data.groupby(['reg num', 'st date', 'end date','enforcement', 'amount'],as_index=False).max()\n"
     ]
    }
   ],
   "source": [
    "new_data = new_data.groupby(['reg num', 'st date', 'end date','enforcement', 'amount'],as_index=False).max()"
   ],
   "metadata": {
    "collapsed": false
   }
  },
  {
   "cell_type": "code",
   "execution_count": 26,
   "outputs": [
    {
     "data": {
      "text/plain": "                   reg num    st date   end date  enforcement       amount  \\\n0       116300009014000001 2014-02-17 2014-12-31            0   2863059.00   \n1       173200001514000095 2014-04-09 2014-06-09            0   9374840.00   \n2       314100000114000057 2014-11-26 2019-12-31            0         0.30   \n3       314100000114000058 2014-11-26 2019-12-31            0         0.30   \n4       314100000114000059 2014-11-26 2019-12-31            0         0.30   \n...                    ...        ...        ...          ...          ...   \n29875  4773518341021000051 2021-09-17 2022-01-28            1     54934.71   \n29876  4773518341021000052 2021-09-20 2022-01-23            0    342131.56   \n29877  4773518341021000059 2021-11-01 2022-05-22            1  12802096.97   \n29878  4773518341022000008 2022-01-11 2022-08-11            0    105499.46   \n29879  4773518341022000015 2022-01-25 2022-11-26            1    905565.49   \n\n            price        bg  \n0      2863059.00  1.000000  \n1      7343624.78  0.783333  \n2            0.00  0.000000  \n3            0.00  0.000000  \n4            0.00  0.000000  \n...           ...       ...  \n29875        0.00  0.000000  \n29876        0.00  0.000000  \n29877        0.00  0.000000  \n29878        0.00  0.000000  \n29879        0.00  0.000000  \n\n[29880 rows x 7 columns]",
      "text/html": "<div>\n<style scoped>\n    .dataframe tbody tr th:only-of-type {\n        vertical-align: middle;\n    }\n\n    .dataframe tbody tr th {\n        vertical-align: top;\n    }\n\n    .dataframe thead th {\n        text-align: right;\n    }\n</style>\n<table border=\"1\" class=\"dataframe\">\n  <thead>\n    <tr style=\"text-align: right;\">\n      <th></th>\n      <th>reg num</th>\n      <th>st date</th>\n      <th>end date</th>\n      <th>enforcement</th>\n      <th>amount</th>\n      <th>price</th>\n      <th>bg</th>\n    </tr>\n  </thead>\n  <tbody>\n    <tr>\n      <th>0</th>\n      <td>116300009014000001</td>\n      <td>2014-02-17</td>\n      <td>2014-12-31</td>\n      <td>0</td>\n      <td>2863059.00</td>\n      <td>2863059.00</td>\n      <td>1.000000</td>\n    </tr>\n    <tr>\n      <th>1</th>\n      <td>173200001514000095</td>\n      <td>2014-04-09</td>\n      <td>2014-06-09</td>\n      <td>0</td>\n      <td>9374840.00</td>\n      <td>7343624.78</td>\n      <td>0.783333</td>\n    </tr>\n    <tr>\n      <th>2</th>\n      <td>314100000114000057</td>\n      <td>2014-11-26</td>\n      <td>2019-12-31</td>\n      <td>0</td>\n      <td>0.30</td>\n      <td>0.00</td>\n      <td>0.000000</td>\n    </tr>\n    <tr>\n      <th>3</th>\n      <td>314100000114000058</td>\n      <td>2014-11-26</td>\n      <td>2019-12-31</td>\n      <td>0</td>\n      <td>0.30</td>\n      <td>0.00</td>\n      <td>0.000000</td>\n    </tr>\n    <tr>\n      <th>4</th>\n      <td>314100000114000059</td>\n      <td>2014-11-26</td>\n      <td>2019-12-31</td>\n      <td>0</td>\n      <td>0.30</td>\n      <td>0.00</td>\n      <td>0.000000</td>\n    </tr>\n    <tr>\n      <th>...</th>\n      <td>...</td>\n      <td>...</td>\n      <td>...</td>\n      <td>...</td>\n      <td>...</td>\n      <td>...</td>\n      <td>...</td>\n    </tr>\n    <tr>\n      <th>29875</th>\n      <td>4773518341021000051</td>\n      <td>2021-09-17</td>\n      <td>2022-01-28</td>\n      <td>1</td>\n      <td>54934.71</td>\n      <td>0.00</td>\n      <td>0.000000</td>\n    </tr>\n    <tr>\n      <th>29876</th>\n      <td>4773518341021000052</td>\n      <td>2021-09-20</td>\n      <td>2022-01-23</td>\n      <td>0</td>\n      <td>342131.56</td>\n      <td>0.00</td>\n      <td>0.000000</td>\n    </tr>\n    <tr>\n      <th>29877</th>\n      <td>4773518341021000059</td>\n      <td>2021-11-01</td>\n      <td>2022-05-22</td>\n      <td>1</td>\n      <td>12802096.97</td>\n      <td>0.00</td>\n      <td>0.000000</td>\n    </tr>\n    <tr>\n      <th>29878</th>\n      <td>4773518341022000008</td>\n      <td>2022-01-11</td>\n      <td>2022-08-11</td>\n      <td>0</td>\n      <td>105499.46</td>\n      <td>0.00</td>\n      <td>0.000000</td>\n    </tr>\n    <tr>\n      <th>29879</th>\n      <td>4773518341022000015</td>\n      <td>2022-01-25</td>\n      <td>2022-11-26</td>\n      <td>1</td>\n      <td>905565.49</td>\n      <td>0.00</td>\n      <td>0.000000</td>\n    </tr>\n  </tbody>\n</table>\n<p>29880 rows × 7 columns</p>\n</div>"
     },
     "execution_count": 26,
     "metadata": {},
     "output_type": "execute_result"
    }
   ],
   "source": [
    "new_data"
   ],
   "metadata": {
    "collapsed": false
   }
  },
  {
   "cell_type": "code",
   "execution_count": 27,
   "outputs": [
    {
     "data": {
      "text/plain": "                   reg num    st date   end date  enforcement       amount  \\\n10      373200237513000024 2013-12-28 2015-01-31            0    496500.00   \n0       116300009014000001 2014-02-17 2014-12-31            0   2863059.00   \n1       173200001514000095 2014-04-09 2014-06-09            0   9374840.00   \n8       321100019414000092 2014-07-10 2019-11-30            1  26129817.00   \n2       314100000114000057 2014-11-26 2019-12-31            0         0.30   \n...                    ...        ...        ...          ...          ...   \n19130  3010101001222000001 2022-03-01 2023-01-31            1   2986823.45   \n22023  3010800386422000008 2022-03-01 2022-07-31            0     26009.60   \n19074  3010100554122000001 2022-04-01 2022-06-01            1     98403.00   \n19082  3010100561522000002 2022-08-01 2022-12-31            1   1217796.00   \n557    1010504442122000011 2022-12-24 2022-12-31            1     25000.00   \n\n             price        bg  \n10       496500.00  1.000000  \n0       2863059.00  1.000000  \n1       7343624.78  0.783333  \n8      24557586.00  0.939830  \n2             0.00  0.000000  \n...            ...       ...  \n19130  59736469.00  0.050000  \n22023    520192.00  0.050000  \n19074   1958219.00  0.053406  \n19082  24355920.00  0.050000  \n557      500000.00  0.050000  \n\n[29880 rows x 7 columns]",
      "text/html": "<div>\n<style scoped>\n    .dataframe tbody tr th:only-of-type {\n        vertical-align: middle;\n    }\n\n    .dataframe tbody tr th {\n        vertical-align: top;\n    }\n\n    .dataframe thead th {\n        text-align: right;\n    }\n</style>\n<table border=\"1\" class=\"dataframe\">\n  <thead>\n    <tr style=\"text-align: right;\">\n      <th></th>\n      <th>reg num</th>\n      <th>st date</th>\n      <th>end date</th>\n      <th>enforcement</th>\n      <th>amount</th>\n      <th>price</th>\n      <th>bg</th>\n    </tr>\n  </thead>\n  <tbody>\n    <tr>\n      <th>10</th>\n      <td>373200237513000024</td>\n      <td>2013-12-28</td>\n      <td>2015-01-31</td>\n      <td>0</td>\n      <td>496500.00</td>\n      <td>496500.00</td>\n      <td>1.000000</td>\n    </tr>\n    <tr>\n      <th>0</th>\n      <td>116300009014000001</td>\n      <td>2014-02-17</td>\n      <td>2014-12-31</td>\n      <td>0</td>\n      <td>2863059.00</td>\n      <td>2863059.00</td>\n      <td>1.000000</td>\n    </tr>\n    <tr>\n      <th>1</th>\n      <td>173200001514000095</td>\n      <td>2014-04-09</td>\n      <td>2014-06-09</td>\n      <td>0</td>\n      <td>9374840.00</td>\n      <td>7343624.78</td>\n      <td>0.783333</td>\n    </tr>\n    <tr>\n      <th>8</th>\n      <td>321100019414000092</td>\n      <td>2014-07-10</td>\n      <td>2019-11-30</td>\n      <td>1</td>\n      <td>26129817.00</td>\n      <td>24557586.00</td>\n      <td>0.939830</td>\n    </tr>\n    <tr>\n      <th>2</th>\n      <td>314100000114000057</td>\n      <td>2014-11-26</td>\n      <td>2019-12-31</td>\n      <td>0</td>\n      <td>0.30</td>\n      <td>0.00</td>\n      <td>0.000000</td>\n    </tr>\n    <tr>\n      <th>...</th>\n      <td>...</td>\n      <td>...</td>\n      <td>...</td>\n      <td>...</td>\n      <td>...</td>\n      <td>...</td>\n      <td>...</td>\n    </tr>\n    <tr>\n      <th>19130</th>\n      <td>3010101001222000001</td>\n      <td>2022-03-01</td>\n      <td>2023-01-31</td>\n      <td>1</td>\n      <td>2986823.45</td>\n      <td>59736469.00</td>\n      <td>0.050000</td>\n    </tr>\n    <tr>\n      <th>22023</th>\n      <td>3010800386422000008</td>\n      <td>2022-03-01</td>\n      <td>2022-07-31</td>\n      <td>0</td>\n      <td>26009.60</td>\n      <td>520192.00</td>\n      <td>0.050000</td>\n    </tr>\n    <tr>\n      <th>19074</th>\n      <td>3010100554122000001</td>\n      <td>2022-04-01</td>\n      <td>2022-06-01</td>\n      <td>1</td>\n      <td>98403.00</td>\n      <td>1958219.00</td>\n      <td>0.053406</td>\n    </tr>\n    <tr>\n      <th>19082</th>\n      <td>3010100561522000002</td>\n      <td>2022-08-01</td>\n      <td>2022-12-31</td>\n      <td>1</td>\n      <td>1217796.00</td>\n      <td>24355920.00</td>\n      <td>0.050000</td>\n    </tr>\n    <tr>\n      <th>557</th>\n      <td>1010504442122000011</td>\n      <td>2022-12-24</td>\n      <td>2022-12-31</td>\n      <td>1</td>\n      <td>25000.00</td>\n      <td>500000.00</td>\n      <td>0.050000</td>\n    </tr>\n  </tbody>\n</table>\n<p>29880 rows × 7 columns</p>\n</div>"
     },
     "execution_count": 27,
     "metadata": {},
     "output_type": "execute_result"
    }
   ],
   "source": [
    "new_data = new_data.sort_values(by = 'st date')\n",
    "new_data"
   ],
   "metadata": {
    "collapsed": false
   }
  },
  {
   "cell_type": "code",
   "execution_count": 28,
   "outputs": [],
   "source": [
    "new_dt = new_data.set_index('st date')"
   ],
   "metadata": {
    "collapsed": false
   }
  },
  {
   "cell_type": "code",
   "execution_count": 29,
   "outputs": [
    {
     "data": {
      "text/plain": "                        reg num   end date  enforcement       amount  \\\nst date                                                                \n2013-12-28   373200237513000024 2015-01-31            0    496500.00   \n2014-02-17   116300009014000001 2014-12-31            0   2863059.00   \n2014-04-09   173200001514000095 2014-06-09            0   9374840.00   \n2014-07-10   321100019414000092 2019-11-30            1  26129817.00   \n2014-11-26   314100000114000057 2019-12-31            0         0.30   \n...                         ...        ...          ...          ...   \n2022-03-01  3010101001222000001 2023-01-31            1   2986823.45   \n2022-03-01  3010800386422000008 2022-07-31            0     26009.60   \n2022-04-01  3010100554122000001 2022-06-01            1     98403.00   \n2022-08-01  3010100561522000002 2022-12-31            1   1217796.00   \n2022-12-24  1010504442122000011 2022-12-31            1     25000.00   \n\n                  price        bg  \nst date                            \n2013-12-28    496500.00  1.000000  \n2014-02-17   2863059.00  1.000000  \n2014-04-09   7343624.78  0.783333  \n2014-07-10  24557586.00  0.939830  \n2014-11-26         0.00  0.000000  \n...                 ...       ...  \n2022-03-01  59736469.00  0.050000  \n2022-03-01    520192.00  0.050000  \n2022-04-01   1958219.00  0.053406  \n2022-08-01  24355920.00  0.050000  \n2022-12-24    500000.00  0.050000  \n\n[29880 rows x 6 columns]",
      "text/html": "<div>\n<style scoped>\n    .dataframe tbody tr th:only-of-type {\n        vertical-align: middle;\n    }\n\n    .dataframe tbody tr th {\n        vertical-align: top;\n    }\n\n    .dataframe thead th {\n        text-align: right;\n    }\n</style>\n<table border=\"1\" class=\"dataframe\">\n  <thead>\n    <tr style=\"text-align: right;\">\n      <th></th>\n      <th>reg num</th>\n      <th>end date</th>\n      <th>enforcement</th>\n      <th>amount</th>\n      <th>price</th>\n      <th>bg</th>\n    </tr>\n    <tr>\n      <th>st date</th>\n      <th></th>\n      <th></th>\n      <th></th>\n      <th></th>\n      <th></th>\n      <th></th>\n    </tr>\n  </thead>\n  <tbody>\n    <tr>\n      <th>2013-12-28</th>\n      <td>373200237513000024</td>\n      <td>2015-01-31</td>\n      <td>0</td>\n      <td>496500.00</td>\n      <td>496500.00</td>\n      <td>1.000000</td>\n    </tr>\n    <tr>\n      <th>2014-02-17</th>\n      <td>116300009014000001</td>\n      <td>2014-12-31</td>\n      <td>0</td>\n      <td>2863059.00</td>\n      <td>2863059.00</td>\n      <td>1.000000</td>\n    </tr>\n    <tr>\n      <th>2014-04-09</th>\n      <td>173200001514000095</td>\n      <td>2014-06-09</td>\n      <td>0</td>\n      <td>9374840.00</td>\n      <td>7343624.78</td>\n      <td>0.783333</td>\n    </tr>\n    <tr>\n      <th>2014-07-10</th>\n      <td>321100019414000092</td>\n      <td>2019-11-30</td>\n      <td>1</td>\n      <td>26129817.00</td>\n      <td>24557586.00</td>\n      <td>0.939830</td>\n    </tr>\n    <tr>\n      <th>2014-11-26</th>\n      <td>314100000114000057</td>\n      <td>2019-12-31</td>\n      <td>0</td>\n      <td>0.30</td>\n      <td>0.00</td>\n      <td>0.000000</td>\n    </tr>\n    <tr>\n      <th>...</th>\n      <td>...</td>\n      <td>...</td>\n      <td>...</td>\n      <td>...</td>\n      <td>...</td>\n      <td>...</td>\n    </tr>\n    <tr>\n      <th>2022-03-01</th>\n      <td>3010101001222000001</td>\n      <td>2023-01-31</td>\n      <td>1</td>\n      <td>2986823.45</td>\n      <td>59736469.00</td>\n      <td>0.050000</td>\n    </tr>\n    <tr>\n      <th>2022-03-01</th>\n      <td>3010800386422000008</td>\n      <td>2022-07-31</td>\n      <td>0</td>\n      <td>26009.60</td>\n      <td>520192.00</td>\n      <td>0.050000</td>\n    </tr>\n    <tr>\n      <th>2022-04-01</th>\n      <td>3010100554122000001</td>\n      <td>2022-06-01</td>\n      <td>1</td>\n      <td>98403.00</td>\n      <td>1958219.00</td>\n      <td>0.053406</td>\n    </tr>\n    <tr>\n      <th>2022-08-01</th>\n      <td>3010100561522000002</td>\n      <td>2022-12-31</td>\n      <td>1</td>\n      <td>1217796.00</td>\n      <td>24355920.00</td>\n      <td>0.050000</td>\n    </tr>\n    <tr>\n      <th>2022-12-24</th>\n      <td>1010504442122000011</td>\n      <td>2022-12-31</td>\n      <td>1</td>\n      <td>25000.00</td>\n      <td>500000.00</td>\n      <td>0.050000</td>\n    </tr>\n  </tbody>\n</table>\n<p>29880 rows × 6 columns</p>\n</div>"
     },
     "execution_count": 29,
     "metadata": {},
     "output_type": "execute_result"
    }
   ],
   "source": [
    "new_dt"
   ],
   "metadata": {
    "collapsed": false
   }
  },
  {
   "cell_type": "code",
   "execution_count": 30,
   "outputs": [],
   "source": [
    "new = new_data[['st date', 'end date', 'amount']]"
   ],
   "metadata": {
    "collapsed": false
   }
  },
  {
   "cell_type": "code",
   "execution_count": 31,
   "outputs": [],
   "source": [
    "n = new_data[['st date', 'amount']]"
   ],
   "metadata": {
    "collapsed": false
   }
  },
  {
   "cell_type": "code",
   "execution_count": 32,
   "outputs": [],
   "source": [
    "n = n.set_index('st date')"
   ],
   "metadata": {
    "collapsed": false
   }
  },
  {
   "cell_type": "code",
   "execution_count": 33,
   "outputs": [
    {
     "data": {
      "text/plain": "            count\nst date          \n2013-12-31      1\n2014-01-31      0\n2014-02-28      1\n2014-03-31      0\n2014-04-30      1\n...           ...\n2022-08-31      1\n2022-09-30      0\n2022-10-31      0\n2022-11-30      0\n2022-12-31      1\n\n[109 rows x 1 columns]",
      "text/html": "<div>\n<style scoped>\n    .dataframe tbody tr th:only-of-type {\n        vertical-align: middle;\n    }\n\n    .dataframe tbody tr th {\n        vertical-align: top;\n    }\n\n    .dataframe thead th {\n        text-align: right;\n    }\n</style>\n<table border=\"1\" class=\"dataframe\">\n  <thead>\n    <tr style=\"text-align: right;\">\n      <th></th>\n      <th>count</th>\n    </tr>\n    <tr>\n      <th>st date</th>\n      <th></th>\n    </tr>\n  </thead>\n  <tbody>\n    <tr>\n      <th>2013-12-31</th>\n      <td>1</td>\n    </tr>\n    <tr>\n      <th>2014-01-31</th>\n      <td>0</td>\n    </tr>\n    <tr>\n      <th>2014-02-28</th>\n      <td>1</td>\n    </tr>\n    <tr>\n      <th>2014-03-31</th>\n      <td>0</td>\n    </tr>\n    <tr>\n      <th>2014-04-30</th>\n      <td>1</td>\n    </tr>\n    <tr>\n      <th>...</th>\n      <td>...</td>\n    </tr>\n    <tr>\n      <th>2022-08-31</th>\n      <td>1</td>\n    </tr>\n    <tr>\n      <th>2022-09-30</th>\n      <td>0</td>\n    </tr>\n    <tr>\n      <th>2022-10-31</th>\n      <td>0</td>\n    </tr>\n    <tr>\n      <th>2022-11-30</th>\n      <td>0</td>\n    </tr>\n    <tr>\n      <th>2022-12-31</th>\n      <td>1</td>\n    </tr>\n  </tbody>\n</table>\n<p>109 rows × 1 columns</p>\n</div>"
     },
     "execution_count": 33,
     "metadata": {},
     "output_type": "execute_result"
    }
   ],
   "source": [
    "n.rename(columns={'amount': 'count'}, inplace = True)\n",
    "n = n.resample('M').count()\n",
    "n"
   ],
   "metadata": {
    "collapsed": false
   }
  },
  {
   "cell_type": "code",
   "execution_count": 34,
   "outputs": [],
   "source": [
    "new  = new.set_index('st date')"
   ],
   "metadata": {
    "collapsed": false
   }
  },
  {
   "cell_type": "code",
   "execution_count": 35,
   "outputs": [
    {
     "data": {
      "text/plain": "               amount\nst date              \n2013-12-31   496500.0\n2014-01-31        0.0\n2014-02-28  2863059.0\n2014-03-31        0.0\n2014-04-30  9374840.0\n...               ...\n2022-08-31  1217796.0\n2022-09-30        0.0\n2022-10-31        0.0\n2022-11-30        0.0\n2022-12-31    25000.0\n\n[109 rows x 1 columns]",
      "text/html": "<div>\n<style scoped>\n    .dataframe tbody tr th:only-of-type {\n        vertical-align: middle;\n    }\n\n    .dataframe tbody tr th {\n        vertical-align: top;\n    }\n\n    .dataframe thead th {\n        text-align: right;\n    }\n</style>\n<table border=\"1\" class=\"dataframe\">\n  <thead>\n    <tr style=\"text-align: right;\">\n      <th></th>\n      <th>amount</th>\n    </tr>\n    <tr>\n      <th>st date</th>\n      <th></th>\n    </tr>\n  </thead>\n  <tbody>\n    <tr>\n      <th>2013-12-31</th>\n      <td>496500.0</td>\n    </tr>\n    <tr>\n      <th>2014-01-31</th>\n      <td>0.0</td>\n    </tr>\n    <tr>\n      <th>2014-02-28</th>\n      <td>2863059.0</td>\n    </tr>\n    <tr>\n      <th>2014-03-31</th>\n      <td>0.0</td>\n    </tr>\n    <tr>\n      <th>2014-04-30</th>\n      <td>9374840.0</td>\n    </tr>\n    <tr>\n      <th>...</th>\n      <td>...</td>\n    </tr>\n    <tr>\n      <th>2022-08-31</th>\n      <td>1217796.0</td>\n    </tr>\n    <tr>\n      <th>2022-09-30</th>\n      <td>0.0</td>\n    </tr>\n    <tr>\n      <th>2022-10-31</th>\n      <td>0.0</td>\n    </tr>\n    <tr>\n      <th>2022-11-30</th>\n      <td>0.0</td>\n    </tr>\n    <tr>\n      <th>2022-12-31</th>\n      <td>25000.0</td>\n    </tr>\n  </tbody>\n</table>\n<p>109 rows × 1 columns</p>\n</div>"
     },
     "execution_count": 35,
     "metadata": {},
     "output_type": "execute_result"
    }
   ],
   "source": [
    "new = new.resample('M').sum()\n",
    "new"
   ],
   "metadata": {
    "collapsed": false
   }
  },
  {
   "cell_type": "code",
   "execution_count": 36,
   "outputs": [
    {
     "data": {
      "text/plain": "               amount\nst date              \n2022-08-31  1217796.0\n2022-09-30        0.0\n2022-10-31        0.0\n2022-11-30        0.0\n2022-12-31    25000.0",
      "text/html": "<div>\n<style scoped>\n    .dataframe tbody tr th:only-of-type {\n        vertical-align: middle;\n    }\n\n    .dataframe tbody tr th {\n        vertical-align: top;\n    }\n\n    .dataframe thead th {\n        text-align: right;\n    }\n</style>\n<table border=\"1\" class=\"dataframe\">\n  <thead>\n    <tr style=\"text-align: right;\">\n      <th></th>\n      <th>amount</th>\n    </tr>\n    <tr>\n      <th>st date</th>\n      <th></th>\n    </tr>\n  </thead>\n  <tbody>\n    <tr>\n      <th>2022-08-31</th>\n      <td>1217796.0</td>\n    </tr>\n    <tr>\n      <th>2022-09-30</th>\n      <td>0.0</td>\n    </tr>\n    <tr>\n      <th>2022-10-31</th>\n      <td>0.0</td>\n    </tr>\n    <tr>\n      <th>2022-11-30</th>\n      <td>0.0</td>\n    </tr>\n    <tr>\n      <th>2022-12-31</th>\n      <td>25000.0</td>\n    </tr>\n  </tbody>\n</table>\n</div>"
     },
     "execution_count": 36,
     "metadata": {},
     "output_type": "execute_result"
    }
   ],
   "source": [
    "dt = new\n",
    "dt.tail()"
   ],
   "metadata": {
    "collapsed": false
   }
  },
  {
   "cell_type": "code",
   "execution_count": 37,
   "outputs": [
    {
     "data": {
      "text/plain": "<AxesSubplot:xlabel='st date'>"
     },
     "execution_count": 37,
     "metadata": {},
     "output_type": "execute_result"
    },
    {
     "data": {
      "text/plain": "<Figure size 432x288 with 1 Axes>",
      "image/png": "[encoded data removed]"
     },
     "metadata": {},
     "output_type": "display_data"
    }
   ],
   "source": [
    "dt['2019-01-31':'2022-12-31'].plot()"
   ],
   "metadata": {
    "collapsed": false
   }
  },
  {
   "cell_type": "code",
   "execution_count": 38,
   "outputs": [
    {
     "data": {
      "text/plain": "               amount\nst date              \n2013-12-31   496500.0\n2014-01-31        0.0\n2014-02-28  2863059.0\n2014-03-31        0.0\n2014-04-30  9374840.0\n...               ...\n2022-08-31  1217796.0\n2022-09-30        0.0\n2022-10-31        0.0\n2022-11-30        0.0\n2022-12-31    25000.0\n\n[109 rows x 1 columns]",
      "text/html": "<div>\n<style scoped>\n    .dataframe tbody tr th:only-of-type {\n        vertical-align: middle;\n    }\n\n    .dataframe tbody tr th {\n        vertical-align: top;\n    }\n\n    .dataframe thead th {\n        text-align: right;\n    }\n</style>\n<table border=\"1\" class=\"dataframe\">\n  <thead>\n    <tr style=\"text-align: right;\">\n      <th></th>\n      <th>amount</th>\n    </tr>\n    <tr>\n      <th>st date</th>\n      <th></th>\n    </tr>\n  </thead>\n  <tbody>\n    <tr>\n      <th>2013-12-31</th>\n      <td>496500.0</td>\n    </tr>\n    <tr>\n      <th>2014-01-31</th>\n      <td>0.0</td>\n    </tr>\n    <tr>\n      <th>2014-02-28</th>\n      <td>2863059.0</td>\n    </tr>\n    <tr>\n      <th>2014-03-31</th>\n      <td>0.0</td>\n    </tr>\n    <tr>\n      <th>2014-04-30</th>\n      <td>9374840.0</td>\n    </tr>\n    <tr>\n      <th>...</th>\n      <td>...</td>\n    </tr>\n    <tr>\n      <th>2022-08-31</th>\n      <td>1217796.0</td>\n    </tr>\n    <tr>\n      <th>2022-09-30</th>\n      <td>0.0</td>\n    </tr>\n    <tr>\n      <th>2022-10-31</th>\n      <td>0.0</td>\n    </tr>\n    <tr>\n      <th>2022-11-30</th>\n      <td>0.0</td>\n    </tr>\n    <tr>\n      <th>2022-12-31</th>\n      <td>25000.0</td>\n    </tr>\n  </tbody>\n</table>\n<p>109 rows × 1 columns</p>\n</div>"
     },
     "execution_count": 38,
     "metadata": {},
     "output_type": "execute_result"
    }
   ],
   "source": [
    "dt"
   ],
   "metadata": {
    "collapsed": false
   }
  },
  {
   "cell_type": "code",
   "execution_count": 39,
   "outputs": [],
   "source": [
    "import plotly.express as px\n",
    "import plotly.graph_objects as go\n",
    "import plotly.express.colors\n",
    "from plotly.subplots import make_subplots"
   ],
   "metadata": {
    "collapsed": false
   }
  },
  {
   "cell_type": "code",
   "execution_count": 40,
   "outputs": [
    {
     "data": {
      "text/plain": "       st date\n0   2013-12-31\n1   2014-01-31\n2   2014-02-28\n3   2014-03-31\n4   2014-04-30\n..         ...\n104 2022-08-31\n105 2022-09-30\n106 2022-10-31\n107 2022-11-30\n108 2022-12-31\n\n[109 rows x 1 columns]",
      "text/html": "<div>\n<style scoped>\n    .dataframe tbody tr th:only-of-type {\n        vertical-align: middle;\n    }\n\n    .dataframe tbody tr th {\n        vertical-align: top;\n    }\n\n    .dataframe thead th {\n        text-align: right;\n    }\n</style>\n<table border=\"1\" class=\"dataframe\">\n  <thead>\n    <tr style=\"text-align: right;\">\n      <th></th>\n      <th>st date</th>\n    </tr>\n  </thead>\n  <tbody>\n    <tr>\n      <th>0</th>\n      <td>2013-12-31</td>\n    </tr>\n    <tr>\n      <th>1</th>\n      <td>2014-01-31</td>\n    </tr>\n    <tr>\n      <th>2</th>\n      <td>2014-02-28</td>\n    </tr>\n    <tr>\n      <th>3</th>\n      <td>2014-03-31</td>\n    </tr>\n    <tr>\n      <th>4</th>\n      <td>2014-04-30</td>\n    </tr>\n    <tr>\n      <th>...</th>\n      <td>...</td>\n    </tr>\n    <tr>\n      <th>104</th>\n      <td>2022-08-31</td>\n    </tr>\n    <tr>\n      <th>105</th>\n      <td>2022-09-30</td>\n    </tr>\n    <tr>\n      <th>106</th>\n      <td>2022-10-31</td>\n    </tr>\n    <tr>\n      <th>107</th>\n      <td>2022-11-30</td>\n    </tr>\n    <tr>\n      <th>108</th>\n      <td>2022-12-31</td>\n    </tr>\n  </tbody>\n</table>\n<p>109 rows × 1 columns</p>\n</div>"
     },
     "execution_count": 40,
     "metadata": {},
     "output_type": "execute_result"
    }
   ],
   "source": [
    "pd.DataFrame(dt.index)"
   ],
   "metadata": {
    "collapsed": false
   }
  },
  {
   "cell_type": "code",
   "execution_count": 221,
   "outputs": [
    {
     "data": {
      "application/vnd.plotly.v1+json": {
       "data": [
        {
         "mode": "lines",
         "name": "Amount of guarantees",
         "x": [
          "2013-12-31T00:00:00",
          "2014-01-31T00:00:00",
          "2014-02-28T00:00:00",
          "2014-03-31T00:00:00",
          "2014-04-30T00:00:00",
          "2014-05-31T00:00:00",
          "2014-06-30T00:00:00",
          "2014-07-31T00:00:00",
          "2014-08-31T00:00:00",
          "2014-09-30T00:00:00",
          "2014-10-31T00:00:00",
          "2014-11-30T00:00:00",
          "2014-12-31T00:00:00",
          "2015-01-31T00:00:00",
          "2015-02-28T00:00:00",
          "2015-03-31T00:00:00",
          "2015-04-30T00:00:00",
          "2015-05-31T00:00:00",
          "2015-06-30T00:00:00",
          "2015-07-31T00:00:00",
          "2015-08-31T00:00:00",
          "2015-09-30T00:00:00",
          "2015-10-31T00:00:00",
          "2015-11-30T00:00:00",
          "2015-12-31T00:00:00",
          "2016-01-31T00:00:00",
          "2016-02-29T00:00:00",
          "2016-03-31T00:00:00",
          "2016-04-30T00:00:00",
          "2016-05-31T00:00:00",
          "2016-06-30T00:00:00",
          "2016-07-31T00:00:00",
          "2016-08-31T00:00:00",
          "2016-09-30T00:00:00",
          "2016-10-31T00:00:00",
          "2016-11-30T00:00:00",
          "2016-12-31T00:00:00",
          "2017-01-31T00:00:00",
          "2017-02-28T00:00:00",
          "2017-03-31T00:00:00",
          "2017-04-30T00:00:00",
          "2017-05-31T00:00:00",
          "2017-06-30T00:00:00",
          "2017-07-31T00:00:00",
          "2017-08-31T00:00:00",
          "2017-09-30T00:00:00",
          "2017-10-31T00:00:00",
          "2017-11-30T00:00:00",
          "2017-12-31T00:00:00",
          "2018-01-31T00:00:00",
          "2018-02-28T00:00:00",
          "2018-03-31T00:00:00",
          "2018-04-30T00:00:00",
          "2018-05-31T00:00:00",
          "2018-06-30T00:00:00",
          "2018-07-31T00:00:00",
          "2018-08-31T00:00:00",
          "2018-09-30T00:00:00",
          "2018-10-31T00:00:00",
          "2018-11-30T00:00:00",
          "2018-12-31T00:00:00",
          "2019-01-31T00:00:00",
          "2019-02-28T00:00:00",
          "2019-03-31T00:00:00",
          "2019-04-30T00:00:00",
          "2019-05-31T00:00:00",
          "2019-06-30T00:00:00",
          "2019-07-31T00:00:00",
          "2019-08-31T00:00:00",
          "2019-09-30T00:00:00",
          "2019-10-31T00:00:00",
          "2019-11-30T00:00:00",
          "2019-12-31T00:00:00",
          "2020-01-31T00:00:00",
          "2020-02-29T00:00:00",
          "2020-03-31T00:00:00",
          "2020-04-30T00:00:00",
          "2020-05-31T00:00:00",
          "2020-06-30T00:00:00",
          "2020-07-31T00:00:00",
          "2020-08-31T00:00:00",
          "2020-09-30T00:00:00",
          "2020-10-31T00:00:00",
          "2020-11-30T00:00:00",
          "2020-12-31T00:00:00",
          "2021-01-31T00:00:00",
          "2021-02-28T00:00:00",
          "2021-03-31T00:00:00",
          "2021-04-30T00:00:00",
          "2021-05-31T00:00:00",
          "2021-06-30T00:00:00",
          "2021-07-31T00:00:00",
          "2021-08-31T00:00:00",
          "2021-09-30T00:00:00",
          "2021-10-31T00:00:00",
          "2021-11-30T00:00:00",
          "2021-12-31T00:00:00",
          "2022-01-31T00:00:00",
          "2022-02-28T00:00:00",
          "2022-03-31T00:00:00",
          "2022-04-30T00:00:00",
          "2022-05-31T00:00:00",
          "2022-06-30T00:00:00",
          "2022-07-31T00:00:00",
          "2022-08-31T00:00:00",
          "2022-09-30T00:00:00",
          "2022-10-31T00:00:00",
          "2022-11-30T00:00:00",
          "2022-12-31T00:00:00"
         ],
         "y": [
          496500.0,
          0.0,
          2863059.0,
          0.0,
          9374840.0,
          0.0,
          0.0,
          2.6129817E7,
          0.0,
          0.0,
          0.0,
          1.7999999999999998,
          1214456.02,
          432509.22,
          2299157.44,
          2202768.13,
          5669.5,
          455553.4,
          0.0,
          75069.2,
          0.0,
          0.0,
          700100.23,
          295744.06999999995,
          6141111.24,
          994500.0900000001,
          305716.85,
          57313.19,
          219003.7,
          4.364930953E7,
          175831.97,
          0.0,
          1118598.0,
          973943.6,
          0.25,
          7.1526598434E8,
          615409.11,
          1534878.6,
          565062.1,
          175383.93,
          4444322.45,
          6375.1,
          2020410.8900000001,
          2.694839186E7,
          4.294831405E7,
          1.17567361986E9,
          1.353600008E8,
          698307.3,
          6091831.43,
          2137461.64,
          2.685214103E7,
          3145004.81,
          1.344962018E7,
          5.782280103E7,
          5.075908393E7,
          1.878794585E7,
          1.1652556199E8,
          1.686001805E7,
          5.519687028E7,
          9.7037731625E8,
          6.74500590847E9,
          1.9640075120999998E8,
          4.908946475E7,
          1.955361588E7,
          7.622638037E7,
          1.54468752455E9,
          1.937946707E8,
          1.0864686758E8,
          8.755279473499999E8,
          1.33305116427E9,
          4.2847805379E8,
          1.2566514214E9,
          6.77675101644E9,
          7.8363393714E8,
          3.5546484593E8,
          7.7274380896E8,
          8.3812242419E8,
          3.50801836413E9,
          1.06113363623E9,
          3.3862213588E9,
          3.1412600272E8,
          6.9240188055E8,
          8.6107352517E8,
          1.33934014637E9,
          4.04859877047E9,
          8.3626077906E8,
          3.7012694423E8,
          1.05379752673E9,
          9.810521093470001E9,
          6.0763426553E8,
          9.4493015409E8,
          1.6141177838799999E9,
          1.61336142743E9,
          7.077621346E8,
          2.23780854691E9,
          1.09568148192E9,
          3.42386781077E9,
          6.353948645E8,
          6.1311713654E8,
          2.073279475E7,
          98403.0,
          0.0,
          0.0,
          0.0,
          1217796.0,
          0.0,
          0.0,
          0.0,
          25000.0
         ],
         "type": "scatter",
         "xaxis": "x",
         "yaxis": "y"
        },
        {
         "mode": "lines",
         "name": "Number of contracts",
         "x": [
          "2013-12-31T00:00:00",
          "2014-01-31T00:00:00",
          "2014-02-28T00:00:00",
          "2014-03-31T00:00:00",
          "2014-04-30T00:00:00",
          "2014-05-31T00:00:00",
          "2014-06-30T00:00:00",
          "2014-07-31T00:00:00",
          "2014-08-31T00:00:00",
          "2014-09-30T00:00:00",
          "2014-10-31T00:00:00",
          "2014-11-30T00:00:00",
          "2014-12-31T00:00:00",
          "2015-01-31T00:00:00",
          "2015-02-28T00:00:00",
          "2015-03-31T00:00:00",
          "2015-04-30T00:00:00",
          "2015-05-31T00:00:00",
          "2015-06-30T00:00:00",
          "2015-07-31T00:00:00",
          "2015-08-31T00:00:00",
          "2015-09-30T00:00:00",
          "2015-10-31T00:00:00",
          "2015-11-30T00:00:00",
          "2015-12-31T00:00:00",
          "2016-01-31T00:00:00",
          "2016-02-29T00:00:00",
          "2016-03-31T00:00:00",
          "2016-04-30T00:00:00",
          "2016-05-31T00:00:00",
          "2016-06-30T00:00:00",
          "2016-07-31T00:00:00",
          "2016-08-31T00:00:00",
          "2016-09-30T00:00:00",
          "2016-10-31T00:00:00",
          "2016-11-30T00:00:00",
          "2016-12-31T00:00:00",
          "2017-01-31T00:00:00",
          "2017-02-28T00:00:00",
          "2017-03-31T00:00:00",
          "2017-04-30T00:00:00",
          "2017-05-31T00:00:00",
          "2017-06-30T00:00:00",
          "2017-07-31T00:00:00",
          "2017-08-31T00:00:00",
          "2017-09-30T00:00:00",
          "2017-10-31T00:00:00",
          "2017-11-30T00:00:00",
          "2017-12-31T00:00:00",
          "2018-01-31T00:00:00",
          "2018-02-28T00:00:00",
          "2018-03-31T00:00:00",
          "2018-04-30T00:00:00",
          "2018-05-31T00:00:00",
          "2018-06-30T00:00:00",
          "2018-07-31T00:00:00",
          "2018-08-31T00:00:00",
          "2018-09-30T00:00:00",
          "2018-10-31T00:00:00",
          "2018-11-30T00:00:00",
          "2018-12-31T00:00:00",
          "2019-01-31T00:00:00",
          "2019-02-28T00:00:00",
          "2019-03-31T00:00:00",
          "2019-04-30T00:00:00",
          "2019-05-31T00:00:00",
          "2019-06-30T00:00:00",
          "2019-07-31T00:00:00",
          "2019-08-31T00:00:00",
          "2019-09-30T00:00:00",
          "2019-10-31T00:00:00",
          "2019-11-30T00:00:00",
          "2019-12-31T00:00:00",
          "2020-01-31T00:00:00",
          "2020-02-29T00:00:00",
          "2020-03-31T00:00:00",
          "2020-04-30T00:00:00",
          "2020-05-31T00:00:00",
          "2020-06-30T00:00:00",
          "2020-07-31T00:00:00",
          "2020-08-31T00:00:00",
          "2020-09-30T00:00:00",
          "2020-10-31T00:00:00",
          "2020-11-30T00:00:00",
          "2020-12-31T00:00:00",
          "2021-01-31T00:00:00",
          "2021-02-28T00:00:00",
          "2021-03-31T00:00:00",
          "2021-04-30T00:00:00",
          "2021-05-31T00:00:00",
          "2021-06-30T00:00:00",
          "2021-07-31T00:00:00",
          "2021-08-31T00:00:00",
          "2021-09-30T00:00:00",
          "2021-10-31T00:00:00",
          "2021-11-30T00:00:00",
          "2021-12-31T00:00:00",
          "2022-01-31T00:00:00",
          "2022-02-28T00:00:00",
          "2022-03-31T00:00:00",
          "2022-04-30T00:00:00",
          "2022-05-31T00:00:00",
          "2022-06-30T00:00:00",
          "2022-07-31T00:00:00",
          "2022-08-31T00:00:00",
          "2022-09-30T00:00:00",
          "2022-10-31T00:00:00",
          "2022-11-30T00:00:00",
          "2022-12-31T00:00:00"
         ],
         "y": [
          1,
          0,
          1,
          0,
          1,
          0,
          0,
          1,
          0,
          0,
          0,
          6,
          12,
          14,
          13,
          4,
          1,
          2,
          0,
          2,
          0,
          0,
          4,
          3,
          18,
          11,
          13,
          4,
          2,
          6,
          2,
          0,
          2,
          11,
          5,
          7,
          12,
          7,
          3,
          4,
          4,
          6,
          4,
          6,
          5,
          15,
          10,
          7,
          15,
          23,
          16,
          12,
          14,
          28,
          17,
          15,
          33,
          13,
          16,
          43,
          105,
          123,
          55,
          52,
          79,
          69,
          92,
          103,
          104,
          147,
          129,
          284,
          2035,
          1081,
          718,
          910,
          978,
          860,
          1058,
          642,
          467,
          498,
          614,
          760,
          1995,
          1019,
          686,
          1260,
          1329,
          802,
          1427,
          1015,
          920,
          977,
          694,
          920,
          2096,
          1903,
          391,
          6,
          1,
          0,
          0,
          0,
          1,
          0,
          0,
          0,
          1
         ],
         "type": "scatter",
         "xaxis": "x",
         "yaxis": "y2"
        }
       ],
       "layout": {
        "template": {
         "data": {
          "bar": [
           {
            "error_x": {
             "color": "#f2f5fa"
            },
            "error_y": {
             "color": "#f2f5fa"
            },
            "marker": {
             "line": {
              "color": "rgb(17,17,17)",
              "width": 0.5
             },
             "pattern": {
              "fillmode": "overlay",
              "size": 10,
              "solidity": 0.2
             }
            },
            "type": "bar"
           }
          ],
          "barpolar": [
           {
            "marker": {
             "line": {
              "color": "rgb(17,17,17)",
              "width": 0.5
             },
             "pattern": {
              "fillmode": "overlay",
              "size": 10,
              "solidity": 0.2
             }
            },
            "type": "barpolar"
           }
          ],
          "carpet": [
           {
            "aaxis": {
             "endlinecolor": "#A2B1C6",
             "gridcolor": "#506784",
             "linecolor": "#506784",
             "minorgridcolor": "#506784",
             "startlinecolor": "#A2B1C6"
            },
            "baxis": {
             "endlinecolor": "#A2B1C6",
             "gridcolor": "#506784",
             "linecolor": "#506784",
             "minorgridcolor": "#506784",
             "startlinecolor": "#A2B1C6"
            },
            "type": "carpet"
           }
          ],
          "choropleth": [
           {
            "colorbar": {
             "outlinewidth": 0,
             "ticks": ""
            },
            "type": "choropleth"
           }
          ],
          "contour": [
           {
            "colorbar": {
             "outlinewidth": 0,
             "ticks": ""
            },
            "colorscale": [
             [
              0.0,
              "#0d0887"
             ],
             [
              0.1111111111111111,
              "#46039f"
             ],
             [
              0.2222222222222222,
              "#7201a8"
             ],
             [
              0.3333333333333333,
              "#9c179e"
             ],
             [
              0.4444444444444444,
              "#bd3786"
             ],
             [
              0.5555555555555556,
              "#d8576b"
             ],
             [
              0.6666666666666666,
              "#ed7953"
             ],
             [
              0.7777777777777778,
              "#fb9f3a"
             ],
             [
              0.8888888888888888,
              "#fdca26"
             ],
             [
              1.0,
              "#f0f921"
             ]
            ],
            "type": "contour"
           }
          ],
          "contourcarpet": [
           {
            "colorbar": {
             "outlinewidth": 0,
             "ticks": ""
            },
            "type": "contourcarpet"
           }
          ],
          "heatmap": [
           {
            "colorbar": {
             "outlinewidth": 0,
             "ticks": ""
            },
            "colorscale": [
             [
              0.0,
              "#0d0887"
             ],
             [
              0.1111111111111111,
              "#46039f"
             ],
             [
              0.2222222222222222,
              "#7201a8"
             ],
             [
              0.3333333333333333,
              "#9c179e"
             ],
             [
              0.4444444444444444,
              "#bd3786"
             ],
             [
              0.5555555555555556,
              "#d8576b"
             ],
             [
              0.6666666666666666,
              "#ed7953"
             ],
             [
              0.7777777777777778,
              "#fb9f3a"
             ],
             [
              0.8888888888888888,
              "#fdca26"
             ],
             [
              1.0,
              "#f0f921"
             ]
            ],
            "type": "heatmap"
           }
          ],
          "heatmapgl": [
           {
            "colorbar": {
             "outlinewidth": 0,
             "ticks": ""
            },
            "colorscale": [
             [
              0.0,
              "#0d0887"
             ],
             [
              0.1111111111111111,
              "#46039f"
             ],
             [
              0.2222222222222222,
              "#7201a8"
             ],
             [
              0.3333333333333333,
              "#9c179e"
             ],
             [
              0.4444444444444444,
              "#bd3786"
             ],
             [
              0.5555555555555556,
              "#d8576b"
             ],
             [
              0.6666666666666666,
              "#ed7953"
             ],
             [
              0.7777777777777778,
              "#fb9f3a"
             ],
             [
              0.8888888888888888,
              "#fdca26"
             ],
             [
              1.0,
              "#f0f921"
             ]
            ],
            "type": "heatmapgl"
           }
          ],
          "histogram": [
           {
            "marker": {
             "pattern": {
              "fillmode": "overlay",
              "size": 10,
              "solidity": 0.2
             }
            },
            "type": "histogram"
           }
          ],
          "histogram2d": [
           {
            "colorbar": {
             "outlinewidth": 0,
             "ticks": ""
            },
            "colorscale": [
             [
              0.0,
              "#0d0887"
             ],
             [
              0.1111111111111111,
              "#46039f"
             ],
             [
              0.2222222222222222,
              "#7201a8"
             ],
             [
              0.3333333333333333,
              "#9c179e"
             ],
             [
              0.4444444444444444,
              "#bd3786"
             ],
             [
              0.5555555555555556,
              "#d8576b"
             ],
             [
              0.6666666666666666,
              "#ed7953"
             ],
             [
              0.7777777777777778,
              "#fb9f3a"
             ],
             [
              0.8888888888888888,
              "#fdca26"
             ],
             [
              1.0,
              "#f0f921"
             ]
            ],
            "type": "histogram2d"
           }
          ],
          "histogram2dcontour": [
           {
            "colorbar": {
             "outlinewidth": 0,
             "ticks": ""
            },
            "colorscale": [
             [
              0.0,
              "#0d0887"
             ],
             [
              0.1111111111111111,
              "#46039f"
             ],
             [
              0.2222222222222222,
              "#7201a8"
             ],
             [
              0.3333333333333333,
              "#9c179e"
             ],
             [
              0.4444444444444444,
              "#bd3786"
             ],
             [
              0.5555555555555556,
              "#d8576b"
             ],
             [
              0.6666666666666666,
              "#ed7953"
             ],
             [
              0.7777777777777778,
              "#fb9f3a"
             ],
             [
              0.8888888888888888,
              "#fdca26"
             ],
             [
              1.0,
              "#f0f921"
             ]
            ],
            "type": "histogram2dcontour"
           }
          ],
          "mesh3d": [
           {
            "colorbar": {
             "outlinewidth": 0,
             "ticks": ""
            },
            "type": "mesh3d"
           }
          ],
          "parcoords": [
           {
            "line": {
             "colorbar": {
              "outlinewidth": 0,
              "ticks": ""
             }
            },
            "type": "parcoords"
           }
          ],
          "pie": [
           {
            "automargin": true,
            "type": "pie"
           }
          ],
          "scatter": [
           {
            "marker": {
             "line": {
              "color": "#283442"
             }
            },
            "type": "scatter"
           }
          ],
          "scatter3d": [
           {
            "line": {
             "colorbar": {
              "outlinewidth": 0,
              "ticks": ""
             }
            },
            "marker": {
             "colorbar": {
              "outlinewidth": 0,
              "ticks": ""
             }
            },
            "type": "scatter3d"
           }
          ],
          "scattercarpet": [
           {
            "marker": {
             "colorbar": {
              "outlinewidth": 0,
              "ticks": ""
             }
            },
            "type": "scattercarpet"
           }
          ],
          "scattergeo": [
           {
            "marker": {
             "colorbar": {
              "outlinewidth": 0,
              "ticks": ""
             }
            },
            "type": "scattergeo"
           }
          ],
          "scattergl": [
           {
            "marker": {
             "line": {
              "color": "#283442"
             }
            },
            "type": "scattergl"
           }
          ],
          "scattermapbox": [
           {
            "marker": {
             "colorbar": {
              "outlinewidth": 0,
              "ticks": ""
             }
            },
            "type": "scattermapbox"
           }
          ],
          "scatterpolar": [
           {
            "marker": {
             "colorbar": {
              "outlinewidth": 0,
              "ticks": ""
             }
            },
            "type": "scatterpolar"
           }
          ],
          "scatterpolargl": [
           {
            "marker": {
             "colorbar": {
              "outlinewidth": 0,
              "ticks": ""
             }
            },
            "type": "scatterpolargl"
           }
          ],
          "scatterternary": [
           {
            "marker": {
             "colorbar": {
              "outlinewidth": 0,
              "ticks": ""
             }
            },
            "type": "scatterternary"
           }
          ],
          "surface": [
           {
            "colorbar": {
             "outlinewidth": 0,
             "ticks": ""
            },
            "colorscale": [
             [
              0.0,
              "#0d0887"
             ],
             [
              0.1111111111111111,
              "#46039f"
             ],
             [
              0.2222222222222222,
              "#7201a8"
             ],
             [
              0.3333333333333333,
              "#9c179e"
             ],
             [
              0.4444444444444444,
              "#bd3786"
             ],
             [
              0.5555555555555556,
              "#d8576b"
             ],
             [
              0.6666666666666666,
              "#ed7953"
             ],
             [
              0.7777777777777778,
              "#fb9f3a"
             ],
             [
              0.8888888888888888,
              "#fdca26"
             ],
             [
              1.0,
              "#f0f921"
             ]
            ],
            "type": "surface"
           }
          ],
          "table": [
           {
            "cells": {
             "fill": {
              "color": "#506784"
             },
             "line": {
              "color": "rgb(17,17,17)"
             }
            },
            "header": {
             "fill": {
              "color": "#2a3f5f"
             },
             "line": {
              "color": "rgb(17,17,17)"
             }
            },
            "type": "table"
           }
          ]
         },
         "layout": {
          "annotationdefaults": {
           "arrowcolor": "#f2f5fa",
           "arrowhead": 0,
           "arrowwidth": 1
          },
          "autotypenumbers": "strict",
          "coloraxis": {
           "colorbar": {
            "outlinewidth": 0,
            "ticks": ""
           }
          },
          "colorscale": {
           "diverging": [
            [
             0,
             "#8e0152"
            ],
            [
             0.1,
             "#c51b7d"
            ],
            [
             0.2,
             "#de77ae"
            ],
            [
             0.3,
             "#f1b6da"
            ],
            [
             0.4,
             "#fde0ef"
            ],
            [
             0.5,
             "#f7f7f7"
            ],
            [
             0.6,
             "#e6f5d0"
            ],
            [
             0.7,
             "#b8e186"
            ],
            [
             0.8,
             "#7fbc41"
            ],
            [
             0.9,
             "#4d9221"
            ],
            [
             1,
             "#276419"
            ]
           ],
           "sequential": [
            [
             0.0,
             "#0d0887"
            ],
            [
             0.1111111111111111,
             "#46039f"
            ],
            [
             0.2222222222222222,
             "#7201a8"
            ],
            [
             0.3333333333333333,
             "#9c179e"
            ],
            [
             0.4444444444444444,
             "#bd3786"
            ],
            [
             0.5555555555555556,
             "#d8576b"
            ],
            [
             0.6666666666666666,
             "#ed7953"
            ],
            [
             0.7777777777777778,
             "#fb9f3a"
            ],
            [
             0.8888888888888888,
             "#fdca26"
            ],
            [
             1.0,
             "#f0f921"
            ]
           ],
           "sequentialminus": [
            [
             0.0,
             "#0d0887"
            ],
            [
             0.1111111111111111,
             "#46039f"
            ],
            [
             0.2222222222222222,
             "#7201a8"
            ],
            [
             0.3333333333333333,
             "#9c179e"
            ],
            [
             0.4444444444444444,
             "#bd3786"
            ],
            [
             0.5555555555555556,
             "#d8576b"
            ],
            [
             0.6666666666666666,
             "#ed7953"
            ],
            [
             0.7777777777777778,
             "#fb9f3a"
            ],
            [
             0.8888888888888888,
             "#fdca26"
            ],
            [
             1.0,
             "#f0f921"
            ]
           ]
          },
          "colorway": [
           "#636efa",
           "#EF553B",
           "#00cc96",
           "#ab63fa",
           "#FFA15A",
           "#19d3f3",
           "#FF6692",
           "#B6E880",
           "#FF97FF",
           "#FECB52"
          ],
          "font": {
           "color": "#f2f5fa"
          },
          "geo": {
           "bgcolor": "rgb(17,17,17)",
           "lakecolor": "rgb(17,17,17)",
           "landcolor": "rgb(17,17,17)",
           "showlakes": true,
           "showland": true,
           "subunitcolor": "#506784"
          },
          "hoverlabel": {
           "align": "left"
          },
          "hovermode": "closest",
          "mapbox": {
           "style": "dark"
          },
          "paper_bgcolor": "rgb(17,17,17)",
          "plot_bgcolor": "rgb(17,17,17)",
          "polar": {
           "angularaxis": {
            "gridcolor": "#506784",
            "linecolor": "#506784",
            "ticks": ""
           },
           "bgcolor": "rgb(17,17,17)",
           "radialaxis": {
            "gridcolor": "#506784",
            "linecolor": "#506784",
            "ticks": ""
           }
          },
          "scene": {
           "xaxis": {
            "backgroundcolor": "rgb(17,17,17)",
            "gridcolor": "#506784",
            "gridwidth": 2,
            "linecolor": "#506784",
            "showbackground": true,
            "ticks": "",
            "zerolinecolor": "#C8D4E3"
           },
           "yaxis": {
            "backgroundcolor": "rgb(17,17,17)",
            "gridcolor": "#506784",
            "gridwidth": 2,
            "linecolor": "#506784",
            "showbackground": true,
            "ticks": "",
            "zerolinecolor": "#C8D4E3"
           },
           "zaxis": {
            "backgroundcolor": "rgb(17,17,17)",
            "gridcolor": "#506784",
            "gridwidth": 2,
            "linecolor": "#506784",
            "showbackground": true,
            "ticks": "",
            "zerolinecolor": "#C8D4E3"
           }
          },
          "shapedefaults": {
           "line": {
            "color": "#f2f5fa"
           }
          },
          "sliderdefaults": {
           "bgcolor": "#C8D4E3",
           "bordercolor": "rgb(17,17,17)",
           "borderwidth": 1,
           "tickwidth": 0
          },
          "ternary": {
           "aaxis": {
            "gridcolor": "#506784",
            "linecolor": "#506784",
            "ticks": ""
           },
           "baxis": {
            "gridcolor": "#506784",
            "linecolor": "#506784",
            "ticks": ""
           },
           "bgcolor": "rgb(17,17,17)",
           "caxis": {
            "gridcolor": "#506784",
            "linecolor": "#506784",
            "ticks": ""
           }
          },
          "title": {
           "x": 0.05
          },
          "updatemenudefaults": {
           "bgcolor": "#506784",
           "borderwidth": 0
          },
          "xaxis": {
           "automargin": true,
           "gridcolor": "#283442",
           "linecolor": "#506784",
           "ticks": "",
           "title": {
            "standoff": 15
           },
           "zerolinecolor": "#283442",
           "zerolinewidth": 2
          },
          "yaxis": {
           "automargin": true,
           "gridcolor": "#283442",
           "linecolor": "#506784",
           "ticks": "",
           "title": {
            "standoff": 15
           },
           "zerolinecolor": "#283442",
           "zerolinewidth": 2
          }
         }
        },
        "xaxis": {
         "anchor": "y",
         "domain": [
          0.0,
          0.94
         ],
         "range": [
          "2013-12-31",
          "2022-12-31"
         ],
         "title": {
          "text": "Date"
         },
         "rangeslider": {
          "visible": true
         }
        },
        "yaxis": {
         "anchor": "x",
         "domain": [
          0.0,
          1.0
         ],
         "title": {
          "text": "Amount"
         }
        },
        "yaxis2": {
         "anchor": "x",
         "overlaying": "y",
         "side": "right",
         "title": {
          "text": "Count"
         }
        },
        "title": {
         "text": "Amount|count "
        }
       },
       "config": {
        "plotlyServerURL": "https://plot.ly"
       }
      },
      "text/html": "<div>                            <div id=\"ad5db46f-2f70-4a08-9879-f91d0458c97e\" class=\"plotly-graph-div\" style=\"height:525px; width:100%;\"></div>            <script type=\"text/javascript\">                require([\"plotly\"], function(Plotly) {                    window.PLOTLYENV=window.PLOTLYENV || {};                                    if (document.getElementById(\"ad5db46f-2f70-4a08-9879-f91d0458c97e\")) {                    Plotly.newPlot(                        \"ad5db46f-2f70-4a08-9879-f91d0458c97e\",                        [{\"mode\":\"lines\",\"name\":\"Amount of guarantees\",\"x\":[\"2013-12-31T00:00:00\",\"2014-01-31T00:00:00\",\"2014-02-28T00:00:00\",\"2014-03-31T00:00:00\",\"2014-04-30T00:00:00\",\"2014-05-31T00:00:00\",\"2014-06-30T00:00:00\",\"2014-07-31T00:00:00\",\"2014-08-31T00:00:00\",\"2014-09-30T00:00:00\",\"2014-10-31T00:00:00\",\"2014-11-30T00:00:00\",\"2014-12-31T00:00:00\",\"2015-01-31T00:00:00\",\"2015-02-28T00:00:00\",\"2015-03-31T00:00:00\",\"2015-04-30T00:00:00\",\"2015-05-31T00:00:00\",\"2015-06-30T00:00:00\",\"2015-07-31T00:00:00\",\"2015-08-31T00:00:00\",\"2015-09-30T00:00:00\",\"2015-10-31T00:00:00\",\"2015-11-30T00:00:00\",\"2015-12-31T00:00:00\",\"2016-01-31T00:00:00\",\"2016-02-29T00:00:00\",\"2016-03-31T00:00:00\",\"2016-04-30T00:00:00\",\"2016-05-31T00:00:00\",\"2016-06-30T00:00:00\",\"2016-07-31T00:00:00\",\"2016-08-31T00:00:00\",\"2016-09-30T00:00:00\",\"2016-10-31T00:00:00\",\"2016-11-30T00:00:00\",\"2016-12-31T00:00:00\",\"2017-01-31T00:00:00\",\"2017-02-28T00:00:00\",\"2017-03-31T00:00:00\",\"2017-04-30T00:00:00\",\"2017-05-31T00:00:00\",\"2017-06-30T00:00:00\",\"2017-07-31T00:00:00\",\"2017-08-31T00:00:00\",\"2017-09-30T00:00:00\",\"2017-10-31T00:00:00\",\"2017-11-30T00:00:00\",\"2017-12-31T00:00:00\",\"2018-01-31T00:00:00\",\"2018-02-28T00:00:00\",\"2018-03-31T00:00:00\",\"2018-04-30T00:00:00\",\"2018-05-31T00:00:00\",\"2018-06-30T00:00:00\",\"2018-07-31T00:00:00\",\"2018-08-31T00:00:00\",\"2018-09-30T00:00:00\",\"2018-10-31T00:00:00\",\"2018-11-30T00:00:00\",\"2018-12-31T00:00:00\",\"2019-01-31T00:00:00\",\"2019-02-28T00:00:00\",\"2019-03-31T00:00:00\",\"2019-04-30T00:00:00\",\"2019-05-31T00:00:00\",\"2019-06-30T00:00:00\",\"2019-07-31T00:00:00\",\"2019-08-31T00:00:00\",\"2019-09-30T00:00:00\",\"2019-10-31T00:00:00\",\"2019-11-30T00:00:00\",\"2019-12-31T00:00:00\",\"2020-01-31T00:00:00\",\"2020-02-29T00:00:00\",\"2020-03-31T00:00:00\",\"2020-04-30T00:00:00\",\"2020-05-31T00:00:00\",\"2020-06-30T00:00:00\",\"2020-07-31T00:00:00\",\"2020-08-31T00:00:00\",\"2020-09-30T00:00:00\",\"2020-10-31T00:00:00\",\"2020-11-30T00:00:00\",\"2020-12-31T00:00:00\",\"2021-01-31T00:00:00\",\"2021-02-28T00:00:00\",\"2021-03-31T00:00:00\",\"2021-04-30T00:00:00\",\"2021-05-31T00:00:00\",\"2021-06-30T00:00:00\",\"2021-07-31T00:00:00\",\"2021-08-31T00:00:00\",\"2021-09-30T00:00:00\",\"2021-10-31T00:00:00\",\"2021-11-30T00:00:00\",\"2021-12-31T00:00:00\",\"2022-01-31T00:00:00\",\"2022-02-28T00:00:00\",\"2022-03-31T00:00:00\",\"2022-04-30T00:00:00\",\"2022-05-31T00:00:00\",\"2022-06-30T00:00:00\",\"2022-07-31T00:00:00\",\"2022-08-31T00:00:00\",\"2022-09-30T00:00:00\",\"2022-10-31T00:00:00\",\"2022-11-30T00:00:00\",\"2022-12-31T00:00:00\"],\"y\":[496500.0,0.0,2863059.0,0.0,9374840.0,0.0,0.0,26129817.0,0.0,0.0,0.0,1.7999999999999998,1214456.02,432509.22,2299157.44,2202768.13,5669.5,455553.4,0.0,75069.2,0.0,0.0,700100.23,295744.06999999995,6141111.24,994500.0900000001,305716.85,57313.19,219003.7,43649309.53,175831.97,0.0,1118598.0,973943.6,0.25,715265984.34,615409.11,1534878.6,565062.1,175383.93,4444322.45,6375.1,2020410.8900000001,26948391.86,42948314.05,1175673619.86,135360000.8,698307.3,6091831.43,2137461.64,26852141.03,3145004.81,13449620.18,57822801.03,50759083.93,18787945.85,116525561.99,16860018.05,55196870.28,970377316.25,6745005908.47,196400751.20999998,49089464.75,19553615.88,76226380.37,1544687524.55,193794670.7,108646867.58,875527947.3499999,1333051164.27,428478053.79,1256651421.4,6776751016.44,783633937.14,355464845.93,772743808.96,838122424.19,3508018364.13,1061133636.23,3386221358.8,314126002.72,692401880.55,861073525.17,1339340146.37,4048598770.47,836260779.06,370126944.23,1053797526.73,9810521093.470001,607634265.53,944930154.09,1614117783.8799999,1613361427.43,707762134.6,2237808546.91,1095681481.92,3423867810.77,635394864.5,613117136.54,20732794.75,98403.0,0.0,0.0,0.0,1217796.0,0.0,0.0,0.0,25000.0],\"type\":\"scatter\",\"xaxis\":\"x\",\"yaxis\":\"y\"},{\"mode\":\"lines\",\"name\":\"Number of contracts\",\"x\":[\"2013-12-31T00:00:00\",\"2014-01-31T00:00:00\",\"2014-02-28T00:00:00\",\"2014-03-31T00:00:00\",\"2014-04-30T00:00:00\",\"2014-05-31T00:00:00\",\"2014-06-30T00:00:00\",\"2014-07-31T00:00:00\",\"2014-08-31T00:00:00\",\"2014-09-30T00:00:00\",\"2014-10-31T00:00:00\",\"2014-11-30T00:00:00\",\"2014-12-31T00:00:00\",\"2015-01-31T00:00:00\",\"2015-02-28T00:00:00\",\"2015-03-31T00:00:00\",\"2015-04-30T00:00:00\",\"2015-05-31T00:00:00\",\"2015-06-30T00:00:00\",\"2015-07-31T00:00:00\",\"2015-08-31T00:00:00\",\"2015-09-30T00:00:00\",\"2015-10-31T00:00:00\",\"2015-11-30T00:00:00\",\"2015-12-31T00:00:00\",\"2016-01-31T00:00:00\",\"2016-02-29T00:00:00\",\"2016-03-31T00:00:00\",\"2016-04-30T00:00:00\",\"2016-05-31T00:00:00\",\"2016-06-30T00:00:00\",\"2016-07-31T00:00:00\",\"2016-08-31T00:00:00\",\"2016-09-30T00:00:00\",\"2016-10-31T00:00:00\",\"2016-11-30T00:00:00\",\"2016-12-31T00:00:00\",\"2017-01-31T00:00:00\",\"2017-02-28T00:00:00\",\"2017-03-31T00:00:00\",\"2017-04-30T00:00:00\",\"2017-05-31T00:00:00\",\"2017-06-30T00:00:00\",\"2017-07-31T00:00:00\",\"2017-08-31T00:00:00\",\"2017-09-30T00:00:00\",\"2017-10-31T00:00:00\",\"2017-11-30T00:00:00\",\"2017-12-31T00:00:00\",\"2018-01-31T00:00:00\",\"2018-02-28T00:00:00\",\"2018-03-31T00:00:00\",\"2018-04-30T00:00:00\",\"2018-05-31T00:00:00\",\"2018-06-30T00:00:00\",\"2018-07-31T00:00:00\",\"2018-08-31T00:00:00\",\"2018-09-30T00:00:00\",\"2018-10-31T00:00:00\",\"2018-11-30T00:00:00\",\"2018-12-31T00:00:00\",\"2019-01-31T00:00:00\",\"2019-02-28T00:00:00\",\"2019-03-31T00:00:00\",\"2019-04-30T00:00:00\",\"2019-05-31T00:00:00\",\"2019-06-30T00:00:00\",\"2019-07-31T00:00:00\",\"2019-08-31T00:00:00\",\"2019-09-30T00:00:00\",\"2019-10-31T00:00:00\",\"2019-11-30T00:00:00\",\"2019-12-31T00:00:00\",\"2020-01-31T00:00:00\",\"2020-02-29T00:00:00\",\"2020-03-31T00:00:00\",\"2020-04-30T00:00:00\",\"2020-05-31T00:00:00\",\"2020-06-30T00:00:00\",\"2020-07-31T00:00:00\",\"2020-08-31T00:00:00\",\"2020-09-30T00:00:00\",\"2020-10-31T00:00:00\",\"2020-11-30T00:00:00\",\"2020-12-31T00:00:00\",\"2021-01-31T00:00:00\",\"2021-02-28T00:00:00\",\"2021-03-31T00:00:00\",\"2021-04-30T00:00:00\",\"2021-05-31T00:00:00\",\"2021-06-30T00:00:00\",\"2021-07-31T00:00:00\",\"2021-08-31T00:00:00\",\"2021-09-30T00:00:00\",\"2021-10-31T00:00:00\",\"2021-11-30T00:00:00\",\"2021-12-31T00:00:00\",\"2022-01-31T00:00:00\",\"2022-02-28T00:00:00\",\"2022-03-31T00:00:00\",\"2022-04-30T00:00:00\",\"2022-05-31T00:00:00\",\"2022-06-30T00:00:00\",\"2022-07-31T00:00:00\",\"2022-08-31T00:00:00\",\"2022-09-30T00:00:00\",\"2022-10-31T00:00:00\",\"2022-11-30T00:00:00\",\"2022-12-31T00:00:00\"],\"y\":[1,0,1,0,1,0,0,1,0,0,0,6,12,14,13,4,1,2,0,2,0,0,4,3,18,11,13,4,2,6,2,0,2,11,5,7,12,7,3,4,4,6,4,6,5,15,10,7,15,23,16,12,14,28,17,15,33,13,16,43,105,123,55,52,79,69,92,103,104,147,129,284,2035,1081,718,910,978,860,1058,642,467,498,614,760,1995,1019,686,1260,1329,802,1427,1015,920,977,694,920,2096,1903,391,6,1,0,0,0,1,0,0,0,1],\"type\":\"scatter\",\"xaxis\":\"x\",\"yaxis\":\"y2\"}],                        {\"template\":{\"data\":{\"bar\":[{\"error_x\":{\"color\":\"#f2f5fa\"},\"error_y\":{\"color\":\"#f2f5fa\"},\"marker\":{\"line\":{\"color\":\"rgb(17,17,17)\",\"width\":0.5},\"pattern\":{\"fillmode\":\"overlay\",\"size\":10,\"solidity\":0.2}},\"type\":\"bar\"}],\"barpolar\":[{\"marker\":{\"line\":{\"color\":\"rgb(17,17,17)\",\"width\":0.5},\"pattern\":{\"fillmode\":\"overlay\",\"size\":10,\"solidity\":0.2}},\"type\":\"barpolar\"}],\"carpet\":[{\"aaxis\":{\"endlinecolor\":\"#A2B1C6\",\"gridcolor\":\"#506784\",\"linecolor\":\"#506784\",\"minorgridcolor\":\"#506784\",\"startlinecolor\":\"#A2B1C6\"},\"baxis\":{\"endlinecolor\":\"#A2B1C6\",\"gridcolor\":\"#506784\",\"linecolor\":\"#506784\",\"minorgridcolor\":\"#506784\",\"startlinecolor\":\"#A2B1C6\"},\"type\":\"carpet\"}],\"choropleth\":[{\"colorbar\":{\"outlinewidth\":0,\"ticks\":\"\"},\"type\":\"choropleth\"}],\"contour\":[{\"colorbar\":{\"outlinewidth\":0,\"ticks\":\"\"},\"colorscale\":[[0.0,\"#0d0887\"],[0.1111111111111111,\"#46039f\"],[0.2222222222222222,\"#7201a8\"],[0.3333333333333333,\"#9c179e\"],[0.4444444444444444,\"#bd3786\"],[0.5555555555555556,\"#d8576b\"],[0.6666666666666666,\"#ed7953\"],[0.7777777777777778,\"#fb9f3a\"],[0.8888888888888888,\"#fdca26\"],[1.0,\"#f0f921\"]],\"type\":\"contour\"}],\"contourcarpet\":[{\"colorbar\":{\"outlinewidth\":0,\"ticks\":\"\"},\"type\":\"contourcarpet\"}],\"heatmap\":[{\"colorbar\":{\"outlinewidth\":0,\"ticks\":\"\"},\"colorscale\":[[0.0,\"#0d0887\"],[0.1111111111111111,\"#46039f\"],[0.2222222222222222,\"#7201a8\"],[0.3333333333333333,\"#9c179e\"],[0.4444444444444444,\"#bd3786\"],[0.5555555555555556,\"#d8576b\"],[0.6666666666666666,\"#ed7953\"],[0.7777777777777778,\"#fb9f3a\"],[0.8888888888888888,\"#fdca26\"],[1.0,\"#f0f921\"]],\"type\":\"heatmap\"}],\"heatmapgl\":[{\"colorbar\":{\"outlinewidth\":0,\"ticks\":\"\"},\"colorscale\":[[0.0,\"#0d0887\"],[0.1111111111111111,\"#46039f\"],[0.2222222222222222,\"#7201a8\"],[0.3333333333333333,\"#9c179e\"],[0.4444444444444444,\"#bd3786\"],[0.5555555555555556,\"#d8576b\"],[0.6666666666666666,\"#ed7953\"],[0.7777777777777778,\"#fb9f3a\"],[0.8888888888888888,\"#fdca26\"],[1.0,\"#f0f921\"]],\"type\":\"heatmapgl\"}],\"histogram\":[{\"marker\":{\"pattern\":{\"fillmode\":\"overlay\",\"size\":10,\"solidity\":0.2}},\"type\":\"histogram\"}],\"histogram2d\":[{\"colorbar\":{\"outlinewidth\":0,\"ticks\":\"\"},\"colorscale\":[[0.0,\"#0d0887\"],[0.1111111111111111,\"#46039f\"],[0.2222222222222222,\"#7201a8\"],[0.3333333333333333,\"#9c179e\"],[0.4444444444444444,\"#bd3786\"],[0.5555555555555556,\"#d8576b\"],[0.6666666666666666,\"#ed7953\"],[0.7777777777777778,\"#fb9f3a\"],[0.8888888888888888,\"#fdca26\"],[1.0,\"#f0f921\"]],\"type\":\"histogram2d\"}],\"histogram2dcontour\":[{\"colorbar\":{\"outlinewidth\":0,\"ticks\":\"\"},\"colorscale\":[[0.0,\"#0d0887\"],[0.1111111111111111,\"#46039f\"],[0.2222222222222222,\"#7201a8\"],[0.3333333333333333,\"#9c179e\"],[0.4444444444444444,\"#bd3786\"],[0.5555555555555556,\"#d8576b\"],[0.6666666666666666,\"#ed7953\"],[0.7777777777777778,\"#fb9f3a\"],[0.8888888888888888,\"#fdca26\"],[1.0,\"#f0f921\"]],\"type\":\"histogram2dcontour\"}],\"mesh3d\":[{\"colorbar\":{\"outlinewidth\":0,\"ticks\":\"\"},\"type\":\"mesh3d\"}],\"parcoords\":[{\"line\":{\"colorbar\":{\"outlinewidth\":0,\"ticks\":\"\"}},\"type\":\"parcoords\"}],\"pie\":[{\"automargin\":true,\"type\":\"pie\"}],\"scatter\":[{\"marker\":{\"line\":{\"color\":\"#283442\"}},\"type\":\"scatter\"}],\"scatter3d\":[{\"line\":{\"colorbar\":{\"outlinewidth\":0,\"ticks\":\"\"}},\"marker\":{\"colorbar\":{\"outlinewidth\":0,\"ticks\":\"\"}},\"type\":\"scatter3d\"}],\"scattercarpet\":[{\"marker\":{\"colorbar\":{\"outlinewidth\":0,\"ticks\":\"\"}},\"type\":\"scattercarpet\"}],\"scattergeo\":[{\"marker\":{\"colorbar\":{\"outlinewidth\":0,\"ticks\":\"\"}},\"type\":\"scattergeo\"}],\"scattergl\":[{\"marker\":{\"line\":{\"color\":\"#283442\"}},\"type\":\"scattergl\"}],\"scattermapbox\":[{\"marker\":{\"colorbar\":{\"outlinewidth\":0,\"ticks\":\"\"}},\"type\":\"scattermapbox\"}],\"scatterpolar\":[{\"marker\":{\"colorbar\":{\"outlinewidth\":0,\"ticks\":\"\"}},\"type\":\"scatterpolar\"}],\"scatterpolargl\":[{\"marker\":{\"colorbar\":{\"outlinewidth\":0,\"ticks\":\"\"}},\"type\":\"scatterpolargl\"}],\"scatterternary\":[{\"marker\":{\"colorbar\":{\"outlinewidth\":0,\"ticks\":\"\"}},\"type\":\"scatterternary\"}],\"surface\":[{\"colorbar\":{\"outlinewidth\":0,\"ticks\":\"\"},\"colorscale\":[[0.0,\"#0d0887\"],[0.1111111111111111,\"#46039f\"],[0.2222222222222222,\"#7201a8\"],[0.3333333333333333,\"#9c179e\"],[0.4444444444444444,\"#bd3786\"],[0.5555555555555556,\"#d8576b\"],[0.6666666666666666,\"#ed7953\"],[0.7777777777777778,\"#fb9f3a\"],[0.8888888888888888,\"#fdca26\"],[1.0,\"#f0f921\"]],\"type\":\"surface\"}],\"table\":[{\"cells\":{\"fill\":{\"color\":\"#506784\"},\"line\":{\"color\":\"rgb(17,17,17)\"}},\"header\":{\"fill\":{\"color\":\"#2a3f5f\"},\"line\":{\"color\":\"rgb(17,17,17)\"}},\"type\":\"table\"}]},\"layout\":{\"annotationdefaults\":{\"arrowcolor\":\"#f2f5fa\",\"arrowhead\":0,\"arrowwidth\":1},\"autotypenumbers\":\"strict\",\"coloraxis\":{\"colorbar\":{\"outlinewidth\":0,\"ticks\":\"\"}},\"colorscale\":{\"diverging\":[[0,\"#8e0152\"],[0.1,\"#c51b7d\"],[0.2,\"#de77ae\"],[0.3,\"#f1b6da\"],[0.4,\"#fde0ef\"],[0.5,\"#f7f7f7\"],[0.6,\"#e6f5d0\"],[0.7,\"#b8e186\"],[0.8,\"#7fbc41\"],[0.9,\"#4d9221\"],[1,\"#276419\"]],\"sequential\":[[0.0,\"#0d0887\"],[0.1111111111111111,\"#46039f\"],[0.2222222222222222,\"#7201a8\"],[0.3333333333333333,\"#9c179e\"],[0.4444444444444444,\"#bd3786\"],[0.5555555555555556,\"#d8576b\"],[0.6666666666666666,\"#ed7953\"],[0.7777777777777778,\"#fb9f3a\"],[0.8888888888888888,\"#fdca26\"],[1.0,\"#f0f921\"]],\"sequentialminus\":[[0.0,\"#0d0887\"],[0.1111111111111111,\"#46039f\"],[0.2222222222222222,\"#7201a8\"],[0.3333333333333333,\"#9c179e\"],[0.4444444444444444,\"#bd3786\"],[0.5555555555555556,\"#d8576b\"],[0.6666666666666666,\"#ed7953\"],[0.7777777777777778,\"#fb9f3a\"],[0.8888888888888888,\"#fdca26\"],[1.0,\"#f0f921\"]]},\"colorway\":[\"#636efa\",\"#EF553B\",\"#00cc96\",\"#ab63fa\",\"#FFA15A\",\"#19d3f3\",\"#FF6692\",\"#B6E880\",\"#FF97FF\",\"#FECB52\"],\"font\":{\"color\":\"#f2f5fa\"},\"geo\":{\"bgcolor\":\"rgb(17,17,17)\",\"lakecolor\":\"rgb(17,17,17)\",\"landcolor\":\"rgb(17,17,17)\",\"showlakes\":true,\"showland\":true,\"subunitcolor\":\"#506784\"},\"hoverlabel\":{\"align\":\"left\"},\"hovermode\":\"closest\",\"mapbox\":{\"style\":\"dark\"},\"paper_bgcolor\":\"rgb(17,17,17)\",\"plot_bgcolor\":\"rgb(17,17,17)\",\"polar\":{\"angularaxis\":{\"gridcolor\":\"#506784\",\"linecolor\":\"#506784\",\"ticks\":\"\"},\"bgcolor\":\"rgb(17,17,17)\",\"radialaxis\":{\"gridcolor\":\"#506784\",\"linecolor\":\"#506784\",\"ticks\":\"\"}},\"scene\":{\"xaxis\":{\"backgroundcolor\":\"rgb(17,17,17)\",\"gridcolor\":\"#506784\",\"gridwidth\":2,\"linecolor\":\"#506784\",\"showbackground\":true,\"ticks\":\"\",\"zerolinecolor\":\"#C8D4E3\"},\"yaxis\":{\"backgroundcolor\":\"rgb(17,17,17)\",\"gridcolor\":\"#506784\",\"gridwidth\":2,\"linecolor\":\"#506784\",\"showbackground\":true,\"ticks\":\"\",\"zerolinecolor\":\"#C8D4E3\"},\"zaxis\":{\"backgroundcolor\":\"rgb(17,17,17)\",\"gridcolor\":\"#506784\",\"gridwidth\":2,\"linecolor\":\"#506784\",\"showbackground\":true,\"ticks\":\"\",\"zerolinecolor\":\"#C8D4E3\"}},\"shapedefaults\":{\"line\":{\"color\":\"#f2f5fa\"}},\"sliderdefaults\":{\"bgcolor\":\"#C8D4E3\",\"bordercolor\":\"rgb(17,17,17)\",\"borderwidth\":1,\"tickwidth\":0},\"ternary\":{\"aaxis\":{\"gridcolor\":\"#506784\",\"linecolor\":\"#506784\",\"ticks\":\"\"},\"baxis\":{\"gridcolor\":\"#506784\",\"linecolor\":\"#506784\",\"ticks\":\"\"},\"bgcolor\":\"rgb(17,17,17)\",\"caxis\":{\"gridcolor\":\"#506784\",\"linecolor\":\"#506784\",\"ticks\":\"\"}},\"title\":{\"x\":0.05},\"updatemenudefaults\":{\"bgcolor\":\"#506784\",\"borderwidth\":0},\"xaxis\":{\"automargin\":true,\"gridcolor\":\"#283442\",\"linecolor\":\"#506784\",\"ticks\":\"\",\"title\":{\"standoff\":15},\"zerolinecolor\":\"#283442\",\"zerolinewidth\":2},\"yaxis\":{\"automargin\":true,\"gridcolor\":\"#283442\",\"linecolor\":\"#506784\",\"ticks\":\"\",\"title\":{\"standoff\":15},\"zerolinecolor\":\"#283442\",\"zerolinewidth\":2}}},\"xaxis\":{\"anchor\":\"y\",\"domain\":[0.0,0.94],\"range\":[\"2013-12-31\",\"2022-12-31\"],\"title\":{\"text\":\"Date\"},\"rangeslider\":{\"visible\":true}},\"yaxis\":{\"anchor\":\"x\",\"domain\":[0.0,1.0],\"title\":{\"text\":\"Amount\"}},\"yaxis2\":{\"anchor\":\"x\",\"overlaying\":\"y\",\"side\":\"right\",\"title\":{\"text\":\"Count\"}},\"title\":{\"text\":\"Amount|count \"}},                        {\"responsive\": true}                    ).then(function(){\n                            \nvar gd = document.getElementById('ad5db46f-2f70-4a08-9879-f91d0458c97e');\nvar x = new MutationObserver(function (mutations, observer) {{\n        var display = window.getComputedStyle(gd).display;\n        if (!display || display === 'none') {{\n            console.log([gd, 'removed!']);\n            Plotly.purge(gd);\n            observer.disconnect();\n        }}\n}});\n\n// Listen for the removal of the full notebook cells\nvar notebookContainer = gd.closest('#notebook-container');\nif (notebookContainer) {{\n    x.observe(notebookContainer, {childList: true});\n}}\n\n// Listen for the clearing of the current output cell\nvar outputEl = gd.closest('.output');\nif (outputEl) {{\n    x.observe(outputEl, {childList: true});\n}}\n\n                        })                };                });            </script>        </div>"
     },
     "metadata": {},
     "output_type": "display_data"
    }
   ],
   "source": [
    "fig = make_subplots(specs=[[{'secondary_y': True}]])\n",
    "fig.add_trace(go.Scatter(x = dt.index, y = dt['amount'],name='Amount of guarantees', mode = 'lines'),\n",
    "            secondary_y=False)\n",
    "fig.add_trace(go.Scatter(x = n.index, y = n['count'],name='Number of contracts', mode='lines'),\n",
    "              secondary_y=True)\n",
    "fig.update_layout(title_text = 'Amount|count ',xaxis_range = ['2013-12-31', '2022-12-31'])\n",
    "fig.update_xaxes(title_text = 'Date', rangeslider_visible=True)\n",
    "fig.update_yaxes(title_text = 'Amount', secondary_y=False)\n",
    "fig.update_yaxes(title_text = 'Count', secondary_y=True)\n",
    "\n",
    "fig.show()"
   ],
   "metadata": {
    "collapsed": false
   }
  },
  {
   "cell_type": "code",
   "execution_count": 128,
   "outputs": [
    {
     "data": {
      "text/plain": "<Figure size 432x288 with 1 Axes>",
      "image/png": "[encoded data removed]"
     },
     "metadata": {},
     "output_type": "display_data"
    }
   ],
   "source": [
    "xs = dtn['count']\n",
    "ys = dtn['amount']\n",
    "pd.DataFrame(np.array([xs,ys]).T).plot.scatter(0, 1, s=12, grid=True)\n",
    "plt.xlabel('Кол-во')\n",
    "plt.ylabel('Сумма')\n",
    "plt.show()"
   ],
   "metadata": {
    "collapsed": false
   }
  },
  {
   "cell_type": "code",
   "execution_count": 223,
   "outputs": [],
   "source": [
    "data_model = pd.concat([dt, n], axis=1)\n",
    "data_model = data_model[-48:-8]"
   ],
   "metadata": {
    "collapsed": false
   }
  },
  {
   "cell_type": "code",
   "execution_count": 224,
   "outputs": [
    {
     "data": {
      "text/plain": "0.5537861619514469"
     },
     "execution_count": 224,
     "metadata": {},
     "output_type": "execute_result"
    }
   ],
   "source": [
    "data_model['amount'].corr(data_model['count']) #к-т корреляции"
   ],
   "metadata": {
    "collapsed": false
   }
  },
  {
   "cell_type": "code",
   "execution_count": 225,
   "outputs": [
    {
     "data": {
      "text/plain": "                  amount  count\nst date                        \n2019-01-31  1.964008e+08    123\n2019-02-28  4.908946e+07     55\n2019-03-31  1.955362e+07     52\n2019-04-30  7.622638e+07     79\n2019-05-31  1.544688e+09     69\n2019-06-30  1.937947e+08     92\n2019-07-31  1.086469e+08    103\n2019-08-31  8.755279e+08    104\n2019-09-30  1.333051e+09    147\n2019-10-31  4.284781e+08    129\n2019-11-30  1.256651e+09    284\n2019-12-31  6.776751e+09   2035\n2020-01-31  7.836339e+08   1081\n2020-02-29  3.554648e+08    718\n2020-03-31  7.727438e+08    910\n2020-04-30  8.381224e+08    978\n2020-05-31  3.508018e+09    860\n2020-06-30  1.061134e+09   1058\n2020-07-31  3.386221e+09    642\n2020-08-31  3.141260e+08    467\n2020-09-30  6.924019e+08    498\n2020-10-31  8.610735e+08    614\n2020-11-30  1.339340e+09    760\n2020-12-31  4.048599e+09   1995\n2021-01-31  8.362608e+08   1019\n2021-02-28  3.701269e+08    686\n2021-03-31  1.053798e+09   1260\n2021-04-30  9.810521e+09   1329\n2021-05-31  6.076343e+08    802\n2021-06-30  9.449302e+08   1427\n2021-07-31  1.614118e+09   1015\n2021-08-31  1.613361e+09    920\n2021-09-30  7.077621e+08    977\n2021-10-31  2.237809e+09    694\n2021-11-30  1.095681e+09    920\n2021-12-31  3.423868e+09   2096\n2022-01-31  6.353949e+08   1903\n2022-02-28  6.131171e+08    391\n2022-03-31  2.073279e+07      6\n2022-04-30  9.840300e+04      1",
      "text/html": "<div>\n<style scoped>\n    .dataframe tbody tr th:only-of-type {\n        vertical-align: middle;\n    }\n\n    .dataframe tbody tr th {\n        vertical-align: top;\n    }\n\n    .dataframe thead th {\n        text-align: right;\n    }\n</style>\n<table border=\"1\" class=\"dataframe\">\n  <thead>\n    <tr style=\"text-align: right;\">\n      <th></th>\n      <th>amount</th>\n      <th>count</th>\n    </tr>\n    <tr>\n      <th>st date</th>\n      <th></th>\n      <th></th>\n    </tr>\n  </thead>\n  <tbody>\n    <tr>\n      <th>2019-01-31</th>\n      <td>1.964008e+08</td>\n      <td>123</td>\n    </tr>\n    <tr>\n      <th>2019-02-28</th>\n      <td>4.908946e+07</td>\n      <td>55</td>\n    </tr>\n    <tr>\n      <th>2019-03-31</th>\n      <td>1.955362e+07</td>\n      <td>52</td>\n    </tr>\n    <tr>\n      <th>2019-04-30</th>\n      <td>7.622638e+07</td>\n      <td>79</td>\n    </tr>\n    <tr>\n      <th>2019-05-31</th>\n      <td>1.544688e+09</td>\n      <td>69</td>\n    </tr>\n    <tr>\n      <th>2019-06-30</th>\n      <td>1.937947e+08</td>\n      <td>92</td>\n    </tr>\n    <tr>\n      <th>2019-07-31</th>\n      <td>1.086469e+08</td>\n      <td>103</td>\n    </tr>\n    <tr>\n      <th>2019-08-31</th>\n      <td>8.755279e+08</td>\n      <td>104</td>\n    </tr>\n    <tr>\n      <th>2019-09-30</th>\n      <td>1.333051e+09</td>\n      <td>147</td>\n    </tr>\n    <tr>\n      <th>2019-10-31</th>\n      <td>4.284781e+08</td>\n      <td>129</td>\n    </tr>\n    <tr>\n      <th>2019-11-30</th>\n      <td>1.256651e+09</td>\n      <td>284</td>\n    </tr>\n    <tr>\n      <th>2019-12-31</th>\n      <td>6.776751e+09</td>\n      <td>2035</td>\n    </tr>\n    <tr>\n      <th>2020-01-31</th>\n      <td>7.836339e+08</td>\n      <td>1081</td>\n    </tr>\n    <tr>\n      <th>2020-02-29</th>\n      <td>3.554648e+08</td>\n      <td>718</td>\n    </tr>\n    <tr>\n      <th>2020-03-31</th>\n      <td>7.727438e+08</td>\n      <td>910</td>\n    </tr>\n    <tr>\n      <th>2020-04-30</th>\n      <td>8.381224e+08</td>\n      <td>978</td>\n    </tr>\n    <tr>\n      <th>2020-05-31</th>\n      <td>3.508018e+09</td>\n      <td>860</td>\n    </tr>\n    <tr>\n      <th>2020-06-30</th>\n      <td>1.061134e+09</td>\n      <td>1058</td>\n    </tr>\n    <tr>\n      <th>2020-07-31</th>\n      <td>3.386221e+09</td>\n      <td>642</td>\n    </tr>\n    <tr>\n      <th>2020-08-31</th>\n      <td>3.141260e+08</td>\n      <td>467</td>\n    </tr>\n    <tr>\n      <th>2020-09-30</th>\n      <td>6.924019e+08</td>\n      <td>498</td>\n    </tr>\n    <tr>\n      <th>2020-10-31</th>\n      <td>8.610735e+08</td>\n      <td>614</td>\n    </tr>\n    <tr>\n      <th>2020-11-30</th>\n      <td>1.339340e+09</td>\n      <td>760</td>\n    </tr>\n    <tr>\n      <th>2020-12-31</th>\n      <td>4.048599e+09</td>\n      <td>1995</td>\n    </tr>\n    <tr>\n      <th>2021-01-31</th>\n      <td>8.362608e+08</td>\n      <td>1019</td>\n    </tr>\n    <tr>\n      <th>2021-02-28</th>\n      <td>3.701269e+08</td>\n      <td>686</td>\n    </tr>\n    <tr>\n      <th>2021-03-31</th>\n      <td>1.053798e+09</td>\n      <td>1260</td>\n    </tr>\n    <tr>\n      <th>2021-04-30</th>\n      <td>9.810521e+09</td>\n      <td>1329</td>\n    </tr>\n    <tr>\n      <th>2021-05-31</th>\n      <td>6.076343e+08</td>\n      <td>802</td>\n    </tr>\n    <tr>\n      <th>2021-06-30</th>\n      <td>9.449302e+08</td>\n      <td>1427</td>\n    </tr>\n    <tr>\n      <th>2021-07-31</th>\n      <td>1.614118e+09</td>\n      <td>1015</td>\n    </tr>\n    <tr>\n      <th>2021-08-31</th>\n      <td>1.613361e+09</td>\n      <td>920</td>\n    </tr>\n    <tr>\n      <th>2021-09-30</th>\n      <td>7.077621e+08</td>\n      <td>977</td>\n    </tr>\n    <tr>\n      <th>2021-10-31</th>\n      <td>2.237809e+09</td>\n      <td>694</td>\n    </tr>\n    <tr>\n      <th>2021-11-30</th>\n      <td>1.095681e+09</td>\n      <td>920</td>\n    </tr>\n    <tr>\n      <th>2021-12-31</th>\n      <td>3.423868e+09</td>\n      <td>2096</td>\n    </tr>\n    <tr>\n      <th>2022-01-31</th>\n      <td>6.353949e+08</td>\n      <td>1903</td>\n    </tr>\n    <tr>\n      <th>2022-02-28</th>\n      <td>6.131171e+08</td>\n      <td>391</td>\n    </tr>\n    <tr>\n      <th>2022-03-31</th>\n      <td>2.073279e+07</td>\n      <td>6</td>\n    </tr>\n    <tr>\n      <th>2022-04-30</th>\n      <td>9.840300e+04</td>\n      <td>1</td>\n    </tr>\n  </tbody>\n</table>\n</div>"
     },
     "execution_count": 225,
     "metadata": {},
     "output_type": "execute_result"
    }
   ],
   "source": [
    "data_model"
   ],
   "metadata": {
    "collapsed": false
   }
  },
  {
   "cell_type": "code",
   "execution_count": 226,
   "outputs": [],
   "source": [
    "import seaborn as sns"
   ],
   "metadata": {
    "collapsed": false
   }
  },
  {
   "cell_type": "code",
   "execution_count": 99,
   "outputs": [
    {
     "name": "stderr",
     "output_type": "stream",
     "text": [
      "C:\\Users\\gosti\\anaconda3\\lib\\site-packages\\seaborn\\_decorators.py:36: FutureWarning:\n",
      "\n",
      "Pass the following variable as a keyword arg: x. From version 0.12, the only valid positional argument will be `data`, and passing other arguments without an explicit keyword will result in an error or misinterpretation.\n",
      "\n"
     ]
    },
    {
     "data": {
      "text/plain": "<AxesSubplot:xlabel='amount'>"
     },
     "execution_count": 99,
     "metadata": {},
     "output_type": "execute_result"
    },
    {
     "data": {
      "text/plain": "<Figure size 432x288 with 1 Axes>",
      "image/png": "[encoded data removed]"
     },
     "metadata": {},
     "output_type": "display_data"
    }
   ],
   "source": [
    "sns.boxplot(data_model['amount'])"
   ],
   "metadata": {
    "collapsed": false
   }
  },
  {
   "cell_type": "code",
   "execution_count": 227,
   "outputs": [
    {
     "name": "stdout",
     "output_type": "stream",
     "text": [
      "(array([11, 16, 18, 23, 27, 35], dtype=int64),)\n"
     ]
    }
   ],
   "source": [
    "print(np.where(data_model['amount']> 0.3*1e10))"
   ],
   "metadata": {
    "collapsed": false
   }
  },
  {
   "cell_type": "code",
   "execution_count": 152,
   "outputs": [],
   "source": [
    "from statsmodels.tsa.seasonal import seasonal_decompose"
   ],
   "metadata": {
    "collapsed": false
   }
  },
  {
   "cell_type": "code",
   "execution_count": 161,
   "outputs": [],
   "source": [
    "from statsmodels.tsa._stl import STL"
   ],
   "metadata": {
    "collapsed": false
   }
  },
  {
   "cell_type": "code",
   "execution_count": 228,
   "outputs": [
    {
     "data": {
      "text/plain": "<Figure size 432x288 with 4 Axes>",
      "image/png": "[encoded data removed]"
     },
     "execution_count": 228,
     "metadata": {},
     "output_type": "execute_result"
    },
    {
     "data": {
      "text/plain": "<Figure size 432x288 with 4 Axes>",
      "image/png": "[encoded data removed]"
     },
     "metadata": {},
     "output_type": "display_data"
    }
   ],
   "source": [
    "stl = STL(data_model['count'], period=6).fit()\n",
    "stl.plot()"
   ],
   "metadata": {
    "collapsed": false
   }
  },
  {
   "cell_type": "code",
   "execution_count": 230,
   "outputs": [
    {
     "name": "stdout",
     "output_type": "stream",
     "text": [
      "p-value = 0.018133660213113793\n",
      "Ряд стационарный\n"
     ]
    }
   ],
   "source": [
    "from statsmodels.tsa.stattools import adfuller\n",
    "adf_test = adfuller(stl.observed)\n",
    "print('p-value = ' + str(adf_test[1]))\n",
    "if adf_test[1]>0.05:\n",
    "    print('Ряд не стационарный')\n",
    "else:\n",
    "    print('Ряд стационарный')"
   ],
   "metadata": {
    "collapsed": false
   }
  },
  {
   "cell_type": "code",
   "execution_count": 231,
   "outputs": [
    {
     "data": {
      "text/plain": "<Figure size 432x288 with 4 Axes>",
      "image/png": "[encoded data removed]"
     },
     "execution_count": 231,
     "metadata": {},
     "output_type": "execute_result"
    },
    {
     "data": {
      "text/plain": "<Figure size 432x288 with 4 Axes>",
      "image/png": "[encoded data removed]"
     },
     "metadata": {},
     "output_type": "display_data"
    }
   ],
   "source": [
    "stl_amount = STL(data_model['amount'], period=12).fit()\n",
    "stl_amount.plot()"
   ],
   "metadata": {
    "collapsed": false
   }
  },
  {
   "cell_type": "code",
   "execution_count": 232,
   "outputs": [
    {
     "name": "stdout",
     "output_type": "stream",
     "text": [
      "p-value = 1.6937854348535634e-08\n",
      "Ряд стационарный\n"
     ]
    }
   ],
   "source": [
    "from statsmodels.tsa.stattools import adfuller\n",
    "adf_test_amount = adfuller(stl_amount.observed)\n",
    "print('p-value = ' + str(adf_test_amount[1]))\n",
    "if adf_test_amount[1]>0.05:\n",
    "    print('Ряд не стационарный')\n",
    "else:\n",
    "    print('Ряд стационарный')"
   ],
   "metadata": {
    "collapsed": false
   }
  },
  {
   "cell_type": "code",
   "execution_count": 163,
   "outputs": [
    {
     "data": {
      "text/plain": "<Figure size 432x288 with 1 Axes>",
      "image/png": "[encoded data removed]"
     },
     "execution_count": 163,
     "metadata": {},
     "output_type": "execute_result"
    },
    {
     "data": {
      "text/plain": "<Figure size 432x288 with 1 Axes>",
      "image/png": "[encoded data removed]"
     },
     "metadata": {},
     "output_type": "display_data"
    }
   ],
   "source": [
    "from statsmodels.graphics.tsaplots import plot_acf\n",
    "plot_acf(stl.observed)"
   ],
   "metadata": {
    "collapsed": false
   }
  },
  {
   "cell_type": "code",
   "execution_count": 175,
   "outputs": [],
   "source": [
    "import math"
   ],
   "metadata": {
    "collapsed": false
   }
  },
  {
   "cell_type": "code",
   "execution_count": 234,
   "outputs": [],
   "source": [
    "data_model['LN(amount)'] = np.log(data_model['amount'])\n",
    "data_model['LN(count)'] = np.log(data_model['count'])"
   ],
   "metadata": {
    "collapsed": false
   }
  },
  {
   "cell_type": "code",
   "execution_count": 235,
   "outputs": [
    {
     "data": {
      "text/plain": "                  amount  count  LN(amount)  LN(count)\nst date                                               \n2019-01-31  1.964008e+08    123   19.095668   4.812184\n2019-02-28  4.908946e+07     55   17.709155   4.007333\n2019-03-31  1.955362e+07     52   16.788671   3.951244\n2019-04-30  7.622638e+07     79   18.149218   4.369448\n2019-05-31  1.544688e+09     69   21.158087   4.234107\n2019-06-30  1.937947e+08     92   19.082310   4.521789\n2019-07-31  1.086469e+08    103   18.503613   4.634729\n2019-08-31  8.755279e+08    104   20.590338   4.644391\n2019-09-30  1.333051e+09    147   21.010736   4.990433\n2019-10-31  4.284781e+08    129   19.875750   4.859812\n2019-11-30  1.256651e+09    284   20.951716   5.648974\n2019-12-31  6.776751e+09   2035   22.636764   7.618251\n2020-01-31  7.836339e+08   1081   20.479453   6.985642\n2020-02-29  3.554648e+08    718   19.688937   6.576470\n2020-03-31  7.727438e+08    910   20.465458   6.813445\n2020-04-30  8.381224e+08    978   20.546675   6.885510\n2020-05-31  3.508018e+09    860   21.978317   6.756932\n2020-06-30  1.061134e+09   1058   20.782604   6.964136\n2020-07-31  3.386221e+09    642   21.942980   6.464588\n2020-08-31  3.141260e+08    467   19.565305   6.146329\n2020-09-30  6.924019e+08    498   20.355677   6.210600\n2020-10-31  8.610735e+08    614   20.573690   6.419995\n2020-11-30  1.339340e+09    760   21.015443   6.633318\n2020-12-31  4.048599e+09   1995   22.121637   7.598399\n2021-01-31  8.362608e+08   1019   20.544451   6.926577\n2021-02-28  3.701269e+08    686   19.729357   6.530878\n2021-03-31  1.053798e+09   1260   20.775666   7.138867\n2021-04-30  9.810521e+09   1329   23.006721   7.192182\n2021-05-31  6.076343e+08    802   20.225084   6.687109\n2021-06-30  9.449302e+08   1427   20.666622   7.263330\n2021-07-31  1.614118e+09   1015   21.202054   6.922644\n2021-08-31  1.613361e+09    920   21.201586   6.824374\n2021-09-30  7.077621e+08    977   20.377619   6.884487\n2021-10-31  2.237809e+09    694   21.528763   6.542472\n2021-11-30  1.095681e+09    920   20.814642   6.824374\n2021-12-31  3.423868e+09   2096   21.954037   7.647786\n2022-01-31  6.353949e+08   1903   20.269757   7.551187\n2022-02-28  6.131171e+08    391   20.234067   5.968708\n2022-03-31  2.073279e+07      6   16.847227   1.791759\n2022-04-30  9.840300e+04      1   11.496827   0.000000",
      "text/html": "<div>\n<style scoped>\n    .dataframe tbody tr th:only-of-type {\n        vertical-align: middle;\n    }\n\n    .dataframe tbody tr th {\n        vertical-align: top;\n    }\n\n    .dataframe thead th {\n        text-align: right;\n    }\n</style>\n<table border=\"1\" class=\"dataframe\">\n  <thead>\n    <tr style=\"text-align: right;\">\n      <th></th>\n      <th>amount</th>\n      <th>count</th>\n      <th>LN(amount)</th>\n      <th>LN(count)</th>\n    </tr>\n    <tr>\n      <th>st date</th>\n      <th></th>\n      <th></th>\n      <th></th>\n      <th></th>\n    </tr>\n  </thead>\n  <tbody>\n    <tr>\n      <th>2019-01-31</th>\n      <td>1.964008e+08</td>\n      <td>123</td>\n      <td>19.095668</td>\n      <td>4.812184</td>\n    </tr>\n    <tr>\n      <th>2019-02-28</th>\n      <td>4.908946e+07</td>\n      <td>55</td>\n      <td>17.709155</td>\n      <td>4.007333</td>\n    </tr>\n    <tr>\n      <th>2019-03-31</th>\n      <td>1.955362e+07</td>\n      <td>52</td>\n      <td>16.788671</td>\n      <td>3.951244</td>\n    </tr>\n    <tr>\n      <th>2019-04-30</th>\n      <td>7.622638e+07</td>\n      <td>79</td>\n      <td>18.149218</td>\n      <td>4.369448</td>\n    </tr>\n    <tr>\n      <th>2019-05-31</th>\n      <td>1.544688e+09</td>\n      <td>69</td>\n      <td>21.158087</td>\n      <td>4.234107</td>\n    </tr>\n    <tr>\n      <th>2019-06-30</th>\n      <td>1.937947e+08</td>\n      <td>92</td>\n      <td>19.082310</td>\n      <td>4.521789</td>\n    </tr>\n    <tr>\n      <th>2019-07-31</th>\n      <td>1.086469e+08</td>\n      <td>103</td>\n      <td>18.503613</td>\n      <td>4.634729</td>\n    </tr>\n    <tr>\n      <th>2019-08-31</th>\n      <td>8.755279e+08</td>\n      <td>104</td>\n      <td>20.590338</td>\n      <td>4.644391</td>\n    </tr>\n    <tr>\n      <th>2019-09-30</th>\n      <td>1.333051e+09</td>\n      <td>147</td>\n      <td>21.010736</td>\n      <td>4.990433</td>\n    </tr>\n    <tr>\n      <th>2019-10-31</th>\n      <td>4.284781e+08</td>\n      <td>129</td>\n      <td>19.875750</td>\n      <td>4.859812</td>\n    </tr>\n    <tr>\n      <th>2019-11-30</th>\n      <td>1.256651e+09</td>\n      <td>284</td>\n      <td>20.951716</td>\n      <td>5.648974</td>\n    </tr>\n    <tr>\n      <th>2019-12-31</th>\n      <td>6.776751e+09</td>\n      <td>2035</td>\n      <td>22.636764</td>\n      <td>7.618251</td>\n    </tr>\n    <tr>\n      <th>2020-01-31</th>\n      <td>7.836339e+08</td>\n      <td>1081</td>\n      <td>20.479453</td>\n      <td>6.985642</td>\n    </tr>\n    <tr>\n      <th>2020-02-29</th>\n      <td>3.554648e+08</td>\n      <td>718</td>\n      <td>19.688937</td>\n      <td>6.576470</td>\n    </tr>\n    <tr>\n      <th>2020-03-31</th>\n      <td>7.727438e+08</td>\n      <td>910</td>\n      <td>20.465458</td>\n      <td>6.813445</td>\n    </tr>\n    <tr>\n      <th>2020-04-30</th>\n      <td>8.381224e+08</td>\n      <td>978</td>\n      <td>20.546675</td>\n      <td>6.885510</td>\n    </tr>\n    <tr>\n      <th>2020-05-31</th>\n      <td>3.508018e+09</td>\n      <td>860</td>\n      <td>21.978317</td>\n      <td>6.756932</td>\n    </tr>\n    <tr>\n      <th>2020-06-30</th>\n      <td>1.061134e+09</td>\n      <td>1058</td>\n      <td>20.782604</td>\n      <td>6.964136</td>\n    </tr>\n    <tr>\n      <th>2020-07-31</th>\n      <td>3.386221e+09</td>\n      <td>642</td>\n      <td>21.942980</td>\n      <td>6.464588</td>\n    </tr>\n    <tr>\n      <th>2020-08-31</th>\n      <td>3.141260e+08</td>\n      <td>467</td>\n      <td>19.565305</td>\n      <td>6.146329</td>\n    </tr>\n    <tr>\n      <th>2020-09-30</th>\n      <td>6.924019e+08</td>\n      <td>498</td>\n      <td>20.355677</td>\n      <td>6.210600</td>\n    </tr>\n    <tr>\n      <th>2020-10-31</th>\n      <td>8.610735e+08</td>\n      <td>614</td>\n      <td>20.573690</td>\n      <td>6.419995</td>\n    </tr>\n    <tr>\n      <th>2020-11-30</th>\n      <td>1.339340e+09</td>\n      <td>760</td>\n      <td>21.015443</td>\n      <td>6.633318</td>\n    </tr>\n    <tr>\n      <th>2020-12-31</th>\n      <td>4.048599e+09</td>\n      <td>1995</td>\n      <td>22.121637</td>\n      <td>7.598399</td>\n    </tr>\n    <tr>\n      <th>2021-01-31</th>\n      <td>8.362608e+08</td>\n      <td>1019</td>\n      <td>20.544451</td>\n      <td>6.926577</td>\n    </tr>\n    <tr>\n      <th>2021-02-28</th>\n      <td>3.701269e+08</td>\n      <td>686</td>\n      <td>19.729357</td>\n      <td>6.530878</td>\n    </tr>\n    <tr>\n      <th>2021-03-31</th>\n      <td>1.053798e+09</td>\n      <td>1260</td>\n      <td>20.775666</td>\n      <td>7.138867</td>\n    </tr>\n    <tr>\n      <th>2021-04-30</th>\n      <td>9.810521e+09</td>\n      <td>1329</td>\n      <td>23.006721</td>\n      <td>7.192182</td>\n    </tr>\n    <tr>\n      <th>2021-05-31</th>\n      <td>6.076343e+08</td>\n      <td>802</td>\n      <td>20.225084</td>\n      <td>6.687109</td>\n    </tr>\n    <tr>\n      <th>2021-06-30</th>\n      <td>9.449302e+08</td>\n      <td>1427</td>\n      <td>20.666622</td>\n      <td>7.263330</td>\n    </tr>\n    <tr>\n      <th>2021-07-31</th>\n      <td>1.614118e+09</td>\n      <td>1015</td>\n      <td>21.202054</td>\n      <td>6.922644</td>\n    </tr>\n    <tr>\n      <th>2021-08-31</th>\n      <td>1.613361e+09</td>\n      <td>920</td>\n      <td>21.201586</td>\n      <td>6.824374</td>\n    </tr>\n    <tr>\n      <th>2021-09-30</th>\n      <td>7.077621e+08</td>\n      <td>977</td>\n      <td>20.377619</td>\n      <td>6.884487</td>\n    </tr>\n    <tr>\n      <th>2021-10-31</th>\n      <td>2.237809e+09</td>\n      <td>694</td>\n      <td>21.528763</td>\n      <td>6.542472</td>\n    </tr>\n    <tr>\n      <th>2021-11-30</th>\n      <td>1.095681e+09</td>\n      <td>920</td>\n      <td>20.814642</td>\n      <td>6.824374</td>\n    </tr>\n    <tr>\n      <th>2021-12-31</th>\n      <td>3.423868e+09</td>\n      <td>2096</td>\n      <td>21.954037</td>\n      <td>7.647786</td>\n    </tr>\n    <tr>\n      <th>2022-01-31</th>\n      <td>6.353949e+08</td>\n      <td>1903</td>\n      <td>20.269757</td>\n      <td>7.551187</td>\n    </tr>\n    <tr>\n      <th>2022-02-28</th>\n      <td>6.131171e+08</td>\n      <td>391</td>\n      <td>20.234067</td>\n      <td>5.968708</td>\n    </tr>\n    <tr>\n      <th>2022-03-31</th>\n      <td>2.073279e+07</td>\n      <td>6</td>\n      <td>16.847227</td>\n      <td>1.791759</td>\n    </tr>\n    <tr>\n      <th>2022-04-30</th>\n      <td>9.840300e+04</td>\n      <td>1</td>\n      <td>11.496827</td>\n      <td>0.000000</td>\n    </tr>\n  </tbody>\n</table>\n</div>"
     },
     "execution_count": 235,
     "metadata": {},
     "output_type": "execute_result"
    }
   ],
   "source": [
    "data_model"
   ],
   "metadata": {
    "collapsed": false
   }
  },
  {
   "cell_type": "code",
   "execution_count": 459,
   "outputs": [],
   "source": [
    "X = data_model[['count']][:37] #берем данные до января 2022 года включительно\n",
    "Y = data_model['amount'][:37]"
   ],
   "metadata": {
    "collapsed": false
   }
  },
  {
   "cell_type": "code",
   "execution_count": 460,
   "outputs": [
    {
     "data": {
      "text/plain": "            count\nst date          \n2019-01-31    123\n2019-02-28     55\n2019-03-31     52\n2019-04-30     79\n2019-05-31     69\n2019-06-30     92\n2019-07-31    103\n2019-08-31    104\n2019-09-30    147\n2019-10-31    129\n2019-11-30    284\n2019-12-31   2035\n2020-01-31   1081\n2020-02-29    718\n2020-03-31    910\n2020-04-30    978\n2020-05-31    860\n2020-06-30   1058\n2020-07-31    642\n2020-08-31    467\n2020-09-30    498\n2020-10-31    614\n2020-11-30    760\n2020-12-31   1995\n2021-01-31   1019\n2021-02-28    686\n2021-03-31   1260\n2021-04-30   1329\n2021-05-31    802\n2021-06-30   1427\n2021-07-31   1015\n2021-08-31    920\n2021-09-30    977\n2021-10-31    694\n2021-11-30    920\n2021-12-31   2096\n2022-01-31   1903",
      "text/html": "<div>\n<style scoped>\n    .dataframe tbody tr th:only-of-type {\n        vertical-align: middle;\n    }\n\n    .dataframe tbody tr th {\n        vertical-align: top;\n    }\n\n    .dataframe thead th {\n        text-align: right;\n    }\n</style>\n<table border=\"1\" class=\"dataframe\">\n  <thead>\n    <tr style=\"text-align: right;\">\n      <th></th>\n      <th>count</th>\n    </tr>\n    <tr>\n      <th>st date</th>\n      <th></th>\n    </tr>\n  </thead>\n  <tbody>\n    <tr>\n      <th>2019-01-31</th>\n      <td>123</td>\n    </tr>\n    <tr>\n      <th>2019-02-28</th>\n      <td>55</td>\n    </tr>\n    <tr>\n      <th>2019-03-31</th>\n      <td>52</td>\n    </tr>\n    <tr>\n      <th>2019-04-30</th>\n      <td>79</td>\n    </tr>\n    <tr>\n      <th>2019-05-31</th>\n      <td>69</td>\n    </tr>\n    <tr>\n      <th>2019-06-30</th>\n      <td>92</td>\n    </tr>\n    <tr>\n      <th>2019-07-31</th>\n      <td>103</td>\n    </tr>\n    <tr>\n      <th>2019-08-31</th>\n      <td>104</td>\n    </tr>\n    <tr>\n      <th>2019-09-30</th>\n      <td>147</td>\n    </tr>\n    <tr>\n      <th>2019-10-31</th>\n      <td>129</td>\n    </tr>\n    <tr>\n      <th>2019-11-30</th>\n      <td>284</td>\n    </tr>\n    <tr>\n      <th>2019-12-31</th>\n      <td>2035</td>\n    </tr>\n    <tr>\n      <th>2020-01-31</th>\n      <td>1081</td>\n    </tr>\n    <tr>\n      <th>2020-02-29</th>\n      <td>718</td>\n    </tr>\n    <tr>\n      <th>2020-03-31</th>\n      <td>910</td>\n    </tr>\n    <tr>\n      <th>2020-04-30</th>\n      <td>978</td>\n    </tr>\n    <tr>\n      <th>2020-05-31</th>\n      <td>860</td>\n    </tr>\n    <tr>\n      <th>2020-06-30</th>\n      <td>1058</td>\n    </tr>\n    <tr>\n      <th>2020-07-31</th>\n      <td>642</td>\n    </tr>\n    <tr>\n      <th>2020-08-31</th>\n      <td>467</td>\n    </tr>\n    <tr>\n      <th>2020-09-30</th>\n      <td>498</td>\n    </tr>\n    <tr>\n      <th>2020-10-31</th>\n      <td>614</td>\n    </tr>\n    <tr>\n      <th>2020-11-30</th>\n      <td>760</td>\n    </tr>\n    <tr>\n      <th>2020-12-31</th>\n      <td>1995</td>\n    </tr>\n    <tr>\n      <th>2021-01-31</th>\n      <td>1019</td>\n    </tr>\n    <tr>\n      <th>2021-02-28</th>\n      <td>686</td>\n    </tr>\n    <tr>\n      <th>2021-03-31</th>\n      <td>1260</td>\n    </tr>\n    <tr>\n      <th>2021-04-30</th>\n      <td>1329</td>\n    </tr>\n    <tr>\n      <th>2021-05-31</th>\n      <td>802</td>\n    </tr>\n    <tr>\n      <th>2021-06-30</th>\n      <td>1427</td>\n    </tr>\n    <tr>\n      <th>2021-07-31</th>\n      <td>1015</td>\n    </tr>\n    <tr>\n      <th>2021-08-31</th>\n      <td>920</td>\n    </tr>\n    <tr>\n      <th>2021-09-30</th>\n      <td>977</td>\n    </tr>\n    <tr>\n      <th>2021-10-31</th>\n      <td>694</td>\n    </tr>\n    <tr>\n      <th>2021-11-30</th>\n      <td>920</td>\n    </tr>\n    <tr>\n      <th>2021-12-31</th>\n      <td>2096</td>\n    </tr>\n    <tr>\n      <th>2022-01-31</th>\n      <td>1903</td>\n    </tr>\n  </tbody>\n</table>\n</div>"
     },
     "execution_count": 460,
     "metadata": {},
     "output_type": "execute_result"
    }
   ],
   "source": [
    "X"
   ],
   "metadata": {
    "collapsed": false
   }
  },
  {
   "cell_type": "code",
   "execution_count": 237,
   "outputs": [],
   "source": [
    "from sklearn.model_selection import train_test_split"
   ],
   "metadata": {
    "collapsed": false
   }
  },
  {
   "cell_type": "code",
   "execution_count": 461,
   "outputs": [],
   "source": [
    "X_train, X_test, Y_train, Y_test = train_test_split(X, Y, test_size=0.2, random_state=0)"
   ],
   "metadata": {
    "collapsed": false
   }
  },
  {
   "cell_type": "code",
   "execution_count": 239,
   "outputs": [],
   "source": [
    "from sklearn.linear_model import LinearRegression"
   ],
   "metadata": {
    "collapsed": false
   }
  },
  {
   "cell_type": "code",
   "execution_count": 462,
   "outputs": [
    {
     "data": {
      "text/plain": "LinearRegression()"
     },
     "execution_count": 462,
     "metadata": {},
     "output_type": "execute_result"
    }
   ],
   "source": [
    "model = LinearRegression()\n",
    "model.fit(X_train, Y_train)"
   ],
   "metadata": {
    "collapsed": false
   }
  },
  {
   "cell_type": "code",
   "execution_count": 463,
   "outputs": [],
   "source": [
    "Y_pred = model.predict(X_test)"
   ],
   "metadata": {
    "collapsed": false
   }
  },
  {
   "cell_type": "code",
   "execution_count": 283,
   "outputs": [],
   "source": [
    "from sklearn.metrics import r2_score, mean_absolute_error, mean_squared_error"
   ],
   "metadata": {
    "collapsed": false
   }
  },
  {
   "cell_type": "code",
   "execution_count": 464,
   "outputs": [
    {
     "name": "stdout",
     "output_type": "stream",
     "text": [
      "MAE =  1021065131.533\n",
      "MSE = 2.343965593815844e+18\n",
      "R^2 = 0.399\n"
     ]
    }
   ],
   "source": [
    "MAE = mean_absolute_error(Y_test, Y_pred)\n",
    "MSE = mean_squared_error(Y_test, Y_pred)\n",
    "R2 = r2_score(Y_test, Y_pred)\n",
    "print('MAE = ', np.round(MAE, 3))\n",
    "print('MSE =', np.round(MSE, 3))\n",
    "print('R^2 =', np.round(R2, 3))"
   ],
   "metadata": {
    "collapsed": false
   }
  },
  {
   "cell_type": "code",
   "execution_count": 285,
   "outputs": [],
   "source": [
    "from sklearn.linear_model import Ridge, Lasso\n",
    "from sklearn.model_selection import GridSearchCV"
   ],
   "metadata": {
    "collapsed": false
   }
  },
  {
   "cell_type": "code",
   "execution_count": 441,
   "outputs": [
    {
     "data": {
      "text/plain": "GridSearchCV(cv=3, estimator=Ridge(),\n             param_grid={'alpha': array([1, 2, 3, 4, 5, 6, 7, 8, 9])},\n             scoring='neg_mean_squared_error')"
     },
     "execution_count": 441,
     "metadata": {},
     "output_type": "execute_result"
    }
   ],
   "source": [
    "ridge = Ridge()\n",
    "parameters = {\n",
    "    'alpha': np.arange(1, 10)\n",
    "}\n",
    "grid = GridSearchCV(ridge, parameters, scoring='neg_mean_squared_error', cv=3)\n",
    "grid.fit(X_train, Y_train)"
   ],
   "metadata": {
    "collapsed": false
   }
  },
  {
   "cell_type": "code",
   "execution_count": 442,
   "outputs": [
    {
     "data": {
      "text/plain": "{'alpha': 9}"
     },
     "execution_count": 442,
     "metadata": {},
     "output_type": "execute_result"
    }
   ],
   "source": [
    "grid.best_params_"
   ],
   "metadata": {
    "collapsed": false
   }
  },
  {
   "cell_type": "code",
   "execution_count": 443,
   "outputs": [
    {
     "data": {
      "text/plain": "2.3439669280171197e+18"
     },
     "execution_count": 443,
     "metadata": {},
     "output_type": "execute_result"
    }
   ],
   "source": [
    "ridge_best = Ridge(**grid.best_params_)\n",
    "ridge_best.fit(X_train, Y_train)\n",
    "mean_squared_error(Y_test, ridge_best.predict(X_test))"
   ],
   "metadata": {
    "collapsed": false
   }
  },
  {
   "cell_type": "code",
   "execution_count": 263,
   "outputs": [],
   "source": [
    "from sklearn.linear_model import BayesianRidge, ElasticNet\n",
    "from sklearn.svm import SVR\n",
    "from sklearn.ensemble import GradientBoostingRegressor\n",
    "import xgboost as xgb\n",
    "from sklearn.model_selection import cross_val_score"
   ],
   "metadata": {
    "collapsed": false
   }
  },
  {
   "cell_type": "code",
   "execution_count": 264,
   "outputs": [],
   "source": [
    "n_folds = 5"
   ],
   "metadata": {
    "collapsed": false
   }
  },
  {
   "cell_type": "code",
   "execution_count": 265,
   "outputs": [],
   "source": [
    "model_br = BayesianRidge()\n",
    "model_lr = LinearRegression()\n",
    "model_etc = ElasticNet()\n",
    "model_svr = SVR()\n",
    "model_gbr = GradientBoostingRegressor()\n",
    "model_xgb = xgb.XGBRegressor(objective ='reg:squarederror')"
   ],
   "metadata": {
    "collapsed": false
   }
  },
  {
   "cell_type": "code",
   "execution_count": 266,
   "outputs": [],
   "source": [
    "model_names = ['BayesianRidge','LinearRegression', 'ElasticNet', 'SVR', 'GBR','XGBR']\n",
    "model_dir = [model_br, model_lr, model_etc, model_svr, model_gbr, model_xgb]"
   ],
   "metadata": {
    "collapsed": false
   }
  },
  {
   "cell_type": "code",
   "execution_count": 451,
   "outputs": [
    {
     "name": "stderr",
     "output_type": "stream",
     "text": [
      "C:\\Users\\gosti\\anaconda3\\lib\\site-packages\\xgboost\\data.py:250: FutureWarning:\n",
      "\n",
      "pandas.Int64Index is deprecated and will be removed from pandas in a future version. Use pandas.Index with the appropriate dtype instead.\n",
      "\n",
      "C:\\Users\\gosti\\anaconda3\\lib\\site-packages\\xgboost\\data.py:250: FutureWarning:\n",
      "\n",
      "pandas.Int64Index is deprecated and will be removed from pandas in a future version. Use pandas.Index with the appropriate dtype instead.\n",
      "\n",
      "C:\\Users\\gosti\\anaconda3\\lib\\site-packages\\xgboost\\data.py:250: FutureWarning:\n",
      "\n",
      "pandas.Int64Index is deprecated and will be removed from pandas in a future version. Use pandas.Index with the appropriate dtype instead.\n",
      "\n",
      "C:\\Users\\gosti\\anaconda3\\lib\\site-packages\\xgboost\\data.py:250: FutureWarning:\n",
      "\n",
      "pandas.Int64Index is deprecated and will be removed from pandas in a future version. Use pandas.Index with the appropriate dtype instead.\n",
      "\n",
      "C:\\Users\\gosti\\anaconda3\\lib\\site-packages\\xgboost\\data.py:250: FutureWarning:\n",
      "\n",
      "pandas.Int64Index is deprecated and will be removed from pandas in a future version. Use pandas.Index with the appropriate dtype instead.\n",
      "\n"
     ]
    }
   ],
   "source": [
    "# Оценка перекрестной проверки и обучение модели\n",
    "cv_score_list = [] # Список результатов перекрестной проверки\n",
    "y_train_pre = [] # Список значений y, предсказываемых каждой моделью\n",
    "y_test_pre = [] # Список результатов предсказания набора тестов\n",
    "for model in model_dir:\n",
    "    scores = cross_val_score(model, X_train, Y_train, cv = n_folds, scoring = 'r2')"
   ],
   "metadata": {
    "collapsed": false
   }
  },
  {
   "cell_type": "code",
   "execution_count": 452,
   "outputs": [
    {
     "name": "stderr",
     "output_type": "stream",
     "text": [
      "C:\\Users\\gosti\\anaconda3\\lib\\site-packages\\xgboost\\data.py:250: FutureWarning:\n",
      "\n",
      "pandas.Int64Index is deprecated and will be removed from pandas in a future version. Use pandas.Index with the appropriate dtype instead.\n",
      "\n"
     ]
    }
   ],
   "source": [
    "cv_score_list.append(scores)\n",
    "y_train_pre.append(model.fit(X_train, Y_train).predict(X_train))\n",
    "y_test_pre.append(model.fit(X_train, Y_train).predict(X_test))"
   ],
   "metadata": {
    "collapsed": false
   }
  },
  {
   "cell_type": "code",
   "execution_count": 453,
   "outputs": [],
   "source": [
    "n_samples, n_features = X_train.shape # Общий размер обучающей выборки, общее количество функций\n",
    "n_samples_test = X_test.shape[0]"
   ],
   "metadata": {
    "collapsed": false
   }
  },
  {
   "cell_type": "code",
   "execution_count": 454,
   "outputs": [],
   "source": [
    "model_metrics_name = [mean_absolute_error, mean_squared_error, r2_score]\n",
    "model_train_metrics = [] # Список значений оценки обучения\n",
    "model_test_metrics = [] # Список значений оценки прогнозирования регрессии"
   ],
   "metadata": {
    "collapsed": false
   }
  },
  {
   "cell_type": "code",
   "execution_count": 455,
   "outputs": [],
   "source": [
    "for i in range(len(model_dir)):\n",
    "    tmp_list = []\n",
    "    tmp2_list = []"
   ],
   "metadata": {
    "collapsed": false
   }
  },
  {
   "cell_type": "code",
   "execution_count": 456,
   "outputs": [],
   "source": [
    "for m in model_metrics_name:\n",
    "    tmp_score = m(Y_train, y_train_pre[0]) # результаты каждоq оценки регрессии\n",
    "    tmp_list.append(tmp_score)\n",
    "    tmp2_score = m(Y_test, y_test_pre[0])\n",
    "    tmp2_list.append(tmp2_score)"
   ],
   "metadata": {
    "collapsed": false
   }
  },
  {
   "cell_type": "code",
   "execution_count": 457,
   "outputs": [],
   "source": [
    "model_train_metrics.append(tmp_list)\n",
    "model_test_metrics.append(tmp2_list)"
   ],
   "metadata": {
    "collapsed": false
   }
  },
  {
   "cell_type": "code",
   "execution_count": 458,
   "outputs": [
    {
     "name": "stdout",
     "output_type": "stream",
     "text": [
      "samples: 24 \t features: 13\n",
      "----------------------------------------------------------------------\n",
      "Cross validation result:\n",
      "                         0          1         2          3         4\n",
      "BayesianRidge    -0.191709 -19.832634  0.448036 -13.330983 -4.999471\n",
      "LinearRegression -0.191709 -19.832634  0.448036 -13.330983 -4.999471\n",
      "ElasticNet       -0.191709 -19.832634  0.448036 -13.330983 -4.999471\n",
      "SVR              -0.191709 -19.832634  0.448036 -13.330983 -4.999471\n",
      "GBR              -0.191709 -19.832634  0.448036 -13.330983 -4.999471\n",
      "XGBR             -0.191709 -19.832634  0.448036 -13.330983 -4.999471\n",
      "----------------------------------------------------------------------\n",
      "Regression train metrics:\n",
      "                           MAE           MSE   R2\n",
      "BayesianRidge     18705.713151  5.776649e+08  1.0\n",
      "LinearRegression  18705.713151  5.776649e+08  1.0\n",
      "ElasticNet        18705.713151  5.776649e+08  1.0\n",
      "SVR               18705.713151  5.776649e+08  1.0\n",
      "GBR               18705.713151  5.776649e+08  1.0\n",
      "XGBR              18705.713151  5.776649e+08  1.0\n",
      "----------------------------------------------------------------------\n",
      "Regression test metrics:\n",
      "                           MAE           MSE        R2\n",
      "BayesianRidge     1.620117e+09  7.569529e+18 -3.424516\n",
      "LinearRegression  1.620117e+09  7.569529e+18 -3.424516\n",
      "ElasticNet        1.620117e+09  7.569529e+18 -3.424516\n",
      "SVR               1.620117e+09  7.569529e+18 -3.424516\n",
      "GBR               1.620117e+09  7.569529e+18 -3.424516\n",
      "XGBR              1.620117e+09  7.569529e+18 -3.424516\n",
      "----------------------------------------------------------------------\n",
      "short name \t full name\n",
      "MAE \t mean_absolute_error\n",
      "MSE \t mean_squared_error\n",
      "R2 \t R2\n",
      "----------------------------------------------------------------------\n"
     ]
    }
   ],
   "source": [
    "df1 = pd.DataFrame(cv_score_list, index = model_names) # ДФ для перекрестной проверки\n",
    "df2 = pd.DataFrame(model_train_metrics,\n",
    "                    index = model_names,\n",
    "                   columns = ['MAE', 'MSE', 'R2']) # ДФ оценок регрессионного обучения\n",
    "df3 = pd.DataFrame(model_test_metrics,\n",
    "                    index = model_names,\n",
    "                   columns = ['MAE', 'MSE', 'R2']) # ДФ оценок предсказания регрессии\n",
    "\n",
    "print('samples: %d \\t features: %d'%(n_samples, n_features))\n",
    "print(70*'-')\n",
    "print('Cross validation result:')\n",
    "print(df1)\n",
    "print(70*'-')\n",
    "print('Regression train metrics:')\n",
    "print(df2)\n",
    "print(70*'-')\n",
    "print('Regression test metrics:')\n",
    "print(df3)\n",
    "print(70*'-')\n",
    "print('short name \\t full name')\n",
    "print('MAE \\t mean_absolute_error')\n",
    "print('MSE \\t mean_squared_error')\n",
    "print('R2 \\t R2')\n",
    "print(70*'-')\n"
   ],
   "metadata": {
    "collapsed": false
   }
  },
  {
   "cell_type": "markdown",
   "source": [
    "Кол-во договоров\n",
    "="
   ],
   "metadata": {
    "collapsed": false
   }
  },
  {
   "cell_type": "code",
   "execution_count": 338,
   "outputs": [],
   "source": [
    "data_count = data_model[10:]"
   ],
   "metadata": {
    "collapsed": false
   }
  },
  {
   "cell_type": "code",
   "execution_count": 389,
   "outputs": [
    {
     "data": {
      "application/vnd.plotly.v1+json": {
       "data": [
        {
         "mode": "lines",
         "name": "data_model",
         "x": [
          1,
          2,
          3,
          4,
          5,
          6,
          7,
          8,
          9,
          10,
          11,
          12,
          13,
          14,
          15,
          16,
          17,
          18,
          19,
          20,
          21,
          22,
          23,
          24,
          25,
          26,
          27,
          28,
          29,
          30,
          31,
          32,
          33,
          34,
          35,
          36,
          37,
          38,
          39,
          40
         ],
         "y": [
          123,
          55,
          52,
          79,
          69,
          92,
          103,
          104,
          147,
          129,
          284,
          2035,
          1081,
          718,
          910,
          978,
          860,
          1058,
          642,
          467,
          498,
          614,
          760,
          1995,
          1019,
          686,
          1260,
          1329,
          802,
          1427,
          1015,
          920,
          977,
          694,
          920,
          2096,
          1903,
          391,
          6,
          1
         ],
         "type": "scatter",
         "xaxis": "x",
         "yaxis": "y"
        },
        {
         "mode": "lines",
         "name": "data_count",
         "x": [
          11,
          12,
          13,
          14,
          15,
          16,
          17,
          18,
          19,
          20,
          21,
          22,
          23,
          24,
          25,
          26,
          27,
          28,
          29,
          30,
          31,
          32,
          33,
          34,
          35,
          36,
          37,
          38,
          39,
          40
         ],
         "y": [
          284,
          2035,
          1081,
          718,
          910,
          978,
          860,
          1058,
          642,
          467,
          498,
          614,
          760,
          1995,
          1019,
          686,
          1260,
          1329,
          802,
          1427,
          1015,
          920,
          977,
          694,
          920,
          2096,
          1903,
          391,
          6,
          1
         ],
         "type": "scatter",
         "xaxis": "x",
         "yaxis": "y"
        }
       ],
       "layout": {
        "template": {
         "data": {
          "bar": [
           {
            "error_x": {
             "color": "#f2f5fa"
            },
            "error_y": {
             "color": "#f2f5fa"
            },
            "marker": {
             "line": {
              "color": "rgb(17,17,17)",
              "width": 0.5
             },
             "pattern": {
              "fillmode": "overlay",
              "size": 10,
              "solidity": 0.2
             }
            },
            "type": "bar"
           }
          ],
          "barpolar": [
           {
            "marker": {
             "line": {
              "color": "rgb(17,17,17)",
              "width": 0.5
             },
             "pattern": {
              "fillmode": "overlay",
              "size": 10,
              "solidity": 0.2
             }
            },
            "type": "barpolar"
           }
          ],
          "carpet": [
           {
            "aaxis": {
             "endlinecolor": "#A2B1C6",
             "gridcolor": "#506784",
             "linecolor": "#506784",
             "minorgridcolor": "#506784",
             "startlinecolor": "#A2B1C6"
            },
            "baxis": {
             "endlinecolor": "#A2B1C6",
             "gridcolor": "#506784",
             "linecolor": "#506784",
             "minorgridcolor": "#506784",
             "startlinecolor": "#A2B1C6"
            },
            "type": "carpet"
           }
          ],
          "choropleth": [
           {
            "colorbar": {
             "outlinewidth": 0,
             "ticks": ""
            },
            "type": "choropleth"
           }
          ],
          "contour": [
           {
            "colorbar": {
             "outlinewidth": 0,
             "ticks": ""
            },
            "colorscale": [
             [
              0.0,
              "#0d0887"
             ],
             [
              0.1111111111111111,
              "#46039f"
             ],
             [
              0.2222222222222222,
              "#7201a8"
             ],
             [
              0.3333333333333333,
              "#9c179e"
             ],
             [
              0.4444444444444444,
              "#bd3786"
             ],
             [
              0.5555555555555556,
              "#d8576b"
             ],
             [
              0.6666666666666666,
              "#ed7953"
             ],
             [
              0.7777777777777778,
              "#fb9f3a"
             ],
             [
              0.8888888888888888,
              "#fdca26"
             ],
             [
              1.0,
              "#f0f921"
             ]
            ],
            "type": "contour"
           }
          ],
          "contourcarpet": [
           {
            "colorbar": {
             "outlinewidth": 0,
             "ticks": ""
            },
            "type": "contourcarpet"
           }
          ],
          "heatmap": [
           {
            "colorbar": {
             "outlinewidth": 0,
             "ticks": ""
            },
            "colorscale": [
             [
              0.0,
              "#0d0887"
             ],
             [
              0.1111111111111111,
              "#46039f"
             ],
             [
              0.2222222222222222,
              "#7201a8"
             ],
             [
              0.3333333333333333,
              "#9c179e"
             ],
             [
              0.4444444444444444,
              "#bd3786"
             ],
             [
              0.5555555555555556,
              "#d8576b"
             ],
             [
              0.6666666666666666,
              "#ed7953"
             ],
             [
              0.7777777777777778,
              "#fb9f3a"
             ],
             [
              0.8888888888888888,
              "#fdca26"
             ],
             [
              1.0,
              "#f0f921"
             ]
            ],
            "type": "heatmap"
           }
          ],
          "heatmapgl": [
           {
            "colorbar": {
             "outlinewidth": 0,
             "ticks": ""
            },
            "colorscale": [
             [
              0.0,
              "#0d0887"
             ],
             [
              0.1111111111111111,
              "#46039f"
             ],
             [
              0.2222222222222222,
              "#7201a8"
             ],
             [
              0.3333333333333333,
              "#9c179e"
             ],
             [
              0.4444444444444444,
              "#bd3786"
             ],
             [
              0.5555555555555556,
              "#d8576b"
             ],
             [
              0.6666666666666666,
              "#ed7953"
             ],
             [
              0.7777777777777778,
              "#fb9f3a"
             ],
             [
              0.8888888888888888,
              "#fdca26"
             ],
             [
              1.0,
              "#f0f921"
             ]
            ],
            "type": "heatmapgl"
           }
          ],
          "histogram": [
           {
            "marker": {
             "pattern": {
              "fillmode": "overlay",
              "size": 10,
              "solidity": 0.2
             }
            },
            "type": "histogram"
           }
          ],
          "histogram2d": [
           {
            "colorbar": {
             "outlinewidth": 0,
             "ticks": ""
            },
            "colorscale": [
             [
              0.0,
              "#0d0887"
             ],
             [
              0.1111111111111111,
              "#46039f"
             ],
             [
              0.2222222222222222,
              "#7201a8"
             ],
             [
              0.3333333333333333,
              "#9c179e"
             ],
             [
              0.4444444444444444,
              "#bd3786"
             ],
             [
              0.5555555555555556,
              "#d8576b"
             ],
             [
              0.6666666666666666,
              "#ed7953"
             ],
             [
              0.7777777777777778,
              "#fb9f3a"
             ],
             [
              0.8888888888888888,
              "#fdca26"
             ],
             [
              1.0,
              "#f0f921"
             ]
            ],
            "type": "histogram2d"
           }
          ],
          "histogram2dcontour": [
           {
            "colorbar": {
             "outlinewidth": 0,
             "ticks": ""
            },
            "colorscale": [
             [
              0.0,
              "#0d0887"
             ],
             [
              0.1111111111111111,
              "#46039f"
             ],
             [
              0.2222222222222222,
              "#7201a8"
             ],
             [
              0.3333333333333333,
              "#9c179e"
             ],
             [
              0.4444444444444444,
              "#bd3786"
             ],
             [
              0.5555555555555556,
              "#d8576b"
             ],
             [
              0.6666666666666666,
              "#ed7953"
             ],
             [
              0.7777777777777778,
              "#fb9f3a"
             ],
             [
              0.8888888888888888,
              "#fdca26"
             ],
             [
              1.0,
              "#f0f921"
             ]
            ],
            "type": "histogram2dcontour"
           }
          ],
          "mesh3d": [
           {
            "colorbar": {
             "outlinewidth": 0,
             "ticks": ""
            },
            "type": "mesh3d"
           }
          ],
          "parcoords": [
           {
            "line": {
             "colorbar": {
              "outlinewidth": 0,
              "ticks": ""
             }
            },
            "type": "parcoords"
           }
          ],
          "pie": [
           {
            "automargin": true,
            "type": "pie"
           }
          ],
          "scatter": [
           {
            "marker": {
             "line": {
              "color": "#283442"
             }
            },
            "type": "scatter"
           }
          ],
          "scatter3d": [
           {
            "line": {
             "colorbar": {
              "outlinewidth": 0,
              "ticks": ""
             }
            },
            "marker": {
             "colorbar": {
              "outlinewidth": 0,
              "ticks": ""
             }
            },
            "type": "scatter3d"
           }
          ],
          "scattercarpet": [
           {
            "marker": {
             "colorbar": {
              "outlinewidth": 0,
              "ticks": ""
             }
            },
            "type": "scattercarpet"
           }
          ],
          "scattergeo": [
           {
            "marker": {
             "colorbar": {
              "outlinewidth": 0,
              "ticks": ""
             }
            },
            "type": "scattergeo"
           }
          ],
          "scattergl": [
           {
            "marker": {
             "line": {
              "color": "#283442"
             }
            },
            "type": "scattergl"
           }
          ],
          "scattermapbox": [
           {
            "marker": {
             "colorbar": {
              "outlinewidth": 0,
              "ticks": ""
             }
            },
            "type": "scattermapbox"
           }
          ],
          "scatterpolar": [
           {
            "marker": {
             "colorbar": {
              "outlinewidth": 0,
              "ticks": ""
             }
            },
            "type": "scatterpolar"
           }
          ],
          "scatterpolargl": [
           {
            "marker": {
             "colorbar": {
              "outlinewidth": 0,
              "ticks": ""
             }
            },
            "type": "scatterpolargl"
           }
          ],
          "scatterternary": [
           {
            "marker": {
             "colorbar": {
              "outlinewidth": 0,
              "ticks": ""
             }
            },
            "type": "scatterternary"
           }
          ],
          "surface": [
           {
            "colorbar": {
             "outlinewidth": 0,
             "ticks": ""
            },
            "colorscale": [
             [
              0.0,
              "#0d0887"
             ],
             [
              0.1111111111111111,
              "#46039f"
             ],
             [
              0.2222222222222222,
              "#7201a8"
             ],
             [
              0.3333333333333333,
              "#9c179e"
             ],
             [
              0.4444444444444444,
              "#bd3786"
             ],
             [
              0.5555555555555556,
              "#d8576b"
             ],
             [
              0.6666666666666666,
              "#ed7953"
             ],
             [
              0.7777777777777778,
              "#fb9f3a"
             ],
             [
              0.8888888888888888,
              "#fdca26"
             ],
             [
              1.0,
              "#f0f921"
             ]
            ],
            "type": "surface"
           }
          ],
          "table": [
           {
            "cells": {
             "fill": {
              "color": "#506784"
             },
             "line": {
              "color": "rgb(17,17,17)"
             }
            },
            "header": {
             "fill": {
              "color": "#2a3f5f"
             },
             "line": {
              "color": "rgb(17,17,17)"
             }
            },
            "type": "table"
           }
          ]
         },
         "layout": {
          "annotationdefaults": {
           "arrowcolor": "#f2f5fa",
           "arrowhead": 0,
           "arrowwidth": 1
          },
          "autotypenumbers": "strict",
          "coloraxis": {
           "colorbar": {
            "outlinewidth": 0,
            "ticks": ""
           }
          },
          "colorscale": {
           "diverging": [
            [
             0,
             "#8e0152"
            ],
            [
             0.1,
             "#c51b7d"
            ],
            [
             0.2,
             "#de77ae"
            ],
            [
             0.3,
             "#f1b6da"
            ],
            [
             0.4,
             "#fde0ef"
            ],
            [
             0.5,
             "#f7f7f7"
            ],
            [
             0.6,
             "#e6f5d0"
            ],
            [
             0.7,
             "#b8e186"
            ],
            [
             0.8,
             "#7fbc41"
            ],
            [
             0.9,
             "#4d9221"
            ],
            [
             1,
             "#276419"
            ]
           ],
           "sequential": [
            [
             0.0,
             "#0d0887"
            ],
            [
             0.1111111111111111,
             "#46039f"
            ],
            [
             0.2222222222222222,
             "#7201a8"
            ],
            [
             0.3333333333333333,
             "#9c179e"
            ],
            [
             0.4444444444444444,
             "#bd3786"
            ],
            [
             0.5555555555555556,
             "#d8576b"
            ],
            [
             0.6666666666666666,
             "#ed7953"
            ],
            [
             0.7777777777777778,
             "#fb9f3a"
            ],
            [
             0.8888888888888888,
             "#fdca26"
            ],
            [
             1.0,
             "#f0f921"
            ]
           ],
           "sequentialminus": [
            [
             0.0,
             "#0d0887"
            ],
            [
             0.1111111111111111,
             "#46039f"
            ],
            [
             0.2222222222222222,
             "#7201a8"
            ],
            [
             0.3333333333333333,
             "#9c179e"
            ],
            [
             0.4444444444444444,
             "#bd3786"
            ],
            [
             0.5555555555555556,
             "#d8576b"
            ],
            [
             0.6666666666666666,
             "#ed7953"
            ],
            [
             0.7777777777777778,
             "#fb9f3a"
            ],
            [
             0.8888888888888888,
             "#fdca26"
            ],
            [
             1.0,
             "#f0f921"
            ]
           ]
          },
          "colorway": [
           "#636efa",
           "#EF553B",
           "#00cc96",
           "#ab63fa",
           "#FFA15A",
           "#19d3f3",
           "#FF6692",
           "#B6E880",
           "#FF97FF",
           "#FECB52"
          ],
          "font": {
           "color": "#f2f5fa"
          },
          "geo": {
           "bgcolor": "rgb(17,17,17)",
           "lakecolor": "rgb(17,17,17)",
           "landcolor": "rgb(17,17,17)",
           "showlakes": true,
           "showland": true,
           "subunitcolor": "#506784"
          },
          "hoverlabel": {
           "align": "left"
          },
          "hovermode": "closest",
          "mapbox": {
           "style": "dark"
          },
          "paper_bgcolor": "rgb(17,17,17)",
          "plot_bgcolor": "rgb(17,17,17)",
          "polar": {
           "angularaxis": {
            "gridcolor": "#506784",
            "linecolor": "#506784",
            "ticks": ""
           },
           "bgcolor": "rgb(17,17,17)",
           "radialaxis": {
            "gridcolor": "#506784",
            "linecolor": "#506784",
            "ticks": ""
           }
          },
          "scene": {
           "xaxis": {
            "backgroundcolor": "rgb(17,17,17)",
            "gridcolor": "#506784",
            "gridwidth": 2,
            "linecolor": "#506784",
            "showbackground": true,
            "ticks": "",
            "zerolinecolor": "#C8D4E3"
           },
           "yaxis": {
            "backgroundcolor": "rgb(17,17,17)",
            "gridcolor": "#506784",
            "gridwidth": 2,
            "linecolor": "#506784",
            "showbackground": true,
            "ticks": "",
            "zerolinecolor": "#C8D4E3"
           },
           "zaxis": {
            "backgroundcolor": "rgb(17,17,17)",
            "gridcolor": "#506784",
            "gridwidth": 2,
            "linecolor": "#506784",
            "showbackground": true,
            "ticks": "",
            "zerolinecolor": "#C8D4E3"
           }
          },
          "shapedefaults": {
           "line": {
            "color": "#f2f5fa"
           }
          },
          "sliderdefaults": {
           "bgcolor": "#C8D4E3",
           "bordercolor": "rgb(17,17,17)",
           "borderwidth": 1,
           "tickwidth": 0
          },
          "ternary": {
           "aaxis": {
            "gridcolor": "#506784",
            "linecolor": "#506784",
            "ticks": ""
           },
           "baxis": {
            "gridcolor": "#506784",
            "linecolor": "#506784",
            "ticks": ""
           },
           "bgcolor": "rgb(17,17,17)",
           "caxis": {
            "gridcolor": "#506784",
            "linecolor": "#506784",
            "ticks": ""
           }
          },
          "title": {
           "x": 0.05
          },
          "updatemenudefaults": {
           "bgcolor": "#506784",
           "borderwidth": 0
          },
          "xaxis": {
           "automargin": true,
           "gridcolor": "#283442",
           "linecolor": "#506784",
           "ticks": "",
           "title": {
            "standoff": 15
           },
           "zerolinecolor": "#283442",
           "zerolinewidth": 2
          },
          "yaxis": {
           "automargin": true,
           "gridcolor": "#283442",
           "linecolor": "#506784",
           "ticks": "",
           "title": {
            "standoff": 15
           },
           "zerolinecolor": "#283442",
           "zerolinewidth": 2
          }
         }
        },
        "xaxis": {
         "anchor": "y",
         "domain": [
          0.0,
          0.94
         ]
        },
        "yaxis": {
         "anchor": "x",
         "domain": [
          0.0,
          1.0
         ]
        },
        "yaxis2": {
         "anchor": "x",
         "overlaying": "y",
         "side": "right"
        }
       },
       "config": {
        "plotlyServerURL": "https://plot.ly"
       }
      },
      "text/html": "<div>                            <div id=\"65ce97bb-e983-43da-973d-f5dec3f07573\" class=\"plotly-graph-div\" style=\"height:525px; width:100%;\"></div>            <script type=\"text/javascript\">                require([\"plotly\"], function(Plotly) {                    window.PLOTLYENV=window.PLOTLYENV || {};                                    if (document.getElementById(\"65ce97bb-e983-43da-973d-f5dec3f07573\")) {                    Plotly.newPlot(                        \"65ce97bb-e983-43da-973d-f5dec3f07573\",                        [{\"mode\":\"lines\",\"name\":\"data_model\",\"x\":[1,2,3,4,5,6,7,8,9,10,11,12,13,14,15,16,17,18,19,20,21,22,23,24,25,26,27,28,29,30,31,32,33,34,35,36,37,38,39,40],\"y\":[123,55,52,79,69,92,103,104,147,129,284,2035,1081,718,910,978,860,1058,642,467,498,614,760,1995,1019,686,1260,1329,802,1427,1015,920,977,694,920,2096,1903,391,6,1],\"type\":\"scatter\",\"xaxis\":\"x\",\"yaxis\":\"y\"},{\"mode\":\"lines\",\"name\":\"data_count\",\"x\":[11,12,13,14,15,16,17,18,19,20,21,22,23,24,25,26,27,28,29,30,31,32,33,34,35,36,37,38,39,40],\"y\":[284,2035,1081,718,910,978,860,1058,642,467,498,614,760,1995,1019,686,1260,1329,802,1427,1015,920,977,694,920,2096,1903,391,6,1],\"type\":\"scatter\",\"xaxis\":\"x\",\"yaxis\":\"y\"}],                        {\"template\":{\"data\":{\"bar\":[{\"error_x\":{\"color\":\"#f2f5fa\"},\"error_y\":{\"color\":\"#f2f5fa\"},\"marker\":{\"line\":{\"color\":\"rgb(17,17,17)\",\"width\":0.5},\"pattern\":{\"fillmode\":\"overlay\",\"size\":10,\"solidity\":0.2}},\"type\":\"bar\"}],\"barpolar\":[{\"marker\":{\"line\":{\"color\":\"rgb(17,17,17)\",\"width\":0.5},\"pattern\":{\"fillmode\":\"overlay\",\"size\":10,\"solidity\":0.2}},\"type\":\"barpolar\"}],\"carpet\":[{\"aaxis\":{\"endlinecolor\":\"#A2B1C6\",\"gridcolor\":\"#506784\",\"linecolor\":\"#506784\",\"minorgridcolor\":\"#506784\",\"startlinecolor\":\"#A2B1C6\"},\"baxis\":{\"endlinecolor\":\"#A2B1C6\",\"gridcolor\":\"#506784\",\"linecolor\":\"#506784\",\"minorgridcolor\":\"#506784\",\"startlinecolor\":\"#A2B1C6\"},\"type\":\"carpet\"}],\"choropleth\":[{\"colorbar\":{\"outlinewidth\":0,\"ticks\":\"\"},\"type\":\"choropleth\"}],\"contour\":[{\"colorbar\":{\"outlinewidth\":0,\"ticks\":\"\"},\"colorscale\":[[0.0,\"#0d0887\"],[0.1111111111111111,\"#46039f\"],[0.2222222222222222,\"#7201a8\"],[0.3333333333333333,\"#9c179e\"],[0.4444444444444444,\"#bd3786\"],[0.5555555555555556,\"#d8576b\"],[0.6666666666666666,\"#ed7953\"],[0.7777777777777778,\"#fb9f3a\"],[0.8888888888888888,\"#fdca26\"],[1.0,\"#f0f921\"]],\"type\":\"contour\"}],\"contourcarpet\":[{\"colorbar\":{\"outlinewidth\":0,\"ticks\":\"\"},\"type\":\"contourcarpet\"}],\"heatmap\":[{\"colorbar\":{\"outlinewidth\":0,\"ticks\":\"\"},\"colorscale\":[[0.0,\"#0d0887\"],[0.1111111111111111,\"#46039f\"],[0.2222222222222222,\"#7201a8\"],[0.3333333333333333,\"#9c179e\"],[0.4444444444444444,\"#bd3786\"],[0.5555555555555556,\"#d8576b\"],[0.6666666666666666,\"#ed7953\"],[0.7777777777777778,\"#fb9f3a\"],[0.8888888888888888,\"#fdca26\"],[1.0,\"#f0f921\"]],\"type\":\"heatmap\"}],\"heatmapgl\":[{\"colorbar\":{\"outlinewidth\":0,\"ticks\":\"\"},\"colorscale\":[[0.0,\"#0d0887\"],[0.1111111111111111,\"#46039f\"],[0.2222222222222222,\"#7201a8\"],[0.3333333333333333,\"#9c179e\"],[0.4444444444444444,\"#bd3786\"],[0.5555555555555556,\"#d8576b\"],[0.6666666666666666,\"#ed7953\"],[0.7777777777777778,\"#fb9f3a\"],[0.8888888888888888,\"#fdca26\"],[1.0,\"#f0f921\"]],\"type\":\"heatmapgl\"}],\"histogram\":[{\"marker\":{\"pattern\":{\"fillmode\":\"overlay\",\"size\":10,\"solidity\":0.2}},\"type\":\"histogram\"}],\"histogram2d\":[{\"colorbar\":{\"outlinewidth\":0,\"ticks\":\"\"},\"colorscale\":[[0.0,\"#0d0887\"],[0.1111111111111111,\"#46039f\"],[0.2222222222222222,\"#7201a8\"],[0.3333333333333333,\"#9c179e\"],[0.4444444444444444,\"#bd3786\"],[0.5555555555555556,\"#d8576b\"],[0.6666666666666666,\"#ed7953\"],[0.7777777777777778,\"#fb9f3a\"],[0.8888888888888888,\"#fdca26\"],[1.0,\"#f0f921\"]],\"type\":\"histogram2d\"}],\"histogram2dcontour\":[{\"colorbar\":{\"outlinewidth\":0,\"ticks\":\"\"},\"colorscale\":[[0.0,\"#0d0887\"],[0.1111111111111111,\"#46039f\"],[0.2222222222222222,\"#7201a8\"],[0.3333333333333333,\"#9c179e\"],[0.4444444444444444,\"#bd3786\"],[0.5555555555555556,\"#d8576b\"],[0.6666666666666666,\"#ed7953\"],[0.7777777777777778,\"#fb9f3a\"],[0.8888888888888888,\"#fdca26\"],[1.0,\"#f0f921\"]],\"type\":\"histogram2dcontour\"}],\"mesh3d\":[{\"colorbar\":{\"outlinewidth\":0,\"ticks\":\"\"},\"type\":\"mesh3d\"}],\"parcoords\":[{\"line\":{\"colorbar\":{\"outlinewidth\":0,\"ticks\":\"\"}},\"type\":\"parcoords\"}],\"pie\":[{\"automargin\":true,\"type\":\"pie\"}],\"scatter\":[{\"marker\":{\"line\":{\"color\":\"#283442\"}},\"type\":\"scatter\"}],\"scatter3d\":[{\"line\":{\"colorbar\":{\"outlinewidth\":0,\"ticks\":\"\"}},\"marker\":{\"colorbar\":{\"outlinewidth\":0,\"ticks\":\"\"}},\"type\":\"scatter3d\"}],\"scattercarpet\":[{\"marker\":{\"colorbar\":{\"outlinewidth\":0,\"ticks\":\"\"}},\"type\":\"scattercarpet\"}],\"scattergeo\":[{\"marker\":{\"colorbar\":{\"outlinewidth\":0,\"ticks\":\"\"}},\"type\":\"scattergeo\"}],\"scattergl\":[{\"marker\":{\"line\":{\"color\":\"#283442\"}},\"type\":\"scattergl\"}],\"scattermapbox\":[{\"marker\":{\"colorbar\":{\"outlinewidth\":0,\"ticks\":\"\"}},\"type\":\"scattermapbox\"}],\"scatterpolar\":[{\"marker\":{\"colorbar\":{\"outlinewidth\":0,\"ticks\":\"\"}},\"type\":\"scatterpolar\"}],\"scatterpolargl\":[{\"marker\":{\"colorbar\":{\"outlinewidth\":0,\"ticks\":\"\"}},\"type\":\"scatterpolargl\"}],\"scatterternary\":[{\"marker\":{\"colorbar\":{\"outlinewidth\":0,\"ticks\":\"\"}},\"type\":\"scatterternary\"}],\"surface\":[{\"colorbar\":{\"outlinewidth\":0,\"ticks\":\"\"},\"colorscale\":[[0.0,\"#0d0887\"],[0.1111111111111111,\"#46039f\"],[0.2222222222222222,\"#7201a8\"],[0.3333333333333333,\"#9c179e\"],[0.4444444444444444,\"#bd3786\"],[0.5555555555555556,\"#d8576b\"],[0.6666666666666666,\"#ed7953\"],[0.7777777777777778,\"#fb9f3a\"],[0.8888888888888888,\"#fdca26\"],[1.0,\"#f0f921\"]],\"type\":\"surface\"}],\"table\":[{\"cells\":{\"fill\":{\"color\":\"#506784\"},\"line\":{\"color\":\"rgb(17,17,17)\"}},\"header\":{\"fill\":{\"color\":\"#2a3f5f\"},\"line\":{\"color\":\"rgb(17,17,17)\"}},\"type\":\"table\"}]},\"layout\":{\"annotationdefaults\":{\"arrowcolor\":\"#f2f5fa\",\"arrowhead\":0,\"arrowwidth\":1},\"autotypenumbers\":\"strict\",\"coloraxis\":{\"colorbar\":{\"outlinewidth\":0,\"ticks\":\"\"}},\"colorscale\":{\"diverging\":[[0,\"#8e0152\"],[0.1,\"#c51b7d\"],[0.2,\"#de77ae\"],[0.3,\"#f1b6da\"],[0.4,\"#fde0ef\"],[0.5,\"#f7f7f7\"],[0.6,\"#e6f5d0\"],[0.7,\"#b8e186\"],[0.8,\"#7fbc41\"],[0.9,\"#4d9221\"],[1,\"#276419\"]],\"sequential\":[[0.0,\"#0d0887\"],[0.1111111111111111,\"#46039f\"],[0.2222222222222222,\"#7201a8\"],[0.3333333333333333,\"#9c179e\"],[0.4444444444444444,\"#bd3786\"],[0.5555555555555556,\"#d8576b\"],[0.6666666666666666,\"#ed7953\"],[0.7777777777777778,\"#fb9f3a\"],[0.8888888888888888,\"#fdca26\"],[1.0,\"#f0f921\"]],\"sequentialminus\":[[0.0,\"#0d0887\"],[0.1111111111111111,\"#46039f\"],[0.2222222222222222,\"#7201a8\"],[0.3333333333333333,\"#9c179e\"],[0.4444444444444444,\"#bd3786\"],[0.5555555555555556,\"#d8576b\"],[0.6666666666666666,\"#ed7953\"],[0.7777777777777778,\"#fb9f3a\"],[0.8888888888888888,\"#fdca26\"],[1.0,\"#f0f921\"]]},\"colorway\":[\"#636efa\",\"#EF553B\",\"#00cc96\",\"#ab63fa\",\"#FFA15A\",\"#19d3f3\",\"#FF6692\",\"#B6E880\",\"#FF97FF\",\"#FECB52\"],\"font\":{\"color\":\"#f2f5fa\"},\"geo\":{\"bgcolor\":\"rgb(17,17,17)\",\"lakecolor\":\"rgb(17,17,17)\",\"landcolor\":\"rgb(17,17,17)\",\"showlakes\":true,\"showland\":true,\"subunitcolor\":\"#506784\"},\"hoverlabel\":{\"align\":\"left\"},\"hovermode\":\"closest\",\"mapbox\":{\"style\":\"dark\"},\"paper_bgcolor\":\"rgb(17,17,17)\",\"plot_bgcolor\":\"rgb(17,17,17)\",\"polar\":{\"angularaxis\":{\"gridcolor\":\"#506784\",\"linecolor\":\"#506784\",\"ticks\":\"\"},\"bgcolor\":\"rgb(17,17,17)\",\"radialaxis\":{\"gridcolor\":\"#506784\",\"linecolor\":\"#506784\",\"ticks\":\"\"}},\"scene\":{\"xaxis\":{\"backgroundcolor\":\"rgb(17,17,17)\",\"gridcolor\":\"#506784\",\"gridwidth\":2,\"linecolor\":\"#506784\",\"showbackground\":true,\"ticks\":\"\",\"zerolinecolor\":\"#C8D4E3\"},\"yaxis\":{\"backgroundcolor\":\"rgb(17,17,17)\",\"gridcolor\":\"#506784\",\"gridwidth\":2,\"linecolor\":\"#506784\",\"showbackground\":true,\"ticks\":\"\",\"zerolinecolor\":\"#C8D4E3\"},\"zaxis\":{\"backgroundcolor\":\"rgb(17,17,17)\",\"gridcolor\":\"#506784\",\"gridwidth\":2,\"linecolor\":\"#506784\",\"showbackground\":true,\"ticks\":\"\",\"zerolinecolor\":\"#C8D4E3\"}},\"shapedefaults\":{\"line\":{\"color\":\"#f2f5fa\"}},\"sliderdefaults\":{\"bgcolor\":\"#C8D4E3\",\"bordercolor\":\"rgb(17,17,17)\",\"borderwidth\":1,\"tickwidth\":0},\"ternary\":{\"aaxis\":{\"gridcolor\":\"#506784\",\"linecolor\":\"#506784\",\"ticks\":\"\"},\"baxis\":{\"gridcolor\":\"#506784\",\"linecolor\":\"#506784\",\"ticks\":\"\"},\"bgcolor\":\"rgb(17,17,17)\",\"caxis\":{\"gridcolor\":\"#506784\",\"linecolor\":\"#506784\",\"ticks\":\"\"}},\"title\":{\"x\":0.05},\"updatemenudefaults\":{\"bgcolor\":\"#506784\",\"borderwidth\":0},\"xaxis\":{\"automargin\":true,\"gridcolor\":\"#283442\",\"linecolor\":\"#506784\",\"ticks\":\"\",\"title\":{\"standoff\":15},\"zerolinecolor\":\"#283442\",\"zerolinewidth\":2},\"yaxis\":{\"automargin\":true,\"gridcolor\":\"#283442\",\"linecolor\":\"#506784\",\"ticks\":\"\",\"title\":{\"standoff\":15},\"zerolinecolor\":\"#283442\",\"zerolinewidth\":2}}},\"xaxis\":{\"anchor\":\"y\",\"domain\":[0.0,0.94]},\"yaxis\":{\"anchor\":\"x\",\"domain\":[0.0,1.0]},\"yaxis2\":{\"anchor\":\"x\",\"overlaying\":\"y\",\"side\":\"right\"}},                        {\"responsive\": true}                    ).then(function(){\n                            \nvar gd = document.getElementById('65ce97bb-e983-43da-973d-f5dec3f07573');\nvar x = new MutationObserver(function (mutations, observer) {{\n        var display = window.getComputedStyle(gd).display;\n        if (!display || display === 'none') {{\n            console.log([gd, 'removed!']);\n            Plotly.purge(gd);\n            observer.disconnect();\n        }}\n}});\n\n// Listen for the removal of the full notebook cells\nvar notebookContainer = gd.closest('#notebook-container');\nif (notebookContainer) {{\n    x.observe(notebookContainer, {childList: true});\n}}\n\n// Listen for the clearing of the current output cell\nvar outputEl = gd.closest('.output');\nif (outputEl) {{\n    x.observe(outputEl, {childList: true});\n}}\n\n                        })                };                });            </script>        </div>"
     },
     "metadata": {},
     "output_type": "display_data"
    }
   ],
   "source": [
    "fig2 = make_subplots(specs=[[{'secondary_y': True}]])\n",
    "fig2.add_trace(go.Scatter(x=data_model['N'], y=data_model['count'],name='data_model', mode = 'lines'),\n",
    "            secondary_y=False) # исходные данные\n",
    "fig2.add_trace(go.Scatter(x = data_model['N'][10:], y = data_model['count'][10:],name='data_count', mode='lines'),\n",
    "              secondary_y=False) #данные, которые берутся для построения модели\n",
    "\n",
    "fig2.show()"
   ],
   "metadata": {
    "collapsed": false
   }
  },
  {
   "cell_type": "code",
   "execution_count": 339,
   "outputs": [
    {
     "name": "stderr",
     "output_type": "stream",
     "text": [
      "C:\\Temp\\ipykernel_8160\\1283896821.py:1: SettingWithCopyWarning:\n",
      "\n",
      "\n",
      "A value is trying to be set on a copy of a slice from a DataFrame.\n",
      "Try using .loc[row_indexer,col_indexer] = value instead\n",
      "\n",
      "See the caveats in the documentation: https://pandas.pydata.org/pandas-docs/stable/user_guide/indexing.html#returning-a-view-versus-a-copy\n",
      "\n"
     ]
    }
   ],
   "source": [
    "data_count['N'] = range(1,len(data_count)+1)"
   ],
   "metadata": {
    "collapsed": false
   }
  },
  {
   "cell_type": "code",
   "execution_count": 340,
   "outputs": [
    {
     "data": {
      "text/plain": "                  amount  count  LN(amount)  LN(count)   N  season_1  \\\nst date                                                                \n2019-11-30  1.256651e+09    284   20.951716   5.648974   1     False   \n2019-12-31  6.776751e+09   2035   22.636764   7.618251   2     False   \n2020-01-31  7.836339e+08   1081   20.479453   6.985642   3     False   \n2020-02-29  3.554648e+08    718   19.688937   6.576470   4     False   \n2020-03-31  7.727438e+08    910   20.465458   6.813445   5     False   \n2020-04-30  8.381224e+08    978   20.546675   6.885510   6     False   \n2020-05-31  3.508018e+09    860   21.978317   6.756932   7     False   \n2020-06-30  1.061134e+09   1058   20.782604   6.964136   8     False   \n2020-07-31  3.386221e+09    642   21.942980   6.464588   9     False   \n2020-08-31  3.141260e+08    467   19.565305   6.146329  10     False   \n2020-09-30  6.924019e+08    498   20.355677   6.210600  11     False   \n2020-10-31  8.610735e+08    614   20.573690   6.419995  12     False   \n2020-11-30  1.339340e+09    760   21.015443   6.633318  13     False   \n2020-12-31  4.048599e+09   1995   22.121637   7.598399  14     False   \n2021-01-31  8.362608e+08   1019   20.544451   6.926577  15     False   \n2021-02-28  3.701269e+08    686   19.729357   6.530878  16     False   \n2021-03-31  1.053798e+09   1260   20.775666   7.138867  17     False   \n2021-04-30  9.810521e+09   1329   23.006721   7.192182  18     False   \n2021-05-31  6.076343e+08    802   20.225084   6.687109  19     False   \n2021-06-30  9.449302e+08   1427   20.666622   7.263330  20     False   \n2021-07-31  1.614118e+09   1015   21.202054   6.922644  21     False   \n2021-08-31  1.613361e+09    920   21.201586   6.824374  22     False   \n2021-09-30  7.077621e+08    977   20.377619   6.884487  23     False   \n2021-10-31  2.237809e+09    694   21.528763   6.542472  24     False   \n2021-11-30  1.095681e+09    920   20.814642   6.824374  25     False   \n2021-12-31  3.423868e+09   2096   21.954037   7.647786  26     False   \n2022-01-31  6.353949e+08   1903   20.269757   7.551187  27     False   \n2022-02-28  6.131171e+08    391   20.234067   5.968708  28     False   \n2022-03-31  2.073279e+07      6   16.847227   1.791759  29     False   \n2022-04-30  9.840300e+04      1   11.496827   0.000000  30     False   \n\n            season_2  season_3  season_4  season_5  season_6  season_7  \\\nst date                                                                  \n2019-11-30     False     False     False     False     False     False   \n2019-12-31     False     False     False     False     False     False   \n2020-01-31     False     False     False     False     False     False   \n2020-02-29     False     False     False     False     False     False   \n2020-03-31     False     False     False     False     False     False   \n2020-04-30     False     False     False     False     False     False   \n2020-05-31     False     False     False     False     False     False   \n2020-06-30     False     False     False     False     False     False   \n2020-07-31     False     False     False     False     False     False   \n2020-08-31     False     False     False     False     False     False   \n2020-09-30     False     False     False     False     False     False   \n2020-10-31     False     False     False     False     False     False   \n2020-11-30     False     False     False     False     False     False   \n2020-12-31     False     False     False     False     False     False   \n2021-01-31     False     False     False     False     False     False   \n2021-02-28     False     False     False     False     False     False   \n2021-03-31     False     False     False     False     False     False   \n2021-04-30     False     False     False     False     False     False   \n2021-05-31     False     False     False     False     False     False   \n2021-06-30     False     False     False     False     False     False   \n2021-07-31     False     False     False     False     False     False   \n2021-08-31     False     False     False     False     False     False   \n2021-09-30     False     False     False     False     False     False   \n2021-10-31     False     False     False     False     False     False   \n2021-11-30     False     False     False     False     False     False   \n2021-12-31     False     False     False     False     False     False   \n2022-01-31     False     False     False     False     False     False   \n2022-02-28     False     False     False     False     False     False   \n2022-03-31     False     False     False     False     False     False   \n2022-04-30     False     False     False     False     False     False   \n\n            season_8  season_9  season_10  season_11  season_12  \nst date                                                          \n2019-11-30     False     False      False       True      False  \n2019-12-31     False     False      False      False       True  \n2020-01-31     False     False      False      False      False  \n2020-02-29     False     False      False      False      False  \n2020-03-31     False     False      False      False      False  \n2020-04-30     False     False      False      False      False  \n2020-05-31     False     False      False      False      False  \n2020-06-30     False     False      False      False      False  \n2020-07-31     False     False      False      False      False  \n2020-08-31     False     False      False      False      False  \n2020-09-30     False     False      False      False      False  \n2020-10-31     False     False      False      False      False  \n2020-11-30     False     False      False      False      False  \n2020-12-31     False     False      False      False      False  \n2021-01-31     False     False      False      False      False  \n2021-02-28     False     False      False      False      False  \n2021-03-31     False     False      False      False      False  \n2021-04-30     False     False      False      False      False  \n2021-05-31     False     False      False      False      False  \n2021-06-30     False     False      False      False      False  \n2021-07-31     False     False      False      False      False  \n2021-08-31     False     False      False      False      False  \n2021-09-30     False     False      False      False      False  \n2021-10-31     False     False      False      False      False  \n2021-11-30     False     False      False      False      False  \n2021-12-31     False     False      False      False      False  \n2022-01-31     False     False      False      False      False  \n2022-02-28     False     False      False      False      False  \n2022-03-31     False     False      False      False      False  \n2022-04-30     False     False      False      False      False  ",
      "text/html": "<div>\n<style scoped>\n    .dataframe tbody tr th:only-of-type {\n        vertical-align: middle;\n    }\n\n    .dataframe tbody tr th {\n        vertical-align: top;\n    }\n\n    .dataframe thead th {\n        text-align: right;\n    }\n</style>\n<table border=\"1\" class=\"dataframe\">\n  <thead>\n    <tr style=\"text-align: right;\">\n      <th></th>\n      <th>amount</th>\n      <th>count</th>\n      <th>LN(amount)</th>\n      <th>LN(count)</th>\n      <th>N</th>\n      <th>season_1</th>\n      <th>season_2</th>\n      <th>season_3</th>\n      <th>season_4</th>\n      <th>season_5</th>\n      <th>season_6</th>\n      <th>season_7</th>\n      <th>season_8</th>\n      <th>season_9</th>\n      <th>season_10</th>\n      <th>season_11</th>\n      <th>season_12</th>\n    </tr>\n    <tr>\n      <th>st date</th>\n      <th></th>\n      <th></th>\n      <th></th>\n      <th></th>\n      <th></th>\n      <th></th>\n      <th></th>\n      <th></th>\n      <th></th>\n      <th></th>\n      <th></th>\n      <th></th>\n      <th></th>\n      <th></th>\n      <th></th>\n      <th></th>\n      <th></th>\n    </tr>\n  </thead>\n  <tbody>\n    <tr>\n      <th>2019-11-30</th>\n      <td>1.256651e+09</td>\n      <td>284</td>\n      <td>20.951716</td>\n      <td>5.648974</td>\n      <td>1</td>\n      <td>False</td>\n      <td>False</td>\n      <td>False</td>\n      <td>False</td>\n      <td>False</td>\n      <td>False</td>\n      <td>False</td>\n      <td>False</td>\n      <td>False</td>\n      <td>False</td>\n      <td>True</td>\n      <td>False</td>\n    </tr>\n    <tr>\n      <th>2019-12-31</th>\n      <td>6.776751e+09</td>\n      <td>2035</td>\n      <td>22.636764</td>\n      <td>7.618251</td>\n      <td>2</td>\n      <td>False</td>\n      <td>False</td>\n      <td>False</td>\n      <td>False</td>\n      <td>False</td>\n      <td>False</td>\n      <td>False</td>\n      <td>False</td>\n      <td>False</td>\n      <td>False</td>\n      <td>False</td>\n      <td>True</td>\n    </tr>\n    <tr>\n      <th>2020-01-31</th>\n      <td>7.836339e+08</td>\n      <td>1081</td>\n      <td>20.479453</td>\n      <td>6.985642</td>\n      <td>3</td>\n      <td>False</td>\n      <td>False</td>\n      <td>False</td>\n      <td>False</td>\n      <td>False</td>\n      <td>False</td>\n      <td>False</td>\n      <td>False</td>\n      <td>False</td>\n      <td>False</td>\n      <td>False</td>\n      <td>False</td>\n    </tr>\n    <tr>\n      <th>2020-02-29</th>\n      <td>3.554648e+08</td>\n      <td>718</td>\n      <td>19.688937</td>\n      <td>6.576470</td>\n      <td>4</td>\n      <td>False</td>\n      <td>False</td>\n      <td>False</td>\n      <td>False</td>\n      <td>False</td>\n      <td>False</td>\n      <td>False</td>\n      <td>False</td>\n      <td>False</td>\n      <td>False</td>\n      <td>False</td>\n      <td>False</td>\n    </tr>\n    <tr>\n      <th>2020-03-31</th>\n      <td>7.727438e+08</td>\n      <td>910</td>\n      <td>20.465458</td>\n      <td>6.813445</td>\n      <td>5</td>\n      <td>False</td>\n      <td>False</td>\n      <td>False</td>\n      <td>False</td>\n      <td>False</td>\n      <td>False</td>\n      <td>False</td>\n      <td>False</td>\n      <td>False</td>\n      <td>False</td>\n      <td>False</td>\n      <td>False</td>\n    </tr>\n    <tr>\n      <th>2020-04-30</th>\n      <td>8.381224e+08</td>\n      <td>978</td>\n      <td>20.546675</td>\n      <td>6.885510</td>\n      <td>6</td>\n      <td>False</td>\n      <td>False</td>\n      <td>False</td>\n      <td>False</td>\n      <td>False</td>\n      <td>False</td>\n      <td>False</td>\n      <td>False</td>\n      <td>False</td>\n      <td>False</td>\n      <td>False</td>\n      <td>False</td>\n    </tr>\n    <tr>\n      <th>2020-05-31</th>\n      <td>3.508018e+09</td>\n      <td>860</td>\n      <td>21.978317</td>\n      <td>6.756932</td>\n      <td>7</td>\n      <td>False</td>\n      <td>False</td>\n      <td>False</td>\n      <td>False</td>\n      <td>False</td>\n      <td>False</td>\n      <td>False</td>\n      <td>False</td>\n      <td>False</td>\n      <td>False</td>\n      <td>False</td>\n      <td>False</td>\n    </tr>\n    <tr>\n      <th>2020-06-30</th>\n      <td>1.061134e+09</td>\n      <td>1058</td>\n      <td>20.782604</td>\n      <td>6.964136</td>\n      <td>8</td>\n      <td>False</td>\n      <td>False</td>\n      <td>False</td>\n      <td>False</td>\n      <td>False</td>\n      <td>False</td>\n      <td>False</td>\n      <td>False</td>\n      <td>False</td>\n      <td>False</td>\n      <td>False</td>\n      <td>False</td>\n    </tr>\n    <tr>\n      <th>2020-07-31</th>\n      <td>3.386221e+09</td>\n      <td>642</td>\n      <td>21.942980</td>\n      <td>6.464588</td>\n      <td>9</td>\n      <td>False</td>\n      <td>False</td>\n      <td>False</td>\n      <td>False</td>\n      <td>False</td>\n      <td>False</td>\n      <td>False</td>\n      <td>False</td>\n      <td>False</td>\n      <td>False</td>\n      <td>False</td>\n      <td>False</td>\n    </tr>\n    <tr>\n      <th>2020-08-31</th>\n      <td>3.141260e+08</td>\n      <td>467</td>\n      <td>19.565305</td>\n      <td>6.146329</td>\n      <td>10</td>\n      <td>False</td>\n      <td>False</td>\n      <td>False</td>\n      <td>False</td>\n      <td>False</td>\n      <td>False</td>\n      <td>False</td>\n      <td>False</td>\n      <td>False</td>\n      <td>False</td>\n      <td>False</td>\n      <td>False</td>\n    </tr>\n    <tr>\n      <th>2020-09-30</th>\n      <td>6.924019e+08</td>\n      <td>498</td>\n      <td>20.355677</td>\n      <td>6.210600</td>\n      <td>11</td>\n      <td>False</td>\n      <td>False</td>\n      <td>False</td>\n      <td>False</td>\n      <td>False</td>\n      <td>False</td>\n      <td>False</td>\n      <td>False</td>\n      <td>False</td>\n      <td>False</td>\n      <td>False</td>\n      <td>False</td>\n    </tr>\n    <tr>\n      <th>2020-10-31</th>\n      <td>8.610735e+08</td>\n      <td>614</td>\n      <td>20.573690</td>\n      <td>6.419995</td>\n      <td>12</td>\n      <td>False</td>\n      <td>False</td>\n      <td>False</td>\n      <td>False</td>\n      <td>False</td>\n      <td>False</td>\n      <td>False</td>\n      <td>False</td>\n      <td>False</td>\n      <td>False</td>\n      <td>False</td>\n      <td>False</td>\n    </tr>\n    <tr>\n      <th>2020-11-30</th>\n      <td>1.339340e+09</td>\n      <td>760</td>\n      <td>21.015443</td>\n      <td>6.633318</td>\n      <td>13</td>\n      <td>False</td>\n      <td>False</td>\n      <td>False</td>\n      <td>False</td>\n      <td>False</td>\n      <td>False</td>\n      <td>False</td>\n      <td>False</td>\n      <td>False</td>\n      <td>False</td>\n      <td>False</td>\n      <td>False</td>\n    </tr>\n    <tr>\n      <th>2020-12-31</th>\n      <td>4.048599e+09</td>\n      <td>1995</td>\n      <td>22.121637</td>\n      <td>7.598399</td>\n      <td>14</td>\n      <td>False</td>\n      <td>False</td>\n      <td>False</td>\n      <td>False</td>\n      <td>False</td>\n      <td>False</td>\n      <td>False</td>\n      <td>False</td>\n      <td>False</td>\n      <td>False</td>\n      <td>False</td>\n      <td>False</td>\n    </tr>\n    <tr>\n      <th>2021-01-31</th>\n      <td>8.362608e+08</td>\n      <td>1019</td>\n      <td>20.544451</td>\n      <td>6.926577</td>\n      <td>15</td>\n      <td>False</td>\n      <td>False</td>\n      <td>False</td>\n      <td>False</td>\n      <td>False</td>\n      <td>False</td>\n      <td>False</td>\n      <td>False</td>\n      <td>False</td>\n      <td>False</td>\n      <td>False</td>\n      <td>False</td>\n    </tr>\n    <tr>\n      <th>2021-02-28</th>\n      <td>3.701269e+08</td>\n      <td>686</td>\n      <td>19.729357</td>\n      <td>6.530878</td>\n      <td>16</td>\n      <td>False</td>\n      <td>False</td>\n      <td>False</td>\n      <td>False</td>\n      <td>False</td>\n      <td>False</td>\n      <td>False</td>\n      <td>False</td>\n      <td>False</td>\n      <td>False</td>\n      <td>False</td>\n      <td>False</td>\n    </tr>\n    <tr>\n      <th>2021-03-31</th>\n      <td>1.053798e+09</td>\n      <td>1260</td>\n      <td>20.775666</td>\n      <td>7.138867</td>\n      <td>17</td>\n      <td>False</td>\n      <td>False</td>\n      <td>False</td>\n      <td>False</td>\n      <td>False</td>\n      <td>False</td>\n      <td>False</td>\n      <td>False</td>\n      <td>False</td>\n      <td>False</td>\n      <td>False</td>\n      <td>False</td>\n    </tr>\n    <tr>\n      <th>2021-04-30</th>\n      <td>9.810521e+09</td>\n      <td>1329</td>\n      <td>23.006721</td>\n      <td>7.192182</td>\n      <td>18</td>\n      <td>False</td>\n      <td>False</td>\n      <td>False</td>\n      <td>False</td>\n      <td>False</td>\n      <td>False</td>\n      <td>False</td>\n      <td>False</td>\n      <td>False</td>\n      <td>False</td>\n      <td>False</td>\n      <td>False</td>\n    </tr>\n    <tr>\n      <th>2021-05-31</th>\n      <td>6.076343e+08</td>\n      <td>802</td>\n      <td>20.225084</td>\n      <td>6.687109</td>\n      <td>19</td>\n      <td>False</td>\n      <td>False</td>\n      <td>False</td>\n      <td>False</td>\n      <td>False</td>\n      <td>False</td>\n      <td>False</td>\n      <td>False</td>\n      <td>False</td>\n      <td>False</td>\n      <td>False</td>\n      <td>False</td>\n    </tr>\n    <tr>\n      <th>2021-06-30</th>\n      <td>9.449302e+08</td>\n      <td>1427</td>\n      <td>20.666622</td>\n      <td>7.263330</td>\n      <td>20</td>\n      <td>False</td>\n      <td>False</td>\n      <td>False</td>\n      <td>False</td>\n      <td>False</td>\n      <td>False</td>\n      <td>False</td>\n      <td>False</td>\n      <td>False</td>\n      <td>False</td>\n      <td>False</td>\n      <td>False</td>\n    </tr>\n    <tr>\n      <th>2021-07-31</th>\n      <td>1.614118e+09</td>\n      <td>1015</td>\n      <td>21.202054</td>\n      <td>6.922644</td>\n      <td>21</td>\n      <td>False</td>\n      <td>False</td>\n      <td>False</td>\n      <td>False</td>\n      <td>False</td>\n      <td>False</td>\n      <td>False</td>\n      <td>False</td>\n      <td>False</td>\n      <td>False</td>\n      <td>False</td>\n      <td>False</td>\n    </tr>\n    <tr>\n      <th>2021-08-31</th>\n      <td>1.613361e+09</td>\n      <td>920</td>\n      <td>21.201586</td>\n      <td>6.824374</td>\n      <td>22</td>\n      <td>False</td>\n      <td>False</td>\n      <td>False</td>\n      <td>False</td>\n      <td>False</td>\n      <td>False</td>\n      <td>False</td>\n      <td>False</td>\n      <td>False</td>\n      <td>False</td>\n      <td>False</td>\n      <td>False</td>\n    </tr>\n    <tr>\n      <th>2021-09-30</th>\n      <td>7.077621e+08</td>\n      <td>977</td>\n      <td>20.377619</td>\n      <td>6.884487</td>\n      <td>23</td>\n      <td>False</td>\n      <td>False</td>\n      <td>False</td>\n      <td>False</td>\n      <td>False</td>\n      <td>False</td>\n      <td>False</td>\n      <td>False</td>\n      <td>False</td>\n      <td>False</td>\n      <td>False</td>\n      <td>False</td>\n    </tr>\n    <tr>\n      <th>2021-10-31</th>\n      <td>2.237809e+09</td>\n      <td>694</td>\n      <td>21.528763</td>\n      <td>6.542472</td>\n      <td>24</td>\n      <td>False</td>\n      <td>False</td>\n      <td>False</td>\n      <td>False</td>\n      <td>False</td>\n      <td>False</td>\n      <td>False</td>\n      <td>False</td>\n      <td>False</td>\n      <td>False</td>\n      <td>False</td>\n      <td>False</td>\n    </tr>\n    <tr>\n      <th>2021-11-30</th>\n      <td>1.095681e+09</td>\n      <td>920</td>\n      <td>20.814642</td>\n      <td>6.824374</td>\n      <td>25</td>\n      <td>False</td>\n      <td>False</td>\n      <td>False</td>\n      <td>False</td>\n      <td>False</td>\n      <td>False</td>\n      <td>False</td>\n      <td>False</td>\n      <td>False</td>\n      <td>False</td>\n      <td>False</td>\n      <td>False</td>\n    </tr>\n    <tr>\n      <th>2021-12-31</th>\n      <td>3.423868e+09</td>\n      <td>2096</td>\n      <td>21.954037</td>\n      <td>7.647786</td>\n      <td>26</td>\n      <td>False</td>\n      <td>False</td>\n      <td>False</td>\n      <td>False</td>\n      <td>False</td>\n      <td>False</td>\n      <td>False</td>\n      <td>False</td>\n      <td>False</td>\n      <td>False</td>\n      <td>False</td>\n      <td>False</td>\n    </tr>\n    <tr>\n      <th>2022-01-31</th>\n      <td>6.353949e+08</td>\n      <td>1903</td>\n      <td>20.269757</td>\n      <td>7.551187</td>\n      <td>27</td>\n      <td>False</td>\n      <td>False</td>\n      <td>False</td>\n      <td>False</td>\n      <td>False</td>\n      <td>False</td>\n      <td>False</td>\n      <td>False</td>\n      <td>False</td>\n      <td>False</td>\n      <td>False</td>\n      <td>False</td>\n    </tr>\n    <tr>\n      <th>2022-02-28</th>\n      <td>6.131171e+08</td>\n      <td>391</td>\n      <td>20.234067</td>\n      <td>5.968708</td>\n      <td>28</td>\n      <td>False</td>\n      <td>False</td>\n      <td>False</td>\n      <td>False</td>\n      <td>False</td>\n      <td>False</td>\n      <td>False</td>\n      <td>False</td>\n      <td>False</td>\n      <td>False</td>\n      <td>False</td>\n      <td>False</td>\n    </tr>\n    <tr>\n      <th>2022-03-31</th>\n      <td>2.073279e+07</td>\n      <td>6</td>\n      <td>16.847227</td>\n      <td>1.791759</td>\n      <td>29</td>\n      <td>False</td>\n      <td>False</td>\n      <td>False</td>\n      <td>False</td>\n      <td>False</td>\n      <td>False</td>\n      <td>False</td>\n      <td>False</td>\n      <td>False</td>\n      <td>False</td>\n      <td>False</td>\n      <td>False</td>\n    </tr>\n    <tr>\n      <th>2022-04-30</th>\n      <td>9.840300e+04</td>\n      <td>1</td>\n      <td>11.496827</td>\n      <td>0.000000</td>\n      <td>30</td>\n      <td>False</td>\n      <td>False</td>\n      <td>False</td>\n      <td>False</td>\n      <td>False</td>\n      <td>False</td>\n      <td>False</td>\n      <td>False</td>\n      <td>False</td>\n      <td>False</td>\n      <td>False</td>\n      <td>False</td>\n    </tr>\n  </tbody>\n</table>\n</div>"
     },
     "execution_count": 340,
     "metadata": {},
     "output_type": "execute_result"
    }
   ],
   "source": [
    "data_count"
   ],
   "metadata": {
    "collapsed": false
   }
  },
  {
   "cell_type": "code",
   "execution_count": 341,
   "outputs": [
    {
     "name": "stderr",
     "output_type": "stream",
     "text": [
      "C:\\Temp\\ipykernel_8160\\778520133.py:2: SettingWithCopyWarning:\n",
      "\n",
      "\n",
      "A value is trying to be set on a copy of a slice from a DataFrame.\n",
      "Try using .loc[row_indexer,col_indexer] = value instead\n",
      "\n",
      "See the caveats in the documentation: https://pandas.pydata.org/pandas-docs/stable/user_guide/indexing.html#returning-a-view-versus-a-copy\n",
      "\n"
     ]
    }
   ],
   "source": [
    "for x in range(1,13):\n",
    "    data_count['season_' + str(x)] = data_count['N'] == x"
   ],
   "metadata": {
    "collapsed": false
   }
  },
  {
   "cell_type": "code",
   "execution_count": 342,
   "outputs": [],
   "source": [
    "season_columns = ['season_' + str(x) for x in range(1,13)]"
   ],
   "metadata": {
    "collapsed": false
   }
  },
  {
   "cell_type": "code",
   "execution_count": 343,
   "outputs": [
    {
     "data": {
      "text/plain": "                  amount  count  LN(amount)  LN(count)   N  season_1  \\\nst date                                                                \n2019-11-30  1.256651e+09    284   20.951716   5.648974   1      True   \n2019-12-31  6.776751e+09   2035   22.636764   7.618251   2     False   \n2020-01-31  7.836339e+08   1081   20.479453   6.985642   3     False   \n2020-02-29  3.554648e+08    718   19.688937   6.576470   4     False   \n2020-03-31  7.727438e+08    910   20.465458   6.813445   5     False   \n2020-04-30  8.381224e+08    978   20.546675   6.885510   6     False   \n2020-05-31  3.508018e+09    860   21.978317   6.756932   7     False   \n2020-06-30  1.061134e+09   1058   20.782604   6.964136   8     False   \n2020-07-31  3.386221e+09    642   21.942980   6.464588   9     False   \n2020-08-31  3.141260e+08    467   19.565305   6.146329  10     False   \n2020-09-30  6.924019e+08    498   20.355677   6.210600  11     False   \n2020-10-31  8.610735e+08    614   20.573690   6.419995  12     False   \n2020-11-30  1.339340e+09    760   21.015443   6.633318  13     False   \n2020-12-31  4.048599e+09   1995   22.121637   7.598399  14     False   \n2021-01-31  8.362608e+08   1019   20.544451   6.926577  15     False   \n2021-02-28  3.701269e+08    686   19.729357   6.530878  16     False   \n2021-03-31  1.053798e+09   1260   20.775666   7.138867  17     False   \n2021-04-30  9.810521e+09   1329   23.006721   7.192182  18     False   \n2021-05-31  6.076343e+08    802   20.225084   6.687109  19     False   \n2021-06-30  9.449302e+08   1427   20.666622   7.263330  20     False   \n2021-07-31  1.614118e+09   1015   21.202054   6.922644  21     False   \n2021-08-31  1.613361e+09    920   21.201586   6.824374  22     False   \n2021-09-30  7.077621e+08    977   20.377619   6.884487  23     False   \n2021-10-31  2.237809e+09    694   21.528763   6.542472  24     False   \n2021-11-30  1.095681e+09    920   20.814642   6.824374  25     False   \n2021-12-31  3.423868e+09   2096   21.954037   7.647786  26     False   \n2022-01-31  6.353949e+08   1903   20.269757   7.551187  27     False   \n2022-02-28  6.131171e+08    391   20.234067   5.968708  28     False   \n2022-03-31  2.073279e+07      6   16.847227   1.791759  29     False   \n2022-04-30  9.840300e+04      1   11.496827   0.000000  30     False   \n\n            season_2  season_3  season_4  season_5  season_6  season_7  \\\nst date                                                                  \n2019-11-30     False     False     False     False     False     False   \n2019-12-31      True     False     False     False     False     False   \n2020-01-31     False      True     False     False     False     False   \n2020-02-29     False     False      True     False     False     False   \n2020-03-31     False     False     False      True     False     False   \n2020-04-30     False     False     False     False      True     False   \n2020-05-31     False     False     False     False     False      True   \n2020-06-30     False     False     False     False     False     False   \n2020-07-31     False     False     False     False     False     False   \n2020-08-31     False     False     False     False     False     False   \n2020-09-30     False     False     False     False     False     False   \n2020-10-31     False     False     False     False     False     False   \n2020-11-30     False     False     False     False     False     False   \n2020-12-31     False     False     False     False     False     False   \n2021-01-31     False     False     False     False     False     False   \n2021-02-28     False     False     False     False     False     False   \n2021-03-31     False     False     False     False     False     False   \n2021-04-30     False     False     False     False     False     False   \n2021-05-31     False     False     False     False     False     False   \n2021-06-30     False     False     False     False     False     False   \n2021-07-31     False     False     False     False     False     False   \n2021-08-31     False     False     False     False     False     False   \n2021-09-30     False     False     False     False     False     False   \n2021-10-31     False     False     False     False     False     False   \n2021-11-30     False     False     False     False     False     False   \n2021-12-31     False     False     False     False     False     False   \n2022-01-31     False     False     False     False     False     False   \n2022-02-28     False     False     False     False     False     False   \n2022-03-31     False     False     False     False     False     False   \n2022-04-30     False     False     False     False     False     False   \n\n            season_8  season_9  season_10  season_11  season_12  \nst date                                                          \n2019-11-30     False     False      False      False      False  \n2019-12-31     False     False      False      False      False  \n2020-01-31     False     False      False      False      False  \n2020-02-29     False     False      False      False      False  \n2020-03-31     False     False      False      False      False  \n2020-04-30     False     False      False      False      False  \n2020-05-31     False     False      False      False      False  \n2020-06-30      True     False      False      False      False  \n2020-07-31     False      True      False      False      False  \n2020-08-31     False     False       True      False      False  \n2020-09-30     False     False      False       True      False  \n2020-10-31     False     False      False      False       True  \n2020-11-30     False     False      False      False      False  \n2020-12-31     False     False      False      False      False  \n2021-01-31     False     False      False      False      False  \n2021-02-28     False     False      False      False      False  \n2021-03-31     False     False      False      False      False  \n2021-04-30     False     False      False      False      False  \n2021-05-31     False     False      False      False      False  \n2021-06-30     False     False      False      False      False  \n2021-07-31     False     False      False      False      False  \n2021-08-31     False     False      False      False      False  \n2021-09-30     False     False      False      False      False  \n2021-10-31     False     False      False      False      False  \n2021-11-30     False     False      False      False      False  \n2021-12-31     False     False      False      False      False  \n2022-01-31     False     False      False      False      False  \n2022-02-28     False     False      False      False      False  \n2022-03-31     False     False      False      False      False  \n2022-04-30     False     False      False      False      False  ",
      "text/html": "<div>\n<style scoped>\n    .dataframe tbody tr th:only-of-type {\n        vertical-align: middle;\n    }\n\n    .dataframe tbody tr th {\n        vertical-align: top;\n    }\n\n    .dataframe thead th {\n        text-align: right;\n    }\n</style>\n<table border=\"1\" class=\"dataframe\">\n  <thead>\n    <tr style=\"text-align: right;\">\n      <th></th>\n      <th>amount</th>\n      <th>count</th>\n      <th>LN(amount)</th>\n      <th>LN(count)</th>\n      <th>N</th>\n      <th>season_1</th>\n      <th>season_2</th>\n      <th>season_3</th>\n      <th>season_4</th>\n      <th>season_5</th>\n      <th>season_6</th>\n      <th>season_7</th>\n      <th>season_8</th>\n      <th>season_9</th>\n      <th>season_10</th>\n      <th>season_11</th>\n      <th>season_12</th>\n    </tr>\n    <tr>\n      <th>st date</th>\n      <th></th>\n      <th></th>\n      <th></th>\n      <th></th>\n      <th></th>\n      <th></th>\n      <th></th>\n      <th></th>\n      <th></th>\n      <th></th>\n      <th></th>\n      <th></th>\n      <th></th>\n      <th></th>\n      <th></th>\n      <th></th>\n      <th></th>\n    </tr>\n  </thead>\n  <tbody>\n    <tr>\n      <th>2019-11-30</th>\n      <td>1.256651e+09</td>\n      <td>284</td>\n      <td>20.951716</td>\n      <td>5.648974</td>\n      <td>1</td>\n      <td>True</td>\n      <td>False</td>\n      <td>False</td>\n      <td>False</td>\n      <td>False</td>\n      <td>False</td>\n      <td>False</td>\n      <td>False</td>\n      <td>False</td>\n      <td>False</td>\n      <td>False</td>\n      <td>False</td>\n    </tr>\n    <tr>\n      <th>2019-12-31</th>\n      <td>6.776751e+09</td>\n      <td>2035</td>\n      <td>22.636764</td>\n      <td>7.618251</td>\n      <td>2</td>\n      <td>False</td>\n      <td>True</td>\n      <td>False</td>\n      <td>False</td>\n      <td>False</td>\n      <td>False</td>\n      <td>False</td>\n      <td>False</td>\n      <td>False</td>\n      <td>False</td>\n      <td>False</td>\n      <td>False</td>\n    </tr>\n    <tr>\n      <th>2020-01-31</th>\n      <td>7.836339e+08</td>\n      <td>1081</td>\n      <td>20.479453</td>\n      <td>6.985642</td>\n      <td>3</td>\n      <td>False</td>\n      <td>False</td>\n      <td>True</td>\n      <td>False</td>\n      <td>False</td>\n      <td>False</td>\n      <td>False</td>\n      <td>False</td>\n      <td>False</td>\n      <td>False</td>\n      <td>False</td>\n      <td>False</td>\n    </tr>\n    <tr>\n      <th>2020-02-29</th>\n      <td>3.554648e+08</td>\n      <td>718</td>\n      <td>19.688937</td>\n      <td>6.576470</td>\n      <td>4</td>\n      <td>False</td>\n      <td>False</td>\n      <td>False</td>\n      <td>True</td>\n      <td>False</td>\n      <td>False</td>\n      <td>False</td>\n      <td>False</td>\n      <td>False</td>\n      <td>False</td>\n      <td>False</td>\n      <td>False</td>\n    </tr>\n    <tr>\n      <th>2020-03-31</th>\n      <td>7.727438e+08</td>\n      <td>910</td>\n      <td>20.465458</td>\n      <td>6.813445</td>\n      <td>5</td>\n      <td>False</td>\n      <td>False</td>\n      <td>False</td>\n      <td>False</td>\n      <td>True</td>\n      <td>False</td>\n      <td>False</td>\n      <td>False</td>\n      <td>False</td>\n      <td>False</td>\n      <td>False</td>\n      <td>False</td>\n    </tr>\n    <tr>\n      <th>2020-04-30</th>\n      <td>8.381224e+08</td>\n      <td>978</td>\n      <td>20.546675</td>\n      <td>6.885510</td>\n      <td>6</td>\n      <td>False</td>\n      <td>False</td>\n      <td>False</td>\n      <td>False</td>\n      <td>False</td>\n      <td>True</td>\n      <td>False</td>\n      <td>False</td>\n      <td>False</td>\n      <td>False</td>\n      <td>False</td>\n      <td>False</td>\n    </tr>\n    <tr>\n      <th>2020-05-31</th>\n      <td>3.508018e+09</td>\n      <td>860</td>\n      <td>21.978317</td>\n      <td>6.756932</td>\n      <td>7</td>\n      <td>False</td>\n      <td>False</td>\n      <td>False</td>\n      <td>False</td>\n      <td>False</td>\n      <td>False</td>\n      <td>True</td>\n      <td>False</td>\n      <td>False</td>\n      <td>False</td>\n      <td>False</td>\n      <td>False</td>\n    </tr>\n    <tr>\n      <th>2020-06-30</th>\n      <td>1.061134e+09</td>\n      <td>1058</td>\n      <td>20.782604</td>\n      <td>6.964136</td>\n      <td>8</td>\n      <td>False</td>\n      <td>False</td>\n      <td>False</td>\n      <td>False</td>\n      <td>False</td>\n      <td>False</td>\n      <td>False</td>\n      <td>True</td>\n      <td>False</td>\n      <td>False</td>\n      <td>False</td>\n      <td>False</td>\n    </tr>\n    <tr>\n      <th>2020-07-31</th>\n      <td>3.386221e+09</td>\n      <td>642</td>\n      <td>21.942980</td>\n      <td>6.464588</td>\n      <td>9</td>\n      <td>False</td>\n      <td>False</td>\n      <td>False</td>\n      <td>False</td>\n      <td>False</td>\n      <td>False</td>\n      <td>False</td>\n      <td>False</td>\n      <td>True</td>\n      <td>False</td>\n      <td>False</td>\n      <td>False</td>\n    </tr>\n    <tr>\n      <th>2020-08-31</th>\n      <td>3.141260e+08</td>\n      <td>467</td>\n      <td>19.565305</td>\n      <td>6.146329</td>\n      <td>10</td>\n      <td>False</td>\n      <td>False</td>\n      <td>False</td>\n      <td>False</td>\n      <td>False</td>\n      <td>False</td>\n      <td>False</td>\n      <td>False</td>\n      <td>False</td>\n      <td>True</td>\n      <td>False</td>\n      <td>False</td>\n    </tr>\n    <tr>\n      <th>2020-09-30</th>\n      <td>6.924019e+08</td>\n      <td>498</td>\n      <td>20.355677</td>\n      <td>6.210600</td>\n      <td>11</td>\n      <td>False</td>\n      <td>False</td>\n      <td>False</td>\n      <td>False</td>\n      <td>False</td>\n      <td>False</td>\n      <td>False</td>\n      <td>False</td>\n      <td>False</td>\n      <td>False</td>\n      <td>True</td>\n      <td>False</td>\n    </tr>\n    <tr>\n      <th>2020-10-31</th>\n      <td>8.610735e+08</td>\n      <td>614</td>\n      <td>20.573690</td>\n      <td>6.419995</td>\n      <td>12</td>\n      <td>False</td>\n      <td>False</td>\n      <td>False</td>\n      <td>False</td>\n      <td>False</td>\n      <td>False</td>\n      <td>False</td>\n      <td>False</td>\n      <td>False</td>\n      <td>False</td>\n      <td>False</td>\n      <td>True</td>\n    </tr>\n    <tr>\n      <th>2020-11-30</th>\n      <td>1.339340e+09</td>\n      <td>760</td>\n      <td>21.015443</td>\n      <td>6.633318</td>\n      <td>13</td>\n      <td>False</td>\n      <td>False</td>\n      <td>False</td>\n      <td>False</td>\n      <td>False</td>\n      <td>False</td>\n      <td>False</td>\n      <td>False</td>\n      <td>False</td>\n      <td>False</td>\n      <td>False</td>\n      <td>False</td>\n    </tr>\n    <tr>\n      <th>2020-12-31</th>\n      <td>4.048599e+09</td>\n      <td>1995</td>\n      <td>22.121637</td>\n      <td>7.598399</td>\n      <td>14</td>\n      <td>False</td>\n      <td>False</td>\n      <td>False</td>\n      <td>False</td>\n      <td>False</td>\n      <td>False</td>\n      <td>False</td>\n      <td>False</td>\n      <td>False</td>\n      <td>False</td>\n      <td>False</td>\n      <td>False</td>\n    </tr>\n    <tr>\n      <th>2021-01-31</th>\n      <td>8.362608e+08</td>\n      <td>1019</td>\n      <td>20.544451</td>\n      <td>6.926577</td>\n      <td>15</td>\n      <td>False</td>\n      <td>False</td>\n      <td>False</td>\n      <td>False</td>\n      <td>False</td>\n      <td>False</td>\n      <td>False</td>\n      <td>False</td>\n      <td>False</td>\n      <td>False</td>\n      <td>False</td>\n      <td>False</td>\n    </tr>\n    <tr>\n      <th>2021-02-28</th>\n      <td>3.701269e+08</td>\n      <td>686</td>\n      <td>19.729357</td>\n      <td>6.530878</td>\n      <td>16</td>\n      <td>False</td>\n      <td>False</td>\n      <td>False</td>\n      <td>False</td>\n      <td>False</td>\n      <td>False</td>\n      <td>False</td>\n      <td>False</td>\n      <td>False</td>\n      <td>False</td>\n      <td>False</td>\n      <td>False</td>\n    </tr>\n    <tr>\n      <th>2021-03-31</th>\n      <td>1.053798e+09</td>\n      <td>1260</td>\n      <td>20.775666</td>\n      <td>7.138867</td>\n      <td>17</td>\n      <td>False</td>\n      <td>False</td>\n      <td>False</td>\n      <td>False</td>\n      <td>False</td>\n      <td>False</td>\n      <td>False</td>\n      <td>False</td>\n      <td>False</td>\n      <td>False</td>\n      <td>False</td>\n      <td>False</td>\n    </tr>\n    <tr>\n      <th>2021-04-30</th>\n      <td>9.810521e+09</td>\n      <td>1329</td>\n      <td>23.006721</td>\n      <td>7.192182</td>\n      <td>18</td>\n      <td>False</td>\n      <td>False</td>\n      <td>False</td>\n      <td>False</td>\n      <td>False</td>\n      <td>False</td>\n      <td>False</td>\n      <td>False</td>\n      <td>False</td>\n      <td>False</td>\n      <td>False</td>\n      <td>False</td>\n    </tr>\n    <tr>\n      <th>2021-05-31</th>\n      <td>6.076343e+08</td>\n      <td>802</td>\n      <td>20.225084</td>\n      <td>6.687109</td>\n      <td>19</td>\n      <td>False</td>\n      <td>False</td>\n      <td>False</td>\n      <td>False</td>\n      <td>False</td>\n      <td>False</td>\n      <td>False</td>\n      <td>False</td>\n      <td>False</td>\n      <td>False</td>\n      <td>False</td>\n      <td>False</td>\n    </tr>\n    <tr>\n      <th>2021-06-30</th>\n      <td>9.449302e+08</td>\n      <td>1427</td>\n      <td>20.666622</td>\n      <td>7.263330</td>\n      <td>20</td>\n      <td>False</td>\n      <td>False</td>\n      <td>False</td>\n      <td>False</td>\n      <td>False</td>\n      <td>False</td>\n      <td>False</td>\n      <td>False</td>\n      <td>False</td>\n      <td>False</td>\n      <td>False</td>\n      <td>False</td>\n    </tr>\n    <tr>\n      <th>2021-07-31</th>\n      <td>1.614118e+09</td>\n      <td>1015</td>\n      <td>21.202054</td>\n      <td>6.922644</td>\n      <td>21</td>\n      <td>False</td>\n      <td>False</td>\n      <td>False</td>\n      <td>False</td>\n      <td>False</td>\n      <td>False</td>\n      <td>False</td>\n      <td>False</td>\n      <td>False</td>\n      <td>False</td>\n      <td>False</td>\n      <td>False</td>\n    </tr>\n    <tr>\n      <th>2021-08-31</th>\n      <td>1.613361e+09</td>\n      <td>920</td>\n      <td>21.201586</td>\n      <td>6.824374</td>\n      <td>22</td>\n      <td>False</td>\n      <td>False</td>\n      <td>False</td>\n      <td>False</td>\n      <td>False</td>\n      <td>False</td>\n      <td>False</td>\n      <td>False</td>\n      <td>False</td>\n      <td>False</td>\n      <td>False</td>\n      <td>False</td>\n    </tr>\n    <tr>\n      <th>2021-09-30</th>\n      <td>7.077621e+08</td>\n      <td>977</td>\n      <td>20.377619</td>\n      <td>6.884487</td>\n      <td>23</td>\n      <td>False</td>\n      <td>False</td>\n      <td>False</td>\n      <td>False</td>\n      <td>False</td>\n      <td>False</td>\n      <td>False</td>\n      <td>False</td>\n      <td>False</td>\n      <td>False</td>\n      <td>False</td>\n      <td>False</td>\n    </tr>\n    <tr>\n      <th>2021-10-31</th>\n      <td>2.237809e+09</td>\n      <td>694</td>\n      <td>21.528763</td>\n      <td>6.542472</td>\n      <td>24</td>\n      <td>False</td>\n      <td>False</td>\n      <td>False</td>\n      <td>False</td>\n      <td>False</td>\n      <td>False</td>\n      <td>False</td>\n      <td>False</td>\n      <td>False</td>\n      <td>False</td>\n      <td>False</td>\n      <td>False</td>\n    </tr>\n    <tr>\n      <th>2021-11-30</th>\n      <td>1.095681e+09</td>\n      <td>920</td>\n      <td>20.814642</td>\n      <td>6.824374</td>\n      <td>25</td>\n      <td>False</td>\n      <td>False</td>\n      <td>False</td>\n      <td>False</td>\n      <td>False</td>\n      <td>False</td>\n      <td>False</td>\n      <td>False</td>\n      <td>False</td>\n      <td>False</td>\n      <td>False</td>\n      <td>False</td>\n    </tr>\n    <tr>\n      <th>2021-12-31</th>\n      <td>3.423868e+09</td>\n      <td>2096</td>\n      <td>21.954037</td>\n      <td>7.647786</td>\n      <td>26</td>\n      <td>False</td>\n      <td>False</td>\n      <td>False</td>\n      <td>False</td>\n      <td>False</td>\n      <td>False</td>\n      <td>False</td>\n      <td>False</td>\n      <td>False</td>\n      <td>False</td>\n      <td>False</td>\n      <td>False</td>\n    </tr>\n    <tr>\n      <th>2022-01-31</th>\n      <td>6.353949e+08</td>\n      <td>1903</td>\n      <td>20.269757</td>\n      <td>7.551187</td>\n      <td>27</td>\n      <td>False</td>\n      <td>False</td>\n      <td>False</td>\n      <td>False</td>\n      <td>False</td>\n      <td>False</td>\n      <td>False</td>\n      <td>False</td>\n      <td>False</td>\n      <td>False</td>\n      <td>False</td>\n      <td>False</td>\n    </tr>\n    <tr>\n      <th>2022-02-28</th>\n      <td>6.131171e+08</td>\n      <td>391</td>\n      <td>20.234067</td>\n      <td>5.968708</td>\n      <td>28</td>\n      <td>False</td>\n      <td>False</td>\n      <td>False</td>\n      <td>False</td>\n      <td>False</td>\n      <td>False</td>\n      <td>False</td>\n      <td>False</td>\n      <td>False</td>\n      <td>False</td>\n      <td>False</td>\n      <td>False</td>\n    </tr>\n    <tr>\n      <th>2022-03-31</th>\n      <td>2.073279e+07</td>\n      <td>6</td>\n      <td>16.847227</td>\n      <td>1.791759</td>\n      <td>29</td>\n      <td>False</td>\n      <td>False</td>\n      <td>False</td>\n      <td>False</td>\n      <td>False</td>\n      <td>False</td>\n      <td>False</td>\n      <td>False</td>\n      <td>False</td>\n      <td>False</td>\n      <td>False</td>\n      <td>False</td>\n    </tr>\n    <tr>\n      <th>2022-04-30</th>\n      <td>9.840300e+04</td>\n      <td>1</td>\n      <td>11.496827</td>\n      <td>0.000000</td>\n      <td>30</td>\n      <td>False</td>\n      <td>False</td>\n      <td>False</td>\n      <td>False</td>\n      <td>False</td>\n      <td>False</td>\n      <td>False</td>\n      <td>False</td>\n      <td>False</td>\n      <td>False</td>\n      <td>False</td>\n      <td>False</td>\n    </tr>\n  </tbody>\n</table>\n</div>"
     },
     "execution_count": 343,
     "metadata": {},
     "output_type": "execute_result"
    }
   ],
   "source": [
    "data_count"
   ],
   "metadata": {
    "collapsed": false
   }
  },
  {
   "cell_type": "code",
   "execution_count": 444,
   "outputs": [
    {
     "data": {
      "text/plain": "                  amount  count  LN(amount)  LN(count)   N  season_1  \\\nst date                                                                \n2019-11-30  1.256651e+09    284   20.951716   5.648974   1      True   \n2019-12-31  6.776751e+09   2035   22.636764   7.618251   2     False   \n2020-01-31  7.836339e+08   1081   20.479453   6.985642   3     False   \n2020-02-29  3.554648e+08    718   19.688937   6.576470   4     False   \n2020-03-31  7.727438e+08    910   20.465458   6.813445   5     False   \n2020-04-30  8.381224e+08    978   20.546675   6.885510   6     False   \n2020-05-31  3.508018e+09    860   21.978317   6.756932   7     False   \n2020-06-30  1.061134e+09   1058   20.782604   6.964136   8     False   \n2020-07-31  3.386221e+09    642   21.942980   6.464588   9     False   \n2020-08-31  3.141260e+08    467   19.565305   6.146329  10     False   \n2020-09-30  6.924019e+08    498   20.355677   6.210600  11     False   \n2020-10-31  8.610735e+08    614   20.573690   6.419995  12     False   \n2020-11-30  1.339340e+09    760   21.015443   6.633318  13     False   \n2020-12-31  4.048599e+09   1995   22.121637   7.598399  14     False   \n2021-01-31  8.362608e+08   1019   20.544451   6.926577  15     False   \n2021-02-28  3.701269e+08    686   19.729357   6.530878  16     False   \n2021-03-31  1.053798e+09   1260   20.775666   7.138867  17     False   \n2021-04-30  9.810521e+09   1329   23.006721   7.192182  18     False   \n2021-05-31  6.076343e+08    802   20.225084   6.687109  19     False   \n2021-06-30  9.449302e+08   1427   20.666622   7.263330  20     False   \n2021-07-31  1.614118e+09   1015   21.202054   6.922644  21     False   \n2021-08-31  1.613361e+09    920   21.201586   6.824374  22     False   \n2021-09-30  7.077621e+08    977   20.377619   6.884487  23     False   \n2021-10-31  2.237809e+09    694   21.528763   6.542472  24     False   \n2021-11-30  1.095681e+09    920   20.814642   6.824374  25     False   \n2021-12-31  3.423868e+09   2096   21.954037   7.647786  26     False   \n2022-01-31  6.353949e+08   1903   20.269757   7.551187  27     False   \n2022-02-28  6.131171e+08    391   20.234067   5.968708  28     False   \n2022-03-31  2.073279e+07      6   16.847227   1.791759  29     False   \n2022-04-30  9.840300e+04      1   11.496827   0.000000  30     False   \n\n            season_2  season_3  season_4  season_5  season_6  season_7  \\\nst date                                                                  \n2019-11-30     False     False     False     False     False     False   \n2019-12-31      True     False     False     False     False     False   \n2020-01-31     False      True     False     False     False     False   \n2020-02-29     False     False      True     False     False     False   \n2020-03-31     False     False     False      True     False     False   \n2020-04-30     False     False     False     False      True     False   \n2020-05-31     False     False     False     False     False      True   \n2020-06-30     False     False     False     False     False     False   \n2020-07-31     False     False     False     False     False     False   \n2020-08-31     False     False     False     False     False     False   \n2020-09-30     False     False     False     False     False     False   \n2020-10-31     False     False     False     False     False     False   \n2020-11-30     False     False     False     False     False     False   \n2020-12-31     False     False     False     False     False     False   \n2021-01-31     False     False     False     False     False     False   \n2021-02-28     False     False     False     False     False     False   \n2021-03-31     False     False     False     False     False     False   \n2021-04-30     False     False     False     False     False     False   \n2021-05-31     False     False     False     False     False     False   \n2021-06-30     False     False     False     False     False     False   \n2021-07-31     False     False     False     False     False     False   \n2021-08-31     False     False     False     False     False     False   \n2021-09-30     False     False     False     False     False     False   \n2021-10-31     False     False     False     False     False     False   \n2021-11-30     False     False     False     False     False     False   \n2021-12-31     False     False     False     False     False     False   \n2022-01-31     False     False     False     False     False     False   \n2022-02-28     False     False     False     False     False     False   \n2022-03-31     False     False     False     False     False     False   \n2022-04-30     False     False     False     False     False     False   \n\n            season_8  season_9  season_10  season_11  season_12  \nst date                                                          \n2019-11-30     False     False      False      False      False  \n2019-12-31     False     False      False      False      False  \n2020-01-31     False     False      False      False      False  \n2020-02-29     False     False      False      False      False  \n2020-03-31     False     False      False      False      False  \n2020-04-30     False     False      False      False      False  \n2020-05-31     False     False      False      False      False  \n2020-06-30      True     False      False      False      False  \n2020-07-31     False      True      False      False      False  \n2020-08-31     False     False       True      False      False  \n2020-09-30     False     False      False       True      False  \n2020-10-31     False     False      False      False       True  \n2020-11-30     False     False      False      False      False  \n2020-12-31     False     False      False      False      False  \n2021-01-31     False     False      False      False      False  \n2021-02-28     False     False      False      False      False  \n2021-03-31     False     False      False      False      False  \n2021-04-30     False     False      False      False      False  \n2021-05-31     False     False      False      False      False  \n2021-06-30     False     False      False      False      False  \n2021-07-31     False     False      False      False      False  \n2021-08-31     False     False      False      False      False  \n2021-09-30     False     False      False      False      False  \n2021-10-31     False     False      False      False      False  \n2021-11-30     False     False      False      False      False  \n2021-12-31     False     False      False      False      False  \n2022-01-31     False     False      False      False      False  \n2022-02-28     False     False      False      False      False  \n2022-03-31     False     False      False      False      False  \n2022-04-30     False     False      False      False      False  ",
      "text/html": "<div>\n<style scoped>\n    .dataframe tbody tr th:only-of-type {\n        vertical-align: middle;\n    }\n\n    .dataframe tbody tr th {\n        vertical-align: top;\n    }\n\n    .dataframe thead th {\n        text-align: right;\n    }\n</style>\n<table border=\"1\" class=\"dataframe\">\n  <thead>\n    <tr style=\"text-align: right;\">\n      <th></th>\n      <th>amount</th>\n      <th>count</th>\n      <th>LN(amount)</th>\n      <th>LN(count)</th>\n      <th>N</th>\n      <th>season_1</th>\n      <th>season_2</th>\n      <th>season_3</th>\n      <th>season_4</th>\n      <th>season_5</th>\n      <th>season_6</th>\n      <th>season_7</th>\n      <th>season_8</th>\n      <th>season_9</th>\n      <th>season_10</th>\n      <th>season_11</th>\n      <th>season_12</th>\n    </tr>\n    <tr>\n      <th>st date</th>\n      <th></th>\n      <th></th>\n      <th></th>\n      <th></th>\n      <th></th>\n      <th></th>\n      <th></th>\n      <th></th>\n      <th></th>\n      <th></th>\n      <th></th>\n      <th></th>\n      <th></th>\n      <th></th>\n      <th></th>\n      <th></th>\n      <th></th>\n    </tr>\n  </thead>\n  <tbody>\n    <tr>\n      <th>2019-11-30</th>\n      <td>1.256651e+09</td>\n      <td>284</td>\n      <td>20.951716</td>\n      <td>5.648974</td>\n      <td>1</td>\n      <td>True</td>\n      <td>False</td>\n      <td>False</td>\n      <td>False</td>\n      <td>False</td>\n      <td>False</td>\n      <td>False</td>\n      <td>False</td>\n      <td>False</td>\n      <td>False</td>\n      <td>False</td>\n      <td>False</td>\n    </tr>\n    <tr>\n      <th>2019-12-31</th>\n      <td>6.776751e+09</td>\n      <td>2035</td>\n      <td>22.636764</td>\n      <td>7.618251</td>\n      <td>2</td>\n      <td>False</td>\n      <td>True</td>\n      <td>False</td>\n      <td>False</td>\n      <td>False</td>\n      <td>False</td>\n      <td>False</td>\n      <td>False</td>\n      <td>False</td>\n      <td>False</td>\n      <td>False</td>\n      <td>False</td>\n    </tr>\n    <tr>\n      <th>2020-01-31</th>\n      <td>7.836339e+08</td>\n      <td>1081</td>\n      <td>20.479453</td>\n      <td>6.985642</td>\n      <td>3</td>\n      <td>False</td>\n      <td>False</td>\n      <td>True</td>\n      <td>False</td>\n      <td>False</td>\n      <td>False</td>\n      <td>False</td>\n      <td>False</td>\n      <td>False</td>\n      <td>False</td>\n      <td>False</td>\n      <td>False</td>\n    </tr>\n    <tr>\n      <th>2020-02-29</th>\n      <td>3.554648e+08</td>\n      <td>718</td>\n      <td>19.688937</td>\n      <td>6.576470</td>\n      <td>4</td>\n      <td>False</td>\n      <td>False</td>\n      <td>False</td>\n      <td>True</td>\n      <td>False</td>\n      <td>False</td>\n      <td>False</td>\n      <td>False</td>\n      <td>False</td>\n      <td>False</td>\n      <td>False</td>\n      <td>False</td>\n    </tr>\n    <tr>\n      <th>2020-03-31</th>\n      <td>7.727438e+08</td>\n      <td>910</td>\n      <td>20.465458</td>\n      <td>6.813445</td>\n      <td>5</td>\n      <td>False</td>\n      <td>False</td>\n      <td>False</td>\n      <td>False</td>\n      <td>True</td>\n      <td>False</td>\n      <td>False</td>\n      <td>False</td>\n      <td>False</td>\n      <td>False</td>\n      <td>False</td>\n      <td>False</td>\n    </tr>\n    <tr>\n      <th>2020-04-30</th>\n      <td>8.381224e+08</td>\n      <td>978</td>\n      <td>20.546675</td>\n      <td>6.885510</td>\n      <td>6</td>\n      <td>False</td>\n      <td>False</td>\n      <td>False</td>\n      <td>False</td>\n      <td>False</td>\n      <td>True</td>\n      <td>False</td>\n      <td>False</td>\n      <td>False</td>\n      <td>False</td>\n      <td>False</td>\n      <td>False</td>\n    </tr>\n    <tr>\n      <th>2020-05-31</th>\n      <td>3.508018e+09</td>\n      <td>860</td>\n      <td>21.978317</td>\n      <td>6.756932</td>\n      <td>7</td>\n      <td>False</td>\n      <td>False</td>\n      <td>False</td>\n      <td>False</td>\n      <td>False</td>\n      <td>False</td>\n      <td>True</td>\n      <td>False</td>\n      <td>False</td>\n      <td>False</td>\n      <td>False</td>\n      <td>False</td>\n    </tr>\n    <tr>\n      <th>2020-06-30</th>\n      <td>1.061134e+09</td>\n      <td>1058</td>\n      <td>20.782604</td>\n      <td>6.964136</td>\n      <td>8</td>\n      <td>False</td>\n      <td>False</td>\n      <td>False</td>\n      <td>False</td>\n      <td>False</td>\n      <td>False</td>\n      <td>False</td>\n      <td>True</td>\n      <td>False</td>\n      <td>False</td>\n      <td>False</td>\n      <td>False</td>\n    </tr>\n    <tr>\n      <th>2020-07-31</th>\n      <td>3.386221e+09</td>\n      <td>642</td>\n      <td>21.942980</td>\n      <td>6.464588</td>\n      <td>9</td>\n      <td>False</td>\n      <td>False</td>\n      <td>False</td>\n      <td>False</td>\n      <td>False</td>\n      <td>False</td>\n      <td>False</td>\n      <td>False</td>\n      <td>True</td>\n      <td>False</td>\n      <td>False</td>\n      <td>False</td>\n    </tr>\n    <tr>\n      <th>2020-08-31</th>\n      <td>3.141260e+08</td>\n      <td>467</td>\n      <td>19.565305</td>\n      <td>6.146329</td>\n      <td>10</td>\n      <td>False</td>\n      <td>False</td>\n      <td>False</td>\n      <td>False</td>\n      <td>False</td>\n      <td>False</td>\n      <td>False</td>\n      <td>False</td>\n      <td>False</td>\n      <td>True</td>\n      <td>False</td>\n      <td>False</td>\n    </tr>\n    <tr>\n      <th>2020-09-30</th>\n      <td>6.924019e+08</td>\n      <td>498</td>\n      <td>20.355677</td>\n      <td>6.210600</td>\n      <td>11</td>\n      <td>False</td>\n      <td>False</td>\n      <td>False</td>\n      <td>False</td>\n      <td>False</td>\n      <td>False</td>\n      <td>False</td>\n      <td>False</td>\n      <td>False</td>\n      <td>False</td>\n      <td>True</td>\n      <td>False</td>\n    </tr>\n    <tr>\n      <th>2020-10-31</th>\n      <td>8.610735e+08</td>\n      <td>614</td>\n      <td>20.573690</td>\n      <td>6.419995</td>\n      <td>12</td>\n      <td>False</td>\n      <td>False</td>\n      <td>False</td>\n      <td>False</td>\n      <td>False</td>\n      <td>False</td>\n      <td>False</td>\n      <td>False</td>\n      <td>False</td>\n      <td>False</td>\n      <td>False</td>\n      <td>True</td>\n    </tr>\n    <tr>\n      <th>2020-11-30</th>\n      <td>1.339340e+09</td>\n      <td>760</td>\n      <td>21.015443</td>\n      <td>6.633318</td>\n      <td>13</td>\n      <td>False</td>\n      <td>False</td>\n      <td>False</td>\n      <td>False</td>\n      <td>False</td>\n      <td>False</td>\n      <td>False</td>\n      <td>False</td>\n      <td>False</td>\n      <td>False</td>\n      <td>False</td>\n      <td>False</td>\n    </tr>\n    <tr>\n      <th>2020-12-31</th>\n      <td>4.048599e+09</td>\n      <td>1995</td>\n      <td>22.121637</td>\n      <td>7.598399</td>\n      <td>14</td>\n      <td>False</td>\n      <td>False</td>\n      <td>False</td>\n      <td>False</td>\n      <td>False</td>\n      <td>False</td>\n      <td>False</td>\n      <td>False</td>\n      <td>False</td>\n      <td>False</td>\n      <td>False</td>\n      <td>False</td>\n    </tr>\n    <tr>\n      <th>2021-01-31</th>\n      <td>8.362608e+08</td>\n      <td>1019</td>\n      <td>20.544451</td>\n      <td>6.926577</td>\n      <td>15</td>\n      <td>False</td>\n      <td>False</td>\n      <td>False</td>\n      <td>False</td>\n      <td>False</td>\n      <td>False</td>\n      <td>False</td>\n      <td>False</td>\n      <td>False</td>\n      <td>False</td>\n      <td>False</td>\n      <td>False</td>\n    </tr>\n    <tr>\n      <th>2021-02-28</th>\n      <td>3.701269e+08</td>\n      <td>686</td>\n      <td>19.729357</td>\n      <td>6.530878</td>\n      <td>16</td>\n      <td>False</td>\n      <td>False</td>\n      <td>False</td>\n      <td>False</td>\n      <td>False</td>\n      <td>False</td>\n      <td>False</td>\n      <td>False</td>\n      <td>False</td>\n      <td>False</td>\n      <td>False</td>\n      <td>False</td>\n    </tr>\n    <tr>\n      <th>2021-03-31</th>\n      <td>1.053798e+09</td>\n      <td>1260</td>\n      <td>20.775666</td>\n      <td>7.138867</td>\n      <td>17</td>\n      <td>False</td>\n      <td>False</td>\n      <td>False</td>\n      <td>False</td>\n      <td>False</td>\n      <td>False</td>\n      <td>False</td>\n      <td>False</td>\n      <td>False</td>\n      <td>False</td>\n      <td>False</td>\n      <td>False</td>\n    </tr>\n    <tr>\n      <th>2021-04-30</th>\n      <td>9.810521e+09</td>\n      <td>1329</td>\n      <td>23.006721</td>\n      <td>7.192182</td>\n      <td>18</td>\n      <td>False</td>\n      <td>False</td>\n      <td>False</td>\n      <td>False</td>\n      <td>False</td>\n      <td>False</td>\n      <td>False</td>\n      <td>False</td>\n      <td>False</td>\n      <td>False</td>\n      <td>False</td>\n      <td>False</td>\n    </tr>\n    <tr>\n      <th>2021-05-31</th>\n      <td>6.076343e+08</td>\n      <td>802</td>\n      <td>20.225084</td>\n      <td>6.687109</td>\n      <td>19</td>\n      <td>False</td>\n      <td>False</td>\n      <td>False</td>\n      <td>False</td>\n      <td>False</td>\n      <td>False</td>\n      <td>False</td>\n      <td>False</td>\n      <td>False</td>\n      <td>False</td>\n      <td>False</td>\n      <td>False</td>\n    </tr>\n    <tr>\n      <th>2021-06-30</th>\n      <td>9.449302e+08</td>\n      <td>1427</td>\n      <td>20.666622</td>\n      <td>7.263330</td>\n      <td>20</td>\n      <td>False</td>\n      <td>False</td>\n      <td>False</td>\n      <td>False</td>\n      <td>False</td>\n      <td>False</td>\n      <td>False</td>\n      <td>False</td>\n      <td>False</td>\n      <td>False</td>\n      <td>False</td>\n      <td>False</td>\n    </tr>\n    <tr>\n      <th>2021-07-31</th>\n      <td>1.614118e+09</td>\n      <td>1015</td>\n      <td>21.202054</td>\n      <td>6.922644</td>\n      <td>21</td>\n      <td>False</td>\n      <td>False</td>\n      <td>False</td>\n      <td>False</td>\n      <td>False</td>\n      <td>False</td>\n      <td>False</td>\n      <td>False</td>\n      <td>False</td>\n      <td>False</td>\n      <td>False</td>\n      <td>False</td>\n    </tr>\n    <tr>\n      <th>2021-08-31</th>\n      <td>1.613361e+09</td>\n      <td>920</td>\n      <td>21.201586</td>\n      <td>6.824374</td>\n      <td>22</td>\n      <td>False</td>\n      <td>False</td>\n      <td>False</td>\n      <td>False</td>\n      <td>False</td>\n      <td>False</td>\n      <td>False</td>\n      <td>False</td>\n      <td>False</td>\n      <td>False</td>\n      <td>False</td>\n      <td>False</td>\n    </tr>\n    <tr>\n      <th>2021-09-30</th>\n      <td>7.077621e+08</td>\n      <td>977</td>\n      <td>20.377619</td>\n      <td>6.884487</td>\n      <td>23</td>\n      <td>False</td>\n      <td>False</td>\n      <td>False</td>\n      <td>False</td>\n      <td>False</td>\n      <td>False</td>\n      <td>False</td>\n      <td>False</td>\n      <td>False</td>\n      <td>False</td>\n      <td>False</td>\n      <td>False</td>\n    </tr>\n    <tr>\n      <th>2021-10-31</th>\n      <td>2.237809e+09</td>\n      <td>694</td>\n      <td>21.528763</td>\n      <td>6.542472</td>\n      <td>24</td>\n      <td>False</td>\n      <td>False</td>\n      <td>False</td>\n      <td>False</td>\n      <td>False</td>\n      <td>False</td>\n      <td>False</td>\n      <td>False</td>\n      <td>False</td>\n      <td>False</td>\n      <td>False</td>\n      <td>False</td>\n    </tr>\n    <tr>\n      <th>2021-11-30</th>\n      <td>1.095681e+09</td>\n      <td>920</td>\n      <td>20.814642</td>\n      <td>6.824374</td>\n      <td>25</td>\n      <td>False</td>\n      <td>False</td>\n      <td>False</td>\n      <td>False</td>\n      <td>False</td>\n      <td>False</td>\n      <td>False</td>\n      <td>False</td>\n      <td>False</td>\n      <td>False</td>\n      <td>False</td>\n      <td>False</td>\n    </tr>\n    <tr>\n      <th>2021-12-31</th>\n      <td>3.423868e+09</td>\n      <td>2096</td>\n      <td>21.954037</td>\n      <td>7.647786</td>\n      <td>26</td>\n      <td>False</td>\n      <td>False</td>\n      <td>False</td>\n      <td>False</td>\n      <td>False</td>\n      <td>False</td>\n      <td>False</td>\n      <td>False</td>\n      <td>False</td>\n      <td>False</td>\n      <td>False</td>\n      <td>False</td>\n    </tr>\n    <tr>\n      <th>2022-01-31</th>\n      <td>6.353949e+08</td>\n      <td>1903</td>\n      <td>20.269757</td>\n      <td>7.551187</td>\n      <td>27</td>\n      <td>False</td>\n      <td>False</td>\n      <td>False</td>\n      <td>False</td>\n      <td>False</td>\n      <td>False</td>\n      <td>False</td>\n      <td>False</td>\n      <td>False</td>\n      <td>False</td>\n      <td>False</td>\n      <td>False</td>\n    </tr>\n    <tr>\n      <th>2022-02-28</th>\n      <td>6.131171e+08</td>\n      <td>391</td>\n      <td>20.234067</td>\n      <td>5.968708</td>\n      <td>28</td>\n      <td>False</td>\n      <td>False</td>\n      <td>False</td>\n      <td>False</td>\n      <td>False</td>\n      <td>False</td>\n      <td>False</td>\n      <td>False</td>\n      <td>False</td>\n      <td>False</td>\n      <td>False</td>\n      <td>False</td>\n    </tr>\n    <tr>\n      <th>2022-03-31</th>\n      <td>2.073279e+07</td>\n      <td>6</td>\n      <td>16.847227</td>\n      <td>1.791759</td>\n      <td>29</td>\n      <td>False</td>\n      <td>False</td>\n      <td>False</td>\n      <td>False</td>\n      <td>False</td>\n      <td>False</td>\n      <td>False</td>\n      <td>False</td>\n      <td>False</td>\n      <td>False</td>\n      <td>False</td>\n      <td>False</td>\n    </tr>\n    <tr>\n      <th>2022-04-30</th>\n      <td>9.840300e+04</td>\n      <td>1</td>\n      <td>11.496827</td>\n      <td>0.000000</td>\n      <td>30</td>\n      <td>False</td>\n      <td>False</td>\n      <td>False</td>\n      <td>False</td>\n      <td>False</td>\n      <td>False</td>\n      <td>False</td>\n      <td>False</td>\n      <td>False</td>\n      <td>False</td>\n      <td>False</td>\n      <td>False</td>\n    </tr>\n  </tbody>\n</table>\n</div>"
     },
     "execution_count": 444,
     "metadata": {},
     "output_type": "execute_result"
    }
   ],
   "source": [
    "data_count"
   ],
   "metadata": {
    "collapsed": false
   }
  },
  {
   "cell_type": "code",
   "execution_count": 448,
   "outputs": [
    {
     "data": {
      "text/plain": "            count  season_1  season_2  season_3  season_4  season_5  season_6  \\\nst date                                                                         \n2019-11-30    284      True     False     False     False     False     False   \n2019-12-31   2035     False      True     False     False     False     False   \n2020-01-31   1081     False     False      True     False     False     False   \n2020-02-29    718     False     False     False      True     False     False   \n2020-03-31    910     False     False     False     False      True     False   \n2020-04-30    978     False     False     False     False     False      True   \n2020-05-31    860     False     False     False     False     False     False   \n2020-06-30   1058     False     False     False     False     False     False   \n2020-07-31    642     False     False     False     False     False     False   \n2020-08-31    467     False     False     False     False     False     False   \n2020-09-30    498     False     False     False     False     False     False   \n2020-10-31    614     False     False     False     False     False     False   \n2020-11-30    760     False     False     False     False     False     False   \n2020-12-31   1995     False     False     False     False     False     False   \n2021-01-31   1019     False     False     False     False     False     False   \n2021-02-28    686     False     False     False     False     False     False   \n2021-03-31   1260     False     False     False     False     False     False   \n2021-04-30   1329     False     False     False     False     False     False   \n2021-05-31    802     False     False     False     False     False     False   \n2021-06-30   1427     False     False     False     False     False     False   \n2021-07-31   1015     False     False     False     False     False     False   \n2021-08-31    920     False     False     False     False     False     False   \n2021-09-30    977     False     False     False     False     False     False   \n2021-10-31    694     False     False     False     False     False     False   \n2021-11-30    920     False     False     False     False     False     False   \n2021-12-31   2096     False     False     False     False     False     False   \n2022-01-31   1903     False     False     False     False     False     False   \n2022-02-28    391     False     False     False     False     False     False   \n2022-03-31      6     False     False     False     False     False     False   \n2022-04-30      1     False     False     False     False     False     False   \n\n            season_7  season_8  season_9  season_10  season_11  season_12  \nst date                                                                    \n2019-11-30     False     False     False      False      False      False  \n2019-12-31     False     False     False      False      False      False  \n2020-01-31     False     False     False      False      False      False  \n2020-02-29     False     False     False      False      False      False  \n2020-03-31     False     False     False      False      False      False  \n2020-04-30     False     False     False      False      False      False  \n2020-05-31      True     False     False      False      False      False  \n2020-06-30     False      True     False      False      False      False  \n2020-07-31     False     False      True      False      False      False  \n2020-08-31     False     False     False       True      False      False  \n2020-09-30     False     False     False      False       True      False  \n2020-10-31     False     False     False      False      False       True  \n2020-11-30     False     False     False      False      False      False  \n2020-12-31     False     False     False      False      False      False  \n2021-01-31     False     False     False      False      False      False  \n2021-02-28     False     False     False      False      False      False  \n2021-03-31     False     False     False      False      False      False  \n2021-04-30     False     False     False      False      False      False  \n2021-05-31     False     False     False      False      False      False  \n2021-06-30     False     False     False      False      False      False  \n2021-07-31     False     False     False      False      False      False  \n2021-08-31     False     False     False      False      False      False  \n2021-09-30     False     False     False      False      False      False  \n2021-10-31     False     False     False      False      False      False  \n2021-11-30     False     False     False      False      False      False  \n2021-12-31     False     False     False      False      False      False  \n2022-01-31     False     False     False      False      False      False  \n2022-02-28     False     False     False      False      False      False  \n2022-03-31     False     False     False      False      False      False  \n2022-04-30     False     False     False      False      False      False  ",
      "text/html": "<div>\n<style scoped>\n    .dataframe tbody tr th:only-of-type {\n        vertical-align: middle;\n    }\n\n    .dataframe tbody tr th {\n        vertical-align: top;\n    }\n\n    .dataframe thead th {\n        text-align: right;\n    }\n</style>\n<table border=\"1\" class=\"dataframe\">\n  <thead>\n    <tr style=\"text-align: right;\">\n      <th></th>\n      <th>count</th>\n      <th>season_1</th>\n      <th>season_2</th>\n      <th>season_3</th>\n      <th>season_4</th>\n      <th>season_5</th>\n      <th>season_6</th>\n      <th>season_7</th>\n      <th>season_8</th>\n      <th>season_9</th>\n      <th>season_10</th>\n      <th>season_11</th>\n      <th>season_12</th>\n    </tr>\n    <tr>\n      <th>st date</th>\n      <th></th>\n      <th></th>\n      <th></th>\n      <th></th>\n      <th></th>\n      <th></th>\n      <th></th>\n      <th></th>\n      <th></th>\n      <th></th>\n      <th></th>\n      <th></th>\n      <th></th>\n    </tr>\n  </thead>\n  <tbody>\n    <tr>\n      <th>2019-11-30</th>\n      <td>284</td>\n      <td>True</td>\n      <td>False</td>\n      <td>False</td>\n      <td>False</td>\n      <td>False</td>\n      <td>False</td>\n      <td>False</td>\n      <td>False</td>\n      <td>False</td>\n      <td>False</td>\n      <td>False</td>\n      <td>False</td>\n    </tr>\n    <tr>\n      <th>2019-12-31</th>\n      <td>2035</td>\n      <td>False</td>\n      <td>True</td>\n      <td>False</td>\n      <td>False</td>\n      <td>False</td>\n      <td>False</td>\n      <td>False</td>\n      <td>False</td>\n      <td>False</td>\n      <td>False</td>\n      <td>False</td>\n      <td>False</td>\n    </tr>\n    <tr>\n      <th>2020-01-31</th>\n      <td>1081</td>\n      <td>False</td>\n      <td>False</td>\n      <td>True</td>\n      <td>False</td>\n      <td>False</td>\n      <td>False</td>\n      <td>False</td>\n      <td>False</td>\n      <td>False</td>\n      <td>False</td>\n      <td>False</td>\n      <td>False</td>\n    </tr>\n    <tr>\n      <th>2020-02-29</th>\n      <td>718</td>\n      <td>False</td>\n      <td>False</td>\n      <td>False</td>\n      <td>True</td>\n      <td>False</td>\n      <td>False</td>\n      <td>False</td>\n      <td>False</td>\n      <td>False</td>\n      <td>False</td>\n      <td>False</td>\n      <td>False</td>\n    </tr>\n    <tr>\n      <th>2020-03-31</th>\n      <td>910</td>\n      <td>False</td>\n      <td>False</td>\n      <td>False</td>\n      <td>False</td>\n      <td>True</td>\n      <td>False</td>\n      <td>False</td>\n      <td>False</td>\n      <td>False</td>\n      <td>False</td>\n      <td>False</td>\n      <td>False</td>\n    </tr>\n    <tr>\n      <th>2020-04-30</th>\n      <td>978</td>\n      <td>False</td>\n      <td>False</td>\n      <td>False</td>\n      <td>False</td>\n      <td>False</td>\n      <td>True</td>\n      <td>False</td>\n      <td>False</td>\n      <td>False</td>\n      <td>False</td>\n      <td>False</td>\n      <td>False</td>\n    </tr>\n    <tr>\n      <th>2020-05-31</th>\n      <td>860</td>\n      <td>False</td>\n      <td>False</td>\n      <td>False</td>\n      <td>False</td>\n      <td>False</td>\n      <td>False</td>\n      <td>True</td>\n      <td>False</td>\n      <td>False</td>\n      <td>False</td>\n      <td>False</td>\n      <td>False</td>\n    </tr>\n    <tr>\n      <th>2020-06-30</th>\n      <td>1058</td>\n      <td>False</td>\n      <td>False</td>\n      <td>False</td>\n      <td>False</td>\n      <td>False</td>\n      <td>False</td>\n      <td>False</td>\n      <td>True</td>\n      <td>False</td>\n      <td>False</td>\n      <td>False</td>\n      <td>False</td>\n    </tr>\n    <tr>\n      <th>2020-07-31</th>\n      <td>642</td>\n      <td>False</td>\n      <td>False</td>\n      <td>False</td>\n      <td>False</td>\n      <td>False</td>\n      <td>False</td>\n      <td>False</td>\n      <td>False</td>\n      <td>True</td>\n      <td>False</td>\n      <td>False</td>\n      <td>False</td>\n    </tr>\n    <tr>\n      <th>2020-08-31</th>\n      <td>467</td>\n      <td>False</td>\n      <td>False</td>\n      <td>False</td>\n      <td>False</td>\n      <td>False</td>\n      <td>False</td>\n      <td>False</td>\n      <td>False</td>\n      <td>False</td>\n      <td>True</td>\n      <td>False</td>\n      <td>False</td>\n    </tr>\n    <tr>\n      <th>2020-09-30</th>\n      <td>498</td>\n      <td>False</td>\n      <td>False</td>\n      <td>False</td>\n      <td>False</td>\n      <td>False</td>\n      <td>False</td>\n      <td>False</td>\n      <td>False</td>\n      <td>False</td>\n      <td>False</td>\n      <td>True</td>\n      <td>False</td>\n    </tr>\n    <tr>\n      <th>2020-10-31</th>\n      <td>614</td>\n      <td>False</td>\n      <td>False</td>\n      <td>False</td>\n      <td>False</td>\n      <td>False</td>\n      <td>False</td>\n      <td>False</td>\n      <td>False</td>\n      <td>False</td>\n      <td>False</td>\n      <td>False</td>\n      <td>True</td>\n    </tr>\n    <tr>\n      <th>2020-11-30</th>\n      <td>760</td>\n      <td>False</td>\n      <td>False</td>\n      <td>False</td>\n      <td>False</td>\n      <td>False</td>\n      <td>False</td>\n      <td>False</td>\n      <td>False</td>\n      <td>False</td>\n      <td>False</td>\n      <td>False</td>\n      <td>False</td>\n    </tr>\n    <tr>\n      <th>2020-12-31</th>\n      <td>1995</td>\n      <td>False</td>\n      <td>False</td>\n      <td>False</td>\n      <td>False</td>\n      <td>False</td>\n      <td>False</td>\n      <td>False</td>\n      <td>False</td>\n      <td>False</td>\n      <td>False</td>\n      <td>False</td>\n      <td>False</td>\n    </tr>\n    <tr>\n      <th>2021-01-31</th>\n      <td>1019</td>\n      <td>False</td>\n      <td>False</td>\n      <td>False</td>\n      <td>False</td>\n      <td>False</td>\n      <td>False</td>\n      <td>False</td>\n      <td>False</td>\n      <td>False</td>\n      <td>False</td>\n      <td>False</td>\n      <td>False</td>\n    </tr>\n    <tr>\n      <th>2021-02-28</th>\n      <td>686</td>\n      <td>False</td>\n      <td>False</td>\n      <td>False</td>\n      <td>False</td>\n      <td>False</td>\n      <td>False</td>\n      <td>False</td>\n      <td>False</td>\n      <td>False</td>\n      <td>False</td>\n      <td>False</td>\n      <td>False</td>\n    </tr>\n    <tr>\n      <th>2021-03-31</th>\n      <td>1260</td>\n      <td>False</td>\n      <td>False</td>\n      <td>False</td>\n      <td>False</td>\n      <td>False</td>\n      <td>False</td>\n      <td>False</td>\n      <td>False</td>\n      <td>False</td>\n      <td>False</td>\n      <td>False</td>\n      <td>False</td>\n    </tr>\n    <tr>\n      <th>2021-04-30</th>\n      <td>1329</td>\n      <td>False</td>\n      <td>False</td>\n      <td>False</td>\n      <td>False</td>\n      <td>False</td>\n      <td>False</td>\n      <td>False</td>\n      <td>False</td>\n      <td>False</td>\n      <td>False</td>\n      <td>False</td>\n      <td>False</td>\n    </tr>\n    <tr>\n      <th>2021-05-31</th>\n      <td>802</td>\n      <td>False</td>\n      <td>False</td>\n      <td>False</td>\n      <td>False</td>\n      <td>False</td>\n      <td>False</td>\n      <td>False</td>\n      <td>False</td>\n      <td>False</td>\n      <td>False</td>\n      <td>False</td>\n      <td>False</td>\n    </tr>\n    <tr>\n      <th>2021-06-30</th>\n      <td>1427</td>\n      <td>False</td>\n      <td>False</td>\n      <td>False</td>\n      <td>False</td>\n      <td>False</td>\n      <td>False</td>\n      <td>False</td>\n      <td>False</td>\n      <td>False</td>\n      <td>False</td>\n      <td>False</td>\n      <td>False</td>\n    </tr>\n    <tr>\n      <th>2021-07-31</th>\n      <td>1015</td>\n      <td>False</td>\n      <td>False</td>\n      <td>False</td>\n      <td>False</td>\n      <td>False</td>\n      <td>False</td>\n      <td>False</td>\n      <td>False</td>\n      <td>False</td>\n      <td>False</td>\n      <td>False</td>\n      <td>False</td>\n    </tr>\n    <tr>\n      <th>2021-08-31</th>\n      <td>920</td>\n      <td>False</td>\n      <td>False</td>\n      <td>False</td>\n      <td>False</td>\n      <td>False</td>\n      <td>False</td>\n      <td>False</td>\n      <td>False</td>\n      <td>False</td>\n      <td>False</td>\n      <td>False</td>\n      <td>False</td>\n    </tr>\n    <tr>\n      <th>2021-09-30</th>\n      <td>977</td>\n      <td>False</td>\n      <td>False</td>\n      <td>False</td>\n      <td>False</td>\n      <td>False</td>\n      <td>False</td>\n      <td>False</td>\n      <td>False</td>\n      <td>False</td>\n      <td>False</td>\n      <td>False</td>\n      <td>False</td>\n    </tr>\n    <tr>\n      <th>2021-10-31</th>\n      <td>694</td>\n      <td>False</td>\n      <td>False</td>\n      <td>False</td>\n      <td>False</td>\n      <td>False</td>\n      <td>False</td>\n      <td>False</td>\n      <td>False</td>\n      <td>False</td>\n      <td>False</td>\n      <td>False</td>\n      <td>False</td>\n    </tr>\n    <tr>\n      <th>2021-11-30</th>\n      <td>920</td>\n      <td>False</td>\n      <td>False</td>\n      <td>False</td>\n      <td>False</td>\n      <td>False</td>\n      <td>False</td>\n      <td>False</td>\n      <td>False</td>\n      <td>False</td>\n      <td>False</td>\n      <td>False</td>\n      <td>False</td>\n    </tr>\n    <tr>\n      <th>2021-12-31</th>\n      <td>2096</td>\n      <td>False</td>\n      <td>False</td>\n      <td>False</td>\n      <td>False</td>\n      <td>False</td>\n      <td>False</td>\n      <td>False</td>\n      <td>False</td>\n      <td>False</td>\n      <td>False</td>\n      <td>False</td>\n      <td>False</td>\n    </tr>\n    <tr>\n      <th>2022-01-31</th>\n      <td>1903</td>\n      <td>False</td>\n      <td>False</td>\n      <td>False</td>\n      <td>False</td>\n      <td>False</td>\n      <td>False</td>\n      <td>False</td>\n      <td>False</td>\n      <td>False</td>\n      <td>False</td>\n      <td>False</td>\n      <td>False</td>\n    </tr>\n    <tr>\n      <th>2022-02-28</th>\n      <td>391</td>\n      <td>False</td>\n      <td>False</td>\n      <td>False</td>\n      <td>False</td>\n      <td>False</td>\n      <td>False</td>\n      <td>False</td>\n      <td>False</td>\n      <td>False</td>\n      <td>False</td>\n      <td>False</td>\n      <td>False</td>\n    </tr>\n    <tr>\n      <th>2022-03-31</th>\n      <td>6</td>\n      <td>False</td>\n      <td>False</td>\n      <td>False</td>\n      <td>False</td>\n      <td>False</td>\n      <td>False</td>\n      <td>False</td>\n      <td>False</td>\n      <td>False</td>\n      <td>False</td>\n      <td>False</td>\n      <td>False</td>\n    </tr>\n    <tr>\n      <th>2022-04-30</th>\n      <td>1</td>\n      <td>False</td>\n      <td>False</td>\n      <td>False</td>\n      <td>False</td>\n      <td>False</td>\n      <td>False</td>\n      <td>False</td>\n      <td>False</td>\n      <td>False</td>\n      <td>False</td>\n      <td>False</td>\n      <td>False</td>\n    </tr>\n  </tbody>\n</table>\n</div>"
     },
     "execution_count": 448,
     "metadata": {},
     "output_type": "execute_result"
    }
   ],
   "source": [
    "X2"
   ],
   "metadata": {
    "collapsed": false
   }
  },
  {
   "cell_type": "code",
   "execution_count": 447,
   "outputs": [],
   "source": [
    "X2 = data_count[['count']+ season_columns]\n",
    "Y2 = data_count['amount']"
   ],
   "metadata": {
    "collapsed": false
   }
  },
  {
   "cell_type": "code",
   "execution_count": 358,
   "outputs": [],
   "source": [
    "X2_train, X2_test, Y2_train, Y2_test = train_test_split(X2, Y2, test_size=0.2, random_state=0)"
   ],
   "metadata": {
    "collapsed": false
   }
  },
  {
   "cell_type": "code",
   "execution_count": 359,
   "outputs": [
    {
     "data": {
      "text/plain": "LinearRegression()"
     },
     "execution_count": 359,
     "metadata": {},
     "output_type": "execute_result"
    }
   ],
   "source": [
    "model = LinearRegression()\n",
    "model.fit(X2_train, Y2_train)"
   ],
   "metadata": {
    "collapsed": false
   }
  },
  {
   "cell_type": "code",
   "execution_count": 360,
   "outputs": [],
   "source": [
    "Y2_pred = model.predict(X2_test)"
   ],
   "metadata": {
    "collapsed": false
   }
  },
  {
   "cell_type": "code",
   "execution_count": 361,
   "outputs": [
    {
     "name": "stdout",
     "output_type": "stream",
     "text": [
      "MAE =  45.764\n",
      "MSE = 40578.287\n",
      "R^2 = -0.034\n"
     ]
    }
   ],
   "source": [
    "MAE = mean_absolute_error(Y2_test, Y2_pred)\n",
    "MSE = mean_squared_error(Y2_test, Y2_pred)\n",
    "R2 = r2_score(Y2_test, Y2_pred)\n",
    "print('MAE = ', np.round(MAE, 3))\n",
    "print('MSE =', np.round(MSE, 3))\n",
    "print('R^2 =', np.round(R2, 3))"
   ],
   "metadata": {
    "collapsed": false
   }
  },
  {
   "cell_type": "code",
   "execution_count": 365,
   "outputs": [
    {
     "data": {
      "text/plain": "             N\nst date       \n2020-01-31   3\n2022-03-31  29\n2020-12-31  14\n2020-09-30  11\n2022-01-31  27\n2021-11-30  25",
      "text/html": "<div>\n<style scoped>\n    .dataframe tbody tr th:only-of-type {\n        vertical-align: middle;\n    }\n\n    .dataframe tbody tr th {\n        vertical-align: top;\n    }\n\n    .dataframe thead th {\n        text-align: right;\n    }\n</style>\n<table border=\"1\" class=\"dataframe\">\n  <thead>\n    <tr style=\"text-align: right;\">\n      <th></th>\n      <th>N</th>\n    </tr>\n    <tr>\n      <th>st date</th>\n      <th></th>\n    </tr>\n  </thead>\n  <tbody>\n    <tr>\n      <th>2020-01-31</th>\n      <td>3</td>\n    </tr>\n    <tr>\n      <th>2022-03-31</th>\n      <td>29</td>\n    </tr>\n    <tr>\n      <th>2020-12-31</th>\n      <td>14</td>\n    </tr>\n    <tr>\n      <th>2020-09-30</th>\n      <td>11</td>\n    </tr>\n    <tr>\n      <th>2022-01-31</th>\n      <td>27</td>\n    </tr>\n    <tr>\n      <th>2021-11-30</th>\n      <td>25</td>\n    </tr>\n  </tbody>\n</table>\n</div>"
     },
     "execution_count": 365,
     "metadata": {},
     "output_type": "execute_result"
    }
   ],
   "source": [
    "X2_test"
   ],
   "metadata": {
    "collapsed": false
   }
  },
  {
   "cell_type": "markdown",
   "source": [
    "Хольт Винтерс\n",
    "=\n",
    "Прогноз количества сделок по банковским гарантиям"
   ],
   "metadata": {
    "collapsed": false
   }
  },
  {
   "cell_type": "code",
   "execution_count": 368,
   "outputs": [],
   "source": [
    "from statsmodels.tsa.seasonal import seasonal_decompose\n",
    "from statsmodels.tsa.holtwinters import SimpleExpSmoothing\n",
    "from statsmodels.tsa.holtwinters import ExponentialSmoothing"
   ],
   "metadata": {
    "collapsed": false
   }
  },
  {
   "cell_type": "code",
   "execution_count": 371,
   "outputs": [
    {
     "data": {
      "text/plain": "<Figure size 432x288 with 4 Axes>",
      "image/png": "[encoded data removed]"
     },
     "execution_count": 371,
     "metadata": {},
     "output_type": "execute_result"
    },
    {
     "data": {
      "text/plain": "<Figure size 432x288 with 4 Axes>",
      "image/png": "[encoded data removed]"
     },
     "metadata": {},
     "output_type": "display_data"
    }
   ],
   "source": [
    "decompose_result = seasonal_decompose(data_model['count'],model='additive')\n",
    "decompose_result.plot()"
   ],
   "metadata": {
    "collapsed": false
   }
  },
  {
   "cell_type": "code",
   "execution_count": 373,
   "outputs": [],
   "source": [
    "data_model.index.freq = 'M'"
   ],
   "metadata": {
    "collapsed": false
   }
  },
  {
   "cell_type": "code",
   "execution_count": 375,
   "outputs": [],
   "source": [
    "data_model['HWES3_ADD'] = ExponentialSmoothing(data_model['count'],trend='add',seasonal='add',seasonal_periods=12).fit().fittedvalues\n",
    "data_model['HWES3_MUL'] = ExponentialSmoothing(data_model['count'],trend='mul',seasonal='mul',seasonal_periods=12).fit().fittedvalues"
   ],
   "metadata": {
    "collapsed": false
   }
  },
  {
   "cell_type": "code",
   "execution_count": 376,
   "outputs": [
    {
     "data": {
      "text/plain": "<Figure size 432x288 with 1 Axes>",
      "image/png": "[encoded data removed]"
     },
     "metadata": {},
     "output_type": "display_data"
    }
   ],
   "source": [
    "data_model[['count','HWES3_ADD','HWES3_MUL']].plot(title='Holt Winters Triple Exponential Smoothing: Additive and Multiplicative Seasonality');"
   ],
   "metadata": {
    "collapsed": false
   }
  },
  {
   "cell_type": "code",
   "execution_count": 427,
   "outputs": [],
   "source": [
    "data_model_new = data_model[:37] #уберем данные с февраля 2022 года\n",
    "train_count = data_model_new['count'][:30]\n",
    "test_count = data_model_new['count'][28:]"
   ],
   "metadata": {
    "collapsed": false
   }
  },
  {
   "cell_type": "code",
   "execution_count": 412,
   "outputs": [
    {
     "data": {
      "text/plain": "                  amount  count  LN(amount)  LN(count)   N  season_1  \\\nst date                                                                \n2019-01-31  1.964008e+08    123   19.095668   4.812184   1      True   \n2019-02-28  4.908946e+07     55   17.709155   4.007333   2     False   \n2019-03-31  1.955362e+07     52   16.788671   3.951244   3     False   \n2019-04-30  7.622638e+07     79   18.149218   4.369448   4     False   \n2019-05-31  1.544688e+09     69   21.158087   4.234107   5     False   \n2019-06-30  1.937947e+08     92   19.082310   4.521789   6     False   \n2019-07-31  1.086469e+08    103   18.503613   4.634729   7     False   \n2019-08-31  8.755279e+08    104   20.590338   4.644391   8     False   \n2019-09-30  1.333051e+09    147   21.010736   4.990433   9     False   \n2019-10-31  4.284781e+08    129   19.875750   4.859812  10     False   \n2019-11-30  1.256651e+09    284   20.951716   5.648974  11     False   \n2019-12-31  6.776751e+09   2035   22.636764   7.618251  12     False   \n2020-01-31  7.836339e+08   1081   20.479453   6.985642  13     False   \n2020-02-29  3.554648e+08    718   19.688937   6.576470  14     False   \n2020-03-31  7.727438e+08    910   20.465458   6.813445  15     False   \n2020-04-30  8.381224e+08    978   20.546675   6.885510  16     False   \n2020-05-31  3.508018e+09    860   21.978317   6.756932  17     False   \n2020-06-30  1.061134e+09   1058   20.782604   6.964136  18     False   \n2020-07-31  3.386221e+09    642   21.942980   6.464588  19     False   \n2020-08-31  3.141260e+08    467   19.565305   6.146329  20     False   \n2020-09-30  6.924019e+08    498   20.355677   6.210600  21     False   \n2020-10-31  8.610735e+08    614   20.573690   6.419995  22     False   \n2020-11-30  1.339340e+09    760   21.015443   6.633318  23     False   \n2020-12-31  4.048599e+09   1995   22.121637   7.598399  24     False   \n2021-01-31  8.362608e+08   1019   20.544451   6.926577  25     False   \n2021-02-28  3.701269e+08    686   19.729357   6.530878  26     False   \n2021-03-31  1.053798e+09   1260   20.775666   7.138867  27     False   \n2021-04-30  9.810521e+09   1329   23.006721   7.192182  28     False   \n2021-05-31  6.076343e+08    802   20.225084   6.687109  29     False   \n2021-06-30  9.449302e+08   1427   20.666622   7.263330  30     False   \n2021-07-31  1.614118e+09   1015   21.202054   6.922644  31     False   \n2021-08-31  1.613361e+09    920   21.201586   6.824374  32     False   \n2021-09-30  7.077621e+08    977   20.377619   6.884487  33     False   \n2021-10-31  2.237809e+09    694   21.528763   6.542472  34     False   \n2021-11-30  1.095681e+09    920   20.814642   6.824374  35     False   \n2021-12-31  3.423868e+09   2096   21.954037   7.647786  36     False   \n2022-01-31  6.353949e+08   1903   20.269757   7.551187  37     False   \n\n            season_2  season_3  season_4  season_5  season_6  season_7  \\\nst date                                                                  \n2019-01-31     False     False     False     False     False     False   \n2019-02-28      True     False     False     False     False     False   \n2019-03-31     False      True     False     False     False     False   \n2019-04-30     False     False      True     False     False     False   \n2019-05-31     False     False     False      True     False     False   \n2019-06-30     False     False     False     False      True     False   \n2019-07-31     False     False     False     False     False      True   \n2019-08-31     False     False     False     False     False     False   \n2019-09-30     False     False     False     False     False     False   \n2019-10-31     False     False     False     False     False     False   \n2019-11-30     False     False     False     False     False     False   \n2019-12-31     False     False     False     False     False     False   \n2020-01-31     False     False     False     False     False     False   \n2020-02-29     False     False     False     False     False     False   \n2020-03-31     False     False     False     False     False     False   \n2020-04-30     False     False     False     False     False     False   \n2020-05-31     False     False     False     False     False     False   \n2020-06-30     False     False     False     False     False     False   \n2020-07-31     False     False     False     False     False     False   \n2020-08-31     False     False     False     False     False     False   \n2020-09-30     False     False     False     False     False     False   \n2020-10-31     False     False     False     False     False     False   \n2020-11-30     False     False     False     False     False     False   \n2020-12-31     False     False     False     False     False     False   \n2021-01-31     False     False     False     False     False     False   \n2021-02-28     False     False     False     False     False     False   \n2021-03-31     False     False     False     False     False     False   \n2021-04-30     False     False     False     False     False     False   \n2021-05-31     False     False     False     False     False     False   \n2021-06-30     False     False     False     False     False     False   \n2021-07-31     False     False     False     False     False     False   \n2021-08-31     False     False     False     False     False     False   \n2021-09-30     False     False     False     False     False     False   \n2021-10-31     False     False     False     False     False     False   \n2021-11-30     False     False     False     False     False     False   \n2021-12-31     False     False     False     False     False     False   \n2022-01-31     False     False     False     False     False     False   \n\n            season_8  season_9  season_10  season_11  season_12    HWES3_ADD  \\\nst date                                                                        \n2019-01-31     False     False      False      False      False   479.118177   \n2019-02-28     False     False      False      False      False  -289.864994   \n2019-03-31     False     False      False      False      False    55.784845   \n2019-04-30     False     False      False      False      False   145.176832   \n2019-05-31     False     False      False      False      False  -135.994954   \n2019-06-30     False     False      False      False      False   229.483372   \n2019-07-31     False     False      False      False      False  -144.903202   \n2019-08-31      True     False      False      False      False   -95.354072   \n2019-09-30     False      True      False      False      False   103.736686   \n2019-10-31     False     False       True      False      False   136.750592   \n2019-11-30     False     False      False       True      False   396.216542   \n2019-12-31     False     False      False      False       True  1815.147438   \n2020-01-31     False     False      False      False      False  1208.977800   \n2020-02-29     False     False      False      False      False   728.803149   \n2020-03-31     False     False      False      False      False   962.716257   \n2020-04-30     False     False      False      False      False  1096.568082   \n2020-05-31     False     False      False      False      False   864.006530   \n2020-06-30     False     False      False      False      False  1135.184631   \n2020-07-31     False     False      False      False      False   843.840735   \n2020-08-31     False     False      False      False      False   623.703625   \n2020-09-30     False     False      False      False      False   530.947500   \n2020-10-31     False     False      False      False      False   401.850512   \n2020-11-30     False     False      False      False      False   682.681245   \n2020-12-31     False     False      False      False      False  2161.746054   \n2021-01-31     False     False      False      False      False  1230.315307   \n2021-02-28     False     False      False      False      False   581.365731   \n2021-03-31     False     False      False      False      False   758.292824   \n2021-04-30     False     False      False      False      False  1150.512498   \n2021-05-31     False     False      False      False      False  1110.217115   \n2021-06-30     False     False      False      False      False  1213.015162   \n2021-07-31     False     False      False      False      False  1097.771819   \n2021-08-31     False     False      False      False      False   997.555570   \n2021-09-30     False     False      False      False      False  1022.689433   \n2021-10-31     False     False      False      False      False   969.246934   \n2021-11-30     False     False      False      False      False   986.260827   \n2021-12-31     False     False      False      False      False  2341.093975   \n2022-01-31     False     False      False      False      False  1312.833618   \n\n              HWES3_MUL  \nst date                  \n2019-01-31   798.221117  \n2019-02-28    89.752370  \n2019-03-31    44.145313  \n2019-04-30    27.225624  \n2019-05-31    52.504593  \n2019-06-30   124.662691  \n2019-07-31    75.572977  \n2019-08-31   113.545989  \n2019-09-30   151.506389  \n2019-10-31   198.658870  \n2019-11-30   218.391578  \n2019-12-31  1027.807577  \n2020-01-31  1880.481770  \n2020-02-29   873.757514  \n2020-03-31  1341.518197  \n2020-04-30  1059.110145  \n2020-05-31   704.448240  \n2020-06-30  1336.076724  \n2020-07-31   745.585983  \n2020-08-31   530.791926  \n2020-09-30   452.587870  \n2020-10-31   461.019505  \n2020-11-30   893.024729  \n2020-12-31  2494.256264  \n2021-01-31  1051.094281  \n2021-02-28   423.269771  \n2021-03-31   993.395307  \n2021-04-30  1572.924648  \n2021-05-31  1187.792242  \n2021-06-30  1291.501349  \n2021-07-31   972.626411  \n2021-08-31   936.275064  \n2021-09-30  1078.536587  \n2021-10-31  1061.806033  \n2021-11-30   928.515865  \n2021-12-31  2391.367095  \n2022-01-31   930.305274  ",
      "text/html": "<div>\n<style scoped>\n    .dataframe tbody tr th:only-of-type {\n        vertical-align: middle;\n    }\n\n    .dataframe tbody tr th {\n        vertical-align: top;\n    }\n\n    .dataframe thead th {\n        text-align: right;\n    }\n</style>\n<table border=\"1\" class=\"dataframe\">\n  <thead>\n    <tr style=\"text-align: right;\">\n      <th></th>\n      <th>amount</th>\n      <th>count</th>\n      <th>LN(amount)</th>\n      <th>LN(count)</th>\n      <th>N</th>\n      <th>season_1</th>\n      <th>season_2</th>\n      <th>season_3</th>\n      <th>season_4</th>\n      <th>season_5</th>\n      <th>season_6</th>\n      <th>season_7</th>\n      <th>season_8</th>\n      <th>season_9</th>\n      <th>season_10</th>\n      <th>season_11</th>\n      <th>season_12</th>\n      <th>HWES3_ADD</th>\n      <th>HWES3_MUL</th>\n    </tr>\n    <tr>\n      <th>st date</th>\n      <th></th>\n      <th></th>\n      <th></th>\n      <th></th>\n      <th></th>\n      <th></th>\n      <th></th>\n      <th></th>\n      <th></th>\n      <th></th>\n      <th></th>\n      <th></th>\n      <th></th>\n      <th></th>\n      <th></th>\n      <th></th>\n      <th></th>\n      <th></th>\n      <th></th>\n    </tr>\n  </thead>\n  <tbody>\n    <tr>\n      <th>2019-01-31</th>\n      <td>1.964008e+08</td>\n      <td>123</td>\n      <td>19.095668</td>\n      <td>4.812184</td>\n      <td>1</td>\n      <td>True</td>\n      <td>False</td>\n      <td>False</td>\n      <td>False</td>\n      <td>False</td>\n      <td>False</td>\n      <td>False</td>\n      <td>False</td>\n      <td>False</td>\n      <td>False</td>\n      <td>False</td>\n      <td>False</td>\n      <td>479.118177</td>\n      <td>798.221117</td>\n    </tr>\n    <tr>\n      <th>2019-02-28</th>\n      <td>4.908946e+07</td>\n      <td>55</td>\n      <td>17.709155</td>\n      <td>4.007333</td>\n      <td>2</td>\n      <td>False</td>\n      <td>True</td>\n      <td>False</td>\n      <td>False</td>\n      <td>False</td>\n      <td>False</td>\n      <td>False</td>\n      <td>False</td>\n      <td>False</td>\n      <td>False</td>\n      <td>False</td>\n      <td>False</td>\n      <td>-289.864994</td>\n      <td>89.752370</td>\n    </tr>\n    <tr>\n      <th>2019-03-31</th>\n      <td>1.955362e+07</td>\n      <td>52</td>\n      <td>16.788671</td>\n      <td>3.951244</td>\n      <td>3</td>\n      <td>False</td>\n      <td>False</td>\n      <td>True</td>\n      <td>False</td>\n      <td>False</td>\n      <td>False</td>\n      <td>False</td>\n      <td>False</td>\n      <td>False</td>\n      <td>False</td>\n      <td>False</td>\n      <td>False</td>\n      <td>55.784845</td>\n      <td>44.145313</td>\n    </tr>\n    <tr>\n      <th>2019-04-30</th>\n      <td>7.622638e+07</td>\n      <td>79</td>\n      <td>18.149218</td>\n      <td>4.369448</td>\n      <td>4</td>\n      <td>False</td>\n      <td>False</td>\n      <td>False</td>\n      <td>True</td>\n      <td>False</td>\n      <td>False</td>\n      <td>False</td>\n      <td>False</td>\n      <td>False</td>\n      <td>False</td>\n      <td>False</td>\n      <td>False</td>\n      <td>145.176832</td>\n      <td>27.225624</td>\n    </tr>\n    <tr>\n      <th>2019-05-31</th>\n      <td>1.544688e+09</td>\n      <td>69</td>\n      <td>21.158087</td>\n      <td>4.234107</td>\n      <td>5</td>\n      <td>False</td>\n      <td>False</td>\n      <td>False</td>\n      <td>False</td>\n      <td>True</td>\n      <td>False</td>\n      <td>False</td>\n      <td>False</td>\n      <td>False</td>\n      <td>False</td>\n      <td>False</td>\n      <td>False</td>\n      <td>-135.994954</td>\n      <td>52.504593</td>\n    </tr>\n    <tr>\n      <th>2019-06-30</th>\n      <td>1.937947e+08</td>\n      <td>92</td>\n      <td>19.082310</td>\n      <td>4.521789</td>\n      <td>6</td>\n      <td>False</td>\n      <td>False</td>\n      <td>False</td>\n      <td>False</td>\n      <td>False</td>\n      <td>True</td>\n      <td>False</td>\n      <td>False</td>\n      <td>False</td>\n      <td>False</td>\n      <td>False</td>\n      <td>False</td>\n      <td>229.483372</td>\n      <td>124.662691</td>\n    </tr>\n    <tr>\n      <th>2019-07-31</th>\n      <td>1.086469e+08</td>\n      <td>103</td>\n      <td>18.503613</td>\n      <td>4.634729</td>\n      <td>7</td>\n      <td>False</td>\n      <td>False</td>\n      <td>False</td>\n      <td>False</td>\n      <td>False</td>\n      <td>False</td>\n      <td>True</td>\n      <td>False</td>\n      <td>False</td>\n      <td>False</td>\n      <td>False</td>\n      <td>False</td>\n      <td>-144.903202</td>\n      <td>75.572977</td>\n    </tr>\n    <tr>\n      <th>2019-08-31</th>\n      <td>8.755279e+08</td>\n      <td>104</td>\n      <td>20.590338</td>\n      <td>4.644391</td>\n      <td>8</td>\n      <td>False</td>\n      <td>False</td>\n      <td>False</td>\n      <td>False</td>\n      <td>False</td>\n      <td>False</td>\n      <td>False</td>\n      <td>True</td>\n      <td>False</td>\n      <td>False</td>\n      <td>False</td>\n      <td>False</td>\n      <td>-95.354072</td>\n      <td>113.545989</td>\n    </tr>\n    <tr>\n      <th>2019-09-30</th>\n      <td>1.333051e+09</td>\n      <td>147</td>\n      <td>21.010736</td>\n      <td>4.990433</td>\n      <td>9</td>\n      <td>False</td>\n      <td>False</td>\n      <td>False</td>\n      <td>False</td>\n      <td>False</td>\n      <td>False</td>\n      <td>False</td>\n      <td>False</td>\n      <td>True</td>\n      <td>False</td>\n      <td>False</td>\n      <td>False</td>\n      <td>103.736686</td>\n      <td>151.506389</td>\n    </tr>\n    <tr>\n      <th>2019-10-31</th>\n      <td>4.284781e+08</td>\n      <td>129</td>\n      <td>19.875750</td>\n      <td>4.859812</td>\n      <td>10</td>\n      <td>False</td>\n      <td>False</td>\n      <td>False</td>\n      <td>False</td>\n      <td>False</td>\n      <td>False</td>\n      <td>False</td>\n      <td>False</td>\n      <td>False</td>\n      <td>True</td>\n      <td>False</td>\n      <td>False</td>\n      <td>136.750592</td>\n      <td>198.658870</td>\n    </tr>\n    <tr>\n      <th>2019-11-30</th>\n      <td>1.256651e+09</td>\n      <td>284</td>\n      <td>20.951716</td>\n      <td>5.648974</td>\n      <td>11</td>\n      <td>False</td>\n      <td>False</td>\n      <td>False</td>\n      <td>False</td>\n      <td>False</td>\n      <td>False</td>\n      <td>False</td>\n      <td>False</td>\n      <td>False</td>\n      <td>False</td>\n      <td>True</td>\n      <td>False</td>\n      <td>396.216542</td>\n      <td>218.391578</td>\n    </tr>\n    <tr>\n      <th>2019-12-31</th>\n      <td>6.776751e+09</td>\n      <td>2035</td>\n      <td>22.636764</td>\n      <td>7.618251</td>\n      <td>12</td>\n      <td>False</td>\n      <td>False</td>\n      <td>False</td>\n      <td>False</td>\n      <td>False</td>\n      <td>False</td>\n      <td>False</td>\n      <td>False</td>\n      <td>False</td>\n      <td>False</td>\n      <td>False</td>\n      <td>True</td>\n      <td>1815.147438</td>\n      <td>1027.807577</td>\n    </tr>\n    <tr>\n      <th>2020-01-31</th>\n      <td>7.836339e+08</td>\n      <td>1081</td>\n      <td>20.479453</td>\n      <td>6.985642</td>\n      <td>13</td>\n      <td>False</td>\n      <td>False</td>\n      <td>False</td>\n      <td>False</td>\n      <td>False</td>\n      <td>False</td>\n      <td>False</td>\n      <td>False</td>\n      <td>False</td>\n      <td>False</td>\n      <td>False</td>\n      <td>False</td>\n      <td>1208.977800</td>\n      <td>1880.481770</td>\n    </tr>\n    <tr>\n      <th>2020-02-29</th>\n      <td>3.554648e+08</td>\n      <td>718</td>\n      <td>19.688937</td>\n      <td>6.576470</td>\n      <td>14</td>\n      <td>False</td>\n      <td>False</td>\n      <td>False</td>\n      <td>False</td>\n      <td>False</td>\n      <td>False</td>\n      <td>False</td>\n      <td>False</td>\n      <td>False</td>\n      <td>False</td>\n      <td>False</td>\n      <td>False</td>\n      <td>728.803149</td>\n      <td>873.757514</td>\n    </tr>\n    <tr>\n      <th>2020-03-31</th>\n      <td>7.727438e+08</td>\n      <td>910</td>\n      <td>20.465458</td>\n      <td>6.813445</td>\n      <td>15</td>\n      <td>False</td>\n      <td>False</td>\n      <td>False</td>\n      <td>False</td>\n      <td>False</td>\n      <td>False</td>\n      <td>False</td>\n      <td>False</td>\n      <td>False</td>\n      <td>False</td>\n      <td>False</td>\n      <td>False</td>\n      <td>962.716257</td>\n      <td>1341.518197</td>\n    </tr>\n    <tr>\n      <th>2020-04-30</th>\n      <td>8.381224e+08</td>\n      <td>978</td>\n      <td>20.546675</td>\n      <td>6.885510</td>\n      <td>16</td>\n      <td>False</td>\n      <td>False</td>\n      <td>False</td>\n      <td>False</td>\n      <td>False</td>\n      <td>False</td>\n      <td>False</td>\n      <td>False</td>\n      <td>False</td>\n      <td>False</td>\n      <td>False</td>\n      <td>False</td>\n      <td>1096.568082</td>\n      <td>1059.110145</td>\n    </tr>\n    <tr>\n      <th>2020-05-31</th>\n      <td>3.508018e+09</td>\n      <td>860</td>\n      <td>21.978317</td>\n      <td>6.756932</td>\n      <td>17</td>\n      <td>False</td>\n      <td>False</td>\n      <td>False</td>\n      <td>False</td>\n      <td>False</td>\n      <td>False</td>\n      <td>False</td>\n      <td>False</td>\n      <td>False</td>\n      <td>False</td>\n      <td>False</td>\n      <td>False</td>\n      <td>864.006530</td>\n      <td>704.448240</td>\n    </tr>\n    <tr>\n      <th>2020-06-30</th>\n      <td>1.061134e+09</td>\n      <td>1058</td>\n      <td>20.782604</td>\n      <td>6.964136</td>\n      <td>18</td>\n      <td>False</td>\n      <td>False</td>\n      <td>False</td>\n      <td>False</td>\n      <td>False</td>\n      <td>False</td>\n      <td>False</td>\n      <td>False</td>\n      <td>False</td>\n      <td>False</td>\n      <td>False</td>\n      <td>False</td>\n      <td>1135.184631</td>\n      <td>1336.076724</td>\n    </tr>\n    <tr>\n      <th>2020-07-31</th>\n      <td>3.386221e+09</td>\n      <td>642</td>\n      <td>21.942980</td>\n      <td>6.464588</td>\n      <td>19</td>\n      <td>False</td>\n      <td>False</td>\n      <td>False</td>\n      <td>False</td>\n      <td>False</td>\n      <td>False</td>\n      <td>False</td>\n      <td>False</td>\n      <td>False</td>\n      <td>False</td>\n      <td>False</td>\n      <td>False</td>\n      <td>843.840735</td>\n      <td>745.585983</td>\n    </tr>\n    <tr>\n      <th>2020-08-31</th>\n      <td>3.141260e+08</td>\n      <td>467</td>\n      <td>19.565305</td>\n      <td>6.146329</td>\n      <td>20</td>\n      <td>False</td>\n      <td>False</td>\n      <td>False</td>\n      <td>False</td>\n      <td>False</td>\n      <td>False</td>\n      <td>False</td>\n      <td>False</td>\n      <td>False</td>\n      <td>False</td>\n      <td>False</td>\n      <td>False</td>\n      <td>623.703625</td>\n      <td>530.791926</td>\n    </tr>\n    <tr>\n      <th>2020-09-30</th>\n      <td>6.924019e+08</td>\n      <td>498</td>\n      <td>20.355677</td>\n      <td>6.210600</td>\n      <td>21</td>\n      <td>False</td>\n      <td>False</td>\n      <td>False</td>\n      <td>False</td>\n      <td>False</td>\n      <td>False</td>\n      <td>False</td>\n      <td>False</td>\n      <td>False</td>\n      <td>False</td>\n      <td>False</td>\n      <td>False</td>\n      <td>530.947500</td>\n      <td>452.587870</td>\n    </tr>\n    <tr>\n      <th>2020-10-31</th>\n      <td>8.610735e+08</td>\n      <td>614</td>\n      <td>20.573690</td>\n      <td>6.419995</td>\n      <td>22</td>\n      <td>False</td>\n      <td>False</td>\n      <td>False</td>\n      <td>False</td>\n      <td>False</td>\n      <td>False</td>\n      <td>False</td>\n      <td>False</td>\n      <td>False</td>\n      <td>False</td>\n      <td>False</td>\n      <td>False</td>\n      <td>401.850512</td>\n      <td>461.019505</td>\n    </tr>\n    <tr>\n      <th>2020-11-30</th>\n      <td>1.339340e+09</td>\n      <td>760</td>\n      <td>21.015443</td>\n      <td>6.633318</td>\n      <td>23</td>\n      <td>False</td>\n      <td>False</td>\n      <td>False</td>\n      <td>False</td>\n      <td>False</td>\n      <td>False</td>\n      <td>False</td>\n      <td>False</td>\n      <td>False</td>\n      <td>False</td>\n      <td>False</td>\n      <td>False</td>\n      <td>682.681245</td>\n      <td>893.024729</td>\n    </tr>\n    <tr>\n      <th>2020-12-31</th>\n      <td>4.048599e+09</td>\n      <td>1995</td>\n      <td>22.121637</td>\n      <td>7.598399</td>\n      <td>24</td>\n      <td>False</td>\n      <td>False</td>\n      <td>False</td>\n      <td>False</td>\n      <td>False</td>\n      <td>False</td>\n      <td>False</td>\n      <td>False</td>\n      <td>False</td>\n      <td>False</td>\n      <td>False</td>\n      <td>False</td>\n      <td>2161.746054</td>\n      <td>2494.256264</td>\n    </tr>\n    <tr>\n      <th>2021-01-31</th>\n      <td>8.362608e+08</td>\n      <td>1019</td>\n      <td>20.544451</td>\n      <td>6.926577</td>\n      <td>25</td>\n      <td>False</td>\n      <td>False</td>\n      <td>False</td>\n      <td>False</td>\n      <td>False</td>\n      <td>False</td>\n      <td>False</td>\n      <td>False</td>\n      <td>False</td>\n      <td>False</td>\n      <td>False</td>\n      <td>False</td>\n      <td>1230.315307</td>\n      <td>1051.094281</td>\n    </tr>\n    <tr>\n      <th>2021-02-28</th>\n      <td>3.701269e+08</td>\n      <td>686</td>\n      <td>19.729357</td>\n      <td>6.530878</td>\n      <td>26</td>\n      <td>False</td>\n      <td>False</td>\n      <td>False</td>\n      <td>False</td>\n      <td>False</td>\n      <td>False</td>\n      <td>False</td>\n      <td>False</td>\n      <td>False</td>\n      <td>False</td>\n      <td>False</td>\n      <td>False</td>\n      <td>581.365731</td>\n      <td>423.269771</td>\n    </tr>\n    <tr>\n      <th>2021-03-31</th>\n      <td>1.053798e+09</td>\n      <td>1260</td>\n      <td>20.775666</td>\n      <td>7.138867</td>\n      <td>27</td>\n      <td>False</td>\n      <td>False</td>\n      <td>False</td>\n      <td>False</td>\n      <td>False</td>\n      <td>False</td>\n      <td>False</td>\n      <td>False</td>\n      <td>False</td>\n      <td>False</td>\n      <td>False</td>\n      <td>False</td>\n      <td>758.292824</td>\n      <td>993.395307</td>\n    </tr>\n    <tr>\n      <th>2021-04-30</th>\n      <td>9.810521e+09</td>\n      <td>1329</td>\n      <td>23.006721</td>\n      <td>7.192182</td>\n      <td>28</td>\n      <td>False</td>\n      <td>False</td>\n      <td>False</td>\n      <td>False</td>\n      <td>False</td>\n      <td>False</td>\n      <td>False</td>\n      <td>False</td>\n      <td>False</td>\n      <td>False</td>\n      <td>False</td>\n      <td>False</td>\n      <td>1150.512498</td>\n      <td>1572.924648</td>\n    </tr>\n    <tr>\n      <th>2021-05-31</th>\n      <td>6.076343e+08</td>\n      <td>802</td>\n      <td>20.225084</td>\n      <td>6.687109</td>\n      <td>29</td>\n      <td>False</td>\n      <td>False</td>\n      <td>False</td>\n      <td>False</td>\n      <td>False</td>\n      <td>False</td>\n      <td>False</td>\n      <td>False</td>\n      <td>False</td>\n      <td>False</td>\n      <td>False</td>\n      <td>False</td>\n      <td>1110.217115</td>\n      <td>1187.792242</td>\n    </tr>\n    <tr>\n      <th>2021-06-30</th>\n      <td>9.449302e+08</td>\n      <td>1427</td>\n      <td>20.666622</td>\n      <td>7.263330</td>\n      <td>30</td>\n      <td>False</td>\n      <td>False</td>\n      <td>False</td>\n      <td>False</td>\n      <td>False</td>\n      <td>False</td>\n      <td>False</td>\n      <td>False</td>\n      <td>False</td>\n      <td>False</td>\n      <td>False</td>\n      <td>False</td>\n      <td>1213.015162</td>\n      <td>1291.501349</td>\n    </tr>\n    <tr>\n      <th>2021-07-31</th>\n      <td>1.614118e+09</td>\n      <td>1015</td>\n      <td>21.202054</td>\n      <td>6.922644</td>\n      <td>31</td>\n      <td>False</td>\n      <td>False</td>\n      <td>False</td>\n      <td>False</td>\n      <td>False</td>\n      <td>False</td>\n      <td>False</td>\n      <td>False</td>\n      <td>False</td>\n      <td>False</td>\n      <td>False</td>\n      <td>False</td>\n      <td>1097.771819</td>\n      <td>972.626411</td>\n    </tr>\n    <tr>\n      <th>2021-08-31</th>\n      <td>1.613361e+09</td>\n      <td>920</td>\n      <td>21.201586</td>\n      <td>6.824374</td>\n      <td>32</td>\n      <td>False</td>\n      <td>False</td>\n      <td>False</td>\n      <td>False</td>\n      <td>False</td>\n      <td>False</td>\n      <td>False</td>\n      <td>False</td>\n      <td>False</td>\n      <td>False</td>\n      <td>False</td>\n      <td>False</td>\n      <td>997.555570</td>\n      <td>936.275064</td>\n    </tr>\n    <tr>\n      <th>2021-09-30</th>\n      <td>7.077621e+08</td>\n      <td>977</td>\n      <td>20.377619</td>\n      <td>6.884487</td>\n      <td>33</td>\n      <td>False</td>\n      <td>False</td>\n      <td>False</td>\n      <td>False</td>\n      <td>False</td>\n      <td>False</td>\n      <td>False</td>\n      <td>False</td>\n      <td>False</td>\n      <td>False</td>\n      <td>False</td>\n      <td>False</td>\n      <td>1022.689433</td>\n      <td>1078.536587</td>\n    </tr>\n    <tr>\n      <th>2021-10-31</th>\n      <td>2.237809e+09</td>\n      <td>694</td>\n      <td>21.528763</td>\n      <td>6.542472</td>\n      <td>34</td>\n      <td>False</td>\n      <td>False</td>\n      <td>False</td>\n      <td>False</td>\n      <td>False</td>\n      <td>False</td>\n      <td>False</td>\n      <td>False</td>\n      <td>False</td>\n      <td>False</td>\n      <td>False</td>\n      <td>False</td>\n      <td>969.246934</td>\n      <td>1061.806033</td>\n    </tr>\n    <tr>\n      <th>2021-11-30</th>\n      <td>1.095681e+09</td>\n      <td>920</td>\n      <td>20.814642</td>\n      <td>6.824374</td>\n      <td>35</td>\n      <td>False</td>\n      <td>False</td>\n      <td>False</td>\n      <td>False</td>\n      <td>False</td>\n      <td>False</td>\n      <td>False</td>\n      <td>False</td>\n      <td>False</td>\n      <td>False</td>\n      <td>False</td>\n      <td>False</td>\n      <td>986.260827</td>\n      <td>928.515865</td>\n    </tr>\n    <tr>\n      <th>2021-12-31</th>\n      <td>3.423868e+09</td>\n      <td>2096</td>\n      <td>21.954037</td>\n      <td>7.647786</td>\n      <td>36</td>\n      <td>False</td>\n      <td>False</td>\n      <td>False</td>\n      <td>False</td>\n      <td>False</td>\n      <td>False</td>\n      <td>False</td>\n      <td>False</td>\n      <td>False</td>\n      <td>False</td>\n      <td>False</td>\n      <td>False</td>\n      <td>2341.093975</td>\n      <td>2391.367095</td>\n    </tr>\n    <tr>\n      <th>2022-01-31</th>\n      <td>6.353949e+08</td>\n      <td>1903</td>\n      <td>20.269757</td>\n      <td>7.551187</td>\n      <td>37</td>\n      <td>False</td>\n      <td>False</td>\n      <td>False</td>\n      <td>False</td>\n      <td>False</td>\n      <td>False</td>\n      <td>False</td>\n      <td>False</td>\n      <td>False</td>\n      <td>False</td>\n      <td>False</td>\n      <td>False</td>\n      <td>1312.833618</td>\n      <td>930.305274</td>\n    </tr>\n  </tbody>\n</table>\n</div>"
     },
     "execution_count": 412,
     "metadata": {},
     "output_type": "execute_result"
    }
   ],
   "source": [
    "data_model_new"
   ],
   "metadata": {
    "collapsed": false
   }
  },
  {
   "cell_type": "code",
   "execution_count": 431,
   "outputs": [],
   "source": [
    "fitted_model = ExponentialSmoothing(train_count,trend='add',seasonal='add',seasonal_periods=12).fit()\n",
    "test_predictions = fitted_model.forecast(9)"
   ],
   "metadata": {
    "collapsed": false
   }
  },
  {
   "cell_type": "code",
   "execution_count": 423,
   "outputs": [
    {
     "data": {
      "text/plain": "2021-07-31    1038.0\n2021-08-31     939.0\n2021-09-30     961.0\n2021-10-31     994.0\n2021-11-30    1147.0\n2021-12-31    2663.0\n2022-01-31    1607.0\nFreq: M, dtype: float64"
     },
     "execution_count": 423,
     "metadata": {},
     "output_type": "execute_result"
    }
   ],
   "source": [
    "np.round(test_predictions)"
   ],
   "metadata": {
    "collapsed": false
   }
  },
  {
   "cell_type": "code",
   "execution_count": 429,
   "outputs": [
    {
     "data": {
      "application/vnd.plotly.v1+json": {
       "data": [
        {
         "mode": "lines",
         "name": "Real",
         "x": [
          "2019-01-31T00:00:00",
          "2019-02-28T00:00:00",
          "2019-03-31T00:00:00",
          "2019-04-30T00:00:00",
          "2019-05-31T00:00:00",
          "2019-06-30T00:00:00",
          "2019-07-31T00:00:00",
          "2019-08-31T00:00:00",
          "2019-09-30T00:00:00",
          "2019-10-31T00:00:00",
          "2019-11-30T00:00:00",
          "2019-12-31T00:00:00",
          "2020-01-31T00:00:00",
          "2020-02-29T00:00:00",
          "2020-03-31T00:00:00",
          "2020-04-30T00:00:00",
          "2020-05-31T00:00:00",
          "2020-06-30T00:00:00",
          "2020-07-31T00:00:00",
          "2020-08-31T00:00:00",
          "2020-09-30T00:00:00",
          "2020-10-31T00:00:00",
          "2020-11-30T00:00:00",
          "2020-12-31T00:00:00",
          "2021-01-31T00:00:00",
          "2021-02-28T00:00:00",
          "2021-03-31T00:00:00",
          "2021-04-30T00:00:00",
          "2021-05-31T00:00:00",
          "2021-06-30T00:00:00"
         ],
         "y": [
          123,
          55,
          52,
          79,
          69,
          92,
          103,
          104,
          147,
          129,
          284,
          2035,
          1081,
          718,
          910,
          978,
          860,
          1058,
          642,
          467,
          498,
          614,
          760,
          1995,
          1019,
          686,
          1260,
          1329,
          802,
          1427
         ],
         "type": "scatter",
         "xaxis": "x",
         "yaxis": "y"
        },
        {
         "mode": "lines",
         "name": "Test",
         "x": [
          "2021-05-31T00:00:00",
          "2021-06-30T00:00:00",
          "2021-07-31T00:00:00",
          "2021-08-31T00:00:00",
          "2021-09-30T00:00:00",
          "2021-10-31T00:00:00",
          "2021-11-30T00:00:00",
          "2021-12-31T00:00:00",
          "2022-01-31T00:00:00"
         ],
         "y": [
          802,
          1427,
          1015,
          920,
          977,
          694,
          920,
          2096,
          1903
         ],
         "type": "scatter",
         "xaxis": "x",
         "yaxis": "y"
        },
        {
         "mode": "lines",
         "name": "Test_predict",
         "x": [
          "2021-07-31T00:00:00",
          "2021-08-31T00:00:00",
          "2021-09-30T00:00:00",
          "2021-10-31T00:00:00",
          "2021-11-30T00:00:00",
          "2021-12-31T00:00:00",
          "2022-01-31T00:00:00"
         ],
         "y": [
          1038.0,
          939.0,
          961.0,
          994.0,
          1147.0,
          2663.0,
          1607.0
         ],
         "type": "scatter",
         "xaxis": "x",
         "yaxis": "y"
        },
        {
         "mode": "lines",
         "name": "Test_predict",
         "x": [
          "2021-07-31T00:00:00",
          "2021-08-31T00:00:00",
          "2021-09-30T00:00:00",
          "2021-10-31T00:00:00",
          "2021-11-30T00:00:00",
          "2021-12-31T00:00:00",
          "2022-01-31T00:00:00",
          "2022-02-28T00:00:00",
          "2022-03-31T00:00:00",
          "2022-04-30T00:00:00",
          "2022-05-31T00:00:00",
          "2022-06-30T00:00:00",
          "2022-07-31T00:00:00"
         ],
         "y": [
          1038.0,
          939.0,
          961.0,
          994.0,
          1147.0,
          2663.0,
          1607.0,
          1392.0,
          1663.0,
          1717.0,
          1476.0,
          1758.0,
          1486.0
         ],
         "type": "scatter",
         "xaxis": "x",
         "yaxis": "y"
        }
       ],
       "layout": {
        "template": {
         "data": {
          "bar": [
           {
            "error_x": {
             "color": "#f2f5fa"
            },
            "error_y": {
             "color": "#f2f5fa"
            },
            "marker": {
             "line": {
              "color": "rgb(17,17,17)",
              "width": 0.5
             },
             "pattern": {
              "fillmode": "overlay",
              "size": 10,
              "solidity": 0.2
             }
            },
            "type": "bar"
           }
          ],
          "barpolar": [
           {
            "marker": {
             "line": {
              "color": "rgb(17,17,17)",
              "width": 0.5
             },
             "pattern": {
              "fillmode": "overlay",
              "size": 10,
              "solidity": 0.2
             }
            },
            "type": "barpolar"
           }
          ],
          "carpet": [
           {
            "aaxis": {
             "endlinecolor": "#A2B1C6",
             "gridcolor": "#506784",
             "linecolor": "#506784",
             "minorgridcolor": "#506784",
             "startlinecolor": "#A2B1C6"
            },
            "baxis": {
             "endlinecolor": "#A2B1C6",
             "gridcolor": "#506784",
             "linecolor": "#506784",
             "minorgridcolor": "#506784",
             "startlinecolor": "#A2B1C6"
            },
            "type": "carpet"
           }
          ],
          "choropleth": [
           {
            "colorbar": {
             "outlinewidth": 0,
             "ticks": ""
            },
            "type": "choropleth"
           }
          ],
          "contour": [
           {
            "colorbar": {
             "outlinewidth": 0,
             "ticks": ""
            },
            "colorscale": [
             [
              0.0,
              "#0d0887"
             ],
             [
              0.1111111111111111,
              "#46039f"
             ],
             [
              0.2222222222222222,
              "#7201a8"
             ],
             [
              0.3333333333333333,
              "#9c179e"
             ],
             [
              0.4444444444444444,
              "#bd3786"
             ],
             [
              0.5555555555555556,
              "#d8576b"
             ],
             [
              0.6666666666666666,
              "#ed7953"
             ],
             [
              0.7777777777777778,
              "#fb9f3a"
             ],
             [
              0.8888888888888888,
              "#fdca26"
             ],
             [
              1.0,
              "#f0f921"
             ]
            ],
            "type": "contour"
           }
          ],
          "contourcarpet": [
           {
            "colorbar": {
             "outlinewidth": 0,
             "ticks": ""
            },
            "type": "contourcarpet"
           }
          ],
          "heatmap": [
           {
            "colorbar": {
             "outlinewidth": 0,
             "ticks": ""
            },
            "colorscale": [
             [
              0.0,
              "#0d0887"
             ],
             [
              0.1111111111111111,
              "#46039f"
             ],
             [
              0.2222222222222222,
              "#7201a8"
             ],
             [
              0.3333333333333333,
              "#9c179e"
             ],
             [
              0.4444444444444444,
              "#bd3786"
             ],
             [
              0.5555555555555556,
              "#d8576b"
             ],
             [
              0.6666666666666666,
              "#ed7953"
             ],
             [
              0.7777777777777778,
              "#fb9f3a"
             ],
             [
              0.8888888888888888,
              "#fdca26"
             ],
             [
              1.0,
              "#f0f921"
             ]
            ],
            "type": "heatmap"
           }
          ],
          "heatmapgl": [
           {
            "colorbar": {
             "outlinewidth": 0,
             "ticks": ""
            },
            "colorscale": [
             [
              0.0,
              "#0d0887"
             ],
             [
              0.1111111111111111,
              "#46039f"
             ],
             [
              0.2222222222222222,
              "#7201a8"
             ],
             [
              0.3333333333333333,
              "#9c179e"
             ],
             [
              0.4444444444444444,
              "#bd3786"
             ],
             [
              0.5555555555555556,
              "#d8576b"
             ],
             [
              0.6666666666666666,
              "#ed7953"
             ],
             [
              0.7777777777777778,
              "#fb9f3a"
             ],
             [
              0.8888888888888888,
              "#fdca26"
             ],
             [
              1.0,
              "#f0f921"
             ]
            ],
            "type": "heatmapgl"
           }
          ],
          "histogram": [
           {
            "marker": {
             "pattern": {
              "fillmode": "overlay",
              "size": 10,
              "solidity": 0.2
             }
            },
            "type": "histogram"
           }
          ],
          "histogram2d": [
           {
            "colorbar": {
             "outlinewidth": 0,
             "ticks": ""
            },
            "colorscale": [
             [
              0.0,
              "#0d0887"
             ],
             [
              0.1111111111111111,
              "#46039f"
             ],
             [
              0.2222222222222222,
              "#7201a8"
             ],
             [
              0.3333333333333333,
              "#9c179e"
             ],
             [
              0.4444444444444444,
              "#bd3786"
             ],
             [
              0.5555555555555556,
              "#d8576b"
             ],
             [
              0.6666666666666666,
              "#ed7953"
             ],
             [
              0.7777777777777778,
              "#fb9f3a"
             ],
             [
              0.8888888888888888,
              "#fdca26"
             ],
             [
              1.0,
              "#f0f921"
             ]
            ],
            "type": "histogram2d"
           }
          ],
          "histogram2dcontour": [
           {
            "colorbar": {
             "outlinewidth": 0,
             "ticks": ""
            },
            "colorscale": [
             [
              0.0,
              "#0d0887"
             ],
             [
              0.1111111111111111,
              "#46039f"
             ],
             [
              0.2222222222222222,
              "#7201a8"
             ],
             [
              0.3333333333333333,
              "#9c179e"
             ],
             [
              0.4444444444444444,
              "#bd3786"
             ],
             [
              0.5555555555555556,
              "#d8576b"
             ],
             [
              0.6666666666666666,
              "#ed7953"
             ],
             [
              0.7777777777777778,
              "#fb9f3a"
             ],
             [
              0.8888888888888888,
              "#fdca26"
             ],
             [
              1.0,
              "#f0f921"
             ]
            ],
            "type": "histogram2dcontour"
           }
          ],
          "mesh3d": [
           {
            "colorbar": {
             "outlinewidth": 0,
             "ticks": ""
            },
            "type": "mesh3d"
           }
          ],
          "parcoords": [
           {
            "line": {
             "colorbar": {
              "outlinewidth": 0,
              "ticks": ""
             }
            },
            "type": "parcoords"
           }
          ],
          "pie": [
           {
            "automargin": true,
            "type": "pie"
           }
          ],
          "scatter": [
           {
            "marker": {
             "line": {
              "color": "#283442"
             }
            },
            "type": "scatter"
           }
          ],
          "scatter3d": [
           {
            "line": {
             "colorbar": {
              "outlinewidth": 0,
              "ticks": ""
             }
            },
            "marker": {
             "colorbar": {
              "outlinewidth": 0,
              "ticks": ""
             }
            },
            "type": "scatter3d"
           }
          ],
          "scattercarpet": [
           {
            "marker": {
             "colorbar": {
              "outlinewidth": 0,
              "ticks": ""
             }
            },
            "type": "scattercarpet"
           }
          ],
          "scattergeo": [
           {
            "marker": {
             "colorbar": {
              "outlinewidth": 0,
              "ticks": ""
             }
            },
            "type": "scattergeo"
           }
          ],
          "scattergl": [
           {
            "marker": {
             "line": {
              "color": "#283442"
             }
            },
            "type": "scattergl"
           }
          ],
          "scattermapbox": [
           {
            "marker": {
             "colorbar": {
              "outlinewidth": 0,
              "ticks": ""
             }
            },
            "type": "scattermapbox"
           }
          ],
          "scatterpolar": [
           {
            "marker": {
             "colorbar": {
              "outlinewidth": 0,
              "ticks": ""
             }
            },
            "type": "scatterpolar"
           }
          ],
          "scatterpolargl": [
           {
            "marker": {
             "colorbar": {
              "outlinewidth": 0,
              "ticks": ""
             }
            },
            "type": "scatterpolargl"
           }
          ],
          "scatterternary": [
           {
            "marker": {
             "colorbar": {
              "outlinewidth": 0,
              "ticks": ""
             }
            },
            "type": "scatterternary"
           }
          ],
          "surface": [
           {
            "colorbar": {
             "outlinewidth": 0,
             "ticks": ""
            },
            "colorscale": [
             [
              0.0,
              "#0d0887"
             ],
             [
              0.1111111111111111,
              "#46039f"
             ],
             [
              0.2222222222222222,
              "#7201a8"
             ],
             [
              0.3333333333333333,
              "#9c179e"
             ],
             [
              0.4444444444444444,
              "#bd3786"
             ],
             [
              0.5555555555555556,
              "#d8576b"
             ],
             [
              0.6666666666666666,
              "#ed7953"
             ],
             [
              0.7777777777777778,
              "#fb9f3a"
             ],
             [
              0.8888888888888888,
              "#fdca26"
             ],
             [
              1.0,
              "#f0f921"
             ]
            ],
            "type": "surface"
           }
          ],
          "table": [
           {
            "cells": {
             "fill": {
              "color": "#506784"
             },
             "line": {
              "color": "rgb(17,17,17)"
             }
            },
            "header": {
             "fill": {
              "color": "#2a3f5f"
             },
             "line": {
              "color": "rgb(17,17,17)"
             }
            },
            "type": "table"
           }
          ]
         },
         "layout": {
          "annotationdefaults": {
           "arrowcolor": "#f2f5fa",
           "arrowhead": 0,
           "arrowwidth": 1
          },
          "autotypenumbers": "strict",
          "coloraxis": {
           "colorbar": {
            "outlinewidth": 0,
            "ticks": ""
           }
          },
          "colorscale": {
           "diverging": [
            [
             0,
             "#8e0152"
            ],
            [
             0.1,
             "#c51b7d"
            ],
            [
             0.2,
             "#de77ae"
            ],
            [
             0.3,
             "#f1b6da"
            ],
            [
             0.4,
             "#fde0ef"
            ],
            [
             0.5,
             "#f7f7f7"
            ],
            [
             0.6,
             "#e6f5d0"
            ],
            [
             0.7,
             "#b8e186"
            ],
            [
             0.8,
             "#7fbc41"
            ],
            [
             0.9,
             "#4d9221"
            ],
            [
             1,
             "#276419"
            ]
           ],
           "sequential": [
            [
             0.0,
             "#0d0887"
            ],
            [
             0.1111111111111111,
             "#46039f"
            ],
            [
             0.2222222222222222,
             "#7201a8"
            ],
            [
             0.3333333333333333,
             "#9c179e"
            ],
            [
             0.4444444444444444,
             "#bd3786"
            ],
            [
             0.5555555555555556,
             "#d8576b"
            ],
            [
             0.6666666666666666,
             "#ed7953"
            ],
            [
             0.7777777777777778,
             "#fb9f3a"
            ],
            [
             0.8888888888888888,
             "#fdca26"
            ],
            [
             1.0,
             "#f0f921"
            ]
           ],
           "sequentialminus": [
            [
             0.0,
             "#0d0887"
            ],
            [
             0.1111111111111111,
             "#46039f"
            ],
            [
             0.2222222222222222,
             "#7201a8"
            ],
            [
             0.3333333333333333,
             "#9c179e"
            ],
            [
             0.4444444444444444,
             "#bd3786"
            ],
            [
             0.5555555555555556,
             "#d8576b"
            ],
            [
             0.6666666666666666,
             "#ed7953"
            ],
            [
             0.7777777777777778,
             "#fb9f3a"
            ],
            [
             0.8888888888888888,
             "#fdca26"
            ],
            [
             1.0,
             "#f0f921"
            ]
           ]
          },
          "colorway": [
           "#636efa",
           "#EF553B",
           "#00cc96",
           "#ab63fa",
           "#FFA15A",
           "#19d3f3",
           "#FF6692",
           "#B6E880",
           "#FF97FF",
           "#FECB52"
          ],
          "font": {
           "color": "#f2f5fa"
          },
          "geo": {
           "bgcolor": "rgb(17,17,17)",
           "lakecolor": "rgb(17,17,17)",
           "landcolor": "rgb(17,17,17)",
           "showlakes": true,
           "showland": true,
           "subunitcolor": "#506784"
          },
          "hoverlabel": {
           "align": "left"
          },
          "hovermode": "closest",
          "mapbox": {
           "style": "dark"
          },
          "paper_bgcolor": "rgb(17,17,17)",
          "plot_bgcolor": "rgb(17,17,17)",
          "polar": {
           "angularaxis": {
            "gridcolor": "#506784",
            "linecolor": "#506784",
            "ticks": ""
           },
           "bgcolor": "rgb(17,17,17)",
           "radialaxis": {
            "gridcolor": "#506784",
            "linecolor": "#506784",
            "ticks": ""
           }
          },
          "scene": {
           "xaxis": {
            "backgroundcolor": "rgb(17,17,17)",
            "gridcolor": "#506784",
            "gridwidth": 2,
            "linecolor": "#506784",
            "showbackground": true,
            "ticks": "",
            "zerolinecolor": "#C8D4E3"
           },
           "yaxis": {
            "backgroundcolor": "rgb(17,17,17)",
            "gridcolor": "#506784",
            "gridwidth": 2,
            "linecolor": "#506784",
            "showbackground": true,
            "ticks": "",
            "zerolinecolor": "#C8D4E3"
           },
           "zaxis": {
            "backgroundcolor": "rgb(17,17,17)",
            "gridcolor": "#506784",
            "gridwidth": 2,
            "linecolor": "#506784",
            "showbackground": true,
            "ticks": "",
            "zerolinecolor": "#C8D4E3"
           }
          },
          "shapedefaults": {
           "line": {
            "color": "#f2f5fa"
           }
          },
          "sliderdefaults": {
           "bgcolor": "#C8D4E3",
           "bordercolor": "rgb(17,17,17)",
           "borderwidth": 1,
           "tickwidth": 0
          },
          "ternary": {
           "aaxis": {
            "gridcolor": "#506784",
            "linecolor": "#506784",
            "ticks": ""
           },
           "baxis": {
            "gridcolor": "#506784",
            "linecolor": "#506784",
            "ticks": ""
           },
           "bgcolor": "rgb(17,17,17)",
           "caxis": {
            "gridcolor": "#506784",
            "linecolor": "#506784",
            "ticks": ""
           }
          },
          "title": {
           "x": 0.05
          },
          "updatemenudefaults": {
           "bgcolor": "#506784",
           "borderwidth": 0
          },
          "xaxis": {
           "automargin": true,
           "gridcolor": "#283442",
           "linecolor": "#506784",
           "ticks": "",
           "title": {
            "standoff": 15
           },
           "zerolinecolor": "#283442",
           "zerolinewidth": 2
          },
          "yaxis": {
           "automargin": true,
           "gridcolor": "#283442",
           "linecolor": "#506784",
           "ticks": "",
           "title": {
            "standoff": 15
           },
           "zerolinecolor": "#283442",
           "zerolinewidth": 2
          }
         }
        },
        "xaxis": {
         "anchor": "y",
         "domain": [
          0.0,
          0.94
         ]
        },
        "yaxis": {
         "anchor": "x",
         "domain": [
          0.0,
          1.0
         ]
        },
        "yaxis2": {
         "anchor": "x",
         "overlaying": "y",
         "side": "right"
        }
       },
       "config": {
        "plotlyServerURL": "https://plot.ly"
       }
      },
      "text/html": "<div>                            <div id=\"85a57b07-f44e-4af4-b384-95dbfe8193dd\" class=\"plotly-graph-div\" style=\"height:525px; width:100%;\"></div>            <script type=\"text/javascript\">                require([\"plotly\"], function(Plotly) {                    window.PLOTLYENV=window.PLOTLYENV || {};                                    if (document.getElementById(\"85a57b07-f44e-4af4-b384-95dbfe8193dd\")) {                    Plotly.newPlot(                        \"85a57b07-f44e-4af4-b384-95dbfe8193dd\",                        [{\"mode\":\"lines\",\"name\":\"Real\",\"x\":[\"2019-01-31T00:00:00\",\"2019-02-28T00:00:00\",\"2019-03-31T00:00:00\",\"2019-04-30T00:00:00\",\"2019-05-31T00:00:00\",\"2019-06-30T00:00:00\",\"2019-07-31T00:00:00\",\"2019-08-31T00:00:00\",\"2019-09-30T00:00:00\",\"2019-10-31T00:00:00\",\"2019-11-30T00:00:00\",\"2019-12-31T00:00:00\",\"2020-01-31T00:00:00\",\"2020-02-29T00:00:00\",\"2020-03-31T00:00:00\",\"2020-04-30T00:00:00\",\"2020-05-31T00:00:00\",\"2020-06-30T00:00:00\",\"2020-07-31T00:00:00\",\"2020-08-31T00:00:00\",\"2020-09-30T00:00:00\",\"2020-10-31T00:00:00\",\"2020-11-30T00:00:00\",\"2020-12-31T00:00:00\",\"2021-01-31T00:00:00\",\"2021-02-28T00:00:00\",\"2021-03-31T00:00:00\",\"2021-04-30T00:00:00\",\"2021-05-31T00:00:00\",\"2021-06-30T00:00:00\"],\"y\":[123,55,52,79,69,92,103,104,147,129,284,2035,1081,718,910,978,860,1058,642,467,498,614,760,1995,1019,686,1260,1329,802,1427],\"type\":\"scatter\",\"xaxis\":\"x\",\"yaxis\":\"y\"},{\"mode\":\"lines\",\"name\":\"Test\",\"x\":[\"2021-05-31T00:00:00\",\"2021-06-30T00:00:00\",\"2021-07-31T00:00:00\",\"2021-08-31T00:00:00\",\"2021-09-30T00:00:00\",\"2021-10-31T00:00:00\",\"2021-11-30T00:00:00\",\"2021-12-31T00:00:00\",\"2022-01-31T00:00:00\"],\"y\":[802,1427,1015,920,977,694,920,2096,1903],\"type\":\"scatter\",\"xaxis\":\"x\",\"yaxis\":\"y\"},{\"mode\":\"lines\",\"name\":\"Test_predict\",\"x\":[\"2021-07-31T00:00:00\",\"2021-08-31T00:00:00\",\"2021-09-30T00:00:00\",\"2021-10-31T00:00:00\",\"2021-11-30T00:00:00\",\"2021-12-31T00:00:00\",\"2022-01-31T00:00:00\"],\"y\":[1038.0,939.0,961.0,994.0,1147.0,2663.0,1607.0],\"type\":\"scatter\",\"xaxis\":\"x\",\"yaxis\":\"y\"},{\"mode\":\"lines\",\"name\":\"Test_predict\",\"x\":[\"2021-07-31T00:00:00\",\"2021-08-31T00:00:00\",\"2021-09-30T00:00:00\",\"2021-10-31T00:00:00\",\"2021-11-30T00:00:00\",\"2021-12-31T00:00:00\",\"2022-01-31T00:00:00\",\"2022-02-28T00:00:00\",\"2022-03-31T00:00:00\",\"2022-04-30T00:00:00\",\"2022-05-31T00:00:00\",\"2022-06-30T00:00:00\",\"2022-07-31T00:00:00\"],\"y\":[1038.0,939.0,961.0,994.0,1147.0,2663.0,1607.0,1392.0,1663.0,1717.0,1476.0,1758.0,1486.0],\"type\":\"scatter\",\"xaxis\":\"x\",\"yaxis\":\"y\"}],                        {\"template\":{\"data\":{\"bar\":[{\"error_x\":{\"color\":\"#f2f5fa\"},\"error_y\":{\"color\":\"#f2f5fa\"},\"marker\":{\"line\":{\"color\":\"rgb(17,17,17)\",\"width\":0.5},\"pattern\":{\"fillmode\":\"overlay\",\"size\":10,\"solidity\":0.2}},\"type\":\"bar\"}],\"barpolar\":[{\"marker\":{\"line\":{\"color\":\"rgb(17,17,17)\",\"width\":0.5},\"pattern\":{\"fillmode\":\"overlay\",\"size\":10,\"solidity\":0.2}},\"type\":\"barpolar\"}],\"carpet\":[{\"aaxis\":{\"endlinecolor\":\"#A2B1C6\",\"gridcolor\":\"#506784\",\"linecolor\":\"#506784\",\"minorgridcolor\":\"#506784\",\"startlinecolor\":\"#A2B1C6\"},\"baxis\":{\"endlinecolor\":\"#A2B1C6\",\"gridcolor\":\"#506784\",\"linecolor\":\"#506784\",\"minorgridcolor\":\"#506784\",\"startlinecolor\":\"#A2B1C6\"},\"type\":\"carpet\"}],\"choropleth\":[{\"colorbar\":{\"outlinewidth\":0,\"ticks\":\"\"},\"type\":\"choropleth\"}],\"contour\":[{\"colorbar\":{\"outlinewidth\":0,\"ticks\":\"\"},\"colorscale\":[[0.0,\"#0d0887\"],[0.1111111111111111,\"#46039f\"],[0.2222222222222222,\"#7201a8\"],[0.3333333333333333,\"#9c179e\"],[0.4444444444444444,\"#bd3786\"],[0.5555555555555556,\"#d8576b\"],[0.6666666666666666,\"#ed7953\"],[0.7777777777777778,\"#fb9f3a\"],[0.8888888888888888,\"#fdca26\"],[1.0,\"#f0f921\"]],\"type\":\"contour\"}],\"contourcarpet\":[{\"colorbar\":{\"outlinewidth\":0,\"ticks\":\"\"},\"type\":\"contourcarpet\"}],\"heatmap\":[{\"colorbar\":{\"outlinewidth\":0,\"ticks\":\"\"},\"colorscale\":[[0.0,\"#0d0887\"],[0.1111111111111111,\"#46039f\"],[0.2222222222222222,\"#7201a8\"],[0.3333333333333333,\"#9c179e\"],[0.4444444444444444,\"#bd3786\"],[0.5555555555555556,\"#d8576b\"],[0.6666666666666666,\"#ed7953\"],[0.7777777777777778,\"#fb9f3a\"],[0.8888888888888888,\"#fdca26\"],[1.0,\"#f0f921\"]],\"type\":\"heatmap\"}],\"heatmapgl\":[{\"colorbar\":{\"outlinewidth\":0,\"ticks\":\"\"},\"colorscale\":[[0.0,\"#0d0887\"],[0.1111111111111111,\"#46039f\"],[0.2222222222222222,\"#7201a8\"],[0.3333333333333333,\"#9c179e\"],[0.4444444444444444,\"#bd3786\"],[0.5555555555555556,\"#d8576b\"],[0.6666666666666666,\"#ed7953\"],[0.7777777777777778,\"#fb9f3a\"],[0.8888888888888888,\"#fdca26\"],[1.0,\"#f0f921\"]],\"type\":\"heatmapgl\"}],\"histogram\":[{\"marker\":{\"pattern\":{\"fillmode\":\"overlay\",\"size\":10,\"solidity\":0.2}},\"type\":\"histogram\"}],\"histogram2d\":[{\"colorbar\":{\"outlinewidth\":0,\"ticks\":\"\"},\"colorscale\":[[0.0,\"#0d0887\"],[0.1111111111111111,\"#46039f\"],[0.2222222222222222,\"#7201a8\"],[0.3333333333333333,\"#9c179e\"],[0.4444444444444444,\"#bd3786\"],[0.5555555555555556,\"#d8576b\"],[0.6666666666666666,\"#ed7953\"],[0.7777777777777778,\"#fb9f3a\"],[0.8888888888888888,\"#fdca26\"],[1.0,\"#f0f921\"]],\"type\":\"histogram2d\"}],\"histogram2dcontour\":[{\"colorbar\":{\"outlinewidth\":0,\"ticks\":\"\"},\"colorscale\":[[0.0,\"#0d0887\"],[0.1111111111111111,\"#46039f\"],[0.2222222222222222,\"#7201a8\"],[0.3333333333333333,\"#9c179e\"],[0.4444444444444444,\"#bd3786\"],[0.5555555555555556,\"#d8576b\"],[0.6666666666666666,\"#ed7953\"],[0.7777777777777778,\"#fb9f3a\"],[0.8888888888888888,\"#fdca26\"],[1.0,\"#f0f921\"]],\"type\":\"histogram2dcontour\"}],\"mesh3d\":[{\"colorbar\":{\"outlinewidth\":0,\"ticks\":\"\"},\"type\":\"mesh3d\"}],\"parcoords\":[{\"line\":{\"colorbar\":{\"outlinewidth\":0,\"ticks\":\"\"}},\"type\":\"parcoords\"}],\"pie\":[{\"automargin\":true,\"type\":\"pie\"}],\"scatter\":[{\"marker\":{\"line\":{\"color\":\"#283442\"}},\"type\":\"scatter\"}],\"scatter3d\":[{\"line\":{\"colorbar\":{\"outlinewidth\":0,\"ticks\":\"\"}},\"marker\":{\"colorbar\":{\"outlinewidth\":0,\"ticks\":\"\"}},\"type\":\"scatter3d\"}],\"scattercarpet\":[{\"marker\":{\"colorbar\":{\"outlinewidth\":0,\"ticks\":\"\"}},\"type\":\"scattercarpet\"}],\"scattergeo\":[{\"marker\":{\"colorbar\":{\"outlinewidth\":0,\"ticks\":\"\"}},\"type\":\"scattergeo\"}],\"scattergl\":[{\"marker\":{\"line\":{\"color\":\"#283442\"}},\"type\":\"scattergl\"}],\"scattermapbox\":[{\"marker\":{\"colorbar\":{\"outlinewidth\":0,\"ticks\":\"\"}},\"type\":\"scattermapbox\"}],\"scatterpolar\":[{\"marker\":{\"colorbar\":{\"outlinewidth\":0,\"ticks\":\"\"}},\"type\":\"scatterpolar\"}],\"scatterpolargl\":[{\"marker\":{\"colorbar\":{\"outlinewidth\":0,\"ticks\":\"\"}},\"type\":\"scatterpolargl\"}],\"scatterternary\":[{\"marker\":{\"colorbar\":{\"outlinewidth\":0,\"ticks\":\"\"}},\"type\":\"scatterternary\"}],\"surface\":[{\"colorbar\":{\"outlinewidth\":0,\"ticks\":\"\"},\"colorscale\":[[0.0,\"#0d0887\"],[0.1111111111111111,\"#46039f\"],[0.2222222222222222,\"#7201a8\"],[0.3333333333333333,\"#9c179e\"],[0.4444444444444444,\"#bd3786\"],[0.5555555555555556,\"#d8576b\"],[0.6666666666666666,\"#ed7953\"],[0.7777777777777778,\"#fb9f3a\"],[0.8888888888888888,\"#fdca26\"],[1.0,\"#f0f921\"]],\"type\":\"surface\"}],\"table\":[{\"cells\":{\"fill\":{\"color\":\"#506784\"},\"line\":{\"color\":\"rgb(17,17,17)\"}},\"header\":{\"fill\":{\"color\":\"#2a3f5f\"},\"line\":{\"color\":\"rgb(17,17,17)\"}},\"type\":\"table\"}]},\"layout\":{\"annotationdefaults\":{\"arrowcolor\":\"#f2f5fa\",\"arrowhead\":0,\"arrowwidth\":1},\"autotypenumbers\":\"strict\",\"coloraxis\":{\"colorbar\":{\"outlinewidth\":0,\"ticks\":\"\"}},\"colorscale\":{\"diverging\":[[0,\"#8e0152\"],[0.1,\"#c51b7d\"],[0.2,\"#de77ae\"],[0.3,\"#f1b6da\"],[0.4,\"#fde0ef\"],[0.5,\"#f7f7f7\"],[0.6,\"#e6f5d0\"],[0.7,\"#b8e186\"],[0.8,\"#7fbc41\"],[0.9,\"#4d9221\"],[1,\"#276419\"]],\"sequential\":[[0.0,\"#0d0887\"],[0.1111111111111111,\"#46039f\"],[0.2222222222222222,\"#7201a8\"],[0.3333333333333333,\"#9c179e\"],[0.4444444444444444,\"#bd3786\"],[0.5555555555555556,\"#d8576b\"],[0.6666666666666666,\"#ed7953\"],[0.7777777777777778,\"#fb9f3a\"],[0.8888888888888888,\"#fdca26\"],[1.0,\"#f0f921\"]],\"sequentialminus\":[[0.0,\"#0d0887\"],[0.1111111111111111,\"#46039f\"],[0.2222222222222222,\"#7201a8\"],[0.3333333333333333,\"#9c179e\"],[0.4444444444444444,\"#bd3786\"],[0.5555555555555556,\"#d8576b\"],[0.6666666666666666,\"#ed7953\"],[0.7777777777777778,\"#fb9f3a\"],[0.8888888888888888,\"#fdca26\"],[1.0,\"#f0f921\"]]},\"colorway\":[\"#636efa\",\"#EF553B\",\"#00cc96\",\"#ab63fa\",\"#FFA15A\",\"#19d3f3\",\"#FF6692\",\"#B6E880\",\"#FF97FF\",\"#FECB52\"],\"font\":{\"color\":\"#f2f5fa\"},\"geo\":{\"bgcolor\":\"rgb(17,17,17)\",\"lakecolor\":\"rgb(17,17,17)\",\"landcolor\":\"rgb(17,17,17)\",\"showlakes\":true,\"showland\":true,\"subunitcolor\":\"#506784\"},\"hoverlabel\":{\"align\":\"left\"},\"hovermode\":\"closest\",\"mapbox\":{\"style\":\"dark\"},\"paper_bgcolor\":\"rgb(17,17,17)\",\"plot_bgcolor\":\"rgb(17,17,17)\",\"polar\":{\"angularaxis\":{\"gridcolor\":\"#506784\",\"linecolor\":\"#506784\",\"ticks\":\"\"},\"bgcolor\":\"rgb(17,17,17)\",\"radialaxis\":{\"gridcolor\":\"#506784\",\"linecolor\":\"#506784\",\"ticks\":\"\"}},\"scene\":{\"xaxis\":{\"backgroundcolor\":\"rgb(17,17,17)\",\"gridcolor\":\"#506784\",\"gridwidth\":2,\"linecolor\":\"#506784\",\"showbackground\":true,\"ticks\":\"\",\"zerolinecolor\":\"#C8D4E3\"},\"yaxis\":{\"backgroundcolor\":\"rgb(17,17,17)\",\"gridcolor\":\"#506784\",\"gridwidth\":2,\"linecolor\":\"#506784\",\"showbackground\":true,\"ticks\":\"\",\"zerolinecolor\":\"#C8D4E3\"},\"zaxis\":{\"backgroundcolor\":\"rgb(17,17,17)\",\"gridcolor\":\"#506784\",\"gridwidth\":2,\"linecolor\":\"#506784\",\"showbackground\":true,\"ticks\":\"\",\"zerolinecolor\":\"#C8D4E3\"}},\"shapedefaults\":{\"line\":{\"color\":\"#f2f5fa\"}},\"sliderdefaults\":{\"bgcolor\":\"#C8D4E3\",\"bordercolor\":\"rgb(17,17,17)\",\"borderwidth\":1,\"tickwidth\":0},\"ternary\":{\"aaxis\":{\"gridcolor\":\"#506784\",\"linecolor\":\"#506784\",\"ticks\":\"\"},\"baxis\":{\"gridcolor\":\"#506784\",\"linecolor\":\"#506784\",\"ticks\":\"\"},\"bgcolor\":\"rgb(17,17,17)\",\"caxis\":{\"gridcolor\":\"#506784\",\"linecolor\":\"#506784\",\"ticks\":\"\"}},\"title\":{\"x\":0.05},\"updatemenudefaults\":{\"bgcolor\":\"#506784\",\"borderwidth\":0},\"xaxis\":{\"automargin\":true,\"gridcolor\":\"#283442\",\"linecolor\":\"#506784\",\"ticks\":\"\",\"title\":{\"standoff\":15},\"zerolinecolor\":\"#283442\",\"zerolinewidth\":2},\"yaxis\":{\"automargin\":true,\"gridcolor\":\"#283442\",\"linecolor\":\"#506784\",\"ticks\":\"\",\"title\":{\"standoff\":15},\"zerolinecolor\":\"#283442\",\"zerolinewidth\":2}}},\"xaxis\":{\"anchor\":\"y\",\"domain\":[0.0,0.94]},\"yaxis\":{\"anchor\":\"x\",\"domain\":[0.0,1.0]},\"yaxis2\":{\"anchor\":\"x\",\"overlaying\":\"y\",\"side\":\"right\"}},                        {\"responsive\": true}                    ).then(function(){\n                            \nvar gd = document.getElementById('85a57b07-f44e-4af4-b384-95dbfe8193dd');\nvar x = new MutationObserver(function (mutations, observer) {{\n        var display = window.getComputedStyle(gd).display;\n        if (!display || display === 'none') {{\n            console.log([gd, 'removed!']);\n            Plotly.purge(gd);\n            observer.disconnect();\n        }}\n}});\n\n// Listen for the removal of the full notebook cells\nvar notebookContainer = gd.closest('#notebook-container');\nif (notebookContainer) {{\n    x.observe(notebookContainer, {childList: true});\n}}\n\n// Listen for the clearing of the current output cell\nvar outputEl = gd.closest('.output');\nif (outputEl) {{\n    x.observe(outputEl, {childList: true});\n}}\n\n                        })                };                });            </script>        </div>"
     },
     "metadata": {},
     "output_type": "display_data"
    }
   ],
   "source": [
    "fig3 = make_subplots(specs=[[{'secondary_y': True}]])\n",
    "fig3.add_trace(go.Scatter(x=train_count.index, y=train_count,name='Real', mode = 'lines'),\n",
    "            secondary_y=False) # исходные данные\n",
    "fig3.add_trace(go.Scatter(x = test_count.index, y = test_count,name='Test', mode='lines'),\n",
    "              secondary_y=False) #данные, которые берутся для построения модели\n",
    "fig3.add_trace(go.Scatter(x = test_predictions.index, y = np.round(test_predictions),name='Test_predict', mode='lines'),\n",
    "              secondary_y=False) #данные, которые берутся для построения модели\n",
    "fig3.add_trace(go.Scatter(x = fitted_model.forecast(13).index, y = np.round(fitted_model.forecast(13)),name='Test_predict', mode='lines'),\n",
    "              secondary_y=False)\n",
    "fig3.show()"
   ],
   "metadata": {
    "collapsed": false
   }
  },
  {
   "cell_type": "code",
   "execution_count": 432,
   "outputs": [
    {
     "name": "stdout",
     "output_type": "stream",
     "text": [
      "Mean Absolute Error = 513.6364756214589\n",
      "Mean Squared Error = 581475.6872779366\n"
     ]
    }
   ],
   "source": [
    "print(f'Mean Absolute Error = {mean_absolute_error(test_count,test_predictions)}')\n",
    "print(f'Mean Squared Error = {mean_squared_error(test_count,test_predictions)}')"
   ],
   "metadata": {
    "collapsed": false
   }
  },
  {
   "cell_type": "code",
   "execution_count": null,
   "outputs": [],
   "source": [],
   "metadata": {
    "collapsed": false
   }
  }
 ],
 "metadata": {
  "kernelspec": {
   "display_name": "Python 3",
   "language": "python",
   "name": "python3"
  },
  "language_info": {
   "codemirror_mode": {
    "name": "ipython",
    "version": 2
   },
   "file_extension": ".py",
   "mimetype": "text/x-python",
   "name": "python",
   "nbconvert_exporter": "python",
   "pygments_lexer": "ipython2",
   "version": "2.7.6"
  }
 },
 "nbformat": 4,
 "nbformat_minor": 0
}
