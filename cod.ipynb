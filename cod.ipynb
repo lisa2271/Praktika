{
 "cells": [
  {
   "cell_type": "code",
   "execution_count": 1,
   "metadata": {
    "collapsed": true
   },
   "outputs": [],
   "source": [
    "import numpy as np\n",
    "import pandas as pd\n",
    "import matplotlib.pyplot as plt\n",
    "import datetime"
   ]
  },
  {
   "cell_type": "code",
   "execution_count": 2,
   "outputs": [],
   "source": [
    "pas = pd.read_csv(r'C:\\Users\\gosti\\Downloads\\Telegram Desktop\\09-20220927T115737Z-001\\09\\passerbys.csv')"
   ],
   "metadata": {
    "collapsed": false
   }
  },
  {
   "cell_type": "code",
   "execution_count": 3,
   "outputs": [],
   "source": [
    "passe = pd.read_csv(r'C:\\Users\\gosti\\Downloads\\Telegram Desktop\\09-20220927T115737Z-001\\09\\passerbys.csv')"
   ],
   "metadata": {
    "collapsed": false
   }
  },
  {
   "cell_type": "code",
   "execution_count": 4,
   "outputs": [],
   "source": [
    "weather = pd.read_csv(r'C:\\Users\\gosti\\Downloads\\Telegram Desktop\\09-20220927T115737Z-001\\09\\weather.csv')"
   ],
   "metadata": {
    "collapsed": false
   }
  },
  {
   "cell_type": "code",
   "execution_count": 5,
   "outputs": [],
   "source": [
    "weather2 = pd.read_csv(r'C:\\Users\\gosti\\Downloads\\Telegram Desktop\\09-20220927T115737Z-001\\09\\weather.csv')"
   ],
   "metadata": {
    "collapsed": false
   }
  },
  {
   "cell_type": "markdown",
   "source": [
    "**Линейная регрессия (в зависимости от месяца)**"
   ],
   "metadata": {
    "collapsed": false
   }
  },
  {
   "cell_type": "code",
   "execution_count": 6,
   "outputs": [],
   "source": [
    "weather2['DATE'] = weather2['DATE'].astype('datetime64')"
   ],
   "metadata": {
    "collapsed": false
   }
  },
  {
   "cell_type": "code",
   "execution_count": 7,
   "outputs": [
    {
     "data": {
      "text/plain": "           DATE  TAVG  PRCP\n0    2000-01-01   4.4   6.9\n1    2000-01-02  -3.9   0.0\n2    2000-01-03   5.6   7.1\n3    2000-01-04   7.8   7.6\n4    2000-01-05   5.0   0.0\n...         ...   ...   ...\n7123 2019-07-03  15.0   0.0\n7124 2019-07-04  17.0   0.0\n7125 2019-07-05  17.2   0.0\n7126 2019-07-06  17.5   0.0\n7127 2019-07-07  17.2   0.0\n\n[7128 rows x 3 columns]",
      "text/html": "<div>\n<style scoped>\n    .dataframe tbody tr th:only-of-type {\n        vertical-align: middle;\n    }\n\n    .dataframe tbody tr th {\n        vertical-align: top;\n    }\n\n    .dataframe thead th {\n        text-align: right;\n    }\n</style>\n<table border=\"1\" class=\"dataframe\">\n  <thead>\n    <tr style=\"text-align: right;\">\n      <th></th>\n      <th>DATE</th>\n      <th>TAVG</th>\n      <th>PRCP</th>\n    </tr>\n  </thead>\n  <tbody>\n    <tr>\n      <th>0</th>\n      <td>2000-01-01</td>\n      <td>4.4</td>\n      <td>6.9</td>\n    </tr>\n    <tr>\n      <th>1</th>\n      <td>2000-01-02</td>\n      <td>-3.9</td>\n      <td>0.0</td>\n    </tr>\n    <tr>\n      <th>2</th>\n      <td>2000-01-03</td>\n      <td>5.6</td>\n      <td>7.1</td>\n    </tr>\n    <tr>\n      <th>3</th>\n      <td>2000-01-04</td>\n      <td>7.8</td>\n      <td>7.6</td>\n    </tr>\n    <tr>\n      <th>4</th>\n      <td>2000-01-05</td>\n      <td>5.0</td>\n      <td>0.0</td>\n    </tr>\n    <tr>\n      <th>...</th>\n      <td>...</td>\n      <td>...</td>\n      <td>...</td>\n    </tr>\n    <tr>\n      <th>7123</th>\n      <td>2019-07-03</td>\n      <td>15.0</td>\n      <td>0.0</td>\n    </tr>\n    <tr>\n      <th>7124</th>\n      <td>2019-07-04</td>\n      <td>17.0</td>\n      <td>0.0</td>\n    </tr>\n    <tr>\n      <th>7125</th>\n      <td>2019-07-05</td>\n      <td>17.2</td>\n      <td>0.0</td>\n    </tr>\n    <tr>\n      <th>7126</th>\n      <td>2019-07-06</td>\n      <td>17.5</td>\n      <td>0.0</td>\n    </tr>\n    <tr>\n      <th>7127</th>\n      <td>2019-07-07</td>\n      <td>17.2</td>\n      <td>0.0</td>\n    </tr>\n  </tbody>\n</table>\n<p>7128 rows × 3 columns</p>\n</div>"
     },
     "execution_count": 7,
     "metadata": {},
     "output_type": "execute_result"
    }
   ],
   "source": [
    "weather2"
   ],
   "metadata": {
    "collapsed": false
   }
  },
  {
   "cell_type": "code",
   "execution_count": 8,
   "outputs": [],
   "source": [
    "weather2= weather2.rename(columns={'DATE' : 'Date'})"
   ],
   "metadata": {
    "collapsed": false
   }
  },
  {
   "cell_type": "code",
   "execution_count": 9,
   "outputs": [],
   "source": [
    "weather2 = weather2.set_index('Date')"
   ],
   "metadata": {
    "collapsed": false
   }
  },
  {
   "cell_type": "code",
   "execution_count": 10,
   "outputs": [],
   "source": [
    "weather2 = weather2.resample('M').mean()"
   ],
   "metadata": {
    "collapsed": false
   }
  },
  {
   "cell_type": "code",
   "execution_count": 11,
   "outputs": [
    {
     "data": {
      "text/plain": "                 TAVG      PRCP\nDate                           \n2000-01-31   4.429032  3.087097\n2000-02-29   6.627586  4.603448\n2000-03-31   7.080645  2.316129\n2000-04-30  10.640000  1.250000\n2000-05-31  12.245161  2.680645\n...               ...       ...\n2019-03-31   8.654839  1.119355\n2019-04-30  11.066667  2.993333\n2019-05-31  15.300000  0.509677\n2019-06-30  16.760714  0.760000\n2019-07-31  17.457143  1.557143\n\n[235 rows x 2 columns]",
      "text/html": "<div>\n<style scoped>\n    .dataframe tbody tr th:only-of-type {\n        vertical-align: middle;\n    }\n\n    .dataframe tbody tr th {\n        vertical-align: top;\n    }\n\n    .dataframe thead th {\n        text-align: right;\n    }\n</style>\n<table border=\"1\" class=\"dataframe\">\n  <thead>\n    <tr style=\"text-align: right;\">\n      <th></th>\n      <th>TAVG</th>\n      <th>PRCP</th>\n    </tr>\n    <tr>\n      <th>Date</th>\n      <th></th>\n      <th></th>\n    </tr>\n  </thead>\n  <tbody>\n    <tr>\n      <th>2000-01-31</th>\n      <td>4.429032</td>\n      <td>3.087097</td>\n    </tr>\n    <tr>\n      <th>2000-02-29</th>\n      <td>6.627586</td>\n      <td>4.603448</td>\n    </tr>\n    <tr>\n      <th>2000-03-31</th>\n      <td>7.080645</td>\n      <td>2.316129</td>\n    </tr>\n    <tr>\n      <th>2000-04-30</th>\n      <td>10.640000</td>\n      <td>1.250000</td>\n    </tr>\n    <tr>\n      <th>2000-05-31</th>\n      <td>12.245161</td>\n      <td>2.680645</td>\n    </tr>\n    <tr>\n      <th>...</th>\n      <td>...</td>\n      <td>...</td>\n    </tr>\n    <tr>\n      <th>2019-03-31</th>\n      <td>8.654839</td>\n      <td>1.119355</td>\n    </tr>\n    <tr>\n      <th>2019-04-30</th>\n      <td>11.066667</td>\n      <td>2.993333</td>\n    </tr>\n    <tr>\n      <th>2019-05-31</th>\n      <td>15.300000</td>\n      <td>0.509677</td>\n    </tr>\n    <tr>\n      <th>2019-06-30</th>\n      <td>16.760714</td>\n      <td>0.760000</td>\n    </tr>\n    <tr>\n      <th>2019-07-31</th>\n      <td>17.457143</td>\n      <td>1.557143</td>\n    </tr>\n  </tbody>\n</table>\n<p>235 rows × 2 columns</p>\n</div>"
     },
     "execution_count": 11,
     "metadata": {},
     "output_type": "execute_result"
    }
   ],
   "source": [
    "weather2"
   ],
   "metadata": {
    "collapsed": false
   }
  },
  {
   "cell_type": "code",
   "execution_count": 12,
   "outputs": [
    {
     "data": {
      "text/plain": "                  Date  Fremont Bridge East Sidewalk  \\\n0  2019-06-30 23:00:00                           7.0   \n1  2019-06-30 22:00:00                          20.0   \n2  2019-06-30 21:00:00                          31.0   \n3  2019-06-30 20:00:00                          72.0   \n4  2019-06-30 19:00:00                          58.0   \n\n   Fremont Bridge West Sidewalk  \n0                          15.0  \n1                          30.0  \n2                          32.0  \n3                          58.0  \n4                          77.0  ",
      "text/html": "<div>\n<style scoped>\n    .dataframe tbody tr th:only-of-type {\n        vertical-align: middle;\n    }\n\n    .dataframe tbody tr th {\n        vertical-align: top;\n    }\n\n    .dataframe thead th {\n        text-align: right;\n    }\n</style>\n<table border=\"1\" class=\"dataframe\">\n  <thead>\n    <tr style=\"text-align: right;\">\n      <th></th>\n      <th>Date</th>\n      <th>Fremont Bridge East Sidewalk</th>\n      <th>Fremont Bridge West Sidewalk</th>\n    </tr>\n  </thead>\n  <tbody>\n    <tr>\n      <th>0</th>\n      <td>2019-06-30 23:00:00</td>\n      <td>7.0</td>\n      <td>15.0</td>\n    </tr>\n    <tr>\n      <th>1</th>\n      <td>2019-06-30 22:00:00</td>\n      <td>20.0</td>\n      <td>30.0</td>\n    </tr>\n    <tr>\n      <th>2</th>\n      <td>2019-06-30 21:00:00</td>\n      <td>31.0</td>\n      <td>32.0</td>\n    </tr>\n    <tr>\n      <th>3</th>\n      <td>2019-06-30 20:00:00</td>\n      <td>72.0</td>\n      <td>58.0</td>\n    </tr>\n    <tr>\n      <th>4</th>\n      <td>2019-06-30 19:00:00</td>\n      <td>58.0</td>\n      <td>77.0</td>\n    </tr>\n  </tbody>\n</table>\n</div>"
     },
     "execution_count": 12,
     "metadata": {},
     "output_type": "execute_result"
    }
   ],
   "source": [
    "pas.head()"
   ],
   "metadata": {
    "collapsed": false
   }
  },
  {
   "cell_type": "code",
   "execution_count": 13,
   "outputs": [],
   "source": [
    "pas['Date'] = pas['Date'].astype('datetime64')"
   ],
   "metadata": {
    "collapsed": false
   }
  },
  {
   "cell_type": "code",
   "execution_count": 14,
   "outputs": [
    {
     "data": {
      "text/plain": "                     Date  Fremont Bridge East Sidewalk  \\\n58988 2012-10-07 03:00:00                           4.0   \n58989 2012-10-07 02:00:00                           2.0   \n58990 2012-10-07 01:00:00                          12.0   \n58991 2012-10-07 00:00:00                           6.0   \n58992 2012-10-06 23:00:00                          15.0   \n...                   ...                           ...   \n59083 2012-10-03 04:00:00                           6.0   \n59084 2012-10-03 03:00:00                           2.0   \n59085 2012-10-03 02:00:00                           1.0   \n59086 2012-10-03 01:00:00                           4.0   \n59087 2012-10-03 00:00:00                           4.0   \n\n       Fremont Bridge West Sidewalk  \n58988                           2.0  \n58989                           1.0  \n58990                           5.0  \n58991                           5.0  \n58992                          19.0  \n...                             ...  \n59083                           1.0  \n59084                           3.0  \n59085                           1.0  \n59086                           6.0  \n59087                           9.0  \n\n[100 rows x 3 columns]",
      "text/html": "<div>\n<style scoped>\n    .dataframe tbody tr th:only-of-type {\n        vertical-align: middle;\n    }\n\n    .dataframe tbody tr th {\n        vertical-align: top;\n    }\n\n    .dataframe thead th {\n        text-align: right;\n    }\n</style>\n<table border=\"1\" class=\"dataframe\">\n  <thead>\n    <tr style=\"text-align: right;\">\n      <th></th>\n      <th>Date</th>\n      <th>Fremont Bridge East Sidewalk</th>\n      <th>Fremont Bridge West Sidewalk</th>\n    </tr>\n  </thead>\n  <tbody>\n    <tr>\n      <th>58988</th>\n      <td>2012-10-07 03:00:00</td>\n      <td>4.0</td>\n      <td>2.0</td>\n    </tr>\n    <tr>\n      <th>58989</th>\n      <td>2012-10-07 02:00:00</td>\n      <td>2.0</td>\n      <td>1.0</td>\n    </tr>\n    <tr>\n      <th>58990</th>\n      <td>2012-10-07 01:00:00</td>\n      <td>12.0</td>\n      <td>5.0</td>\n    </tr>\n    <tr>\n      <th>58991</th>\n      <td>2012-10-07 00:00:00</td>\n      <td>6.0</td>\n      <td>5.0</td>\n    </tr>\n    <tr>\n      <th>58992</th>\n      <td>2012-10-06 23:00:00</td>\n      <td>15.0</td>\n      <td>19.0</td>\n    </tr>\n    <tr>\n      <th>...</th>\n      <td>...</td>\n      <td>...</td>\n      <td>...</td>\n    </tr>\n    <tr>\n      <th>59083</th>\n      <td>2012-10-03 04:00:00</td>\n      <td>6.0</td>\n      <td>1.0</td>\n    </tr>\n    <tr>\n      <th>59084</th>\n      <td>2012-10-03 03:00:00</td>\n      <td>2.0</td>\n      <td>3.0</td>\n    </tr>\n    <tr>\n      <th>59085</th>\n      <td>2012-10-03 02:00:00</td>\n      <td>1.0</td>\n      <td>1.0</td>\n    </tr>\n    <tr>\n      <th>59086</th>\n      <td>2012-10-03 01:00:00</td>\n      <td>4.0</td>\n      <td>6.0</td>\n    </tr>\n    <tr>\n      <th>59087</th>\n      <td>2012-10-03 00:00:00</td>\n      <td>4.0</td>\n      <td>9.0</td>\n    </tr>\n  </tbody>\n</table>\n<p>100 rows × 3 columns</p>\n</div>"
     },
     "execution_count": 14,
     "metadata": {},
     "output_type": "execute_result"
    }
   ],
   "source": [
    "pas.tail(100)"
   ],
   "metadata": {
    "collapsed": false
   }
  },
  {
   "cell_type": "code",
   "execution_count": 15,
   "outputs": [],
   "source": [
    "pas = pas.set_index('Date')"
   ],
   "metadata": {
    "collapsed": false
   }
  },
  {
   "cell_type": "code",
   "execution_count": 16,
   "outputs": [],
   "source": [
    "pas = pas.resample('D').sum()"
   ],
   "metadata": {
    "collapsed": false
   }
  },
  {
   "cell_type": "code",
   "execution_count": 17,
   "outputs": [],
   "source": [
    "pas1 = pas.index"
   ],
   "metadata": {
    "collapsed": false
   }
  },
  {
   "cell_type": "code",
   "execution_count": 18,
   "outputs": [
    {
     "data": {
      "text/plain": "            Fremont Bridge East Sidewalk  Fremont Bridge West Sidewalk\nDate                                                                  \n2012-10-03                        1760.0                        1761.0\n2012-10-04                        1708.0                        1767.0\n2012-10-05                        1558.0                        1590.0\n2012-10-06                        1080.0                         926.0\n2012-10-07                        1191.0                         951.0\n...                                  ...                           ...\n2019-06-26                        1891.0                        3141.0\n2019-06-27                        1446.0                        2523.0\n2019-06-28                        1753.0                        3044.0\n2019-06-29                        1435.0                        1748.0\n2019-06-30                        1541.0                        1993.0\n\n[2462 rows x 2 columns]",
      "text/html": "<div>\n<style scoped>\n    .dataframe tbody tr th:only-of-type {\n        vertical-align: middle;\n    }\n\n    .dataframe tbody tr th {\n        vertical-align: top;\n    }\n\n    .dataframe thead th {\n        text-align: right;\n    }\n</style>\n<table border=\"1\" class=\"dataframe\">\n  <thead>\n    <tr style=\"text-align: right;\">\n      <th></th>\n      <th>Fremont Bridge East Sidewalk</th>\n      <th>Fremont Bridge West Sidewalk</th>\n    </tr>\n    <tr>\n      <th>Date</th>\n      <th></th>\n      <th></th>\n    </tr>\n  </thead>\n  <tbody>\n    <tr>\n      <th>2012-10-03</th>\n      <td>1760.0</td>\n      <td>1761.0</td>\n    </tr>\n    <tr>\n      <th>2012-10-04</th>\n      <td>1708.0</td>\n      <td>1767.0</td>\n    </tr>\n    <tr>\n      <th>2012-10-05</th>\n      <td>1558.0</td>\n      <td>1590.0</td>\n    </tr>\n    <tr>\n      <th>2012-10-06</th>\n      <td>1080.0</td>\n      <td>926.0</td>\n    </tr>\n    <tr>\n      <th>2012-10-07</th>\n      <td>1191.0</td>\n      <td>951.0</td>\n    </tr>\n    <tr>\n      <th>...</th>\n      <td>...</td>\n      <td>...</td>\n    </tr>\n    <tr>\n      <th>2019-06-26</th>\n      <td>1891.0</td>\n      <td>3141.0</td>\n    </tr>\n    <tr>\n      <th>2019-06-27</th>\n      <td>1446.0</td>\n      <td>2523.0</td>\n    </tr>\n    <tr>\n      <th>2019-06-28</th>\n      <td>1753.0</td>\n      <td>3044.0</td>\n    </tr>\n    <tr>\n      <th>2019-06-29</th>\n      <td>1435.0</td>\n      <td>1748.0</td>\n    </tr>\n    <tr>\n      <th>2019-06-30</th>\n      <td>1541.0</td>\n      <td>1993.0</td>\n    </tr>\n  </tbody>\n</table>\n<p>2462 rows × 2 columns</p>\n</div>"
     },
     "execution_count": 18,
     "metadata": {},
     "output_type": "execute_result"
    }
   ],
   "source": [
    "pas"
   ],
   "metadata": {
    "collapsed": false
   }
  },
  {
   "cell_type": "code",
   "execution_count": 19,
   "outputs": [],
   "source": [
    "pas6 = pd.concat([pas, weather2], axis=1, join='inner')"
   ],
   "metadata": {
    "collapsed": false
   }
  },
  {
   "cell_type": "code",
   "execution_count": 20,
   "outputs": [
    {
     "data": {
      "text/plain": "            Fremont Bridge East Sidewalk  Fremont Bridge West Sidewalk  \\\nDate                                                                     \n2012-10-31                         883.0                         827.0   \n2012-11-30                         786.0                         804.0   \n2012-12-31                         546.0                         440.0   \n2013-01-31                         974.0                         947.0   \n2013-02-28                         874.0                         885.0   \n...                                  ...                           ...   \n2019-02-28                        1056.0                        1685.0   \n2019-03-31                        1134.0                        1230.0   \n2019-04-30                        1844.0                        3084.0   \n2019-05-31                        2082.0                        3235.0   \n2019-06-30                        1541.0                        1993.0   \n\n                 TAVG      PRCP  \nDate                             \n2012-10-31        NaN  5.493548  \n2012-11-30        NaN  7.016667  \n2012-12-31        NaN  5.612903  \n2013-01-31        NaN  3.409677  \n2013-02-28        NaN  1.439286  \n...               ...       ...  \n2019-02-28   2.621429  4.196429  \n2019-03-31   8.654839  1.119355  \n2019-04-30  11.066667  2.993333  \n2019-05-31  15.300000  0.509677  \n2019-06-30  16.760714  0.760000  \n\n[81 rows x 4 columns]",
      "text/html": "<div>\n<style scoped>\n    .dataframe tbody tr th:only-of-type {\n        vertical-align: middle;\n    }\n\n    .dataframe tbody tr th {\n        vertical-align: top;\n    }\n\n    .dataframe thead th {\n        text-align: right;\n    }\n</style>\n<table border=\"1\" class=\"dataframe\">\n  <thead>\n    <tr style=\"text-align: right;\">\n      <th></th>\n      <th>Fremont Bridge East Sidewalk</th>\n      <th>Fremont Bridge West Sidewalk</th>\n      <th>TAVG</th>\n      <th>PRCP</th>\n    </tr>\n    <tr>\n      <th>Date</th>\n      <th></th>\n      <th></th>\n      <th></th>\n      <th></th>\n    </tr>\n  </thead>\n  <tbody>\n    <tr>\n      <th>2012-10-31</th>\n      <td>883.0</td>\n      <td>827.0</td>\n      <td>NaN</td>\n      <td>5.493548</td>\n    </tr>\n    <tr>\n      <th>2012-11-30</th>\n      <td>786.0</td>\n      <td>804.0</td>\n      <td>NaN</td>\n      <td>7.016667</td>\n    </tr>\n    <tr>\n      <th>2012-12-31</th>\n      <td>546.0</td>\n      <td>440.0</td>\n      <td>NaN</td>\n      <td>5.612903</td>\n    </tr>\n    <tr>\n      <th>2013-01-31</th>\n      <td>974.0</td>\n      <td>947.0</td>\n      <td>NaN</td>\n      <td>3.409677</td>\n    </tr>\n    <tr>\n      <th>2013-02-28</th>\n      <td>874.0</td>\n      <td>885.0</td>\n      <td>NaN</td>\n      <td>1.439286</td>\n    </tr>\n    <tr>\n      <th>...</th>\n      <td>...</td>\n      <td>...</td>\n      <td>...</td>\n      <td>...</td>\n    </tr>\n    <tr>\n      <th>2019-02-28</th>\n      <td>1056.0</td>\n      <td>1685.0</td>\n      <td>2.621429</td>\n      <td>4.196429</td>\n    </tr>\n    <tr>\n      <th>2019-03-31</th>\n      <td>1134.0</td>\n      <td>1230.0</td>\n      <td>8.654839</td>\n      <td>1.119355</td>\n    </tr>\n    <tr>\n      <th>2019-04-30</th>\n      <td>1844.0</td>\n      <td>3084.0</td>\n      <td>11.066667</td>\n      <td>2.993333</td>\n    </tr>\n    <tr>\n      <th>2019-05-31</th>\n      <td>2082.0</td>\n      <td>3235.0</td>\n      <td>15.300000</td>\n      <td>0.509677</td>\n    </tr>\n    <tr>\n      <th>2019-06-30</th>\n      <td>1541.0</td>\n      <td>1993.0</td>\n      <td>16.760714</td>\n      <td>0.760000</td>\n    </tr>\n  </tbody>\n</table>\n<p>81 rows × 4 columns</p>\n</div>"
     },
     "execution_count": 20,
     "metadata": {},
     "output_type": "execute_result"
    }
   ],
   "source": [
    "pas6"
   ],
   "metadata": {
    "collapsed": false
   }
  },
  {
   "cell_type": "code",
   "execution_count": 21,
   "outputs": [
    {
     "data": {
      "text/plain": "            Fremont Bridge East Sidewalk  Fremont Bridge West Sidewalk  \\\nDate                                                                     \n2013-04-30                        1757.0                        1645.0   \n2013-05-31                        2296.0                        2119.0   \n2013-06-30                        1488.0                        1258.0   \n2013-07-31                        2090.0                        2032.0   \n2013-08-31                        1204.0                        1088.0   \n...                                  ...                           ...   \n2019-02-28                        1056.0                        1685.0   \n2019-03-31                        1134.0                        1230.0   \n2019-04-30                        1844.0                        3084.0   \n2019-05-31                        2082.0                        3235.0   \n2019-06-30                        1541.0                        1993.0   \n\n                 TAVG      PRCP  \nDate                             \n2013-04-30  10.173333  4.986667  \n2013-05-31  14.283871  1.951613  \n2013-06-30  17.490000  1.103333  \n2013-07-31  19.616129  0.000000  \n2013-08-31  20.138710  1.109677  \n...               ...       ...  \n2019-02-28   2.621429  4.196429  \n2019-03-31   8.654839  1.119355  \n2019-04-30  11.066667  2.993333  \n2019-05-31  15.300000  0.509677  \n2019-06-30  16.760714  0.760000  \n\n[75 rows x 4 columns]",
      "text/html": "<div>\n<style scoped>\n    .dataframe tbody tr th:only-of-type {\n        vertical-align: middle;\n    }\n\n    .dataframe tbody tr th {\n        vertical-align: top;\n    }\n\n    .dataframe thead th {\n        text-align: right;\n    }\n</style>\n<table border=\"1\" class=\"dataframe\">\n  <thead>\n    <tr style=\"text-align: right;\">\n      <th></th>\n      <th>Fremont Bridge East Sidewalk</th>\n      <th>Fremont Bridge West Sidewalk</th>\n      <th>TAVG</th>\n      <th>PRCP</th>\n    </tr>\n    <tr>\n      <th>Date</th>\n      <th></th>\n      <th></th>\n      <th></th>\n      <th></th>\n    </tr>\n  </thead>\n  <tbody>\n    <tr>\n      <th>2013-04-30</th>\n      <td>1757.0</td>\n      <td>1645.0</td>\n      <td>10.173333</td>\n      <td>4.986667</td>\n    </tr>\n    <tr>\n      <th>2013-05-31</th>\n      <td>2296.0</td>\n      <td>2119.0</td>\n      <td>14.283871</td>\n      <td>1.951613</td>\n    </tr>\n    <tr>\n      <th>2013-06-30</th>\n      <td>1488.0</td>\n      <td>1258.0</td>\n      <td>17.490000</td>\n      <td>1.103333</td>\n    </tr>\n    <tr>\n      <th>2013-07-31</th>\n      <td>2090.0</td>\n      <td>2032.0</td>\n      <td>19.616129</td>\n      <td>0.000000</td>\n    </tr>\n    <tr>\n      <th>2013-08-31</th>\n      <td>1204.0</td>\n      <td>1088.0</td>\n      <td>20.138710</td>\n      <td>1.109677</td>\n    </tr>\n    <tr>\n      <th>...</th>\n      <td>...</td>\n      <td>...</td>\n      <td>...</td>\n      <td>...</td>\n    </tr>\n    <tr>\n      <th>2019-02-28</th>\n      <td>1056.0</td>\n      <td>1685.0</td>\n      <td>2.621429</td>\n      <td>4.196429</td>\n    </tr>\n    <tr>\n      <th>2019-03-31</th>\n      <td>1134.0</td>\n      <td>1230.0</td>\n      <td>8.654839</td>\n      <td>1.119355</td>\n    </tr>\n    <tr>\n      <th>2019-04-30</th>\n      <td>1844.0</td>\n      <td>3084.0</td>\n      <td>11.066667</td>\n      <td>2.993333</td>\n    </tr>\n    <tr>\n      <th>2019-05-31</th>\n      <td>2082.0</td>\n      <td>3235.0</td>\n      <td>15.300000</td>\n      <td>0.509677</td>\n    </tr>\n    <tr>\n      <th>2019-06-30</th>\n      <td>1541.0</td>\n      <td>1993.0</td>\n      <td>16.760714</td>\n      <td>0.760000</td>\n    </tr>\n  </tbody>\n</table>\n<p>75 rows × 4 columns</p>\n</div>"
     },
     "execution_count": 21,
     "metadata": {},
     "output_type": "execute_result"
    }
   ],
   "source": [
    "pas6.dropna()"
   ],
   "metadata": {
    "collapsed": false
   }
  },
  {
   "cell_type": "code",
   "execution_count": 22,
   "outputs": [],
   "source": [
    "pas6['count'] = pas6['Fremont Bridge East Sidewalk'] + pas6['Fremont Bridge East Sidewalk']"
   ],
   "metadata": {
    "collapsed": false
   }
  },
  {
   "cell_type": "code",
   "execution_count": 23,
   "outputs": [
    {
     "ename": "NameError",
     "evalue": "name 'sns' is not defined",
     "output_type": "error",
     "traceback": [
      "\u001B[1;31m---------------------------------------------------------------------------\u001B[0m",
      "\u001B[1;31mNameError\u001B[0m                                 Traceback (most recent call last)",
      "Input \u001B[1;32mIn [23]\u001B[0m, in \u001B[0;36m<cell line: 1>\u001B[1;34m()\u001B[0m\n\u001B[1;32m----> 1\u001B[0m \u001B[43msns\u001B[49m\u001B[38;5;241m.\u001B[39mboxplot(pas6[\u001B[38;5;124m'\u001B[39m\u001B[38;5;124mcount\u001B[39m\u001B[38;5;124m'\u001B[39m])\n",
      "\u001B[1;31mNameError\u001B[0m: name 'sns' is not defined"
     ]
    }
   ],
   "source": [
    "sns.boxplot(pas6['count'])"
   ],
   "metadata": {
    "collapsed": false
   }
  },
  {
   "cell_type": "code",
   "execution_count": null,
   "outputs": [],
   "source": [
    "pas6 = pas6['2014-01-31':]"
   ],
   "metadata": {
    "collapsed": false
   }
  },
  {
   "cell_type": "code",
   "execution_count": null,
   "outputs": [],
   "source": [
    "pas6"
   ],
   "metadata": {
    "collapsed": false
   }
  },
  {
   "cell_type": "code",
   "execution_count": null,
   "outputs": [],
   "source": [
    "adf_test = adfuller(pas6['count'])\n",
    "print('p-value = ' + str(adf_test[1]))\n",
    "if adf_test[1]>0.05:\n",
    "    print('Ряд не стационарный')\n",
    "else:\n",
    "    print('Ряд стационарный')"
   ],
   "metadata": {
    "collapsed": false
   }
  },
  {
   "cell_type": "code",
   "execution_count": null,
   "outputs": [],
   "source": [
    "pas6['count'].plot()"
   ],
   "metadata": {
    "collapsed": false
   }
  },
  {
   "cell_type": "code",
   "execution_count": null,
   "outputs": [],
   "source": [
    "pas6['Date1'] = pas6.index"
   ],
   "metadata": {
    "collapsed": false
   }
  },
  {
   "cell_type": "code",
   "execution_count": null,
   "outputs": [],
   "source": [
    "pas6"
   ],
   "metadata": {
    "collapsed": false
   }
  },
  {
   "cell_type": "code",
   "execution_count": null,
   "outputs": [],
   "source": [
    "new_dates = pd.date_range('2014-01-31', '2014-12-31', freq='M')\n",
    "new_dates = pd.Index(pas6['Date1']) | new_dates\n",
    "df3 = pd.DataFrame({'Date1': new_dates})\n",
    "df4 = pd.merge(pas6, df3, on='Date1', how='right')"
   ],
   "metadata": {
    "collapsed": false
   }
  },
  {
   "cell_type": "code",
   "execution_count": null,
   "outputs": [],
   "source": [
    "df4"
   ],
   "metadata": {
    "collapsed": false
   }
  },
  {
   "cell_type": "code",
   "execution_count": null,
   "outputs": [],
   "source": [
    "pas6['month_num'] = range(1,len(pas6)+1)"
   ],
   "metadata": {
    "collapsed": false
   }
  },
  {
   "cell_type": "code",
   "execution_count": null,
   "outputs": [],
   "source": [
    "for x in range(1,13):\n",
    "    pas6['season_' + str(x)] = pas6['Date1'].dt.month == x"
   ],
   "metadata": {
    "collapsed": false
   }
  },
  {
   "cell_type": "code",
   "execution_count": null,
   "outputs": [],
   "source": [
    "season_columns = ['season_' + str(x) for x in range(1,13)]\n",
    "X1 = pas6[['month_num'] + season_columns]\n",
    "Y1 = pas6['count']"
   ],
   "metadata": {
    "collapsed": false
   }
  },
  {
   "cell_type": "code",
   "execution_count": null,
   "outputs": [],
   "source": [
    "X1_train, X1_test, Y1_train, Y1_test = train_test_split(X1, Y1, test_size=0.2, random_state=0)"
   ],
   "metadata": {
    "collapsed": false
   }
  },
  {
   "cell_type": "code",
   "execution_count": null,
   "outputs": [],
   "source": [
    "model.fit(X1_train, Y1_train)"
   ],
   "metadata": {
    "collapsed": false
   }
  },
  {
   "cell_type": "code",
   "execution_count": null,
   "outputs": [],
   "source": [
    "test_pred1 = model.predict(X1_test)"
   ],
   "metadata": {
    "collapsed": false
   }
  },
  {
   "cell_type": "code",
   "execution_count": null,
   "outputs": [],
   "source": [
    "Y1.plot(legend=True,label='REAL')\n",
    "Y1_train.plot(legend=True,label='TRAIN')\n",
    "test_pred1.plot(legend=True,label='TEST', figsize=(6,4))\n",
    "test_predictions_add.plot(legend=True,label='PREDICTION')\n",
    "plt.title('Train, Test and Predicted Test')"
   ],
   "metadata": {
    "collapsed": false
   }
  },
  {
   "cell_type": "code",
   "execution_count": null,
   "outputs": [],
   "source": [
    "mae3 = mean_absolute_error(Y1_test, test_pred1)\n",
    "mse3 = mean_squared_error(Y1_test, test_pred1)\n",
    "R2 = r2_score(Y1_test, test_pred1)\n",
    "print('MAE = ', np.round(mae3, 3))\n",
    "print('MSE =', np.round(mse3, 3))\n",
    "print('Коэффициент детерминации =', np.round(R2, 3))"
   ],
   "metadata": {
    "collapsed": false
   }
  },
  {
   "cell_type": "code",
   "execution_count": null,
   "outputs": [],
   "source": [
    "pas.index"
   ],
   "metadata": {
    "collapsed": false
   }
  },
  {
   "cell_type": "code",
   "execution_count": null,
   "outputs": [],
   "source": [
    "pas2 = pd.DataFrame(pas1.dayofweek)"
   ],
   "metadata": {
    "collapsed": false
   }
  },
  {
   "cell_type": "code",
   "execution_count": null,
   "outputs": [],
   "source": [
    "pas2"
   ],
   "metadata": {
    "collapsed": false
   }
  },
  {
   "cell_type": "code",
   "execution_count": null,
   "outputs": [],
   "source": [
    "pas2.index = pas.index"
   ],
   "metadata": {
    "collapsed": false
   }
  },
  {
   "cell_type": "code",
   "execution_count": null,
   "outputs": [],
   "source": [
    "pas2"
   ],
   "metadata": {
    "collapsed": false
   }
  },
  {
   "cell_type": "code",
   "execution_count": null,
   "outputs": [],
   "source": [
    "pas3 = pd.concat([pas, pas2], axis=1, join='inner')"
   ],
   "metadata": {
    "collapsed": false
   }
  },
  {
   "cell_type": "code",
   "execution_count": null,
   "outputs": [],
   "source": [
    "pas3 = pas3.drop(columns=pas3[['dayofweek']])"
   ],
   "metadata": {
    "collapsed": false
   }
  },
  {
   "cell_type": "code",
   "execution_count": null,
   "outputs": [],
   "source": [
    "pas3.rename(columns={'Date' : 'Dayofweek'})"
   ],
   "metadata": {
    "collapsed": false
   }
  },
  {
   "cell_type": "code",
   "execution_count": null,
   "outputs": [],
   "source": [
    "pas3.tail()"
   ],
   "metadata": {
    "collapsed": false
   }
  },
  {
   "cell_type": "code",
   "execution_count": null,
   "outputs": [],
   "source": [
    "weather.head(100)"
   ],
   "metadata": {
    "collapsed": false
   }
  },
  {
   "cell_type": "code",
   "execution_count": null,
   "outputs": [],
   "source": [],
   "metadata": {
    "collapsed": false
   }
  },
  {
   "cell_type": "code",
   "execution_count": null,
   "outputs": [],
   "source": [
    "weather.rename(columns={'DATE' : 'Date'}, inplace=True)"
   ],
   "metadata": {
    "collapsed": false
   }
  },
  {
   "cell_type": "code",
   "execution_count": null,
   "outputs": [],
   "source": [
    "weather = weather.set_index('Date')"
   ],
   "metadata": {
    "collapsed": false
   }
  },
  {
   "cell_type": "code",
   "execution_count": null,
   "outputs": [],
   "source": [
    "weather = weather['2012-10-03':'2019-06-30']"
   ],
   "metadata": {
    "collapsed": false
   }
  },
  {
   "cell_type": "code",
   "execution_count": null,
   "outputs": [],
   "source": [
    "weather"
   ],
   "metadata": {
    "collapsed": false
   }
  },
  {
   "cell_type": "code",
   "execution_count": null,
   "outputs": [],
   "source": [
    "pas3.rename(columns={'Date' : 'Dayofweek'}, inplace=True)"
   ],
   "metadata": {
    "collapsed": false
   }
  },
  {
   "cell_type": "code",
   "execution_count": null,
   "outputs": [],
   "source": [
    "weather.index = weather.index.astype(str)\n",
    "pas3.index = pas3.index.astype(str)"
   ],
   "metadata": {
    "collapsed": false
   }
  },
  {
   "cell_type": "code",
   "execution_count": null,
   "outputs": [],
   "source": [
    "weather"
   ],
   "metadata": {
    "collapsed": false
   }
  },
  {
   "cell_type": "code",
   "execution_count": null,
   "outputs": [],
   "source": [
    "pas3"
   ],
   "metadata": {
    "collapsed": false
   }
  },
  {
   "cell_type": "code",
   "execution_count": null,
   "outputs": [],
   "source": [
    "df = pd.merge(weather, how='inner',right=pas3,left_on=weather.index,right_on=pas3.index)"
   ],
   "metadata": {
    "collapsed": false
   }
  },
  {
   "cell_type": "code",
   "execution_count": null,
   "outputs": [],
   "source": [
    "df.rename(columns={'key_0' : 'Date'}, inplace=True)\n",
    "df = df.set_index('Date')"
   ],
   "metadata": {
    "collapsed": false
   }
  },
  {
   "cell_type": "code",
   "execution_count": null,
   "outputs": [],
   "source": [
    "df"
   ],
   "metadata": {
    "collapsed": false
   }
  },
  {
   "cell_type": "code",
   "execution_count": null,
   "outputs": [],
   "source": [
    "df = df.dropna(axis=0)"
   ],
   "metadata": {
    "collapsed": false
   }
  },
  {
   "cell_type": "code",
   "execution_count": null,
   "outputs": [],
   "source": [
    "df['count'] = df['Fremont Bridge East Sidewalk'] + df['Fremont Bridge East Sidewalk']"
   ],
   "metadata": {
    "collapsed": false
   }
  },
  {
   "cell_type": "code",
   "execution_count": null,
   "outputs": [],
   "source": [
    "df"
   ],
   "metadata": {
    "collapsed": false
   }
  },
  {
   "cell_type": "code",
   "execution_count": null,
   "outputs": [],
   "source": [
    "df1 = df.groupby('Dayofweek')['count'].mean()"
   ],
   "metadata": {
    "collapsed": false
   }
  },
  {
   "cell_type": "code",
   "execution_count": null,
   "outputs": [],
   "source": [
    "df1"
   ],
   "metadata": {
    "collapsed": false
   }
  },
  {
   "cell_type": "code",
   "execution_count": null,
   "outputs": [],
   "source": [
    "\n",
    "df1.plot(title='Среднее кол-во людей, проходящих через мост')"
   ],
   "metadata": {
    "collapsed": false
   }
  },
  {
   "cell_type": "code",
   "execution_count": null,
   "outputs": [],
   "source": [
    "df['Fremont Bridge East Sidewalk'].plot(figsize=(9,6))"
   ],
   "metadata": {
    "collapsed": false
   }
  },
  {
   "cell_type": "code",
   "execution_count": null,
   "outputs": [],
   "source": [
    "import seaborn as sns"
   ],
   "metadata": {
    "collapsed": false
   }
  },
  {
   "cell_type": "code",
   "execution_count": null,
   "outputs": [],
   "source": [
    "sns.boxplot(df['count'])"
   ],
   "metadata": {
    "collapsed": false
   }
  },
  {
   "cell_type": "code",
   "execution_count": null,
   "outputs": [],
   "source": [
    "print(np.where(df['count']>6000))"
   ],
   "metadata": {
    "collapsed": false
   }
  },
  {
   "cell_type": "code",
   "execution_count": null,
   "outputs": [],
   "source": [
    "df.iloc[[395, 407, 408, 410]]"
   ],
   "metadata": {
    "collapsed": false
   }
  },
  {
   "cell_type": "code",
   "execution_count": null,
   "outputs": [],
   "source": [
    "df = df.drop(index = ['2014-05-01', '2014-05-13', '2014-05-14', '2014-05-16'])"
   ],
   "metadata": {
    "collapsed": false
   }
  },
  {
   "cell_type": "code",
   "execution_count": null,
   "outputs": [],
   "source": [
    "df"
   ],
   "metadata": {
    "collapsed": false
   }
  },
  {
   "cell_type": "code",
   "execution_count": null,
   "outputs": [],
   "source": [
    "df['count'].plot()"
   ],
   "metadata": {
    "collapsed": false
   }
  },
  {
   "cell_type": "code",
   "execution_count": null,
   "outputs": [],
   "source": [
    "from statsmodels.tsa.stattools import adfuller"
   ],
   "metadata": {
    "collapsed": false
   }
  },
  {
   "cell_type": "code",
   "execution_count": null,
   "outputs": [],
   "source": [
    "adf_test = adfuller(df['count'])\n",
    "print('p-value = ' + str(adf_test[1]))\n",
    "if adf_test[1]>0.05:\n",
    "    print('Ряд не стационарный')\n",
    "else:\n",
    "    print('Ряд стационарный')"
   ],
   "metadata": {
    "collapsed": false
   }
  },
  {
   "cell_type": "code",
   "execution_count": null,
   "outputs": [],
   "source": [
    "from sklearn.linear_model import LinearRegression"
   ],
   "metadata": {
    "collapsed": false
   }
  },
  {
   "cell_type": "code",
   "execution_count": null,
   "outputs": [],
   "source": [
    "model = LinearRegression()"
   ],
   "metadata": {
    "collapsed": false
   }
  },
  {
   "cell_type": "code",
   "execution_count": null,
   "outputs": [],
   "source": [
    "X = df[['TAVG']][-365:]\n",
    "Y = df['count'][-365:]"
   ],
   "metadata": {
    "collapsed": false
   }
  },
  {
   "cell_type": "code",
   "execution_count": null,
   "outputs": [],
   "source": [
    "X"
   ],
   "metadata": {
    "collapsed": false
   }
  },
  {
   "cell_type": "code",
   "execution_count": null,
   "outputs": [],
   "source": [
    "Y.plot()"
   ],
   "metadata": {
    "collapsed": false
   }
  },
  {
   "cell_type": "code",
   "execution_count": null,
   "outputs": [],
   "source": [
    "from sklearn.model_selection import train_test_split"
   ],
   "metadata": {
    "collapsed": false
   }
  },
  {
   "cell_type": "code",
   "execution_count": null,
   "outputs": [],
   "source": [
    "X_train, X_test, Y_train, Y_test = train_test_split(X, Y, test_size=0.2, random_state=0)"
   ],
   "metadata": {
    "collapsed": false
   }
  },
  {
   "cell_type": "code",
   "execution_count": null,
   "outputs": [],
   "source": [
    "model.fit(X_train, Y_train)"
   ],
   "metadata": {
    "collapsed": false
   }
  },
  {
   "cell_type": "code",
   "execution_count": null,
   "outputs": [],
   "source": [
    "test_pred = pd.DataFrame(model.predict(X_test))"
   ],
   "metadata": {
    "collapsed": false
   }
  },
  {
   "cell_type": "code",
   "execution_count": null,
   "outputs": [],
   "source": [
    "Y"
   ],
   "metadata": {
    "collapsed": false
   }
  },
  {
   "cell_type": "code",
   "execution_count": null,
   "outputs": [],
   "source": [
    "Y_train"
   ],
   "metadata": {
    "collapsed": false
   }
  },
  {
   "cell_type": "code",
   "execution_count": null,
   "outputs": [],
   "source": [
    "Y.plot(legend=True,label='REAL')\n",
    "Y_train.plot(legend=True,label='TRAIN')\n",
    "test_pred.plot(legend=True,label='TEST', figsize=(6,4))\n",
    "plt.title('Train, Test and Predicted Test')"
   ],
   "metadata": {
    "collapsed": false
   }
  },
  {
   "cell_type": "code",
   "execution_count": null,
   "outputs": [],
   "source": [
    "from sklearn.metrics import r2_score, mean_absolute_error, mean_squared_error"
   ],
   "metadata": {
    "collapsed": false
   }
  },
  {
   "cell_type": "code",
   "execution_count": null,
   "outputs": [],
   "source": [
    "mae = mean_absolute_error(Y_test, test_pred)\n",
    "mse = mean_squared_error(Y_test, test_pred)\n",
    "R2 = r2_score(Y_test, test_pred)\n",
    "print('MAE = ', np.round(mae, 3))\n",
    "print('MSE =', np.round(mse, 3))\n",
    "print('Коэффициент детерминации =', np.round(R2, 3))"
   ],
   "metadata": {
    "collapsed": false
   }
  },
  {
   "cell_type": "code",
   "execution_count": null,
   "outputs": [],
   "source": [
    "X2 = df[['TAVG', 'Dayofweek']][-730:]\n",
    "Y2 = df['count'][-730:]"
   ],
   "metadata": {
    "collapsed": false
   }
  },
  {
   "cell_type": "code",
   "execution_count": null,
   "outputs": [],
   "source": [
    "X2_train, X2_test, Y2_train, Y2_test = train_test_split(X2, Y2, test_size=0.2, random_state=0)"
   ],
   "metadata": {
    "collapsed": false
   }
  },
  {
   "cell_type": "code",
   "execution_count": null,
   "outputs": [],
   "source": [
    "model.fit(X2_train, Y2_train)"
   ],
   "metadata": {
    "collapsed": false
   }
  },
  {
   "cell_type": "code",
   "execution_count": null,
   "outputs": [],
   "source": [
    "test_pred2 = pd.DataFrame(model.predict(X2_test))"
   ],
   "metadata": {
    "collapsed": false
   }
  },
  {
   "cell_type": "code",
   "execution_count": null,
   "outputs": [],
   "source": [
    "mae2 = mean_absolute_error(Y2_test, test_pred2)\n",
    "mse2 = mean_squared_error(Y2_test, test_pred2)\n",
    "R2 = r2_score(Y_test, test_pred)\n",
    "print('MAE = ', np.round(mae2, 3))\n",
    "print('MSE =', np.round(mse2, 3))\n",
    "print('Коэффициент детерминации =', np.round(R2, 3))"
   ],
   "metadata": {
    "collapsed": false
   }
  },
  {
   "cell_type": "code",
   "execution_count": null,
   "outputs": [],
   "source": [],
   "metadata": {
    "collapsed": false
   }
  }
 ],
 "metadata": {
  "kernelspec": {
   "display_name": "Python 3",
   "language": "python",
   "name": "python3"
  },
  "language_info": {
   "codemirror_mode": {
    "name": "ipython",
    "version": 2
   },
   "file_extension": ".py",
   "mimetype": "text/x-python",
   "name": "python",
   "nbconvert_exporter": "python",
   "pygments_lexer": "ipython2",
   "version": "2.7.6"
  }
 },
 "nbformat": 4,
 "nbformat_minor": 0
}
