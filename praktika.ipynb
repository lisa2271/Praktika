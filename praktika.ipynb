{
 "cells": [
  {
   "cell_type": "code",
   "execution_count": 38,
   "metadata": {
    "collapsed": true
   },
   "outputs": [],
   "source": [
    "import numpy as np\n",
    "import pandas as pd\n",
    "import os\n",
    "import datetime"
   ]
  },
  {
   "cell_type": "code",
   "execution_count": 25,
   "outputs": [],
   "source": [
    "files = os.listdir('C:\\\\Users\\\\gosti\\\\Downloads\\\\Telegram Desktop\\\\results\\\\results')"
   ],
   "metadata": {
    "collapsed": false
   }
  },
  {
   "cell_type": "code",
   "execution_count": 26,
   "outputs": [],
   "source": [
    "dfs = []\n",
    "for f in files:\n",
    "    df1 = pd.read_csv('C:\\\\Users\\\\gosti\\\\Downloads\\\\Telegram Desktop\\\\results\\\\results\\\\Adygeja_Resp_2022-03-20.csv', encoding = 'utf-8')\n",
    "    dfs.append(df1)"
   ],
   "metadata": {
    "collapsed": false
   }
  },
  {
   "cell_type": "code",
   "execution_count": 53,
   "outputs": [],
   "source": [
    "data = pd.concat(dfs)"
   ],
   "metadata": {
    "collapsed": false
   }
  },
  {
   "cell_type": "code",
   "execution_count": 28,
   "outputs": [],
   "source": [
    "results = pd.read_excel(r'C:\\\\Users\\\\gosti\\\\Downloads\\\\Telegram Desktop\\\\01_04_D_New_loans_subj.xlsx')"
   ],
   "metadata": {
    "collapsed": false
   }
  },
  {
   "cell_type": "code",
   "execution_count": 54,
   "outputs": [
    {
     "data": {
      "text/plain": "   Unnamed: 0             obj hash              name              reg num  \\\n0           0  3793294491059705333  contracts_output  1010101008321000004   \n1           1 -4348589201702449915  contracts_output  1010400570119000014   \n2           2  7104910193783858246  contracts_output  1010400570119000016   \n3           3 -1585908082334183978  contracts_output  1010400570119000027   \n4           4 -3961364508861951295  contracts_output  1010400570119000027   \n\n   customer inn   sign date  suppliers count  supplier inn     st date  \\\n0     101010083  2021-09-27                1  1.052336e+10  2021-09-27   \n1     104005701  2019-08-08                1  1.050111e+10  2021-01-01   \n2     104005701  2019-09-03                1  1.050530e+08  2021-01-01   \n3     104005701  2019-09-24                1  2.312263e+09  2021-01-01   \n4     104005701  2019-09-24                1  2.312263e+09  2021-01-01   \n\n     end date      price  enforcement     amount  \\\n0  2021-12-31  500000.00            1   25000.00   \n1  2021-12-31  933718.40            1  373500.00   \n2  2021-12-31  125125.25            0    6256.26   \n3  2021-12-31  355169.38            1   19878.00   \n4  2021-12-31  388020.88            1   19878.00   \n\n                                                 doc protocol date  \n0  Протокол рассмотрения единственной заявки на у...    2021-09-14  \n1  Протокол подведения итогов электронного аукцио...    2019-07-26  \n2  Протокол подведения итогов электронного аукцио...    2019-08-22  \n3  Протокол подведения итогов электронного аукцио...    2019-09-12  \n4  Протокол подведения итогов электронного аукцио...    2019-09-12  ",
      "text/html": "<div>\n<style scoped>\n    .dataframe tbody tr th:only-of-type {\n        vertical-align: middle;\n    }\n\n    .dataframe tbody tr th {\n        vertical-align: top;\n    }\n\n    .dataframe thead th {\n        text-align: right;\n    }\n</style>\n<table border=\"1\" class=\"dataframe\">\n  <thead>\n    <tr style=\"text-align: right;\">\n      <th></th>\n      <th>Unnamed: 0</th>\n      <th>obj hash</th>\n      <th>name</th>\n      <th>reg num</th>\n      <th>customer inn</th>\n      <th>sign date</th>\n      <th>suppliers count</th>\n      <th>supplier inn</th>\n      <th>st date</th>\n      <th>end date</th>\n      <th>price</th>\n      <th>enforcement</th>\n      <th>amount</th>\n      <th>doc</th>\n      <th>protocol date</th>\n    </tr>\n  </thead>\n  <tbody>\n    <tr>\n      <th>0</th>\n      <td>0</td>\n      <td>3793294491059705333</td>\n      <td>contracts_output</td>\n      <td>1010101008321000004</td>\n      <td>101010083</td>\n      <td>2021-09-27</td>\n      <td>1</td>\n      <td>1.052336e+10</td>\n      <td>2021-09-27</td>\n      <td>2021-12-31</td>\n      <td>500000.00</td>\n      <td>1</td>\n      <td>25000.00</td>\n      <td>Протокол рассмотрения единственной заявки на у...</td>\n      <td>2021-09-14</td>\n    </tr>\n    <tr>\n      <th>1</th>\n      <td>1</td>\n      <td>-4348589201702449915</td>\n      <td>contracts_output</td>\n      <td>1010400570119000014</td>\n      <td>104005701</td>\n      <td>2019-08-08</td>\n      <td>1</td>\n      <td>1.050111e+10</td>\n      <td>2021-01-01</td>\n      <td>2021-12-31</td>\n      <td>933718.40</td>\n      <td>1</td>\n      <td>373500.00</td>\n      <td>Протокол подведения итогов электронного аукцио...</td>\n      <td>2019-07-26</td>\n    </tr>\n    <tr>\n      <th>2</th>\n      <td>2</td>\n      <td>7104910193783858246</td>\n      <td>contracts_output</td>\n      <td>1010400570119000016</td>\n      <td>104005701</td>\n      <td>2019-09-03</td>\n      <td>1</td>\n      <td>1.050530e+08</td>\n      <td>2021-01-01</td>\n      <td>2021-12-31</td>\n      <td>125125.25</td>\n      <td>0</td>\n      <td>6256.26</td>\n      <td>Протокол подведения итогов электронного аукцио...</td>\n      <td>2019-08-22</td>\n    </tr>\n    <tr>\n      <th>3</th>\n      <td>3</td>\n      <td>-1585908082334183978</td>\n      <td>contracts_output</td>\n      <td>1010400570119000027</td>\n      <td>104005701</td>\n      <td>2019-09-24</td>\n      <td>1</td>\n      <td>2.312263e+09</td>\n      <td>2021-01-01</td>\n      <td>2021-12-31</td>\n      <td>355169.38</td>\n      <td>1</td>\n      <td>19878.00</td>\n      <td>Протокол подведения итогов электронного аукцио...</td>\n      <td>2019-09-12</td>\n    </tr>\n    <tr>\n      <th>4</th>\n      <td>4</td>\n      <td>-3961364508861951295</td>\n      <td>contracts_output</td>\n      <td>1010400570119000027</td>\n      <td>104005701</td>\n      <td>2019-09-24</td>\n      <td>1</td>\n      <td>2.312263e+09</td>\n      <td>2021-01-01</td>\n      <td>2021-12-31</td>\n      <td>388020.88</td>\n      <td>1</td>\n      <td>19878.00</td>\n      <td>Протокол подведения итогов электронного аукцио...</td>\n      <td>2019-09-12</td>\n    </tr>\n  </tbody>\n</table>\n</div>"
     },
     "execution_count": 54,
     "metadata": {},
     "output_type": "execute_result"
    }
   ],
   "source": [
    "data.head()"
   ],
   "metadata": {
    "collapsed": false
   }
  },
  {
   "cell_type": "code",
   "execution_count": 55,
   "outputs": [],
   "source": [
    "data = data.drop(columns=data[['customer inn', 'supplier inn', 'protocol date', 'doc']])"
   ],
   "metadata": {
    "collapsed": false
   }
  },
  {
   "cell_type": "code",
   "execution_count": 56,
   "outputs": [
    {
     "data": {
      "text/plain": "      Unnamed: 0             obj hash              name              reg num  \\\n0              0  3793294491059705333  contracts_output  1010101008321000004   \n1              1 -4348589201702449915  contracts_output  1010400570119000014   \n2              2  7104910193783858246  contracts_output  1010400570119000016   \n3              3 -1585908082334183978  contracts_output  1010400570119000027   \n4              4 -3961364508861951295  contracts_output  1010400570119000027   \n...          ...                  ...               ...                  ...   \n6359        6359 -4906157625135826188  contracts_output  3010800386421000022   \n6360        6360 -8165939967697628755  contracts_output  3010800386421000022   \n6361        6361  -725861710018253917  contracts_output  3010800386421000025   \n6362        6362 -2881107635711435453  contracts_output  3010800386421000025   \n6363        6363 -1158808855413502250  contracts_output  3010800386422000008   \n\n       sign date  suppliers count     st date    end date       price  \\\n0     2021-09-27                1  2021-09-27  2021-12-31   500000.00   \n1     2019-08-08                1  2021-01-01  2021-12-31   933718.40   \n2     2019-09-03                1  2021-01-01  2021-12-31   125125.25   \n3     2019-09-24                1  2021-01-01  2021-12-31   355169.38   \n4     2019-09-24                1  2021-01-01  2021-12-31   388020.88   \n...          ...              ...         ...         ...         ...   \n6359  2021-10-04                1  2021-10-04  2022-01-31  1452000.00   \n6360  2021-10-04                1  2021-10-04  2022-01-31  1452000.00   \n6361  2021-10-25                1  2021-10-25  2021-12-31   106600.00   \n6362  2021-10-25                1  2021-10-25  2021-12-31   106599.90   \n6363  2022-02-21                1  2022-03-01  2022-07-31   520192.00   \n\n      enforcement     amount        bg  \n0               1   25000.00  0.050000  \n1               1  373500.00  0.400014  \n2               0    6256.26  0.050000  \n3               1   19878.00  0.055968  \n4               1   19878.00  0.051229  \n...           ...        ...       ...  \n6359            0   72600.00  0.050000  \n6360            0   72600.00  0.050000  \n6361            1    5500.00  0.051595  \n6362            1    5500.00  0.051595  \n6363            0   26009.60  0.050000  \n\n[1088244 rows x 12 columns]",
      "text/html": "<div>\n<style scoped>\n    .dataframe tbody tr th:only-of-type {\n        vertical-align: middle;\n    }\n\n    .dataframe tbody tr th {\n        vertical-align: top;\n    }\n\n    .dataframe thead th {\n        text-align: right;\n    }\n</style>\n<table border=\"1\" class=\"dataframe\">\n  <thead>\n    <tr style=\"text-align: right;\">\n      <th></th>\n      <th>Unnamed: 0</th>\n      <th>obj hash</th>\n      <th>name</th>\n      <th>reg num</th>\n      <th>sign date</th>\n      <th>suppliers count</th>\n      <th>st date</th>\n      <th>end date</th>\n      <th>price</th>\n      <th>enforcement</th>\n      <th>amount</th>\n      <th>bg</th>\n    </tr>\n  </thead>\n  <tbody>\n    <tr>\n      <th>0</th>\n      <td>0</td>\n      <td>3793294491059705333</td>\n      <td>contracts_output</td>\n      <td>1010101008321000004</td>\n      <td>2021-09-27</td>\n      <td>1</td>\n      <td>2021-09-27</td>\n      <td>2021-12-31</td>\n      <td>500000.00</td>\n      <td>1</td>\n      <td>25000.00</td>\n      <td>0.050000</td>\n    </tr>\n    <tr>\n      <th>1</th>\n      <td>1</td>\n      <td>-4348589201702449915</td>\n      <td>contracts_output</td>\n      <td>1010400570119000014</td>\n      <td>2019-08-08</td>\n      <td>1</td>\n      <td>2021-01-01</td>\n      <td>2021-12-31</td>\n      <td>933718.40</td>\n      <td>1</td>\n      <td>373500.00</td>\n      <td>0.400014</td>\n    </tr>\n    <tr>\n      <th>2</th>\n      <td>2</td>\n      <td>7104910193783858246</td>\n      <td>contracts_output</td>\n      <td>1010400570119000016</td>\n      <td>2019-09-03</td>\n      <td>1</td>\n      <td>2021-01-01</td>\n      <td>2021-12-31</td>\n      <td>125125.25</td>\n      <td>0</td>\n      <td>6256.26</td>\n      <td>0.050000</td>\n    </tr>\n    <tr>\n      <th>3</th>\n      <td>3</td>\n      <td>-1585908082334183978</td>\n      <td>contracts_output</td>\n      <td>1010400570119000027</td>\n      <td>2019-09-24</td>\n      <td>1</td>\n      <td>2021-01-01</td>\n      <td>2021-12-31</td>\n      <td>355169.38</td>\n      <td>1</td>\n      <td>19878.00</td>\n      <td>0.055968</td>\n    </tr>\n    <tr>\n      <th>4</th>\n      <td>4</td>\n      <td>-3961364508861951295</td>\n      <td>contracts_output</td>\n      <td>1010400570119000027</td>\n      <td>2019-09-24</td>\n      <td>1</td>\n      <td>2021-01-01</td>\n      <td>2021-12-31</td>\n      <td>388020.88</td>\n      <td>1</td>\n      <td>19878.00</td>\n      <td>0.051229</td>\n    </tr>\n    <tr>\n      <th>...</th>\n      <td>...</td>\n      <td>...</td>\n      <td>...</td>\n      <td>...</td>\n      <td>...</td>\n      <td>...</td>\n      <td>...</td>\n      <td>...</td>\n      <td>...</td>\n      <td>...</td>\n      <td>...</td>\n      <td>...</td>\n    </tr>\n    <tr>\n      <th>6359</th>\n      <td>6359</td>\n      <td>-4906157625135826188</td>\n      <td>contracts_output</td>\n      <td>3010800386421000022</td>\n      <td>2021-10-04</td>\n      <td>1</td>\n      <td>2021-10-04</td>\n      <td>2022-01-31</td>\n      <td>1452000.00</td>\n      <td>0</td>\n      <td>72600.00</td>\n      <td>0.050000</td>\n    </tr>\n    <tr>\n      <th>6360</th>\n      <td>6360</td>\n      <td>-8165939967697628755</td>\n      <td>contracts_output</td>\n      <td>3010800386421000022</td>\n      <td>2021-10-04</td>\n      <td>1</td>\n      <td>2021-10-04</td>\n      <td>2022-01-31</td>\n      <td>1452000.00</td>\n      <td>0</td>\n      <td>72600.00</td>\n      <td>0.050000</td>\n    </tr>\n    <tr>\n      <th>6361</th>\n      <td>6361</td>\n      <td>-725861710018253917</td>\n      <td>contracts_output</td>\n      <td>3010800386421000025</td>\n      <td>2021-10-25</td>\n      <td>1</td>\n      <td>2021-10-25</td>\n      <td>2021-12-31</td>\n      <td>106600.00</td>\n      <td>1</td>\n      <td>5500.00</td>\n      <td>0.051595</td>\n    </tr>\n    <tr>\n      <th>6362</th>\n      <td>6362</td>\n      <td>-2881107635711435453</td>\n      <td>contracts_output</td>\n      <td>3010800386421000025</td>\n      <td>2021-10-25</td>\n      <td>1</td>\n      <td>2021-10-25</td>\n      <td>2021-12-31</td>\n      <td>106599.90</td>\n      <td>1</td>\n      <td>5500.00</td>\n      <td>0.051595</td>\n    </tr>\n    <tr>\n      <th>6363</th>\n      <td>6363</td>\n      <td>-1158808855413502250</td>\n      <td>contracts_output</td>\n      <td>3010800386422000008</td>\n      <td>2022-02-21</td>\n      <td>1</td>\n      <td>2022-03-01</td>\n      <td>2022-07-31</td>\n      <td>520192.00</td>\n      <td>0</td>\n      <td>26009.60</td>\n      <td>0.050000</td>\n    </tr>\n  </tbody>\n</table>\n<p>1088244 rows × 12 columns</p>\n</div>"
     },
     "execution_count": 56,
     "metadata": {},
     "output_type": "execute_result"
    }
   ],
   "source": [
    "data = data.assign(bg=data.amount / data.price)\n",
    "data"
   ],
   "metadata": {
    "collapsed": false
   }
  },
  {
   "cell_type": "code",
   "execution_count": 57,
   "outputs": [
    {
     "data": {
      "text/plain": "    Unnamed: 0             obj hash              name              reg num  \\\n0            0  3793294491059705333  contracts_output  1010101008321000004   \n1            1 -4348589201702449915  contracts_output  1010400570119000014   \n2            2  7104910193783858246  contracts_output  1010400570119000016   \n3            3 -1585908082334183978  contracts_output  1010400570119000027   \n4            4 -3961364508861951295  contracts_output  1010400570119000027   \n..         ...                  ...               ...                  ...   \n95          95 -7225163988810488269  contracts_output  1010501691421000032   \n96          96  3444059651121947372  contracts_output  1010501691421000034   \n97          97 -3364522712682730924  contracts_output  1010501691421000036   \n98          98  2228551905017172812  contracts_output  1010501691421000037   \n99          99   421385556509788594  contracts_output  1010501691421000039   \n\n     sign date  suppliers count     st date    end date      price  \\\n0   2021-09-27                1  2021-09-27  2021-12-31  500000.00   \n1   2019-08-08                1  2021-01-01  2021-12-31  933718.40   \n2   2019-09-03                1  2021-01-01  2021-12-31  125125.25   \n3   2019-09-24                1  2021-01-01  2021-12-31  355169.38   \n4   2019-09-24                1  2021-01-01  2021-12-31  388020.88   \n..         ...              ...         ...         ...        ...   \n95  2021-03-30                1  2021-03-30  2021-12-01  121091.46   \n96  2021-04-05                1  2021-04-05  2021-09-30  929631.00   \n97  2021-04-13                1  2021-04-13  2021-12-01    9183.33   \n98  2021-04-13                1  2021-04-13  2021-12-01    3309.16   \n99  2021-04-27                1  2021-04-27  2021-12-01  510436.00   \n\n    enforcement     amount        bg  \n0             1   25000.00  0.050000  \n1             1  373500.00  0.400014  \n2             0    6256.26  0.050000  \n3             1   19878.00  0.055968  \n4             1   19878.00  0.051229  \n..          ...        ...       ...  \n95            0   36509.99  0.301508  \n96            1  597620.41  0.642858  \n97            0    2755.00  0.300000  \n98            0     992.75  0.300001  \n99            1  153130.80  0.300000  \n\n[100 rows x 12 columns]",
      "text/html": "<div>\n<style scoped>\n    .dataframe tbody tr th:only-of-type {\n        vertical-align: middle;\n    }\n\n    .dataframe tbody tr th {\n        vertical-align: top;\n    }\n\n    .dataframe thead th {\n        text-align: right;\n    }\n</style>\n<table border=\"1\" class=\"dataframe\">\n  <thead>\n    <tr style=\"text-align: right;\">\n      <th></th>\n      <th>Unnamed: 0</th>\n      <th>obj hash</th>\n      <th>name</th>\n      <th>reg num</th>\n      <th>sign date</th>\n      <th>suppliers count</th>\n      <th>st date</th>\n      <th>end date</th>\n      <th>price</th>\n      <th>enforcement</th>\n      <th>amount</th>\n      <th>bg</th>\n    </tr>\n  </thead>\n  <tbody>\n    <tr>\n      <th>0</th>\n      <td>0</td>\n      <td>3793294491059705333</td>\n      <td>contracts_output</td>\n      <td>1010101008321000004</td>\n      <td>2021-09-27</td>\n      <td>1</td>\n      <td>2021-09-27</td>\n      <td>2021-12-31</td>\n      <td>500000.00</td>\n      <td>1</td>\n      <td>25000.00</td>\n      <td>0.050000</td>\n    </tr>\n    <tr>\n      <th>1</th>\n      <td>1</td>\n      <td>-4348589201702449915</td>\n      <td>contracts_output</td>\n      <td>1010400570119000014</td>\n      <td>2019-08-08</td>\n      <td>1</td>\n      <td>2021-01-01</td>\n      <td>2021-12-31</td>\n      <td>933718.40</td>\n      <td>1</td>\n      <td>373500.00</td>\n      <td>0.400014</td>\n    </tr>\n    <tr>\n      <th>2</th>\n      <td>2</td>\n      <td>7104910193783858246</td>\n      <td>contracts_output</td>\n      <td>1010400570119000016</td>\n      <td>2019-09-03</td>\n      <td>1</td>\n      <td>2021-01-01</td>\n      <td>2021-12-31</td>\n      <td>125125.25</td>\n      <td>0</td>\n      <td>6256.26</td>\n      <td>0.050000</td>\n    </tr>\n    <tr>\n      <th>3</th>\n      <td>3</td>\n      <td>-1585908082334183978</td>\n      <td>contracts_output</td>\n      <td>1010400570119000027</td>\n      <td>2019-09-24</td>\n      <td>1</td>\n      <td>2021-01-01</td>\n      <td>2021-12-31</td>\n      <td>355169.38</td>\n      <td>1</td>\n      <td>19878.00</td>\n      <td>0.055968</td>\n    </tr>\n    <tr>\n      <th>4</th>\n      <td>4</td>\n      <td>-3961364508861951295</td>\n      <td>contracts_output</td>\n      <td>1010400570119000027</td>\n      <td>2019-09-24</td>\n      <td>1</td>\n      <td>2021-01-01</td>\n      <td>2021-12-31</td>\n      <td>388020.88</td>\n      <td>1</td>\n      <td>19878.00</td>\n      <td>0.051229</td>\n    </tr>\n    <tr>\n      <th>...</th>\n      <td>...</td>\n      <td>...</td>\n      <td>...</td>\n      <td>...</td>\n      <td>...</td>\n      <td>...</td>\n      <td>...</td>\n      <td>...</td>\n      <td>...</td>\n      <td>...</td>\n      <td>...</td>\n      <td>...</td>\n    </tr>\n    <tr>\n      <th>95</th>\n      <td>95</td>\n      <td>-7225163988810488269</td>\n      <td>contracts_output</td>\n      <td>1010501691421000032</td>\n      <td>2021-03-30</td>\n      <td>1</td>\n      <td>2021-03-30</td>\n      <td>2021-12-01</td>\n      <td>121091.46</td>\n      <td>0</td>\n      <td>36509.99</td>\n      <td>0.301508</td>\n    </tr>\n    <tr>\n      <th>96</th>\n      <td>96</td>\n      <td>3444059651121947372</td>\n      <td>contracts_output</td>\n      <td>1010501691421000034</td>\n      <td>2021-04-05</td>\n      <td>1</td>\n      <td>2021-04-05</td>\n      <td>2021-09-30</td>\n      <td>929631.00</td>\n      <td>1</td>\n      <td>597620.41</td>\n      <td>0.642858</td>\n    </tr>\n    <tr>\n      <th>97</th>\n      <td>97</td>\n      <td>-3364522712682730924</td>\n      <td>contracts_output</td>\n      <td>1010501691421000036</td>\n      <td>2021-04-13</td>\n      <td>1</td>\n      <td>2021-04-13</td>\n      <td>2021-12-01</td>\n      <td>9183.33</td>\n      <td>0</td>\n      <td>2755.00</td>\n      <td>0.300000</td>\n    </tr>\n    <tr>\n      <th>98</th>\n      <td>98</td>\n      <td>2228551905017172812</td>\n      <td>contracts_output</td>\n      <td>1010501691421000037</td>\n      <td>2021-04-13</td>\n      <td>1</td>\n      <td>2021-04-13</td>\n      <td>2021-12-01</td>\n      <td>3309.16</td>\n      <td>0</td>\n      <td>992.75</td>\n      <td>0.300001</td>\n    </tr>\n    <tr>\n      <th>99</th>\n      <td>99</td>\n      <td>421385556509788594</td>\n      <td>contracts_output</td>\n      <td>1010501691421000039</td>\n      <td>2021-04-27</td>\n      <td>1</td>\n      <td>2021-04-27</td>\n      <td>2021-12-01</td>\n      <td>510436.00</td>\n      <td>1</td>\n      <td>153130.80</td>\n      <td>0.300000</td>\n    </tr>\n  </tbody>\n</table>\n<p>100 rows × 12 columns</p>\n</div>"
     },
     "execution_count": 57,
     "metadata": {},
     "output_type": "execute_result"
    }
   ],
   "source": [
    "data = data.drop_duplicates()[:100]\n",
    "data"
   ],
   "metadata": {
    "collapsed": false
   }
  },
  {
   "cell_type": "code",
   "execution_count": 58,
   "outputs": [
    {
     "data": {
      "text/plain": "    Unnamed: 0             obj hash              name              reg num  \\\n0            0  3793294491059705333  contracts_output  1010101008321000004   \n1            1 -4348589201702449915  contracts_output  1010400570119000014   \n2            2  7104910193783858246  contracts_output  1010400570119000016   \n3            3 -1585908082334183978  contracts_output  1010400570119000027   \n4            4 -3961364508861951295  contracts_output  1010400570119000027   \n..         ...                  ...               ...                  ...   \n95          95 -7225163988810488269  contracts_output  1010501691421000032   \n96          96  3444059651121947372  contracts_output  1010501691421000034   \n97          97 -3364522712682730924  contracts_output  1010501691421000036   \n98          98  2228551905017172812  contracts_output  1010501691421000037   \n99          99   421385556509788594  contracts_output  1010501691421000039   \n\n     sign date  suppliers count     st date    end date      price  \\\n0   2021-09-27                1  2021-09-27  2021-12-31  500000.00   \n1   2019-08-08                1  2021-01-01  2021-12-31  933718.40   \n2   2019-09-03                1  2021-01-01  2021-12-31  125125.25   \n3   2019-09-24                1  2021-01-01  2021-12-31  355169.38   \n4   2019-09-24                1  2021-01-01  2021-12-31  388020.88   \n..         ...              ...         ...         ...        ...   \n95  2021-03-30                1  2021-03-30  2021-12-01  121091.46   \n96  2021-04-05                1  2021-04-05  2021-09-30  929631.00   \n97  2021-04-13                1  2021-04-13  2021-12-01    9183.33   \n98  2021-04-13                1  2021-04-13  2021-12-01    3309.16   \n99  2021-04-27                1  2021-04-27  2021-12-01  510436.00   \n\n    enforcement     amount        bg  \n0             1   25000.00  0.050000  \n1             1  373500.00  0.400014  \n2             0    6256.26  0.050000  \n3             1   19878.00  0.055968  \n4             1   19878.00  0.051229  \n..          ...        ...       ...  \n95            0   36509.99  0.301508  \n96            1  597620.41  0.642858  \n97            0    2755.00  0.300000  \n98            0     992.75  0.300001  \n99            1  153130.80  0.300000  \n\n[100 rows x 12 columns]",
      "text/html": "<div>\n<style scoped>\n    .dataframe tbody tr th:only-of-type {\n        vertical-align: middle;\n    }\n\n    .dataframe tbody tr th {\n        vertical-align: top;\n    }\n\n    .dataframe thead th {\n        text-align: right;\n    }\n</style>\n<table border=\"1\" class=\"dataframe\">\n  <thead>\n    <tr style=\"text-align: right;\">\n      <th></th>\n      <th>Unnamed: 0</th>\n      <th>obj hash</th>\n      <th>name</th>\n      <th>reg num</th>\n      <th>sign date</th>\n      <th>suppliers count</th>\n      <th>st date</th>\n      <th>end date</th>\n      <th>price</th>\n      <th>enforcement</th>\n      <th>amount</th>\n      <th>bg</th>\n    </tr>\n  </thead>\n  <tbody>\n    <tr>\n      <th>0</th>\n      <td>0</td>\n      <td>3793294491059705333</td>\n      <td>contracts_output</td>\n      <td>1010101008321000004</td>\n      <td>2021-09-27</td>\n      <td>1</td>\n      <td>2021-09-27</td>\n      <td>2021-12-31</td>\n      <td>500000.00</td>\n      <td>1</td>\n      <td>25000.00</td>\n      <td>0.050000</td>\n    </tr>\n    <tr>\n      <th>1</th>\n      <td>1</td>\n      <td>-4348589201702449915</td>\n      <td>contracts_output</td>\n      <td>1010400570119000014</td>\n      <td>2019-08-08</td>\n      <td>1</td>\n      <td>2021-01-01</td>\n      <td>2021-12-31</td>\n      <td>933718.40</td>\n      <td>1</td>\n      <td>373500.00</td>\n      <td>0.400014</td>\n    </tr>\n    <tr>\n      <th>2</th>\n      <td>2</td>\n      <td>7104910193783858246</td>\n      <td>contracts_output</td>\n      <td>1010400570119000016</td>\n      <td>2019-09-03</td>\n      <td>1</td>\n      <td>2021-01-01</td>\n      <td>2021-12-31</td>\n      <td>125125.25</td>\n      <td>0</td>\n      <td>6256.26</td>\n      <td>0.050000</td>\n    </tr>\n    <tr>\n      <th>3</th>\n      <td>3</td>\n      <td>-1585908082334183978</td>\n      <td>contracts_output</td>\n      <td>1010400570119000027</td>\n      <td>2019-09-24</td>\n      <td>1</td>\n      <td>2021-01-01</td>\n      <td>2021-12-31</td>\n      <td>355169.38</td>\n      <td>1</td>\n      <td>19878.00</td>\n      <td>0.055968</td>\n    </tr>\n    <tr>\n      <th>4</th>\n      <td>4</td>\n      <td>-3961364508861951295</td>\n      <td>contracts_output</td>\n      <td>1010400570119000027</td>\n      <td>2019-09-24</td>\n      <td>1</td>\n      <td>2021-01-01</td>\n      <td>2021-12-31</td>\n      <td>388020.88</td>\n      <td>1</td>\n      <td>19878.00</td>\n      <td>0.051229</td>\n    </tr>\n    <tr>\n      <th>...</th>\n      <td>...</td>\n      <td>...</td>\n      <td>...</td>\n      <td>...</td>\n      <td>...</td>\n      <td>...</td>\n      <td>...</td>\n      <td>...</td>\n      <td>...</td>\n      <td>...</td>\n      <td>...</td>\n      <td>...</td>\n    </tr>\n    <tr>\n      <th>95</th>\n      <td>95</td>\n      <td>-7225163988810488269</td>\n      <td>contracts_output</td>\n      <td>1010501691421000032</td>\n      <td>2021-03-30</td>\n      <td>1</td>\n      <td>2021-03-30</td>\n      <td>2021-12-01</td>\n      <td>121091.46</td>\n      <td>0</td>\n      <td>36509.99</td>\n      <td>0.301508</td>\n    </tr>\n    <tr>\n      <th>96</th>\n      <td>96</td>\n      <td>3444059651121947372</td>\n      <td>contracts_output</td>\n      <td>1010501691421000034</td>\n      <td>2021-04-05</td>\n      <td>1</td>\n      <td>2021-04-05</td>\n      <td>2021-09-30</td>\n      <td>929631.00</td>\n      <td>1</td>\n      <td>597620.41</td>\n      <td>0.642858</td>\n    </tr>\n    <tr>\n      <th>97</th>\n      <td>97</td>\n      <td>-3364522712682730924</td>\n      <td>contracts_output</td>\n      <td>1010501691421000036</td>\n      <td>2021-04-13</td>\n      <td>1</td>\n      <td>2021-04-13</td>\n      <td>2021-12-01</td>\n      <td>9183.33</td>\n      <td>0</td>\n      <td>2755.00</td>\n      <td>0.300000</td>\n    </tr>\n    <tr>\n      <th>98</th>\n      <td>98</td>\n      <td>2228551905017172812</td>\n      <td>contracts_output</td>\n      <td>1010501691421000037</td>\n      <td>2021-04-13</td>\n      <td>1</td>\n      <td>2021-04-13</td>\n      <td>2021-12-01</td>\n      <td>3309.16</td>\n      <td>0</td>\n      <td>992.75</td>\n      <td>0.300001</td>\n    </tr>\n    <tr>\n      <th>99</th>\n      <td>99</td>\n      <td>421385556509788594</td>\n      <td>contracts_output</td>\n      <td>1010501691421000039</td>\n      <td>2021-04-27</td>\n      <td>1</td>\n      <td>2021-04-27</td>\n      <td>2021-12-01</td>\n      <td>510436.00</td>\n      <td>1</td>\n      <td>153130.80</td>\n      <td>0.300000</td>\n    </tr>\n  </tbody>\n</table>\n<p>100 rows × 12 columns</p>\n</div>"
     },
     "execution_count": 58,
     "metadata": {},
     "output_type": "execute_result"
    }
   ],
   "source": [
    "data = data[data.bg <= 1]\n",
    "data"
   ],
   "metadata": {
    "collapsed": false
   }
  },
  {
   "cell_type": "code",
   "execution_count": null,
   "outputs": [],
   "source": [
    "data.tail()"
   ],
   "metadata": {
    "collapsed": false
   }
  },
  {
   "cell_type": "code",
   "execution_count": 76,
   "outputs": [],
   "source": [
    "data['st date'] = data['st date'].astype('datetime64[ns]')\n",
    "data['end date'] = data['end date'].astype('datetime64[ns]')"
   ],
   "metadata": {
    "collapsed": false
   }
  },
  {
   "cell_type": "code",
   "execution_count": 77,
   "outputs": [],
   "source": [
    "date_list = pd.date_range('01.01.2019', '01.01.2023', freq='M')"
   ],
   "metadata": {
    "collapsed": false
   }
  },
  {
   "cell_type": "code",
   "execution_count": 78,
   "outputs": [
    {
     "data": {
      "text/plain": "DatetimeIndex(['2019-01-31', '2019-02-28', '2019-03-31', '2019-04-30',\n               '2019-05-31', '2019-06-30', '2019-07-31', '2019-08-31',\n               '2019-09-30', '2019-10-31', '2019-11-30', '2019-12-31',\n               '2020-01-31', '2020-02-29', '2020-03-31', '2020-04-30',\n               '2020-05-31', '2020-06-30', '2020-07-31', '2020-08-31',\n               '2020-09-30', '2020-10-31', '2020-11-30', '2020-12-31',\n               '2021-01-31', '2021-02-28', '2021-03-31', '2021-04-30',\n               '2021-05-31', '2021-06-30', '2021-07-31', '2021-08-31',\n               '2021-09-30', '2021-10-31', '2021-11-30', '2021-12-31',\n               '2022-01-31', '2022-02-28', '2022-03-31', '2022-04-30',\n               '2022-05-31', '2022-06-30', '2022-07-31', '2022-08-31',\n               '2022-09-30', '2022-10-31', '2022-11-30', '2022-12-31'],\n              dtype='datetime64[ns]', freq='M')"
     },
     "execution_count": 78,
     "metadata": {},
     "output_type": "execute_result"
    }
   ],
   "source": [
    "date_list"
   ],
   "metadata": {
    "collapsed": false
   }
  },
  {
   "cell_type": "code",
   "execution_count": 79,
   "outputs": [],
   "source": [
    "t = (data.iloc[1])"
   ],
   "metadata": {
    "collapsed": false
   }
  },
  {
   "cell_type": "code",
   "execution_count": 107,
   "outputs": [
    {
     "data": {
      "text/plain": "373500.0"
     },
     "execution_count": 107,
     "metadata": {},
     "output_type": "execute_result"
    }
   ],
   "source": [
    "t['amount']"
   ],
   "metadata": {
    "collapsed": false
   }
  },
  {
   "cell_type": "code",
   "execution_count": 108,
   "outputs": [],
   "source": [
    "d = list(map(lambda x: datetime.datetime(2019,6,25)<= x<= datetime.datetime(2021,12,31),date_list))"
   ],
   "metadata": {
    "collapsed": false
   }
  },
  {
   "cell_type": "code",
   "execution_count": 109,
   "outputs": [],
   "source": [
    "def check(st, end):\n",
    "    return list(map(lambda x: st<= x <= end, date_list))"
   ],
   "metadata": {
    "collapsed": false
   }
  },
  {
   "cell_type": "code",
   "execution_count": 110,
   "outputs": [],
   "source": [
    "t_arr = np.zeros(len(date_list))"
   ],
   "metadata": {
    "collapsed": false
   }
  },
  {
   "cell_type": "code",
   "execution_count": 111,
   "outputs": [
    {
     "data": {
      "text/plain": "array([0., 0., 0., 0., 0., 0., 0., 0., 0., 0., 0., 0., 0., 0., 0., 0., 0.,\n       0., 0., 0., 0., 0., 0., 0., 0., 0., 0., 0., 0., 0., 0., 0., 0., 0.,\n       0., 0., 0., 0., 0., 0., 0., 0., 0., 0., 0., 0., 0., 0.])"
     },
     "execution_count": 111,
     "metadata": {},
     "output_type": "execute_result"
    }
   ],
   "source": [
    "t_arr"
   ],
   "metadata": {
    "collapsed": false
   }
  },
  {
   "cell_type": "code",
   "execution_count": 113,
   "outputs": [],
   "source": [
    "for r in data.iterrows():\n",
    "    t_arr+=np.array(check(r[1]['st date'], r[1]['end date'])) * r[1]['amount']"
   ],
   "metadata": {
    "collapsed": false
   }
  },
  {
   "cell_type": "code",
   "execution_count": 114,
   "outputs": [
    {
     "data": {
      "text/plain": "array([       0.        ,        0.        ,        0.        ,\n              0.        ,        0.        ,        0.        ,\n              0.        ,        0.        ,        0.        ,\n              0.        ,        0.        ,        0.        ,\n              0.        ,        0.        ,        0.        ,\n              0.        ,        0.        ,        0.        ,\n              0.        ,        0.        ,        0.        ,\n              0.        ,  6344689.63      , 16313096.98      ,\n       16752487.24      , 16909572.78      , 17412264.63      ,\n       18419243.18      , 17757868.46      , 17305918.44000001,\n       17957601.09      , 17964412.74      ,  8134818.28      ,\n        4215745.81      ,  4278976.29      ,  3527067.95      ,\n        1007022.9       ,   834572.46      ,   645189.39      ,\n         645189.39      ,   580610.57      ,   437693.91      ,\n         437693.91      ,   437693.91      ,   437693.91      ,\n         437693.91      ,   368644.94      ,   368644.94      ])"
     },
     "execution_count": 114,
     "metadata": {},
     "output_type": "execute_result"
    }
   ],
   "source": [
    "t_arr"
   ],
   "metadata": {
    "collapsed": false
   }
  },
  {
   "cell_type": "code",
   "execution_count": 106,
   "outputs": [
    {
     "data": {
      "text/plain": "array([       0.,        0.,        0.,        0.,        0.,        0.,\n              0.,        0.,        0.,        0.,        0.,        0.,\n              0.,        0.,        0.,        0.,        0.,        0.,\n              0.,        0.,        0.,        0.,  6344690., 16313097.,\n       16752487., 16909573., 17412265., 18419243., 17757868., 17305918.,\n       17957601., 17964413.,  8134818.,  4215746.,  4278976.,  3527068.,\n        1007023.,   834572.,   645189.,   645189.,   580611.,   437694.,\n         437694.,   437694.,   437694.,   437694.,   368645.,   368645.])"
     },
     "execution_count": 106,
     "metadata": {},
     "output_type": "execute_result"
    }
   ],
   "source": [
    "np.round(t_arr)"
   ],
   "metadata": {
    "collapsed": false
   }
  },
  {
   "cell_type": "code",
   "execution_count": 90,
   "outputs": [],
   "source": [
    "import matplotlib.pyplot as plt"
   ],
   "metadata": {
    "collapsed": false
   }
  },
  {
   "cell_type": "code",
   "execution_count": null,
   "outputs": [],
   "source": [],
   "metadata": {
    "collapsed": false
   }
  }
 ],
 "metadata": {
  "kernelspec": {
   "display_name": "Python 3",
   "language": "python",
   "name": "python3"
  },
  "language_info": {
   "codemirror_mode": {
    "name": "ipython",
    "version": 2
   },
   "file_extension": ".py",
   "mimetype": "text/x-python",
   "name": "python",
   "nbconvert_exporter": "python",
   "pygments_lexer": "ipython2",
   "version": "2.7.6"
  }
 },
 "nbformat": 4,
 "nbformat_minor": 0
}
