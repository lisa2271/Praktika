{
 "cells": [
  {
   "cell_type": "code",
   "execution_count": 226,
   "metadata": {
    "collapsed": true
   },
   "outputs": [],
   "source": [
    "import numpy as np\n",
    "import pandas as pd\n",
    "import os\n",
    "import datetime"
   ]
  },
  {
   "cell_type": "code",
   "execution_count": 227,
   "outputs": [],
   "source": [
    "files = os.listdir('C:\\\\Users\\\\gosti\\\\Downloads\\\\Telegram Desktop\\\\results\\\\results')"
   ],
   "metadata": {
    "collapsed": false
   }
  },
  {
   "cell_type": "code",
   "execution_count": 228,
   "outputs": [],
   "source": [
    "dfs = []\n",
    "for f in files:\n",
    "    df1 = pd.read_csv('C:\\\\Users\\\\gosti\\\\Downloads\\\\Telegram Desktop\\\\results\\\\results\\\\Adygeja_Resp_2022-03-20.csv', encoding = 'utf-8')\n",
    "    dfs.append(df1)"
   ],
   "metadata": {
    "collapsed": false
   }
  },
  {
   "cell_type": "code",
   "execution_count": 229,
   "outputs": [],
   "source": [
    "data = pd.concat(dfs)"
   ],
   "metadata": {
    "collapsed": false
   }
  },
  {
   "cell_type": "code",
   "execution_count": 230,
   "outputs": [
    {
     "data": {
      "text/plain": "                       Unnamed: 0  Январь 2019  Февраль 2019  Март 2019  \\\n0            РОССИЙСКАЯ ФЕДЕРАЦИЯ      3202534       3504045    4174296   \n1   ЦЕНТРАЛЬНЫЙ ФЕДЕРАЛЬНЫЙ ОКРУГ      2202020       2361149    2790972   \n2            Белгородская область        10656         13641      22394   \n3                Брянская область         3968          7068      11434   \n4            Владимирская область         6898          6571       8488   \n..                            ...          ...           ...        ...   \n91               Амурская область         3585          3556       6316   \n92            Магаданская область         2708          3056       5254   \n93            Сахалинская область         2723          4131       3855   \n94   Еврейская автономная область          183           162      15079   \n95     Чукотский автономный округ          522           424        965   \n\n    Апрель 2019  Май 2019  Июнь 2019  Июль 2019  Август 2019  Сентябрь 2019  \\\n0       4637280   3345201    4124086    5143083      5062245        5264321   \n1       3049199   2151149    2681735    3624143      3615662        3569935   \n2         33260     15048      16404      23440        21638          32400   \n3          6742      6153      10049       8571         8093           8299   \n4          9735      9273      10299      12018        14054          12856   \n..          ...       ...        ...        ...          ...            ...   \n91         6126      6516       4082       5418         3189           4837   \n92         4551      1869       5002       4550         4884           9568   \n93        12035      5664       4092       5864         4025           8775   \n94          596       672        183        441          207            272   \n95         1026       496        354       1671         2662            265   \n\n    ...  Октябрь 2021  Ноябрь 2021  Декабрь 2021  Январь 2022  Февраль 2022  \\\n0   ...       7414571      6982998       9160939      5399672       6370846   \n1   ...       5221385      5060629       6416921      3846772       4306586   \n2   ...         30885        32346         29733        21701         27127   \n3   ...         12103        13204         12104         7712         10633   \n4   ...         14354        15666         16622        10490         19408   \n..  ...           ...          ...           ...          ...           ...   \n91  ...         12191        10364        124977        18669         32695   \n92  ...          7156         5385          8156         4188          6608   \n93  ...          5815         3842          6952         4051         10392   \n94  ...           547          326           797          188           367   \n95  ...           263          387           598          787           176   \n\n    Март 2022  Апрель 2022  Май 2022  Июнь 2022  Июль 2022  \n0     5318699      4768289   3932303    5209410    4874474  \n1     3412877      2843099   2393340    3238339    3084991  \n2       34418        38343     61199      37831      18814  \n3       11670        14354     11741       9777       9017  \n4       14412        14385     14773      12162      11735  \n..        ...          ...       ...        ...        ...  \n91       7322         5921      4359      31936       4607  \n92       8787         8179     10366       5201       5641  \n93       3244         4797      4908       5760      13035  \n94        375          314       305        229        184  \n95        100          484      1042       3121       3596  \n\n[96 rows x 44 columns]",
      "text/html": "<div>\n<style scoped>\n    .dataframe tbody tr th:only-of-type {\n        vertical-align: middle;\n    }\n\n    .dataframe tbody tr th {\n        vertical-align: top;\n    }\n\n    .dataframe thead th {\n        text-align: right;\n    }\n</style>\n<table border=\"1\" class=\"dataframe\">\n  <thead>\n    <tr style=\"text-align: right;\">\n      <th></th>\n      <th>Unnamed: 0</th>\n      <th>Январь 2019</th>\n      <th>Февраль 2019</th>\n      <th>Март 2019</th>\n      <th>Апрель 2019</th>\n      <th>Май 2019</th>\n      <th>Июнь 2019</th>\n      <th>Июль 2019</th>\n      <th>Август 2019</th>\n      <th>Сентябрь 2019</th>\n      <th>...</th>\n      <th>Октябрь 2021</th>\n      <th>Ноябрь 2021</th>\n      <th>Декабрь 2021</th>\n      <th>Январь 2022</th>\n      <th>Февраль 2022</th>\n      <th>Март 2022</th>\n      <th>Апрель 2022</th>\n      <th>Май 2022</th>\n      <th>Июнь 2022</th>\n      <th>Июль 2022</th>\n    </tr>\n  </thead>\n  <tbody>\n    <tr>\n      <th>0</th>\n      <td>РОССИЙСКАЯ ФЕДЕРАЦИЯ</td>\n      <td>3202534</td>\n      <td>3504045</td>\n      <td>4174296</td>\n      <td>4637280</td>\n      <td>3345201</td>\n      <td>4124086</td>\n      <td>5143083</td>\n      <td>5062245</td>\n      <td>5264321</td>\n      <td>...</td>\n      <td>7414571</td>\n      <td>6982998</td>\n      <td>9160939</td>\n      <td>5399672</td>\n      <td>6370846</td>\n      <td>5318699</td>\n      <td>4768289</td>\n      <td>3932303</td>\n      <td>5209410</td>\n      <td>4874474</td>\n    </tr>\n    <tr>\n      <th>1</th>\n      <td>ЦЕНТРАЛЬНЫЙ ФЕДЕРАЛЬНЫЙ ОКРУГ</td>\n      <td>2202020</td>\n      <td>2361149</td>\n      <td>2790972</td>\n      <td>3049199</td>\n      <td>2151149</td>\n      <td>2681735</td>\n      <td>3624143</td>\n      <td>3615662</td>\n      <td>3569935</td>\n      <td>...</td>\n      <td>5221385</td>\n      <td>5060629</td>\n      <td>6416921</td>\n      <td>3846772</td>\n      <td>4306586</td>\n      <td>3412877</td>\n      <td>2843099</td>\n      <td>2393340</td>\n      <td>3238339</td>\n      <td>3084991</td>\n    </tr>\n    <tr>\n      <th>2</th>\n      <td>Белгородская область</td>\n      <td>10656</td>\n      <td>13641</td>\n      <td>22394</td>\n      <td>33260</td>\n      <td>15048</td>\n      <td>16404</td>\n      <td>23440</td>\n      <td>21638</td>\n      <td>32400</td>\n      <td>...</td>\n      <td>30885</td>\n      <td>32346</td>\n      <td>29733</td>\n      <td>21701</td>\n      <td>27127</td>\n      <td>34418</td>\n      <td>38343</td>\n      <td>61199</td>\n      <td>37831</td>\n      <td>18814</td>\n    </tr>\n    <tr>\n      <th>3</th>\n      <td>Брянская область</td>\n      <td>3968</td>\n      <td>7068</td>\n      <td>11434</td>\n      <td>6742</td>\n      <td>6153</td>\n      <td>10049</td>\n      <td>8571</td>\n      <td>8093</td>\n      <td>8299</td>\n      <td>...</td>\n      <td>12103</td>\n      <td>13204</td>\n      <td>12104</td>\n      <td>7712</td>\n      <td>10633</td>\n      <td>11670</td>\n      <td>14354</td>\n      <td>11741</td>\n      <td>9777</td>\n      <td>9017</td>\n    </tr>\n    <tr>\n      <th>4</th>\n      <td>Владимирская область</td>\n      <td>6898</td>\n      <td>6571</td>\n      <td>8488</td>\n      <td>9735</td>\n      <td>9273</td>\n      <td>10299</td>\n      <td>12018</td>\n      <td>14054</td>\n      <td>12856</td>\n      <td>...</td>\n      <td>14354</td>\n      <td>15666</td>\n      <td>16622</td>\n      <td>10490</td>\n      <td>19408</td>\n      <td>14412</td>\n      <td>14385</td>\n      <td>14773</td>\n      <td>12162</td>\n      <td>11735</td>\n    </tr>\n    <tr>\n      <th>...</th>\n      <td>...</td>\n      <td>...</td>\n      <td>...</td>\n      <td>...</td>\n      <td>...</td>\n      <td>...</td>\n      <td>...</td>\n      <td>...</td>\n      <td>...</td>\n      <td>...</td>\n      <td>...</td>\n      <td>...</td>\n      <td>...</td>\n      <td>...</td>\n      <td>...</td>\n      <td>...</td>\n      <td>...</td>\n      <td>...</td>\n      <td>...</td>\n      <td>...</td>\n      <td>...</td>\n    </tr>\n    <tr>\n      <th>91</th>\n      <td>Амурская область</td>\n      <td>3585</td>\n      <td>3556</td>\n      <td>6316</td>\n      <td>6126</td>\n      <td>6516</td>\n      <td>4082</td>\n      <td>5418</td>\n      <td>3189</td>\n      <td>4837</td>\n      <td>...</td>\n      <td>12191</td>\n      <td>10364</td>\n      <td>124977</td>\n      <td>18669</td>\n      <td>32695</td>\n      <td>7322</td>\n      <td>5921</td>\n      <td>4359</td>\n      <td>31936</td>\n      <td>4607</td>\n    </tr>\n    <tr>\n      <th>92</th>\n      <td>Магаданская область</td>\n      <td>2708</td>\n      <td>3056</td>\n      <td>5254</td>\n      <td>4551</td>\n      <td>1869</td>\n      <td>5002</td>\n      <td>4550</td>\n      <td>4884</td>\n      <td>9568</td>\n      <td>...</td>\n      <td>7156</td>\n      <td>5385</td>\n      <td>8156</td>\n      <td>4188</td>\n      <td>6608</td>\n      <td>8787</td>\n      <td>8179</td>\n      <td>10366</td>\n      <td>5201</td>\n      <td>5641</td>\n    </tr>\n    <tr>\n      <th>93</th>\n      <td>Сахалинская область</td>\n      <td>2723</td>\n      <td>4131</td>\n      <td>3855</td>\n      <td>12035</td>\n      <td>5664</td>\n      <td>4092</td>\n      <td>5864</td>\n      <td>4025</td>\n      <td>8775</td>\n      <td>...</td>\n      <td>5815</td>\n      <td>3842</td>\n      <td>6952</td>\n      <td>4051</td>\n      <td>10392</td>\n      <td>3244</td>\n      <td>4797</td>\n      <td>4908</td>\n      <td>5760</td>\n      <td>13035</td>\n    </tr>\n    <tr>\n      <th>94</th>\n      <td>Еврейская автономная область</td>\n      <td>183</td>\n      <td>162</td>\n      <td>15079</td>\n      <td>596</td>\n      <td>672</td>\n      <td>183</td>\n      <td>441</td>\n      <td>207</td>\n      <td>272</td>\n      <td>...</td>\n      <td>547</td>\n      <td>326</td>\n      <td>797</td>\n      <td>188</td>\n      <td>367</td>\n      <td>375</td>\n      <td>314</td>\n      <td>305</td>\n      <td>229</td>\n      <td>184</td>\n    </tr>\n    <tr>\n      <th>95</th>\n      <td>Чукотский автономный округ</td>\n      <td>522</td>\n      <td>424</td>\n      <td>965</td>\n      <td>1026</td>\n      <td>496</td>\n      <td>354</td>\n      <td>1671</td>\n      <td>2662</td>\n      <td>265</td>\n      <td>...</td>\n      <td>263</td>\n      <td>387</td>\n      <td>598</td>\n      <td>787</td>\n      <td>176</td>\n      <td>100</td>\n      <td>484</td>\n      <td>1042</td>\n      <td>3121</td>\n      <td>3596</td>\n    </tr>\n  </tbody>\n</table>\n<p>96 rows × 44 columns</p>\n</div>"
     },
     "execution_count": 230,
     "metadata": {},
     "output_type": "execute_result"
    }
   ],
   "source": [
    "results = pd.read_excel(r'C:\\\\Users\\\\gosti\\\\Downloads\\\\Telegram Desktop\\\\01_04_D_New_loans_subj.xlsx', sheet_name='итого', header=1)\n",
    "results"
   ],
   "metadata": {
    "collapsed": false
   }
  },
  {
   "cell_type": "code",
   "execution_count": 231,
   "outputs": [
    {
     "data": {
      "text/plain": "Index(['Unnamed: 0', 'Январь 2019', 'Февраль 2019', 'Март 2019', 'Апрель 2019',\n       'Май 2019', 'Июнь 2019', 'Июль 2019', 'Август 2019', 'Сентябрь 2019',\n       'Октябрь 2019', 'Ноябрь 2019', 'Декабрь 2019', 'Январь 2020',\n       'Февраль 2020', 'Март 2020', 'Апрель 2020', 'Май 2020', 'Июнь 2020',\n       'Июль 2020', 'Август 2020', 'Сентябрь 2020', 'Октябрь 2020',\n       'Ноябрь 2020', 'Декабрь 2020', 'Январь 2021', 'Февраль 2021',\n       'Март 2021', 'Апрель 2021', 'Май 2021', 'Июнь 2021', 'Июль 2021',\n       'Август 2021', 'Сентябрь 2021', 'Октябрь 2021', 'Ноябрь 2021',\n       'Декабрь 2021', 'Январь 2022', 'Февраль 2022', 'Март 2022',\n       'Апрель 2022', 'Май 2022', 'Июнь 2022', 'Июль 2022'],\n      dtype='object')"
     },
     "execution_count": 231,
     "metadata": {},
     "output_type": "execute_result"
    }
   ],
   "source": [
    "results.iloc[1].index"
   ],
   "metadata": {
    "collapsed": false
   }
  },
  {
   "cell_type": "code",
   "execution_count": 232,
   "outputs": [
    {
     "data": {
      "text/plain": "   Unnamed: 0             obj hash              name              reg num  \\\n0           0  3793294491059705333  contracts_output  1010101008321000004   \n1           1 -4348589201702449915  contracts_output  1010400570119000014   \n2           2  7104910193783858246  contracts_output  1010400570119000016   \n3           3 -1585908082334183978  contracts_output  1010400570119000027   \n4           4 -3961364508861951295  contracts_output  1010400570119000027   \n\n   customer inn   sign date  suppliers count  supplier inn     st date  \\\n0     101010083  2021-09-27                1  1.052336e+10  2021-09-27   \n1     104005701  2019-08-08                1  1.050111e+10  2021-01-01   \n2     104005701  2019-09-03                1  1.050530e+08  2021-01-01   \n3     104005701  2019-09-24                1  2.312263e+09  2021-01-01   \n4     104005701  2019-09-24                1  2.312263e+09  2021-01-01   \n\n     end date      price  enforcement     amount  \\\n0  2021-12-31  500000.00            1   25000.00   \n1  2021-12-31  933718.40            1  373500.00   \n2  2021-12-31  125125.25            0    6256.26   \n3  2021-12-31  355169.38            1   19878.00   \n4  2021-12-31  388020.88            1   19878.00   \n\n                                                 doc protocol date  \n0  Протокол рассмотрения единственной заявки на у...    2021-09-14  \n1  Протокол подведения итогов электронного аукцио...    2019-07-26  \n2  Протокол подведения итогов электронного аукцио...    2019-08-22  \n3  Протокол подведения итогов электронного аукцио...    2019-09-12  \n4  Протокол подведения итогов электронного аукцио...    2019-09-12  ",
      "text/html": "<div>\n<style scoped>\n    .dataframe tbody tr th:only-of-type {\n        vertical-align: middle;\n    }\n\n    .dataframe tbody tr th {\n        vertical-align: top;\n    }\n\n    .dataframe thead th {\n        text-align: right;\n    }\n</style>\n<table border=\"1\" class=\"dataframe\">\n  <thead>\n    <tr style=\"text-align: right;\">\n      <th></th>\n      <th>Unnamed: 0</th>\n      <th>obj hash</th>\n      <th>name</th>\n      <th>reg num</th>\n      <th>customer inn</th>\n      <th>sign date</th>\n      <th>suppliers count</th>\n      <th>supplier inn</th>\n      <th>st date</th>\n      <th>end date</th>\n      <th>price</th>\n      <th>enforcement</th>\n      <th>amount</th>\n      <th>doc</th>\n      <th>protocol date</th>\n    </tr>\n  </thead>\n  <tbody>\n    <tr>\n      <th>0</th>\n      <td>0</td>\n      <td>3793294491059705333</td>\n      <td>contracts_output</td>\n      <td>1010101008321000004</td>\n      <td>101010083</td>\n      <td>2021-09-27</td>\n      <td>1</td>\n      <td>1.052336e+10</td>\n      <td>2021-09-27</td>\n      <td>2021-12-31</td>\n      <td>500000.00</td>\n      <td>1</td>\n      <td>25000.00</td>\n      <td>Протокол рассмотрения единственной заявки на у...</td>\n      <td>2021-09-14</td>\n    </tr>\n    <tr>\n      <th>1</th>\n      <td>1</td>\n      <td>-4348589201702449915</td>\n      <td>contracts_output</td>\n      <td>1010400570119000014</td>\n      <td>104005701</td>\n      <td>2019-08-08</td>\n      <td>1</td>\n      <td>1.050111e+10</td>\n      <td>2021-01-01</td>\n      <td>2021-12-31</td>\n      <td>933718.40</td>\n      <td>1</td>\n      <td>373500.00</td>\n      <td>Протокол подведения итогов электронного аукцио...</td>\n      <td>2019-07-26</td>\n    </tr>\n    <tr>\n      <th>2</th>\n      <td>2</td>\n      <td>7104910193783858246</td>\n      <td>contracts_output</td>\n      <td>1010400570119000016</td>\n      <td>104005701</td>\n      <td>2019-09-03</td>\n      <td>1</td>\n      <td>1.050530e+08</td>\n      <td>2021-01-01</td>\n      <td>2021-12-31</td>\n      <td>125125.25</td>\n      <td>0</td>\n      <td>6256.26</td>\n      <td>Протокол подведения итогов электронного аукцио...</td>\n      <td>2019-08-22</td>\n    </tr>\n    <tr>\n      <th>3</th>\n      <td>3</td>\n      <td>-1585908082334183978</td>\n      <td>contracts_output</td>\n      <td>1010400570119000027</td>\n      <td>104005701</td>\n      <td>2019-09-24</td>\n      <td>1</td>\n      <td>2.312263e+09</td>\n      <td>2021-01-01</td>\n      <td>2021-12-31</td>\n      <td>355169.38</td>\n      <td>1</td>\n      <td>19878.00</td>\n      <td>Протокол подведения итогов электронного аукцио...</td>\n      <td>2019-09-12</td>\n    </tr>\n    <tr>\n      <th>4</th>\n      <td>4</td>\n      <td>-3961364508861951295</td>\n      <td>contracts_output</td>\n      <td>1010400570119000027</td>\n      <td>104005701</td>\n      <td>2019-09-24</td>\n      <td>1</td>\n      <td>2.312263e+09</td>\n      <td>2021-01-01</td>\n      <td>2021-12-31</td>\n      <td>388020.88</td>\n      <td>1</td>\n      <td>19878.00</td>\n      <td>Протокол подведения итогов электронного аукцио...</td>\n      <td>2019-09-12</td>\n    </tr>\n  </tbody>\n</table>\n</div>"
     },
     "execution_count": 232,
     "metadata": {},
     "output_type": "execute_result"
    }
   ],
   "source": [
    "data.head()"
   ],
   "metadata": {
    "collapsed": false
   }
  },
  {
   "cell_type": "code",
   "execution_count": 233,
   "outputs": [],
   "source": [
    "data = data.drop(columns=data[['customer inn', 'supplier inn', 'protocol date', 'doc']])"
   ],
   "metadata": {
    "collapsed": false
   }
  },
  {
   "cell_type": "code",
   "execution_count": 234,
   "outputs": [
    {
     "data": {
      "text/plain": "      Unnamed: 0             obj hash              name              reg num  \\\n0              0  3793294491059705333  contracts_output  1010101008321000004   \n1              1 -4348589201702449915  contracts_output  1010400570119000014   \n2              2  7104910193783858246  contracts_output  1010400570119000016   \n3              3 -1585908082334183978  contracts_output  1010400570119000027   \n4              4 -3961364508861951295  contracts_output  1010400570119000027   \n...          ...                  ...               ...                  ...   \n6359        6359 -4906157625135826188  contracts_output  3010800386421000022   \n6360        6360 -8165939967697628755  contracts_output  3010800386421000022   \n6361        6361  -725861710018253917  contracts_output  3010800386421000025   \n6362        6362 -2881107635711435453  contracts_output  3010800386421000025   \n6363        6363 -1158808855413502250  contracts_output  3010800386422000008   \n\n       sign date  suppliers count     st date    end date       price  \\\n0     2021-09-27                1  2021-09-27  2021-12-31   500000.00   \n1     2019-08-08                1  2021-01-01  2021-12-31   933718.40   \n2     2019-09-03                1  2021-01-01  2021-12-31   125125.25   \n3     2019-09-24                1  2021-01-01  2021-12-31   355169.38   \n4     2019-09-24                1  2021-01-01  2021-12-31   388020.88   \n...          ...              ...         ...         ...         ...   \n6359  2021-10-04                1  2021-10-04  2022-01-31  1452000.00   \n6360  2021-10-04                1  2021-10-04  2022-01-31  1452000.00   \n6361  2021-10-25                1  2021-10-25  2021-12-31   106600.00   \n6362  2021-10-25                1  2021-10-25  2021-12-31   106599.90   \n6363  2022-02-21                1  2022-03-01  2022-07-31   520192.00   \n\n      enforcement     amount        bg  \n0               1   25000.00  0.050000  \n1               1  373500.00  0.400014  \n2               0    6256.26  0.050000  \n3               1   19878.00  0.055968  \n4               1   19878.00  0.051229  \n...           ...        ...       ...  \n6359            0   72600.00  0.050000  \n6360            0   72600.00  0.050000  \n6361            1    5500.00  0.051595  \n6362            1    5500.00  0.051595  \n6363            0   26009.60  0.050000  \n\n[1088244 rows x 12 columns]",
      "text/html": "<div>\n<style scoped>\n    .dataframe tbody tr th:only-of-type {\n        vertical-align: middle;\n    }\n\n    .dataframe tbody tr th {\n        vertical-align: top;\n    }\n\n    .dataframe thead th {\n        text-align: right;\n    }\n</style>\n<table border=\"1\" class=\"dataframe\">\n  <thead>\n    <tr style=\"text-align: right;\">\n      <th></th>\n      <th>Unnamed: 0</th>\n      <th>obj hash</th>\n      <th>name</th>\n      <th>reg num</th>\n      <th>sign date</th>\n      <th>suppliers count</th>\n      <th>st date</th>\n      <th>end date</th>\n      <th>price</th>\n      <th>enforcement</th>\n      <th>amount</th>\n      <th>bg</th>\n    </tr>\n  </thead>\n  <tbody>\n    <tr>\n      <th>0</th>\n      <td>0</td>\n      <td>3793294491059705333</td>\n      <td>contracts_output</td>\n      <td>1010101008321000004</td>\n      <td>2021-09-27</td>\n      <td>1</td>\n      <td>2021-09-27</td>\n      <td>2021-12-31</td>\n      <td>500000.00</td>\n      <td>1</td>\n      <td>25000.00</td>\n      <td>0.050000</td>\n    </tr>\n    <tr>\n      <th>1</th>\n      <td>1</td>\n      <td>-4348589201702449915</td>\n      <td>contracts_output</td>\n      <td>1010400570119000014</td>\n      <td>2019-08-08</td>\n      <td>1</td>\n      <td>2021-01-01</td>\n      <td>2021-12-31</td>\n      <td>933718.40</td>\n      <td>1</td>\n      <td>373500.00</td>\n      <td>0.400014</td>\n    </tr>\n    <tr>\n      <th>2</th>\n      <td>2</td>\n      <td>7104910193783858246</td>\n      <td>contracts_output</td>\n      <td>1010400570119000016</td>\n      <td>2019-09-03</td>\n      <td>1</td>\n      <td>2021-01-01</td>\n      <td>2021-12-31</td>\n      <td>125125.25</td>\n      <td>0</td>\n      <td>6256.26</td>\n      <td>0.050000</td>\n    </tr>\n    <tr>\n      <th>3</th>\n      <td>3</td>\n      <td>-1585908082334183978</td>\n      <td>contracts_output</td>\n      <td>1010400570119000027</td>\n      <td>2019-09-24</td>\n      <td>1</td>\n      <td>2021-01-01</td>\n      <td>2021-12-31</td>\n      <td>355169.38</td>\n      <td>1</td>\n      <td>19878.00</td>\n      <td>0.055968</td>\n    </tr>\n    <tr>\n      <th>4</th>\n      <td>4</td>\n      <td>-3961364508861951295</td>\n      <td>contracts_output</td>\n      <td>1010400570119000027</td>\n      <td>2019-09-24</td>\n      <td>1</td>\n      <td>2021-01-01</td>\n      <td>2021-12-31</td>\n      <td>388020.88</td>\n      <td>1</td>\n      <td>19878.00</td>\n      <td>0.051229</td>\n    </tr>\n    <tr>\n      <th>...</th>\n      <td>...</td>\n      <td>...</td>\n      <td>...</td>\n      <td>...</td>\n      <td>...</td>\n      <td>...</td>\n      <td>...</td>\n      <td>...</td>\n      <td>...</td>\n      <td>...</td>\n      <td>...</td>\n      <td>...</td>\n    </tr>\n    <tr>\n      <th>6359</th>\n      <td>6359</td>\n      <td>-4906157625135826188</td>\n      <td>contracts_output</td>\n      <td>3010800386421000022</td>\n      <td>2021-10-04</td>\n      <td>1</td>\n      <td>2021-10-04</td>\n      <td>2022-01-31</td>\n      <td>1452000.00</td>\n      <td>0</td>\n      <td>72600.00</td>\n      <td>0.050000</td>\n    </tr>\n    <tr>\n      <th>6360</th>\n      <td>6360</td>\n      <td>-8165939967697628755</td>\n      <td>contracts_output</td>\n      <td>3010800386421000022</td>\n      <td>2021-10-04</td>\n      <td>1</td>\n      <td>2021-10-04</td>\n      <td>2022-01-31</td>\n      <td>1452000.00</td>\n      <td>0</td>\n      <td>72600.00</td>\n      <td>0.050000</td>\n    </tr>\n    <tr>\n      <th>6361</th>\n      <td>6361</td>\n      <td>-725861710018253917</td>\n      <td>contracts_output</td>\n      <td>3010800386421000025</td>\n      <td>2021-10-25</td>\n      <td>1</td>\n      <td>2021-10-25</td>\n      <td>2021-12-31</td>\n      <td>106600.00</td>\n      <td>1</td>\n      <td>5500.00</td>\n      <td>0.051595</td>\n    </tr>\n    <tr>\n      <th>6362</th>\n      <td>6362</td>\n      <td>-2881107635711435453</td>\n      <td>contracts_output</td>\n      <td>3010800386421000025</td>\n      <td>2021-10-25</td>\n      <td>1</td>\n      <td>2021-10-25</td>\n      <td>2021-12-31</td>\n      <td>106599.90</td>\n      <td>1</td>\n      <td>5500.00</td>\n      <td>0.051595</td>\n    </tr>\n    <tr>\n      <th>6363</th>\n      <td>6363</td>\n      <td>-1158808855413502250</td>\n      <td>contracts_output</td>\n      <td>3010800386422000008</td>\n      <td>2022-02-21</td>\n      <td>1</td>\n      <td>2022-03-01</td>\n      <td>2022-07-31</td>\n      <td>520192.00</td>\n      <td>0</td>\n      <td>26009.60</td>\n      <td>0.050000</td>\n    </tr>\n  </tbody>\n</table>\n<p>1088244 rows × 12 columns</p>\n</div>"
     },
     "execution_count": 234,
     "metadata": {},
     "output_type": "execute_result"
    }
   ],
   "source": [
    "data = data.assign(bg=data.amount / data.price)\n",
    "data"
   ],
   "metadata": {
    "collapsed": false
   }
  },
  {
   "cell_type": "code",
   "execution_count": 235,
   "outputs": [
    {
     "data": {
      "text/plain": "      Unnamed: 0             obj hash              name              reg num  \\\n0              0  3793294491059705333  contracts_output  1010101008321000004   \n1              1 -4348589201702449915  contracts_output  1010400570119000014   \n2              2  7104910193783858246  contracts_output  1010400570119000016   \n3              3 -1585908082334183978  contracts_output  1010400570119000027   \n4              4 -3961364508861951295  contracts_output  1010400570119000027   \n...          ...                  ...               ...                  ...   \n6359        6359 -4906157625135826188  contracts_output  3010800386421000022   \n6360        6360 -8165939967697628755  contracts_output  3010800386421000022   \n6361        6361  -725861710018253917  contracts_output  3010800386421000025   \n6362        6362 -2881107635711435453  contracts_output  3010800386421000025   \n6363        6363 -1158808855413502250  contracts_output  3010800386422000008   \n\n       sign date  suppliers count     st date    end date       price  \\\n0     2021-09-27                1  2021-09-27  2021-12-31   500000.00   \n1     2019-08-08                1  2021-01-01  2021-12-31   933718.40   \n2     2019-09-03                1  2021-01-01  2021-12-31   125125.25   \n3     2019-09-24                1  2021-01-01  2021-12-31   355169.38   \n4     2019-09-24                1  2021-01-01  2021-12-31   388020.88   \n...          ...              ...         ...         ...         ...   \n6359  2021-10-04                1  2021-10-04  2022-01-31  1452000.00   \n6360  2021-10-04                1  2021-10-04  2022-01-31  1452000.00   \n6361  2021-10-25                1  2021-10-25  2021-12-31   106600.00   \n6362  2021-10-25                1  2021-10-25  2021-12-31   106599.90   \n6363  2022-02-21                1  2022-03-01  2022-07-31   520192.00   \n\n      enforcement     amount        bg  \n0               1   25000.00  0.050000  \n1               1  373500.00  0.400014  \n2               0    6256.26  0.050000  \n3               1   19878.00  0.055968  \n4               1   19878.00  0.051229  \n...           ...        ...       ...  \n6359            0   72600.00  0.050000  \n6360            0   72600.00  0.050000  \n6361            1    5500.00  0.051595  \n6362            1    5500.00  0.051595  \n6363            0   26009.60  0.050000  \n\n[6364 rows x 12 columns]",
      "text/html": "<div>\n<style scoped>\n    .dataframe tbody tr th:only-of-type {\n        vertical-align: middle;\n    }\n\n    .dataframe tbody tr th {\n        vertical-align: top;\n    }\n\n    .dataframe thead th {\n        text-align: right;\n    }\n</style>\n<table border=\"1\" class=\"dataframe\">\n  <thead>\n    <tr style=\"text-align: right;\">\n      <th></th>\n      <th>Unnamed: 0</th>\n      <th>obj hash</th>\n      <th>name</th>\n      <th>reg num</th>\n      <th>sign date</th>\n      <th>suppliers count</th>\n      <th>st date</th>\n      <th>end date</th>\n      <th>price</th>\n      <th>enforcement</th>\n      <th>amount</th>\n      <th>bg</th>\n    </tr>\n  </thead>\n  <tbody>\n    <tr>\n      <th>0</th>\n      <td>0</td>\n      <td>3793294491059705333</td>\n      <td>contracts_output</td>\n      <td>1010101008321000004</td>\n      <td>2021-09-27</td>\n      <td>1</td>\n      <td>2021-09-27</td>\n      <td>2021-12-31</td>\n      <td>500000.00</td>\n      <td>1</td>\n      <td>25000.00</td>\n      <td>0.050000</td>\n    </tr>\n    <tr>\n      <th>1</th>\n      <td>1</td>\n      <td>-4348589201702449915</td>\n      <td>contracts_output</td>\n      <td>1010400570119000014</td>\n      <td>2019-08-08</td>\n      <td>1</td>\n      <td>2021-01-01</td>\n      <td>2021-12-31</td>\n      <td>933718.40</td>\n      <td>1</td>\n      <td>373500.00</td>\n      <td>0.400014</td>\n    </tr>\n    <tr>\n      <th>2</th>\n      <td>2</td>\n      <td>7104910193783858246</td>\n      <td>contracts_output</td>\n      <td>1010400570119000016</td>\n      <td>2019-09-03</td>\n      <td>1</td>\n      <td>2021-01-01</td>\n      <td>2021-12-31</td>\n      <td>125125.25</td>\n      <td>0</td>\n      <td>6256.26</td>\n      <td>0.050000</td>\n    </tr>\n    <tr>\n      <th>3</th>\n      <td>3</td>\n      <td>-1585908082334183978</td>\n      <td>contracts_output</td>\n      <td>1010400570119000027</td>\n      <td>2019-09-24</td>\n      <td>1</td>\n      <td>2021-01-01</td>\n      <td>2021-12-31</td>\n      <td>355169.38</td>\n      <td>1</td>\n      <td>19878.00</td>\n      <td>0.055968</td>\n    </tr>\n    <tr>\n      <th>4</th>\n      <td>4</td>\n      <td>-3961364508861951295</td>\n      <td>contracts_output</td>\n      <td>1010400570119000027</td>\n      <td>2019-09-24</td>\n      <td>1</td>\n      <td>2021-01-01</td>\n      <td>2021-12-31</td>\n      <td>388020.88</td>\n      <td>1</td>\n      <td>19878.00</td>\n      <td>0.051229</td>\n    </tr>\n    <tr>\n      <th>...</th>\n      <td>...</td>\n      <td>...</td>\n      <td>...</td>\n      <td>...</td>\n      <td>...</td>\n      <td>...</td>\n      <td>...</td>\n      <td>...</td>\n      <td>...</td>\n      <td>...</td>\n      <td>...</td>\n      <td>...</td>\n    </tr>\n    <tr>\n      <th>6359</th>\n      <td>6359</td>\n      <td>-4906157625135826188</td>\n      <td>contracts_output</td>\n      <td>3010800386421000022</td>\n      <td>2021-10-04</td>\n      <td>1</td>\n      <td>2021-10-04</td>\n      <td>2022-01-31</td>\n      <td>1452000.00</td>\n      <td>0</td>\n      <td>72600.00</td>\n      <td>0.050000</td>\n    </tr>\n    <tr>\n      <th>6360</th>\n      <td>6360</td>\n      <td>-8165939967697628755</td>\n      <td>contracts_output</td>\n      <td>3010800386421000022</td>\n      <td>2021-10-04</td>\n      <td>1</td>\n      <td>2021-10-04</td>\n      <td>2022-01-31</td>\n      <td>1452000.00</td>\n      <td>0</td>\n      <td>72600.00</td>\n      <td>0.050000</td>\n    </tr>\n    <tr>\n      <th>6361</th>\n      <td>6361</td>\n      <td>-725861710018253917</td>\n      <td>contracts_output</td>\n      <td>3010800386421000025</td>\n      <td>2021-10-25</td>\n      <td>1</td>\n      <td>2021-10-25</td>\n      <td>2021-12-31</td>\n      <td>106600.00</td>\n      <td>1</td>\n      <td>5500.00</td>\n      <td>0.051595</td>\n    </tr>\n    <tr>\n      <th>6362</th>\n      <td>6362</td>\n      <td>-2881107635711435453</td>\n      <td>contracts_output</td>\n      <td>3010800386421000025</td>\n      <td>2021-10-25</td>\n      <td>1</td>\n      <td>2021-10-25</td>\n      <td>2021-12-31</td>\n      <td>106599.90</td>\n      <td>1</td>\n      <td>5500.00</td>\n      <td>0.051595</td>\n    </tr>\n    <tr>\n      <th>6363</th>\n      <td>6363</td>\n      <td>-1158808855413502250</td>\n      <td>contracts_output</td>\n      <td>3010800386422000008</td>\n      <td>2022-02-21</td>\n      <td>1</td>\n      <td>2022-03-01</td>\n      <td>2022-07-31</td>\n      <td>520192.00</td>\n      <td>0</td>\n      <td>26009.60</td>\n      <td>0.050000</td>\n    </tr>\n  </tbody>\n</table>\n<p>6364 rows × 12 columns</p>\n</div>"
     },
     "execution_count": 235,
     "metadata": {},
     "output_type": "execute_result"
    }
   ],
   "source": [
    "data = data.drop_duplicates()\n",
    "data"
   ],
   "metadata": {
    "collapsed": false
   }
  },
  {
   "cell_type": "code",
   "execution_count": 236,
   "outputs": [
    {
     "data": {
      "text/plain": "(6359, 12)"
     },
     "execution_count": 236,
     "metadata": {},
     "output_type": "execute_result"
    }
   ],
   "source": [
    "data = data[data.bg <= 1]\n",
    "data.shape"
   ],
   "metadata": {
    "collapsed": false
   }
  },
  {
   "cell_type": "code",
   "execution_count": 237,
   "outputs": [
    {
     "data": {
      "text/plain": "      Unnamed: 0             obj hash              name              reg num  \\\n6359        6359 -4906157625135826188  contracts_output  3010800386421000022   \n6360        6360 -8165939967697628755  contracts_output  3010800386421000022   \n6361        6361  -725861710018253917  contracts_output  3010800386421000025   \n6362        6362 -2881107635711435453  contracts_output  3010800386421000025   \n6363        6363 -1158808855413502250  contracts_output  3010800386422000008   \n\n       sign date  suppliers count     st date    end date      price  \\\n6359  2021-10-04                1  2021-10-04  2022-01-31  1452000.0   \n6360  2021-10-04                1  2021-10-04  2022-01-31  1452000.0   \n6361  2021-10-25                1  2021-10-25  2021-12-31   106600.0   \n6362  2021-10-25                1  2021-10-25  2021-12-31   106599.9   \n6363  2022-02-21                1  2022-03-01  2022-07-31   520192.0   \n\n      enforcement   amount        bg  \n6359            0  72600.0  0.050000  \n6360            0  72600.0  0.050000  \n6361            1   5500.0  0.051595  \n6362            1   5500.0  0.051595  \n6363            0  26009.6  0.050000  ",
      "text/html": "<div>\n<style scoped>\n    .dataframe tbody tr th:only-of-type {\n        vertical-align: middle;\n    }\n\n    .dataframe tbody tr th {\n        vertical-align: top;\n    }\n\n    .dataframe thead th {\n        text-align: right;\n    }\n</style>\n<table border=\"1\" class=\"dataframe\">\n  <thead>\n    <tr style=\"text-align: right;\">\n      <th></th>\n      <th>Unnamed: 0</th>\n      <th>obj hash</th>\n      <th>name</th>\n      <th>reg num</th>\n      <th>sign date</th>\n      <th>suppliers count</th>\n      <th>st date</th>\n      <th>end date</th>\n      <th>price</th>\n      <th>enforcement</th>\n      <th>amount</th>\n      <th>bg</th>\n    </tr>\n  </thead>\n  <tbody>\n    <tr>\n      <th>6359</th>\n      <td>6359</td>\n      <td>-4906157625135826188</td>\n      <td>contracts_output</td>\n      <td>3010800386421000022</td>\n      <td>2021-10-04</td>\n      <td>1</td>\n      <td>2021-10-04</td>\n      <td>2022-01-31</td>\n      <td>1452000.0</td>\n      <td>0</td>\n      <td>72600.0</td>\n      <td>0.050000</td>\n    </tr>\n    <tr>\n      <th>6360</th>\n      <td>6360</td>\n      <td>-8165939967697628755</td>\n      <td>contracts_output</td>\n      <td>3010800386421000022</td>\n      <td>2021-10-04</td>\n      <td>1</td>\n      <td>2021-10-04</td>\n      <td>2022-01-31</td>\n      <td>1452000.0</td>\n      <td>0</td>\n      <td>72600.0</td>\n      <td>0.050000</td>\n    </tr>\n    <tr>\n      <th>6361</th>\n      <td>6361</td>\n      <td>-725861710018253917</td>\n      <td>contracts_output</td>\n      <td>3010800386421000025</td>\n      <td>2021-10-25</td>\n      <td>1</td>\n      <td>2021-10-25</td>\n      <td>2021-12-31</td>\n      <td>106600.0</td>\n      <td>1</td>\n      <td>5500.0</td>\n      <td>0.051595</td>\n    </tr>\n    <tr>\n      <th>6362</th>\n      <td>6362</td>\n      <td>-2881107635711435453</td>\n      <td>contracts_output</td>\n      <td>3010800386421000025</td>\n      <td>2021-10-25</td>\n      <td>1</td>\n      <td>2021-10-25</td>\n      <td>2021-12-31</td>\n      <td>106599.9</td>\n      <td>1</td>\n      <td>5500.0</td>\n      <td>0.051595</td>\n    </tr>\n    <tr>\n      <th>6363</th>\n      <td>6363</td>\n      <td>-1158808855413502250</td>\n      <td>contracts_output</td>\n      <td>3010800386422000008</td>\n      <td>2022-02-21</td>\n      <td>1</td>\n      <td>2022-03-01</td>\n      <td>2022-07-31</td>\n      <td>520192.0</td>\n      <td>0</td>\n      <td>26009.6</td>\n      <td>0.050000</td>\n    </tr>\n  </tbody>\n</table>\n</div>"
     },
     "execution_count": 237,
     "metadata": {},
     "output_type": "execute_result"
    }
   ],
   "source": [
    "data.tail()"
   ],
   "metadata": {
    "collapsed": false
   }
  },
  {
   "cell_type": "code",
   "execution_count": 238,
   "outputs": [
    {
     "name": "stderr",
     "output_type": "stream",
     "text": [
      "C:\\Temp\\ipykernel_9852\\731554311.py:1: SettingWithCopyWarning: \n",
      "A value is trying to be set on a copy of a slice from a DataFrame.\n",
      "Try using .loc[row_indexer,col_indexer] = value instead\n",
      "\n",
      "See the caveats in the documentation: https://pandas.pydata.org/pandas-docs/stable/user_guide/indexing.html#returning-a-view-versus-a-copy\n",
      "  data['st date'] = data['st date'].astype('datetime64[ns]')\n",
      "C:\\Temp\\ipykernel_9852\\731554311.py:2: SettingWithCopyWarning: \n",
      "A value is trying to be set on a copy of a slice from a DataFrame.\n",
      "Try using .loc[row_indexer,col_indexer] = value instead\n",
      "\n",
      "See the caveats in the documentation: https://pandas.pydata.org/pandas-docs/stable/user_guide/indexing.html#returning-a-view-versus-a-copy\n",
      "  data['end date'] = data['end date'].astype('datetime64[ns]')\n"
     ]
    }
   ],
   "source": [
    "data['st date'] = data['st date'].astype('datetime64[ns]')\n",
    "data['end date'] = data['end date'].astype('datetime64[ns]')"
   ],
   "metadata": {
    "collapsed": false
   }
  },
  {
   "cell_type": "code",
   "execution_count": 239,
   "outputs": [],
   "source": [
    "date_list = pd.date_range('01.01.2019', '01.05.2023', freq='M')"
   ],
   "metadata": {
    "collapsed": false
   }
  },
  {
   "cell_type": "code",
   "execution_count": 240,
   "outputs": [
    {
     "data": {
      "text/plain": "DatetimeIndex(['2019-01-31', '2019-02-28', '2019-03-31', '2019-04-30',\n               '2019-05-31', '2019-06-30', '2019-07-31', '2019-08-31',\n               '2019-09-30', '2019-10-31', '2019-11-30', '2019-12-31',\n               '2020-01-31', '2020-02-29', '2020-03-31', '2020-04-30',\n               '2020-05-31', '2020-06-30', '2020-07-31', '2020-08-31',\n               '2020-09-30', '2020-10-31', '2020-11-30', '2020-12-31',\n               '2021-01-31', '2021-02-28', '2021-03-31', '2021-04-30',\n               '2021-05-31', '2021-06-30', '2021-07-31', '2021-08-31',\n               '2021-09-30', '2021-10-31', '2021-11-30', '2021-12-31',\n               '2022-01-31', '2022-02-28', '2022-03-31', '2022-04-30',\n               '2022-05-31', '2022-06-30', '2022-07-31', '2022-08-31',\n               '2022-09-30', '2022-10-31', '2022-11-30', '2022-12-31'],\n              dtype='datetime64[ns]', freq='M')"
     },
     "execution_count": 240,
     "metadata": {},
     "output_type": "execute_result"
    }
   ],
   "source": [
    "date_list"
   ],
   "metadata": {
    "collapsed": false
   }
  },
  {
   "cell_type": "code",
   "execution_count": 241,
   "outputs": [],
   "source": [
    "t = (data.iloc[1])"
   ],
   "metadata": {
    "collapsed": false
   }
  },
  {
   "cell_type": "code",
   "execution_count": 242,
   "outputs": [
    {
     "data": {
      "text/plain": "373500.0"
     },
     "execution_count": 242,
     "metadata": {},
     "output_type": "execute_result"
    }
   ],
   "source": [
    "t['amount']"
   ],
   "metadata": {
    "collapsed": false
   }
  },
  {
   "cell_type": "code",
   "execution_count": 243,
   "outputs": [],
   "source": [
    "d = list(map(lambda x: datetime.datetime(2019,6,25)<= x<= datetime.datetime(2021,12,31),date_list))"
   ],
   "metadata": {
    "collapsed": false
   }
  },
  {
   "cell_type": "code",
   "execution_count": 244,
   "outputs": [],
   "source": [
    "def check(st, end):\n",
    "    return list(map(lambda x: st<= x <= end, date_list))"
   ],
   "metadata": {
    "collapsed": false
   }
  },
  {
   "cell_type": "code",
   "execution_count": 245,
   "outputs": [],
   "source": [
    "t_arr = np.zeros(len(date_list))"
   ],
   "metadata": {
    "collapsed": false
   }
  },
  {
   "cell_type": "code",
   "execution_count": 246,
   "outputs": [
    {
     "data": {
      "text/plain": "array([0., 0., 0., 0., 0., 0., 0., 0., 0., 0., 0., 0., 0., 0., 0., 0., 0.,\n       0., 0., 0., 0., 0., 0., 0., 0., 0., 0., 0., 0., 0., 0., 0., 0., 0.,\n       0., 0., 0., 0., 0., 0., 0., 0., 0., 0., 0., 0., 0., 0.])"
     },
     "execution_count": 246,
     "metadata": {},
     "output_type": "execute_result"
    }
   ],
   "source": [
    "t_arr"
   ],
   "metadata": {
    "collapsed": false
   }
  },
  {
   "cell_type": "code",
   "execution_count": 247,
   "outputs": [],
   "source": [
    "for r in data.iterrows():\n",
    "    t_arr+=np.array(check(r[1]['st date'], r[1]['end date'])) * r[1]['amount']"
   ],
   "metadata": {
    "collapsed": false
   }
  },
  {
   "cell_type": "code",
   "execution_count": 248,
   "outputs": [
    {
     "data": {
      "text/plain": "array([0.00000000e+00, 0.00000000e+00, 0.00000000e+00, 3.35125800e+06,\n       3.35125800e+06, 3.51246190e+06, 1.52740937e+07, 1.52740937e+07,\n       1.52740937e+07, 1.59160563e+07, 3.89691768e+08, 3.89759621e+08,\n       3.88154395e+08, 4.02240035e+08, 4.52801145e+08, 4.74597792e+08,\n       5.70950077e+08, 1.36250850e+09, 1.36454380e+09, 1.37109330e+09,\n       1.52058201e+09, 1.52178014e+09, 1.55929842e+09, 1.57743131e+09,\n       1.59636854e+09, 1.85164850e+09, 2.38791960e+09, 3.87949800e+09,\n       4.78166245e+09, 4.90425817e+09, 5.14158360e+09, 5.22076973e+09,\n       5.05966589e+09, 5.52158463e+09, 5.65319448e+09, 4.26604306e+09,\n       2.45213939e+09, 2.44173101e+09, 2.14538657e+09, 1.97475195e+09,\n       1.97128065e+09, 1.92525599e+09, 1.92020616e+09, 1.91925165e+09,\n       1.87933916e+09, 1.73247153e+09, 1.73171462e+09, 4.95965493e+08])"
     },
     "execution_count": 248,
     "metadata": {},
     "output_type": "execute_result"
    }
   ],
   "source": [
    "t_arr"
   ],
   "metadata": {
    "collapsed": false
   }
  },
  {
   "cell_type": "code",
   "execution_count": 249,
   "outputs": [],
   "source": [
    "import matplotlib.pyplot as plt"
   ],
   "metadata": {
    "collapsed": false
   }
  },
  {
   "cell_type": "code",
   "execution_count": 250,
   "outputs": [],
   "source": [
    "df = pd.DataFrame(t_arr)"
   ],
   "metadata": {
    "collapsed": false
   }
  },
  {
   "cell_type": "code",
   "execution_count": 251,
   "outputs": [
    {
     "data": {
      "text/plain": "               0\n0   0.000000e+00\n1   0.000000e+00\n2   0.000000e+00\n3   3.351258e+06\n4   3.351258e+06\n5   3.512462e+06\n6   1.527409e+07\n7   1.527409e+07\n8   1.527409e+07\n9   1.591606e+07\n10  3.896918e+08\n11  3.897596e+08\n12  3.881544e+08\n13  4.022400e+08\n14  4.528011e+08\n15  4.745978e+08\n16  5.709501e+08\n17  1.362508e+09\n18  1.364544e+09\n19  1.371093e+09\n20  1.520582e+09\n21  1.521780e+09\n22  1.559298e+09\n23  1.577431e+09\n24  1.596369e+09\n25  1.851649e+09\n26  2.387920e+09\n27  3.879498e+09\n28  4.781662e+09\n29  4.904258e+09\n30  5.141584e+09\n31  5.220770e+09\n32  5.059666e+09\n33  5.521585e+09\n34  5.653194e+09\n35  4.266043e+09\n36  2.452139e+09\n37  2.441731e+09\n38  2.145387e+09\n39  1.974752e+09\n40  1.971281e+09\n41  1.925256e+09\n42  1.920206e+09\n43  1.919252e+09\n44  1.879339e+09\n45  1.732472e+09\n46  1.731715e+09\n47  4.959655e+08",
      "text/html": "<div>\n<style scoped>\n    .dataframe tbody tr th:only-of-type {\n        vertical-align: middle;\n    }\n\n    .dataframe tbody tr th {\n        vertical-align: top;\n    }\n\n    .dataframe thead th {\n        text-align: right;\n    }\n</style>\n<table border=\"1\" class=\"dataframe\">\n  <thead>\n    <tr style=\"text-align: right;\">\n      <th></th>\n      <th>0</th>\n    </tr>\n  </thead>\n  <tbody>\n    <tr>\n      <th>0</th>\n      <td>0.000000e+00</td>\n    </tr>\n    <tr>\n      <th>1</th>\n      <td>0.000000e+00</td>\n    </tr>\n    <tr>\n      <th>2</th>\n      <td>0.000000e+00</td>\n    </tr>\n    <tr>\n      <th>3</th>\n      <td>3.351258e+06</td>\n    </tr>\n    <tr>\n      <th>4</th>\n      <td>3.351258e+06</td>\n    </tr>\n    <tr>\n      <th>5</th>\n      <td>3.512462e+06</td>\n    </tr>\n    <tr>\n      <th>6</th>\n      <td>1.527409e+07</td>\n    </tr>\n    <tr>\n      <th>7</th>\n      <td>1.527409e+07</td>\n    </tr>\n    <tr>\n      <th>8</th>\n      <td>1.527409e+07</td>\n    </tr>\n    <tr>\n      <th>9</th>\n      <td>1.591606e+07</td>\n    </tr>\n    <tr>\n      <th>10</th>\n      <td>3.896918e+08</td>\n    </tr>\n    <tr>\n      <th>11</th>\n      <td>3.897596e+08</td>\n    </tr>\n    <tr>\n      <th>12</th>\n      <td>3.881544e+08</td>\n    </tr>\n    <tr>\n      <th>13</th>\n      <td>4.022400e+08</td>\n    </tr>\n    <tr>\n      <th>14</th>\n      <td>4.528011e+08</td>\n    </tr>\n    <tr>\n      <th>15</th>\n      <td>4.745978e+08</td>\n    </tr>\n    <tr>\n      <th>16</th>\n      <td>5.709501e+08</td>\n    </tr>\n    <tr>\n      <th>17</th>\n      <td>1.362508e+09</td>\n    </tr>\n    <tr>\n      <th>18</th>\n      <td>1.364544e+09</td>\n    </tr>\n    <tr>\n      <th>19</th>\n      <td>1.371093e+09</td>\n    </tr>\n    <tr>\n      <th>20</th>\n      <td>1.520582e+09</td>\n    </tr>\n    <tr>\n      <th>21</th>\n      <td>1.521780e+09</td>\n    </tr>\n    <tr>\n      <th>22</th>\n      <td>1.559298e+09</td>\n    </tr>\n    <tr>\n      <th>23</th>\n      <td>1.577431e+09</td>\n    </tr>\n    <tr>\n      <th>24</th>\n      <td>1.596369e+09</td>\n    </tr>\n    <tr>\n      <th>25</th>\n      <td>1.851649e+09</td>\n    </tr>\n    <tr>\n      <th>26</th>\n      <td>2.387920e+09</td>\n    </tr>\n    <tr>\n      <th>27</th>\n      <td>3.879498e+09</td>\n    </tr>\n    <tr>\n      <th>28</th>\n      <td>4.781662e+09</td>\n    </tr>\n    <tr>\n      <th>29</th>\n      <td>4.904258e+09</td>\n    </tr>\n    <tr>\n      <th>30</th>\n      <td>5.141584e+09</td>\n    </tr>\n    <tr>\n      <th>31</th>\n      <td>5.220770e+09</td>\n    </tr>\n    <tr>\n      <th>32</th>\n      <td>5.059666e+09</td>\n    </tr>\n    <tr>\n      <th>33</th>\n      <td>5.521585e+09</td>\n    </tr>\n    <tr>\n      <th>34</th>\n      <td>5.653194e+09</td>\n    </tr>\n    <tr>\n      <th>35</th>\n      <td>4.266043e+09</td>\n    </tr>\n    <tr>\n      <th>36</th>\n      <td>2.452139e+09</td>\n    </tr>\n    <tr>\n      <th>37</th>\n      <td>2.441731e+09</td>\n    </tr>\n    <tr>\n      <th>38</th>\n      <td>2.145387e+09</td>\n    </tr>\n    <tr>\n      <th>39</th>\n      <td>1.974752e+09</td>\n    </tr>\n    <tr>\n      <th>40</th>\n      <td>1.971281e+09</td>\n    </tr>\n    <tr>\n      <th>41</th>\n      <td>1.925256e+09</td>\n    </tr>\n    <tr>\n      <th>42</th>\n      <td>1.920206e+09</td>\n    </tr>\n    <tr>\n      <th>43</th>\n      <td>1.919252e+09</td>\n    </tr>\n    <tr>\n      <th>44</th>\n      <td>1.879339e+09</td>\n    </tr>\n    <tr>\n      <th>45</th>\n      <td>1.732472e+09</td>\n    </tr>\n    <tr>\n      <th>46</th>\n      <td>1.731715e+09</td>\n    </tr>\n    <tr>\n      <th>47</th>\n      <td>4.959655e+08</td>\n    </tr>\n  </tbody>\n</table>\n</div>"
     },
     "execution_count": 251,
     "metadata": {},
     "output_type": "execute_result"
    }
   ],
   "source": [
    "df"
   ],
   "metadata": {
    "collapsed": false
   }
  },
  {
   "cell_type": "code",
   "execution_count": 252,
   "outputs": [
    {
     "data": {
      "text/plain": "<AxesSubplot:>"
     },
     "execution_count": 252,
     "metadata": {},
     "output_type": "execute_result"
    },
    {
     "data": {
      "text/plain": "<Figure size 432x288 with 1 Axes>",
      "image/png": "[encoded data removed]"
     },
     "metadata": {
      "needs_background": "light"
     },
     "output_type": "display_data"
    }
   ],
   "source": [
    "df.plot()"
   ],
   "metadata": {
    "collapsed": false
   }
  },
  {
   "cell_type": "code",
   "execution_count": 252,
   "outputs": [],
   "source": [],
   "metadata": {
    "collapsed": false
   }
  },
  {
   "cell_type": "markdown",
   "source": [
    "# Задачи\n",
    "* Подгрузка данных и их форматирование\n",
    "* Анализ Корреляции двух рядов\n",
    "* Продумать методы прогнозирования ряда\n",
    " + Какие модели можно использовать\n",
    " + Что делать с идеей аккумулирующего эффекта\n",
    " + Первый драфт\n"
   ],
   "metadata": {
    "collapsed": false
   }
  },
  {
   "cell_type": "code",
   "execution_count": 253,
   "outputs": [],
   "source": [
    "res = pd.DataFrame(results.iloc[0])"
   ],
   "metadata": {
    "collapsed": false
   }
  },
  {
   "cell_type": "code",
   "execution_count": 254,
   "outputs": [
    {
     "data": {
      "text/plain": "                     0\nЯнварь 2019    3202534\nФевраль 2019   3504045\nМарт 2019      4174296\nАпрель 2019    4637280\nМай 2019       3345201\nИюнь 2019      4124086\nИюль 2019      5143083\nАвгуст 2019    5062245\nСентябрь 2019  5264321\nОктябрь 2019   5693608\nНоябрь 2019    5575864\nДекабрь 2019   7582892\nЯнварь 2020    4617861\nФевраль 2020   5544875\nМарт 2020      6771485\nАпрель 2020    4850422\nМай 2020       4291769\nИюнь 2020      6156469\nИюль 2020      7509959\nАвгуст 2020    6367608\nСентябрь 2020  6903225\nОктябрь 2020   6848928\nНоябрь 2020    6521792\nДекабрь 2020   8429181\nЯнварь 2021    4515167\nФевраль 2021   5449873\nМарт 2021      6974057\nАпрель 2021    7684793\nМай 2021       6119425\nИюнь 2021      7362232\nИюль 2021      8269601\nАвгуст 2021    8152489\nСентябрь 2021  7565255\nОктябрь 2021   7414571\nНоябрь 2021    6982998\nДекабрь 2021   9160939\nЯнварь 2022    5399672\nФевраль 2022   6370846\nМарт 2022      5318699\nАпрель 2022    4768289\nМай 2022       3932303\nИюнь 2022      5209410\nИюль 2022      4874474",
      "text/html": "<div>\n<style scoped>\n    .dataframe tbody tr th:only-of-type {\n        vertical-align: middle;\n    }\n\n    .dataframe tbody tr th {\n        vertical-align: top;\n    }\n\n    .dataframe thead th {\n        text-align: right;\n    }\n</style>\n<table border=\"1\" class=\"dataframe\">\n  <thead>\n    <tr style=\"text-align: right;\">\n      <th></th>\n      <th>0</th>\n    </tr>\n  </thead>\n  <tbody>\n    <tr>\n      <th>Январь 2019</th>\n      <td>3202534</td>\n    </tr>\n    <tr>\n      <th>Февраль 2019</th>\n      <td>3504045</td>\n    </tr>\n    <tr>\n      <th>Март 2019</th>\n      <td>4174296</td>\n    </tr>\n    <tr>\n      <th>Апрель 2019</th>\n      <td>4637280</td>\n    </tr>\n    <tr>\n      <th>Май 2019</th>\n      <td>3345201</td>\n    </tr>\n    <tr>\n      <th>Июнь 2019</th>\n      <td>4124086</td>\n    </tr>\n    <tr>\n      <th>Июль 2019</th>\n      <td>5143083</td>\n    </tr>\n    <tr>\n      <th>Август 2019</th>\n      <td>5062245</td>\n    </tr>\n    <tr>\n      <th>Сентябрь 2019</th>\n      <td>5264321</td>\n    </tr>\n    <tr>\n      <th>Октябрь 2019</th>\n      <td>5693608</td>\n    </tr>\n    <tr>\n      <th>Ноябрь 2019</th>\n      <td>5575864</td>\n    </tr>\n    <tr>\n      <th>Декабрь 2019</th>\n      <td>7582892</td>\n    </tr>\n    <tr>\n      <th>Январь 2020</th>\n      <td>4617861</td>\n    </tr>\n    <tr>\n      <th>Февраль 2020</th>\n      <td>5544875</td>\n    </tr>\n    <tr>\n      <th>Март 2020</th>\n      <td>6771485</td>\n    </tr>\n    <tr>\n      <th>Апрель 2020</th>\n      <td>4850422</td>\n    </tr>\n    <tr>\n      <th>Май 2020</th>\n      <td>4291769</td>\n    </tr>\n    <tr>\n      <th>Июнь 2020</th>\n      <td>6156469</td>\n    </tr>\n    <tr>\n      <th>Июль 2020</th>\n      <td>7509959</td>\n    </tr>\n    <tr>\n      <th>Август 2020</th>\n      <td>6367608</td>\n    </tr>\n    <tr>\n      <th>Сентябрь 2020</th>\n      <td>6903225</td>\n    </tr>\n    <tr>\n      <th>Октябрь 2020</th>\n      <td>6848928</td>\n    </tr>\n    <tr>\n      <th>Ноябрь 2020</th>\n      <td>6521792</td>\n    </tr>\n    <tr>\n      <th>Декабрь 2020</th>\n      <td>8429181</td>\n    </tr>\n    <tr>\n      <th>Январь 2021</th>\n      <td>4515167</td>\n    </tr>\n    <tr>\n      <th>Февраль 2021</th>\n      <td>5449873</td>\n    </tr>\n    <tr>\n      <th>Март 2021</th>\n      <td>6974057</td>\n    </tr>\n    <tr>\n      <th>Апрель 2021</th>\n      <td>7684793</td>\n    </tr>\n    <tr>\n      <th>Май 2021</th>\n      <td>6119425</td>\n    </tr>\n    <tr>\n      <th>Июнь 2021</th>\n      <td>7362232</td>\n    </tr>\n    <tr>\n      <th>Июль 2021</th>\n      <td>8269601</td>\n    </tr>\n    <tr>\n      <th>Август 2021</th>\n      <td>8152489</td>\n    </tr>\n    <tr>\n      <th>Сентябрь 2021</th>\n      <td>7565255</td>\n    </tr>\n    <tr>\n      <th>Октябрь 2021</th>\n      <td>7414571</td>\n    </tr>\n    <tr>\n      <th>Ноябрь 2021</th>\n      <td>6982998</td>\n    </tr>\n    <tr>\n      <th>Декабрь 2021</th>\n      <td>9160939</td>\n    </tr>\n    <tr>\n      <th>Январь 2022</th>\n      <td>5399672</td>\n    </tr>\n    <tr>\n      <th>Февраль 2022</th>\n      <td>6370846</td>\n    </tr>\n    <tr>\n      <th>Март 2022</th>\n      <td>5318699</td>\n    </tr>\n    <tr>\n      <th>Апрель 2022</th>\n      <td>4768289</td>\n    </tr>\n    <tr>\n      <th>Май 2022</th>\n      <td>3932303</td>\n    </tr>\n    <tr>\n      <th>Июнь 2022</th>\n      <td>5209410</td>\n    </tr>\n    <tr>\n      <th>Июль 2022</th>\n      <td>4874474</td>\n    </tr>\n  </tbody>\n</table>\n</div>"
     },
     "execution_count": 254,
     "metadata": {},
     "output_type": "execute_result"
    }
   ],
   "source": [
    "res1 = pd.DataFrame(res[-43:])\n",
    "res1"
   ],
   "metadata": {
    "collapsed": false
   }
  },
  {
   "cell_type": "code",
   "execution_count": 255,
   "outputs": [],
   "source": [
    "res1 = res1.rename_axis('date').reset_index()"
   ],
   "metadata": {
    "collapsed": false
   }
  },
  {
   "cell_type": "code",
   "execution_count": null,
   "outputs": [],
   "source": [],
   "metadata": {
    "collapsed": false
   }
  },
  {
   "cell_type": "code",
   "execution_count": 256,
   "outputs": [],
   "source": [
    "res1 = res1.rename(columns={0: \"credit\"})"
   ],
   "metadata": {
    "collapsed": false
   }
  },
  {
   "cell_type": "code",
   "execution_count": 257,
   "outputs": [
    {
     "data": {
      "text/plain": "             date   credit\n0     Январь 2019  3202534\n1    Февраль 2019  3504045\n2       Март 2019  4174296\n3     Апрель 2019  4637280\n4        Май 2019  3345201\n5       Июнь 2019  4124086\n6       Июль 2019  5143083\n7     Август 2019  5062245\n8   Сентябрь 2019  5264321\n9    Октябрь 2019  5693608\n10    Ноябрь 2019  5575864\n11   Декабрь 2019  7582892\n12    Январь 2020  4617861\n13   Февраль 2020  5544875\n14      Март 2020  6771485\n15    Апрель 2020  4850422\n16       Май 2020  4291769\n17      Июнь 2020  6156469\n18      Июль 2020  7509959\n19    Август 2020  6367608\n20  Сентябрь 2020  6903225\n21   Октябрь 2020  6848928\n22    Ноябрь 2020  6521792\n23   Декабрь 2020  8429181\n24    Январь 2021  4515167\n25   Февраль 2021  5449873\n26      Март 2021  6974057\n27    Апрель 2021  7684793\n28       Май 2021  6119425\n29      Июнь 2021  7362232\n30      Июль 2021  8269601\n31    Август 2021  8152489\n32  Сентябрь 2021  7565255\n33   Октябрь 2021  7414571\n34    Ноябрь 2021  6982998\n35   Декабрь 2021  9160939\n36    Январь 2022  5399672\n37   Февраль 2022  6370846\n38      Март 2022  5318699\n39    Апрель 2022  4768289\n40       Май 2022  3932303\n41      Июнь 2022  5209410\n42      Июль 2022  4874474",
      "text/html": "<div>\n<style scoped>\n    .dataframe tbody tr th:only-of-type {\n        vertical-align: middle;\n    }\n\n    .dataframe tbody tr th {\n        vertical-align: top;\n    }\n\n    .dataframe thead th {\n        text-align: right;\n    }\n</style>\n<table border=\"1\" class=\"dataframe\">\n  <thead>\n    <tr style=\"text-align: right;\">\n      <th></th>\n      <th>date</th>\n      <th>credit</th>\n    </tr>\n  </thead>\n  <tbody>\n    <tr>\n      <th>0</th>\n      <td>Январь 2019</td>\n      <td>3202534</td>\n    </tr>\n    <tr>\n      <th>1</th>\n      <td>Февраль 2019</td>\n      <td>3504045</td>\n    </tr>\n    <tr>\n      <th>2</th>\n      <td>Март 2019</td>\n      <td>4174296</td>\n    </tr>\n    <tr>\n      <th>3</th>\n      <td>Апрель 2019</td>\n      <td>4637280</td>\n    </tr>\n    <tr>\n      <th>4</th>\n      <td>Май 2019</td>\n      <td>3345201</td>\n    </tr>\n    <tr>\n      <th>5</th>\n      <td>Июнь 2019</td>\n      <td>4124086</td>\n    </tr>\n    <tr>\n      <th>6</th>\n      <td>Июль 2019</td>\n      <td>5143083</td>\n    </tr>\n    <tr>\n      <th>7</th>\n      <td>Август 2019</td>\n      <td>5062245</td>\n    </tr>\n    <tr>\n      <th>8</th>\n      <td>Сентябрь 2019</td>\n      <td>5264321</td>\n    </tr>\n    <tr>\n      <th>9</th>\n      <td>Октябрь 2019</td>\n      <td>5693608</td>\n    </tr>\n    <tr>\n      <th>10</th>\n      <td>Ноябрь 2019</td>\n      <td>5575864</td>\n    </tr>\n    <tr>\n      <th>11</th>\n      <td>Декабрь 2019</td>\n      <td>7582892</td>\n    </tr>\n    <tr>\n      <th>12</th>\n      <td>Январь 2020</td>\n      <td>4617861</td>\n    </tr>\n    <tr>\n      <th>13</th>\n      <td>Февраль 2020</td>\n      <td>5544875</td>\n    </tr>\n    <tr>\n      <th>14</th>\n      <td>Март 2020</td>\n      <td>6771485</td>\n    </tr>\n    <tr>\n      <th>15</th>\n      <td>Апрель 2020</td>\n      <td>4850422</td>\n    </tr>\n    <tr>\n      <th>16</th>\n      <td>Май 2020</td>\n      <td>4291769</td>\n    </tr>\n    <tr>\n      <th>17</th>\n      <td>Июнь 2020</td>\n      <td>6156469</td>\n    </tr>\n    <tr>\n      <th>18</th>\n      <td>Июль 2020</td>\n      <td>7509959</td>\n    </tr>\n    <tr>\n      <th>19</th>\n      <td>Август 2020</td>\n      <td>6367608</td>\n    </tr>\n    <tr>\n      <th>20</th>\n      <td>Сентябрь 2020</td>\n      <td>6903225</td>\n    </tr>\n    <tr>\n      <th>21</th>\n      <td>Октябрь 2020</td>\n      <td>6848928</td>\n    </tr>\n    <tr>\n      <th>22</th>\n      <td>Ноябрь 2020</td>\n      <td>6521792</td>\n    </tr>\n    <tr>\n      <th>23</th>\n      <td>Декабрь 2020</td>\n      <td>8429181</td>\n    </tr>\n    <tr>\n      <th>24</th>\n      <td>Январь 2021</td>\n      <td>4515167</td>\n    </tr>\n    <tr>\n      <th>25</th>\n      <td>Февраль 2021</td>\n      <td>5449873</td>\n    </tr>\n    <tr>\n      <th>26</th>\n      <td>Март 2021</td>\n      <td>6974057</td>\n    </tr>\n    <tr>\n      <th>27</th>\n      <td>Апрель 2021</td>\n      <td>7684793</td>\n    </tr>\n    <tr>\n      <th>28</th>\n      <td>Май 2021</td>\n      <td>6119425</td>\n    </tr>\n    <tr>\n      <th>29</th>\n      <td>Июнь 2021</td>\n      <td>7362232</td>\n    </tr>\n    <tr>\n      <th>30</th>\n      <td>Июль 2021</td>\n      <td>8269601</td>\n    </tr>\n    <tr>\n      <th>31</th>\n      <td>Август 2021</td>\n      <td>8152489</td>\n    </tr>\n    <tr>\n      <th>32</th>\n      <td>Сентябрь 2021</td>\n      <td>7565255</td>\n    </tr>\n    <tr>\n      <th>33</th>\n      <td>Октябрь 2021</td>\n      <td>7414571</td>\n    </tr>\n    <tr>\n      <th>34</th>\n      <td>Ноябрь 2021</td>\n      <td>6982998</td>\n    </tr>\n    <tr>\n      <th>35</th>\n      <td>Декабрь 2021</td>\n      <td>9160939</td>\n    </tr>\n    <tr>\n      <th>36</th>\n      <td>Январь 2022</td>\n      <td>5399672</td>\n    </tr>\n    <tr>\n      <th>37</th>\n      <td>Февраль 2022</td>\n      <td>6370846</td>\n    </tr>\n    <tr>\n      <th>38</th>\n      <td>Март 2022</td>\n      <td>5318699</td>\n    </tr>\n    <tr>\n      <th>39</th>\n      <td>Апрель 2022</td>\n      <td>4768289</td>\n    </tr>\n    <tr>\n      <th>40</th>\n      <td>Май 2022</td>\n      <td>3932303</td>\n    </tr>\n    <tr>\n      <th>41</th>\n      <td>Июнь 2022</td>\n      <td>5209410</td>\n    </tr>\n    <tr>\n      <th>42</th>\n      <td>Июль 2022</td>\n      <td>4874474</td>\n    </tr>\n  </tbody>\n</table>\n</div>"
     },
     "execution_count": 257,
     "metadata": {},
     "output_type": "execute_result"
    }
   ],
   "source": [
    "res1"
   ],
   "metadata": {
    "collapsed": false
   }
  },
  {
   "cell_type": "code",
   "execution_count": 258,
   "outputs": [],
   "source": [
    "df2 = pd.DataFrame(df[:43])"
   ],
   "metadata": {
    "collapsed": false
   }
  },
  {
   "cell_type": "code",
   "execution_count": 259,
   "outputs": [],
   "source": [
    "df2 = df2.rename(columns={0: \"amount\"})"
   ],
   "metadata": {
    "collapsed": false
   }
  },
  {
   "cell_type": "code",
   "execution_count": 260,
   "outputs": [
    {
     "data": {
      "text/plain": "          amount\n0   0.000000e+00\n1   0.000000e+00\n2   0.000000e+00\n3   3.351258e+06\n4   3.351258e+06\n5   3.512462e+06\n6   1.527409e+07\n7   1.527409e+07\n8   1.527409e+07\n9   1.591606e+07\n10  3.896918e+08\n11  3.897596e+08\n12  3.881544e+08\n13  4.022400e+08\n14  4.528011e+08\n15  4.745978e+08\n16  5.709501e+08\n17  1.362508e+09\n18  1.364544e+09\n19  1.371093e+09\n20  1.520582e+09\n21  1.521780e+09\n22  1.559298e+09\n23  1.577431e+09\n24  1.596369e+09\n25  1.851649e+09\n26  2.387920e+09\n27  3.879498e+09\n28  4.781662e+09\n29  4.904258e+09\n30  5.141584e+09\n31  5.220770e+09\n32  5.059666e+09\n33  5.521585e+09\n34  5.653194e+09\n35  4.266043e+09\n36  2.452139e+09\n37  2.441731e+09\n38  2.145387e+09\n39  1.974752e+09\n40  1.971281e+09\n41  1.925256e+09\n42  1.920206e+09",
      "text/html": "<div>\n<style scoped>\n    .dataframe tbody tr th:only-of-type {\n        vertical-align: middle;\n    }\n\n    .dataframe tbody tr th {\n        vertical-align: top;\n    }\n\n    .dataframe thead th {\n        text-align: right;\n    }\n</style>\n<table border=\"1\" class=\"dataframe\">\n  <thead>\n    <tr style=\"text-align: right;\">\n      <th></th>\n      <th>amount</th>\n    </tr>\n  </thead>\n  <tbody>\n    <tr>\n      <th>0</th>\n      <td>0.000000e+00</td>\n    </tr>\n    <tr>\n      <th>1</th>\n      <td>0.000000e+00</td>\n    </tr>\n    <tr>\n      <th>2</th>\n      <td>0.000000e+00</td>\n    </tr>\n    <tr>\n      <th>3</th>\n      <td>3.351258e+06</td>\n    </tr>\n    <tr>\n      <th>4</th>\n      <td>3.351258e+06</td>\n    </tr>\n    <tr>\n      <th>5</th>\n      <td>3.512462e+06</td>\n    </tr>\n    <tr>\n      <th>6</th>\n      <td>1.527409e+07</td>\n    </tr>\n    <tr>\n      <th>7</th>\n      <td>1.527409e+07</td>\n    </tr>\n    <tr>\n      <th>8</th>\n      <td>1.527409e+07</td>\n    </tr>\n    <tr>\n      <th>9</th>\n      <td>1.591606e+07</td>\n    </tr>\n    <tr>\n      <th>10</th>\n      <td>3.896918e+08</td>\n    </tr>\n    <tr>\n      <th>11</th>\n      <td>3.897596e+08</td>\n    </tr>\n    <tr>\n      <th>12</th>\n      <td>3.881544e+08</td>\n    </tr>\n    <tr>\n      <th>13</th>\n      <td>4.022400e+08</td>\n    </tr>\n    <tr>\n      <th>14</th>\n      <td>4.528011e+08</td>\n    </tr>\n    <tr>\n      <th>15</th>\n      <td>4.745978e+08</td>\n    </tr>\n    <tr>\n      <th>16</th>\n      <td>5.709501e+08</td>\n    </tr>\n    <tr>\n      <th>17</th>\n      <td>1.362508e+09</td>\n    </tr>\n    <tr>\n      <th>18</th>\n      <td>1.364544e+09</td>\n    </tr>\n    <tr>\n      <th>19</th>\n      <td>1.371093e+09</td>\n    </tr>\n    <tr>\n      <th>20</th>\n      <td>1.520582e+09</td>\n    </tr>\n    <tr>\n      <th>21</th>\n      <td>1.521780e+09</td>\n    </tr>\n    <tr>\n      <th>22</th>\n      <td>1.559298e+09</td>\n    </tr>\n    <tr>\n      <th>23</th>\n      <td>1.577431e+09</td>\n    </tr>\n    <tr>\n      <th>24</th>\n      <td>1.596369e+09</td>\n    </tr>\n    <tr>\n      <th>25</th>\n      <td>1.851649e+09</td>\n    </tr>\n    <tr>\n      <th>26</th>\n      <td>2.387920e+09</td>\n    </tr>\n    <tr>\n      <th>27</th>\n      <td>3.879498e+09</td>\n    </tr>\n    <tr>\n      <th>28</th>\n      <td>4.781662e+09</td>\n    </tr>\n    <tr>\n      <th>29</th>\n      <td>4.904258e+09</td>\n    </tr>\n    <tr>\n      <th>30</th>\n      <td>5.141584e+09</td>\n    </tr>\n    <tr>\n      <th>31</th>\n      <td>5.220770e+09</td>\n    </tr>\n    <tr>\n      <th>32</th>\n      <td>5.059666e+09</td>\n    </tr>\n    <tr>\n      <th>33</th>\n      <td>5.521585e+09</td>\n    </tr>\n    <tr>\n      <th>34</th>\n      <td>5.653194e+09</td>\n    </tr>\n    <tr>\n      <th>35</th>\n      <td>4.266043e+09</td>\n    </tr>\n    <tr>\n      <th>36</th>\n      <td>2.452139e+09</td>\n    </tr>\n    <tr>\n      <th>37</th>\n      <td>2.441731e+09</td>\n    </tr>\n    <tr>\n      <th>38</th>\n      <td>2.145387e+09</td>\n    </tr>\n    <tr>\n      <th>39</th>\n      <td>1.974752e+09</td>\n    </tr>\n    <tr>\n      <th>40</th>\n      <td>1.971281e+09</td>\n    </tr>\n    <tr>\n      <th>41</th>\n      <td>1.925256e+09</td>\n    </tr>\n    <tr>\n      <th>42</th>\n      <td>1.920206e+09</td>\n    </tr>\n  </tbody>\n</table>\n</div>"
     },
     "execution_count": 260,
     "metadata": {},
     "output_type": "execute_result"
    }
   ],
   "source": [
    "df2"
   ],
   "metadata": {
    "collapsed": false
   }
  },
  {
   "cell_type": "code",
   "execution_count": 261,
   "outputs": [],
   "source": [
    "data1 = pd.concat([df2,res1], axis=1, join='inner')"
   ],
   "metadata": {
    "collapsed": false
   }
  },
  {
   "cell_type": "code",
   "execution_count": 262,
   "outputs": [],
   "source": [
    "data1 = data1.reindex(columns=['date', 'credit', 'amount'])\n"
   ],
   "metadata": {
    "collapsed": false
   }
  },
  {
   "cell_type": "code",
   "execution_count": 263,
   "outputs": [],
   "source": [
    "data1['N'] = list(range(1,44))"
   ],
   "metadata": {
    "collapsed": false
   }
  },
  {
   "cell_type": "code",
   "execution_count": 264,
   "outputs": [
    {
     "data": {
      "text/plain": "             date   credit        amount   N\n0     Январь 2019  3202534  0.000000e+00   1\n1    Февраль 2019  3504045  0.000000e+00   2\n2       Март 2019  4174296  0.000000e+00   3\n3     Апрель 2019  4637280  3.351258e+06   4\n4        Май 2019  3345201  3.351258e+06   5\n5       Июнь 2019  4124086  3.512462e+06   6\n6       Июль 2019  5143083  1.527409e+07   7\n7     Август 2019  5062245  1.527409e+07   8\n8   Сентябрь 2019  5264321  1.527409e+07   9\n9    Октябрь 2019  5693608  1.591606e+07  10\n10    Ноябрь 2019  5575864  3.896918e+08  11\n11   Декабрь 2019  7582892  3.897596e+08  12\n12    Январь 2020  4617861  3.881544e+08  13\n13   Февраль 2020  5544875  4.022400e+08  14\n14      Март 2020  6771485  4.528011e+08  15\n15    Апрель 2020  4850422  4.745978e+08  16\n16       Май 2020  4291769  5.709501e+08  17\n17      Июнь 2020  6156469  1.362508e+09  18\n18      Июль 2020  7509959  1.364544e+09  19\n19    Август 2020  6367608  1.371093e+09  20\n20  Сентябрь 2020  6903225  1.520582e+09  21\n21   Октябрь 2020  6848928  1.521780e+09  22\n22    Ноябрь 2020  6521792  1.559298e+09  23\n23   Декабрь 2020  8429181  1.577431e+09  24\n24    Январь 2021  4515167  1.596369e+09  25\n25   Февраль 2021  5449873  1.851649e+09  26\n26      Март 2021  6974057  2.387920e+09  27\n27    Апрель 2021  7684793  3.879498e+09  28\n28       Май 2021  6119425  4.781662e+09  29\n29      Июнь 2021  7362232  4.904258e+09  30\n30      Июль 2021  8269601  5.141584e+09  31\n31    Август 2021  8152489  5.220770e+09  32\n32  Сентябрь 2021  7565255  5.059666e+09  33\n33   Октябрь 2021  7414571  5.521585e+09  34\n34    Ноябрь 2021  6982998  5.653194e+09  35\n35   Декабрь 2021  9160939  4.266043e+09  36\n36    Январь 2022  5399672  2.452139e+09  37\n37   Февраль 2022  6370846  2.441731e+09  38\n38      Март 2022  5318699  2.145387e+09  39\n39    Апрель 2022  4768289  1.974752e+09  40\n40       Май 2022  3932303  1.971281e+09  41\n41      Июнь 2022  5209410  1.925256e+09  42\n42      Июль 2022  4874474  1.920206e+09  43",
      "text/html": "<div>\n<style scoped>\n    .dataframe tbody tr th:only-of-type {\n        vertical-align: middle;\n    }\n\n    .dataframe tbody tr th {\n        vertical-align: top;\n    }\n\n    .dataframe thead th {\n        text-align: right;\n    }\n</style>\n<table border=\"1\" class=\"dataframe\">\n  <thead>\n    <tr style=\"text-align: right;\">\n      <th></th>\n      <th>date</th>\n      <th>credit</th>\n      <th>amount</th>\n      <th>N</th>\n    </tr>\n  </thead>\n  <tbody>\n    <tr>\n      <th>0</th>\n      <td>Январь 2019</td>\n      <td>3202534</td>\n      <td>0.000000e+00</td>\n      <td>1</td>\n    </tr>\n    <tr>\n      <th>1</th>\n      <td>Февраль 2019</td>\n      <td>3504045</td>\n      <td>0.000000e+00</td>\n      <td>2</td>\n    </tr>\n    <tr>\n      <th>2</th>\n      <td>Март 2019</td>\n      <td>4174296</td>\n      <td>0.000000e+00</td>\n      <td>3</td>\n    </tr>\n    <tr>\n      <th>3</th>\n      <td>Апрель 2019</td>\n      <td>4637280</td>\n      <td>3.351258e+06</td>\n      <td>4</td>\n    </tr>\n    <tr>\n      <th>4</th>\n      <td>Май 2019</td>\n      <td>3345201</td>\n      <td>3.351258e+06</td>\n      <td>5</td>\n    </tr>\n    <tr>\n      <th>5</th>\n      <td>Июнь 2019</td>\n      <td>4124086</td>\n      <td>3.512462e+06</td>\n      <td>6</td>\n    </tr>\n    <tr>\n      <th>6</th>\n      <td>Июль 2019</td>\n      <td>5143083</td>\n      <td>1.527409e+07</td>\n      <td>7</td>\n    </tr>\n    <tr>\n      <th>7</th>\n      <td>Август 2019</td>\n      <td>5062245</td>\n      <td>1.527409e+07</td>\n      <td>8</td>\n    </tr>\n    <tr>\n      <th>8</th>\n      <td>Сентябрь 2019</td>\n      <td>5264321</td>\n      <td>1.527409e+07</td>\n      <td>9</td>\n    </tr>\n    <tr>\n      <th>9</th>\n      <td>Октябрь 2019</td>\n      <td>5693608</td>\n      <td>1.591606e+07</td>\n      <td>10</td>\n    </tr>\n    <tr>\n      <th>10</th>\n      <td>Ноябрь 2019</td>\n      <td>5575864</td>\n      <td>3.896918e+08</td>\n      <td>11</td>\n    </tr>\n    <tr>\n      <th>11</th>\n      <td>Декабрь 2019</td>\n      <td>7582892</td>\n      <td>3.897596e+08</td>\n      <td>12</td>\n    </tr>\n    <tr>\n      <th>12</th>\n      <td>Январь 2020</td>\n      <td>4617861</td>\n      <td>3.881544e+08</td>\n      <td>13</td>\n    </tr>\n    <tr>\n      <th>13</th>\n      <td>Февраль 2020</td>\n      <td>5544875</td>\n      <td>4.022400e+08</td>\n      <td>14</td>\n    </tr>\n    <tr>\n      <th>14</th>\n      <td>Март 2020</td>\n      <td>6771485</td>\n      <td>4.528011e+08</td>\n      <td>15</td>\n    </tr>\n    <tr>\n      <th>15</th>\n      <td>Апрель 2020</td>\n      <td>4850422</td>\n      <td>4.745978e+08</td>\n      <td>16</td>\n    </tr>\n    <tr>\n      <th>16</th>\n      <td>Май 2020</td>\n      <td>4291769</td>\n      <td>5.709501e+08</td>\n      <td>17</td>\n    </tr>\n    <tr>\n      <th>17</th>\n      <td>Июнь 2020</td>\n      <td>6156469</td>\n      <td>1.362508e+09</td>\n      <td>18</td>\n    </tr>\n    <tr>\n      <th>18</th>\n      <td>Июль 2020</td>\n      <td>7509959</td>\n      <td>1.364544e+09</td>\n      <td>19</td>\n    </tr>\n    <tr>\n      <th>19</th>\n      <td>Август 2020</td>\n      <td>6367608</td>\n      <td>1.371093e+09</td>\n      <td>20</td>\n    </tr>\n    <tr>\n      <th>20</th>\n      <td>Сентябрь 2020</td>\n      <td>6903225</td>\n      <td>1.520582e+09</td>\n      <td>21</td>\n    </tr>\n    <tr>\n      <th>21</th>\n      <td>Октябрь 2020</td>\n      <td>6848928</td>\n      <td>1.521780e+09</td>\n      <td>22</td>\n    </tr>\n    <tr>\n      <th>22</th>\n      <td>Ноябрь 2020</td>\n      <td>6521792</td>\n      <td>1.559298e+09</td>\n      <td>23</td>\n    </tr>\n    <tr>\n      <th>23</th>\n      <td>Декабрь 2020</td>\n      <td>8429181</td>\n      <td>1.577431e+09</td>\n      <td>24</td>\n    </tr>\n    <tr>\n      <th>24</th>\n      <td>Январь 2021</td>\n      <td>4515167</td>\n      <td>1.596369e+09</td>\n      <td>25</td>\n    </tr>\n    <tr>\n      <th>25</th>\n      <td>Февраль 2021</td>\n      <td>5449873</td>\n      <td>1.851649e+09</td>\n      <td>26</td>\n    </tr>\n    <tr>\n      <th>26</th>\n      <td>Март 2021</td>\n      <td>6974057</td>\n      <td>2.387920e+09</td>\n      <td>27</td>\n    </tr>\n    <tr>\n      <th>27</th>\n      <td>Апрель 2021</td>\n      <td>7684793</td>\n      <td>3.879498e+09</td>\n      <td>28</td>\n    </tr>\n    <tr>\n      <th>28</th>\n      <td>Май 2021</td>\n      <td>6119425</td>\n      <td>4.781662e+09</td>\n      <td>29</td>\n    </tr>\n    <tr>\n      <th>29</th>\n      <td>Июнь 2021</td>\n      <td>7362232</td>\n      <td>4.904258e+09</td>\n      <td>30</td>\n    </tr>\n    <tr>\n      <th>30</th>\n      <td>Июль 2021</td>\n      <td>8269601</td>\n      <td>5.141584e+09</td>\n      <td>31</td>\n    </tr>\n    <tr>\n      <th>31</th>\n      <td>Август 2021</td>\n      <td>8152489</td>\n      <td>5.220770e+09</td>\n      <td>32</td>\n    </tr>\n    <tr>\n      <th>32</th>\n      <td>Сентябрь 2021</td>\n      <td>7565255</td>\n      <td>5.059666e+09</td>\n      <td>33</td>\n    </tr>\n    <tr>\n      <th>33</th>\n      <td>Октябрь 2021</td>\n      <td>7414571</td>\n      <td>5.521585e+09</td>\n      <td>34</td>\n    </tr>\n    <tr>\n      <th>34</th>\n      <td>Ноябрь 2021</td>\n      <td>6982998</td>\n      <td>5.653194e+09</td>\n      <td>35</td>\n    </tr>\n    <tr>\n      <th>35</th>\n      <td>Декабрь 2021</td>\n      <td>9160939</td>\n      <td>4.266043e+09</td>\n      <td>36</td>\n    </tr>\n    <tr>\n      <th>36</th>\n      <td>Январь 2022</td>\n      <td>5399672</td>\n      <td>2.452139e+09</td>\n      <td>37</td>\n    </tr>\n    <tr>\n      <th>37</th>\n      <td>Февраль 2022</td>\n      <td>6370846</td>\n      <td>2.441731e+09</td>\n      <td>38</td>\n    </tr>\n    <tr>\n      <th>38</th>\n      <td>Март 2022</td>\n      <td>5318699</td>\n      <td>2.145387e+09</td>\n      <td>39</td>\n    </tr>\n    <tr>\n      <th>39</th>\n      <td>Апрель 2022</td>\n      <td>4768289</td>\n      <td>1.974752e+09</td>\n      <td>40</td>\n    </tr>\n    <tr>\n      <th>40</th>\n      <td>Май 2022</td>\n      <td>3932303</td>\n      <td>1.971281e+09</td>\n      <td>41</td>\n    </tr>\n    <tr>\n      <th>41</th>\n      <td>Июнь 2022</td>\n      <td>5209410</td>\n      <td>1.925256e+09</td>\n      <td>42</td>\n    </tr>\n    <tr>\n      <th>42</th>\n      <td>Июль 2022</td>\n      <td>4874474</td>\n      <td>1.920206e+09</td>\n      <td>43</td>\n    </tr>\n  </tbody>\n</table>\n</div>"
     },
     "execution_count": 264,
     "metadata": {},
     "output_type": "execute_result"
    }
   ],
   "source": [
    "data1"
   ],
   "metadata": {
    "collapsed": false
   }
  },
  {
   "cell_type": "code",
   "execution_count": 265,
   "outputs": [],
   "source": [
    "r1 = np.corrcoef(data1.N,data1.amount)"
   ],
   "metadata": {
    "collapsed": false
   }
  },
  {
   "cell_type": "code",
   "execution_count": 266,
   "outputs": [
    {
     "data": {
      "text/plain": "array([[1.        , 0.73510921],\n       [0.73510921, 1.        ]])"
     },
     "execution_count": 266,
     "metadata": {},
     "output_type": "execute_result"
    }
   ],
   "source": [
    "r1"
   ],
   "metadata": {
    "collapsed": false
   }
  },
  {
   "cell_type": "code",
   "execution_count": 267,
   "outputs": [],
   "source": [
    "r2 = np.corrcoef(data1.credit.astype(int),data1.amount)"
   ],
   "metadata": {
    "collapsed": false
   }
  },
  {
   "cell_type": "code",
   "execution_count": 268,
   "outputs": [
    {
     "data": {
      "text/plain": "array([[1.       , 0.6568592],\n       [0.6568592, 1.       ]])"
     },
     "execution_count": 268,
     "metadata": {},
     "output_type": "execute_result"
    }
   ],
   "source": [
    "r2"
   ],
   "metadata": {
    "collapsed": false
   }
  },
  {
   "cell_type": "code",
   "execution_count": 269,
   "outputs": [
    {
     "data": {
      "text/plain": "<Figure size 720x432 with 1 Axes>",
      "image/png": "[encoded data removed]"
     },
     "metadata": {
      "needs_background": "light"
     },
     "output_type": "display_data"
    }
   ],
   "source": [
    "x = data1.N\n",
    "y = data1.amount\n",
    "z = np.polyfit (x, y, 4 )\n",
    "p = np.poly1d (z)\n",
    "\n",
    "plt.figure(figsize=(10,6))\n",
    "plt.scatter(x,y)\n",
    "plt.plot (x, p(x))\n",
    "plt.legend(['r = 0.735109'])\n",
    "plt.show()"
   ],
   "metadata": {
    "collapsed": false
   }
  },
  {
   "cell_type": "code",
   "execution_count": 270,
   "outputs": [
    {
     "data": {
      "text/plain": "<Figure size 720x432 with 1 Axes>",
      "image/png": "[encoded data removed]"
     },
     "metadata": {
      "needs_background": "light"
     },
     "output_type": "display_data"
    }
   ],
   "source": [
    "x2 = data1.credit.astype(int)\n",
    "y2 = data1.amount\n",
    "plt.figure(figsize=(10,6))\n",
    "plt.scatter(x2,y2)\n",
    "plt.legend(['r = 0.656859'])\n",
    "plt.show()"
   ],
   "metadata": {
    "collapsed": false
   }
  },
  {
   "cell_type": "code",
   "execution_count": 271,
   "outputs": [],
   "source": [
    "import scipy.stats"
   ],
   "metadata": {
    "collapsed": false
   }
  },
  {
   "cell_type": "code",
   "execution_count": 272,
   "outputs": [],
   "source": [
    "slope, intercept, r, p, stderr = scipy.stats.linregress(x, y)"
   ],
   "metadata": {
    "collapsed": false
   }
  },
  {
   "cell_type": "code",
   "execution_count": 273,
   "outputs": [],
   "source": [
    "line = f'Regression line: y={intercept:.2f}+{slope:.2f}x, r={r:.2f}'"
   ],
   "metadata": {
    "collapsed": false
   }
  },
  {
   "cell_type": "code",
   "execution_count": 274,
   "outputs": [
    {
     "ename": "TypeError",
     "evalue": "from_bounds() missing 1 required positional argument: 'height'",
     "output_type": "error",
     "traceback": [
      "\u001B[1;31m---------------------------------------------------------------------------\u001B[0m",
      "\u001B[1;31mTypeError\u001B[0m                                 Traceback (most recent call last)",
      "Input \u001B[1;32mIn [274]\u001B[0m, in \u001B[0;36m<cell line: 1>\u001B[1;34m()\u001B[0m\n\u001B[1;32m----> 1\u001B[0m \u001B[43mplt\u001B[49m\u001B[38;5;241;43m.\u001B[39;49m\u001B[43mfigure\u001B[49m\u001B[43m(\u001B[49m\u001B[43mfigsize\u001B[49m\u001B[38;5;241;43m=\u001B[39;49m\u001B[43m(\u001B[49m\u001B[38;5;241;43m10\u001B[39;49m\u001B[43m,\u001B[49m\u001B[43m)\u001B[49m\u001B[43m)\u001B[49m\n\u001B[0;32m      2\u001B[0m fig, ax \u001B[38;5;241m=\u001B[39m plt\u001B[38;5;241m.\u001B[39msubplots()\n\u001B[0;32m      3\u001B[0m ax\u001B[38;5;241m.\u001B[39mplot(x, y, linewidth\u001B[38;5;241m=\u001B[39m\u001B[38;5;241m0\u001B[39m, marker\u001B[38;5;241m=\u001B[39m\u001B[38;5;124m'\u001B[39m\u001B[38;5;124m.\u001B[39m\u001B[38;5;124m'\u001B[39m, label\u001B[38;5;241m=\u001B[39m\u001B[38;5;124m'\u001B[39m\u001B[38;5;124mData points\u001B[39m\u001B[38;5;124m'\u001B[39m)\n",
      "File \u001B[1;32m~\\anaconda3\\lib\\site-packages\\matplotlib\\pyplot.py:787\u001B[0m, in \u001B[0;36mfigure\u001B[1;34m(num, figsize, dpi, facecolor, edgecolor, frameon, FigureClass, clear, **kwargs)\u001B[0m\n\u001B[0;32m    778\u001B[0m \u001B[38;5;28;01mif\u001B[39;00m \u001B[38;5;28mlen\u001B[39m(allnums) \u001B[38;5;241m==\u001B[39m max_open_warning \u001B[38;5;241m>\u001B[39m\u001B[38;5;241m=\u001B[39m \u001B[38;5;241m1\u001B[39m:\n\u001B[0;32m    779\u001B[0m     _api\u001B[38;5;241m.\u001B[39mwarn_external(\n\u001B[0;32m    780\u001B[0m         \u001B[38;5;124mf\u001B[39m\u001B[38;5;124m\"\u001B[39m\u001B[38;5;124mMore than \u001B[39m\u001B[38;5;132;01m{\u001B[39;00mmax_open_warning\u001B[38;5;132;01m}\u001B[39;00m\u001B[38;5;124m figures have been opened. \u001B[39m\u001B[38;5;124m\"\u001B[39m\n\u001B[0;32m    781\u001B[0m         \u001B[38;5;124mf\u001B[39m\u001B[38;5;124m\"\u001B[39m\u001B[38;5;124mFigures created through the pyplot interface \u001B[39m\u001B[38;5;124m\"\u001B[39m\n\u001B[1;32m   (...)\u001B[0m\n\u001B[0;32m    784\u001B[0m         \u001B[38;5;124mf\u001B[39m\u001B[38;5;124m\"\u001B[39m\u001B[38;5;124mwarning, see the rcParam `figure.max_open_warning`).\u001B[39m\u001B[38;5;124m\"\u001B[39m,\n\u001B[0;32m    785\u001B[0m         \u001B[38;5;167;01mRuntimeWarning\u001B[39;00m)\n\u001B[1;32m--> 787\u001B[0m manager \u001B[38;5;241m=\u001B[39m new_figure_manager(\n\u001B[0;32m    788\u001B[0m     num, figsize\u001B[38;5;241m=\u001B[39mfigsize, dpi\u001B[38;5;241m=\u001B[39mdpi,\n\u001B[0;32m    789\u001B[0m     facecolor\u001B[38;5;241m=\u001B[39mfacecolor, edgecolor\u001B[38;5;241m=\u001B[39medgecolor, frameon\u001B[38;5;241m=\u001B[39mframeon,\n\u001B[0;32m    790\u001B[0m     FigureClass\u001B[38;5;241m=\u001B[39mFigureClass, \u001B[38;5;241m*\u001B[39m\u001B[38;5;241m*\u001B[39mkwargs)\n\u001B[0;32m    791\u001B[0m fig \u001B[38;5;241m=\u001B[39m manager\u001B[38;5;241m.\u001B[39mcanvas\u001B[38;5;241m.\u001B[39mfigure\n\u001B[0;32m    792\u001B[0m \u001B[38;5;28;01mif\u001B[39;00m fig_label:\n",
      "File \u001B[1;32m~\\anaconda3\\lib\\site-packages\\matplotlib\\pyplot.py:306\u001B[0m, in \u001B[0;36mnew_figure_manager\u001B[1;34m(*args, **kwargs)\u001B[0m\n\u001B[0;32m    304\u001B[0m \u001B[38;5;124;03m\"\"\"Create a new figure manager instance.\"\"\"\u001B[39;00m\n\u001B[0;32m    305\u001B[0m _warn_if_gui_out_of_main_thread()\n\u001B[1;32m--> 306\u001B[0m \u001B[38;5;28;01mreturn\u001B[39;00m _backend_mod\u001B[38;5;241m.\u001B[39mnew_figure_manager(\u001B[38;5;241m*\u001B[39margs, \u001B[38;5;241m*\u001B[39m\u001B[38;5;241m*\u001B[39mkwargs)\n",
      "File \u001B[1;32m~\\anaconda3\\lib\\site-packages\\matplotlib\\backend_bases.py:3493\u001B[0m, in \u001B[0;36m_Backend.new_figure_manager\u001B[1;34m(cls, num, *args, **kwargs)\u001B[0m\n\u001B[0;32m   3491\u001B[0m \u001B[38;5;28;01mfrom\u001B[39;00m \u001B[38;5;21;01mmatplotlib\u001B[39;00m\u001B[38;5;21;01m.\u001B[39;00m\u001B[38;5;21;01mfigure\u001B[39;00m \u001B[38;5;28;01mimport\u001B[39;00m Figure\n\u001B[0;32m   3492\u001B[0m fig_cls \u001B[38;5;241m=\u001B[39m kwargs\u001B[38;5;241m.\u001B[39mpop(\u001B[38;5;124m'\u001B[39m\u001B[38;5;124mFigureClass\u001B[39m\u001B[38;5;124m'\u001B[39m, Figure)\n\u001B[1;32m-> 3493\u001B[0m fig \u001B[38;5;241m=\u001B[39m fig_cls(\u001B[38;5;241m*\u001B[39margs, \u001B[38;5;241m*\u001B[39m\u001B[38;5;241m*\u001B[39mkwargs)\n\u001B[0;32m   3494\u001B[0m \u001B[38;5;28;01mreturn\u001B[39;00m \u001B[38;5;28mcls\u001B[39m\u001B[38;5;241m.\u001B[39mnew_figure_manager_given_figure(num, fig)\n",
      "File \u001B[1;32m~\\anaconda3\\lib\\site-packages\\matplotlib\\figure.py:2282\u001B[0m, in \u001B[0;36mFigure.__init__\u001B[1;34m(self, figsize, dpi, facecolor, edgecolor, linewidth, frameon, subplotpars, tight_layout, constrained_layout, layout, **kwargs)\u001B[0m\n\u001B[0;32m   2279\u001B[0m \u001B[38;5;28;01mif\u001B[39;00m \u001B[38;5;129;01mnot\u001B[39;00m np\u001B[38;5;241m.\u001B[39misfinite(figsize)\u001B[38;5;241m.\u001B[39mall() \u001B[38;5;129;01mor\u001B[39;00m (np\u001B[38;5;241m.\u001B[39marray(figsize) \u001B[38;5;241m<\u001B[39m \u001B[38;5;241m0\u001B[39m)\u001B[38;5;241m.\u001B[39many():\n\u001B[0;32m   2280\u001B[0m     \u001B[38;5;28;01mraise\u001B[39;00m \u001B[38;5;167;01mValueError\u001B[39;00m(\u001B[38;5;124m'\u001B[39m\u001B[38;5;124mfigure size must be positive finite not \u001B[39m\u001B[38;5;124m'\u001B[39m\n\u001B[0;32m   2281\u001B[0m                      \u001B[38;5;124mf\u001B[39m\u001B[38;5;124m'\u001B[39m\u001B[38;5;132;01m{\u001B[39;00mfigsize\u001B[38;5;132;01m}\u001B[39;00m\u001B[38;5;124m'\u001B[39m)\n\u001B[1;32m-> 2282\u001B[0m \u001B[38;5;28mself\u001B[39m\u001B[38;5;241m.\u001B[39mbbox_inches \u001B[38;5;241m=\u001B[39m \u001B[43mBbox\u001B[49m\u001B[38;5;241;43m.\u001B[39;49m\u001B[43mfrom_bounds\u001B[49m\u001B[43m(\u001B[49m\u001B[38;5;241;43m0\u001B[39;49m\u001B[43m,\u001B[49m\u001B[43m \u001B[49m\u001B[38;5;241;43m0\u001B[39;49m\u001B[43m,\u001B[49m\u001B[43m \u001B[49m\u001B[38;5;241;43m*\u001B[39;49m\u001B[43mfigsize\u001B[49m\u001B[43m)\u001B[49m\n\u001B[0;32m   2284\u001B[0m \u001B[38;5;28mself\u001B[39m\u001B[38;5;241m.\u001B[39mdpi_scale_trans \u001B[38;5;241m=\u001B[39m Affine2D()\u001B[38;5;241m.\u001B[39mscale(dpi)\n\u001B[0;32m   2285\u001B[0m \u001B[38;5;66;03m# do not use property as it will trigger\u001B[39;00m\n",
      "\u001B[1;31mTypeError\u001B[0m: from_bounds() missing 1 required positional argument: 'height'"
     ]
    }
   ],
   "source": [
    "plt.figure(figsize=(10,))\n",
    "fig, ax = plt.subplots()\n",
    "ax.plot(x, y, linewidth=0, marker='.', label='Data points')\n",
    "ax.plot(x, intercept + slope * x, label=\"Regression Line\")\n",
    "ax.set_xlabel('x')\n",
    "ax.set_ylabel('y')\n",
    "ax.legend(facecolor='white')\n",
    "plt.show()"
   ],
   "metadata": {
    "collapsed": false
   }
  },
  {
   "cell_type": "code",
   "execution_count": null,
   "outputs": [],
   "source": [],
   "metadata": {
    "collapsed": false
   }
  }
 ],
 "metadata": {
  "kernelspec": {
   "display_name": "Python 3",
   "language": "python",
   "name": "python3"
  },
  "language_info": {
   "codemirror_mode": {
    "name": "ipython",
    "version": 2
   },
   "file_extension": ".py",
   "mimetype": "text/x-python",
   "name": "python",
   "nbconvert_exporter": "python",
   "pygments_lexer": "ipython2",
   "version": "2.7.6"
  }
 },
 "nbformat": 4,
 "nbformat_minor": 0
}
