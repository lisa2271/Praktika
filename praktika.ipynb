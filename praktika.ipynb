{
 "cells": [
  {
   "cell_type": "code",
   "execution_count": 4,
   "metadata": {
    "collapsed": true
   },
   "outputs": [],
   "source": [
    "import numpy as np\n",
    "import pandas as pd\n",
    "import os\n",
    "import datetime\n",
    "import matplotlib.pyplot as plt\n",
    "from statsmodels.tsa.seasonal import STL\n",
    "from statsmodels.graphics.tsaplots import plot_acf"
   ]
  },
  {
   "cell_type": "code",
   "execution_count": 5,
   "outputs": [],
   "source": [
    "files = os.listdir('C:\\\\Users\\\\gosti\\\\Downloads\\\\Telegram Desktop\\\\results\\\\results')"
   ],
   "metadata": {
    "collapsed": false
   }
  },
  {
   "cell_type": "code",
   "execution_count": 6,
   "outputs": [],
   "source": [
    "dfs = []\n",
    "for f in files:\n",
    "    df1 = pd.read_csv('C:\\\\Users\\\\gosti\\\\Downloads\\\\Telegram Desktop\\\\results\\\\results\\\\Adygeja_Resp_2022-03-20.csv', encoding = 'utf-8')\n",
    "    dfs.append(df1)"
   ],
   "metadata": {
    "collapsed": false
   }
  },
  {
   "cell_type": "code",
   "execution_count": 7,
   "outputs": [],
   "source": [
    "data = pd.concat(dfs)"
   ],
   "metadata": {
    "collapsed": false
   }
  },
  {
   "cell_type": "code",
   "execution_count": 8,
   "outputs": [
    {
     "data": {
      "text/plain": "                       Unnamed: 0  Январь 2019  Февраль 2019  Март 2019  \\\n0            РОССИЙСКАЯ ФЕДЕРАЦИЯ      3202534       3504045    4174296   \n1   ЦЕНТРАЛЬНЫЙ ФЕДЕРАЛЬНЫЙ ОКРУГ      2202020       2361149    2790972   \n2            Белгородская область        10656         13641      22394   \n3                Брянская область         3968          7068      11434   \n4            Владимирская область         6898          6571       8488   \n..                            ...          ...           ...        ...   \n91               Амурская область         3585          3556       6316   \n92            Магаданская область         2708          3056       5254   \n93            Сахалинская область         2723          4131       3855   \n94   Еврейская автономная область          183           162      15079   \n95     Чукотский автономный округ          522           424        965   \n\n    Апрель 2019  Май 2019  Июнь 2019  Июль 2019  Август 2019  Сентябрь 2019  \\\n0       4637280   3345201    4124086    5143083      5062245        5264321   \n1       3049199   2151149    2681735    3624143      3615662        3569935   \n2         33260     15048      16404      23440        21638          32400   \n3          6742      6153      10049       8571         8093           8299   \n4          9735      9273      10299      12018        14054          12856   \n..          ...       ...        ...        ...          ...            ...   \n91         6126      6516       4082       5418         3189           4837   \n92         4551      1869       5002       4550         4884           9568   \n93        12035      5664       4092       5864         4025           8775   \n94          596       672        183        441          207            272   \n95         1026       496        354       1671         2662            265   \n\n    ...  Октябрь 2021  Ноябрь 2021  Декабрь 2021  Январь 2022  Февраль 2022  \\\n0   ...       7414571      6982998       9160939      5399672       6370846   \n1   ...       5221385      5060629       6416921      3846772       4306586   \n2   ...         30885        32346         29733        21701         27127   \n3   ...         12103        13204         12104         7712         10633   \n4   ...         14354        15666         16622        10490         19408   \n..  ...           ...          ...           ...          ...           ...   \n91  ...         12191        10364        124977        18669         32695   \n92  ...          7156         5385          8156         4188          6608   \n93  ...          5815         3842          6952         4051         10392   \n94  ...           547          326           797          188           367   \n95  ...           263          387           598          787           176   \n\n    Март 2022  Апрель 2022  Май 2022  Июнь 2022  Июль 2022  \n0     5318699      4768289   3932303    5209410    4874474  \n1     3412877      2843099   2393340    3238339    3084991  \n2       34418        38343     61199      37831      18814  \n3       11670        14354     11741       9777       9017  \n4       14412        14385     14773      12162      11735  \n..        ...          ...       ...        ...        ...  \n91       7322         5921      4359      31936       4607  \n92       8787         8179     10366       5201       5641  \n93       3244         4797      4908       5760      13035  \n94        375          314       305        229        184  \n95        100          484      1042       3121       3596  \n\n[96 rows x 44 columns]",
      "text/html": "<div>\n<style scoped>\n    .dataframe tbody tr th:only-of-type {\n        vertical-align: middle;\n    }\n\n    .dataframe tbody tr th {\n        vertical-align: top;\n    }\n\n    .dataframe thead th {\n        text-align: right;\n    }\n</style>\n<table border=\"1\" class=\"dataframe\">\n  <thead>\n    <tr style=\"text-align: right;\">\n      <th></th>\n      <th>Unnamed: 0</th>\n      <th>Январь 2019</th>\n      <th>Февраль 2019</th>\n      <th>Март 2019</th>\n      <th>Апрель 2019</th>\n      <th>Май 2019</th>\n      <th>Июнь 2019</th>\n      <th>Июль 2019</th>\n      <th>Август 2019</th>\n      <th>Сентябрь 2019</th>\n      <th>...</th>\n      <th>Октябрь 2021</th>\n      <th>Ноябрь 2021</th>\n      <th>Декабрь 2021</th>\n      <th>Январь 2022</th>\n      <th>Февраль 2022</th>\n      <th>Март 2022</th>\n      <th>Апрель 2022</th>\n      <th>Май 2022</th>\n      <th>Июнь 2022</th>\n      <th>Июль 2022</th>\n    </tr>\n  </thead>\n  <tbody>\n    <tr>\n      <th>0</th>\n      <td>РОССИЙСКАЯ ФЕДЕРАЦИЯ</td>\n      <td>3202534</td>\n      <td>3504045</td>\n      <td>4174296</td>\n      <td>4637280</td>\n      <td>3345201</td>\n      <td>4124086</td>\n      <td>5143083</td>\n      <td>5062245</td>\n      <td>5264321</td>\n      <td>...</td>\n      <td>7414571</td>\n      <td>6982998</td>\n      <td>9160939</td>\n      <td>5399672</td>\n      <td>6370846</td>\n      <td>5318699</td>\n      <td>4768289</td>\n      <td>3932303</td>\n      <td>5209410</td>\n      <td>4874474</td>\n    </tr>\n    <tr>\n      <th>1</th>\n      <td>ЦЕНТРАЛЬНЫЙ ФЕДЕРАЛЬНЫЙ ОКРУГ</td>\n      <td>2202020</td>\n      <td>2361149</td>\n      <td>2790972</td>\n      <td>3049199</td>\n      <td>2151149</td>\n      <td>2681735</td>\n      <td>3624143</td>\n      <td>3615662</td>\n      <td>3569935</td>\n      <td>...</td>\n      <td>5221385</td>\n      <td>5060629</td>\n      <td>6416921</td>\n      <td>3846772</td>\n      <td>4306586</td>\n      <td>3412877</td>\n      <td>2843099</td>\n      <td>2393340</td>\n      <td>3238339</td>\n      <td>3084991</td>\n    </tr>\n    <tr>\n      <th>2</th>\n      <td>Белгородская область</td>\n      <td>10656</td>\n      <td>13641</td>\n      <td>22394</td>\n      <td>33260</td>\n      <td>15048</td>\n      <td>16404</td>\n      <td>23440</td>\n      <td>21638</td>\n      <td>32400</td>\n      <td>...</td>\n      <td>30885</td>\n      <td>32346</td>\n      <td>29733</td>\n      <td>21701</td>\n      <td>27127</td>\n      <td>34418</td>\n      <td>38343</td>\n      <td>61199</td>\n      <td>37831</td>\n      <td>18814</td>\n    </tr>\n    <tr>\n      <th>3</th>\n      <td>Брянская область</td>\n      <td>3968</td>\n      <td>7068</td>\n      <td>11434</td>\n      <td>6742</td>\n      <td>6153</td>\n      <td>10049</td>\n      <td>8571</td>\n      <td>8093</td>\n      <td>8299</td>\n      <td>...</td>\n      <td>12103</td>\n      <td>13204</td>\n      <td>12104</td>\n      <td>7712</td>\n      <td>10633</td>\n      <td>11670</td>\n      <td>14354</td>\n      <td>11741</td>\n      <td>9777</td>\n      <td>9017</td>\n    </tr>\n    <tr>\n      <th>4</th>\n      <td>Владимирская область</td>\n      <td>6898</td>\n      <td>6571</td>\n      <td>8488</td>\n      <td>9735</td>\n      <td>9273</td>\n      <td>10299</td>\n      <td>12018</td>\n      <td>14054</td>\n      <td>12856</td>\n      <td>...</td>\n      <td>14354</td>\n      <td>15666</td>\n      <td>16622</td>\n      <td>10490</td>\n      <td>19408</td>\n      <td>14412</td>\n      <td>14385</td>\n      <td>14773</td>\n      <td>12162</td>\n      <td>11735</td>\n    </tr>\n    <tr>\n      <th>...</th>\n      <td>...</td>\n      <td>...</td>\n      <td>...</td>\n      <td>...</td>\n      <td>...</td>\n      <td>...</td>\n      <td>...</td>\n      <td>...</td>\n      <td>...</td>\n      <td>...</td>\n      <td>...</td>\n      <td>...</td>\n      <td>...</td>\n      <td>...</td>\n      <td>...</td>\n      <td>...</td>\n      <td>...</td>\n      <td>...</td>\n      <td>...</td>\n      <td>...</td>\n      <td>...</td>\n    </tr>\n    <tr>\n      <th>91</th>\n      <td>Амурская область</td>\n      <td>3585</td>\n      <td>3556</td>\n      <td>6316</td>\n      <td>6126</td>\n      <td>6516</td>\n      <td>4082</td>\n      <td>5418</td>\n      <td>3189</td>\n      <td>4837</td>\n      <td>...</td>\n      <td>12191</td>\n      <td>10364</td>\n      <td>124977</td>\n      <td>18669</td>\n      <td>32695</td>\n      <td>7322</td>\n      <td>5921</td>\n      <td>4359</td>\n      <td>31936</td>\n      <td>4607</td>\n    </tr>\n    <tr>\n      <th>92</th>\n      <td>Магаданская область</td>\n      <td>2708</td>\n      <td>3056</td>\n      <td>5254</td>\n      <td>4551</td>\n      <td>1869</td>\n      <td>5002</td>\n      <td>4550</td>\n      <td>4884</td>\n      <td>9568</td>\n      <td>...</td>\n      <td>7156</td>\n      <td>5385</td>\n      <td>8156</td>\n      <td>4188</td>\n      <td>6608</td>\n      <td>8787</td>\n      <td>8179</td>\n      <td>10366</td>\n      <td>5201</td>\n      <td>5641</td>\n    </tr>\n    <tr>\n      <th>93</th>\n      <td>Сахалинская область</td>\n      <td>2723</td>\n      <td>4131</td>\n      <td>3855</td>\n      <td>12035</td>\n      <td>5664</td>\n      <td>4092</td>\n      <td>5864</td>\n      <td>4025</td>\n      <td>8775</td>\n      <td>...</td>\n      <td>5815</td>\n      <td>3842</td>\n      <td>6952</td>\n      <td>4051</td>\n      <td>10392</td>\n      <td>3244</td>\n      <td>4797</td>\n      <td>4908</td>\n      <td>5760</td>\n      <td>13035</td>\n    </tr>\n    <tr>\n      <th>94</th>\n      <td>Еврейская автономная область</td>\n      <td>183</td>\n      <td>162</td>\n      <td>15079</td>\n      <td>596</td>\n      <td>672</td>\n      <td>183</td>\n      <td>441</td>\n      <td>207</td>\n      <td>272</td>\n      <td>...</td>\n      <td>547</td>\n      <td>326</td>\n      <td>797</td>\n      <td>188</td>\n      <td>367</td>\n      <td>375</td>\n      <td>314</td>\n      <td>305</td>\n      <td>229</td>\n      <td>184</td>\n    </tr>\n    <tr>\n      <th>95</th>\n      <td>Чукотский автономный округ</td>\n      <td>522</td>\n      <td>424</td>\n      <td>965</td>\n      <td>1026</td>\n      <td>496</td>\n      <td>354</td>\n      <td>1671</td>\n      <td>2662</td>\n      <td>265</td>\n      <td>...</td>\n      <td>263</td>\n      <td>387</td>\n      <td>598</td>\n      <td>787</td>\n      <td>176</td>\n      <td>100</td>\n      <td>484</td>\n      <td>1042</td>\n      <td>3121</td>\n      <td>3596</td>\n    </tr>\n  </tbody>\n</table>\n<p>96 rows × 44 columns</p>\n</div>"
     },
     "execution_count": 8,
     "metadata": {},
     "output_type": "execute_result"
    }
   ],
   "source": [
    "results = pd.read_excel(r'C:\\\\Users\\\\gosti\\\\Downloads\\\\Telegram Desktop\\\\01_04_D_New_loans_subj.xlsx', sheet_name='итого', header=1)\n",
    "results"
   ],
   "metadata": {
    "collapsed": false
   }
  },
  {
   "cell_type": "code",
   "execution_count": 9,
   "outputs": [
    {
     "data": {
      "text/plain": "      Unnamed: 0             obj hash              name              reg num  \\\n0              0  3793294491059705333  contracts_output  1010101008321000004   \n1              1 -4348589201702449915  contracts_output  1010400570119000014   \n2              2  7104910193783858246  contracts_output  1010400570119000016   \n3              3 -1585908082334183978  contracts_output  1010400570119000027   \n4              4 -3961364508861951295  contracts_output  1010400570119000027   \n...          ...                  ...               ...                  ...   \n6359        6359 -4906157625135826188  contracts_output  3010800386421000022   \n6360        6360 -8165939967697628755  contracts_output  3010800386421000022   \n6361        6361  -725861710018253917  contracts_output  3010800386421000025   \n6362        6362 -2881107635711435453  contracts_output  3010800386421000025   \n6363        6363 -1158808855413502250  contracts_output  3010800386422000008   \n\n       sign date  suppliers count     st date    end date       price  \\\n0     2021-09-27                1  2021-09-27  2021-12-31   500000.00   \n1     2019-08-08                1  2021-01-01  2021-12-31   933718.40   \n2     2019-09-03                1  2021-01-01  2021-12-31   125125.25   \n3     2019-09-24                1  2021-01-01  2021-12-31   355169.38   \n4     2019-09-24                1  2021-01-01  2021-12-31   388020.88   \n...          ...              ...         ...         ...         ...   \n6359  2021-10-04                1  2021-10-04  2022-01-31  1452000.00   \n6360  2021-10-04                1  2021-10-04  2022-01-31  1452000.00   \n6361  2021-10-25                1  2021-10-25  2021-12-31   106600.00   \n6362  2021-10-25                1  2021-10-25  2021-12-31   106599.90   \n6363  2022-02-21                1  2022-03-01  2022-07-31   520192.00   \n\n      enforcement     amount        bg  \n0               1   25000.00  0.050000  \n1               1  373500.00  0.400014  \n2               0    6256.26  0.050000  \n3               1   19878.00  0.055968  \n4               1   19878.00  0.051229  \n...           ...        ...       ...  \n6359            0   72600.00  0.050000  \n6360            0   72600.00  0.050000  \n6361            1    5500.00  0.051595  \n6362            1    5500.00  0.051595  \n6363            0   26009.60  0.050000  \n\n[6359 rows x 12 columns]",
      "text/html": "<div>\n<style scoped>\n    .dataframe tbody tr th:only-of-type {\n        vertical-align: middle;\n    }\n\n    .dataframe tbody tr th {\n        vertical-align: top;\n    }\n\n    .dataframe thead th {\n        text-align: right;\n    }\n</style>\n<table border=\"1\" class=\"dataframe\">\n  <thead>\n    <tr style=\"text-align: right;\">\n      <th></th>\n      <th>Unnamed: 0</th>\n      <th>obj hash</th>\n      <th>name</th>\n      <th>reg num</th>\n      <th>sign date</th>\n      <th>suppliers count</th>\n      <th>st date</th>\n      <th>end date</th>\n      <th>price</th>\n      <th>enforcement</th>\n      <th>amount</th>\n      <th>bg</th>\n    </tr>\n  </thead>\n  <tbody>\n    <tr>\n      <th>0</th>\n      <td>0</td>\n      <td>3793294491059705333</td>\n      <td>contracts_output</td>\n      <td>1010101008321000004</td>\n      <td>2021-09-27</td>\n      <td>1</td>\n      <td>2021-09-27</td>\n      <td>2021-12-31</td>\n      <td>500000.00</td>\n      <td>1</td>\n      <td>25000.00</td>\n      <td>0.050000</td>\n    </tr>\n    <tr>\n      <th>1</th>\n      <td>1</td>\n      <td>-4348589201702449915</td>\n      <td>contracts_output</td>\n      <td>1010400570119000014</td>\n      <td>2019-08-08</td>\n      <td>1</td>\n      <td>2021-01-01</td>\n      <td>2021-12-31</td>\n      <td>933718.40</td>\n      <td>1</td>\n      <td>373500.00</td>\n      <td>0.400014</td>\n    </tr>\n    <tr>\n      <th>2</th>\n      <td>2</td>\n      <td>7104910193783858246</td>\n      <td>contracts_output</td>\n      <td>1010400570119000016</td>\n      <td>2019-09-03</td>\n      <td>1</td>\n      <td>2021-01-01</td>\n      <td>2021-12-31</td>\n      <td>125125.25</td>\n      <td>0</td>\n      <td>6256.26</td>\n      <td>0.050000</td>\n    </tr>\n    <tr>\n      <th>3</th>\n      <td>3</td>\n      <td>-1585908082334183978</td>\n      <td>contracts_output</td>\n      <td>1010400570119000027</td>\n      <td>2019-09-24</td>\n      <td>1</td>\n      <td>2021-01-01</td>\n      <td>2021-12-31</td>\n      <td>355169.38</td>\n      <td>1</td>\n      <td>19878.00</td>\n      <td>0.055968</td>\n    </tr>\n    <tr>\n      <th>4</th>\n      <td>4</td>\n      <td>-3961364508861951295</td>\n      <td>contracts_output</td>\n      <td>1010400570119000027</td>\n      <td>2019-09-24</td>\n      <td>1</td>\n      <td>2021-01-01</td>\n      <td>2021-12-31</td>\n      <td>388020.88</td>\n      <td>1</td>\n      <td>19878.00</td>\n      <td>0.051229</td>\n    </tr>\n    <tr>\n      <th>...</th>\n      <td>...</td>\n      <td>...</td>\n      <td>...</td>\n      <td>...</td>\n      <td>...</td>\n      <td>...</td>\n      <td>...</td>\n      <td>...</td>\n      <td>...</td>\n      <td>...</td>\n      <td>...</td>\n      <td>...</td>\n    </tr>\n    <tr>\n      <th>6359</th>\n      <td>6359</td>\n      <td>-4906157625135826188</td>\n      <td>contracts_output</td>\n      <td>3010800386421000022</td>\n      <td>2021-10-04</td>\n      <td>1</td>\n      <td>2021-10-04</td>\n      <td>2022-01-31</td>\n      <td>1452000.00</td>\n      <td>0</td>\n      <td>72600.00</td>\n      <td>0.050000</td>\n    </tr>\n    <tr>\n      <th>6360</th>\n      <td>6360</td>\n      <td>-8165939967697628755</td>\n      <td>contracts_output</td>\n      <td>3010800386421000022</td>\n      <td>2021-10-04</td>\n      <td>1</td>\n      <td>2021-10-04</td>\n      <td>2022-01-31</td>\n      <td>1452000.00</td>\n      <td>0</td>\n      <td>72600.00</td>\n      <td>0.050000</td>\n    </tr>\n    <tr>\n      <th>6361</th>\n      <td>6361</td>\n      <td>-725861710018253917</td>\n      <td>contracts_output</td>\n      <td>3010800386421000025</td>\n      <td>2021-10-25</td>\n      <td>1</td>\n      <td>2021-10-25</td>\n      <td>2021-12-31</td>\n      <td>106600.00</td>\n      <td>1</td>\n      <td>5500.00</td>\n      <td>0.051595</td>\n    </tr>\n    <tr>\n      <th>6362</th>\n      <td>6362</td>\n      <td>-2881107635711435453</td>\n      <td>contracts_output</td>\n      <td>3010800386421000025</td>\n      <td>2021-10-25</td>\n      <td>1</td>\n      <td>2021-10-25</td>\n      <td>2021-12-31</td>\n      <td>106599.90</td>\n      <td>1</td>\n      <td>5500.00</td>\n      <td>0.051595</td>\n    </tr>\n    <tr>\n      <th>6363</th>\n      <td>6363</td>\n      <td>-1158808855413502250</td>\n      <td>contracts_output</td>\n      <td>3010800386422000008</td>\n      <td>2022-02-21</td>\n      <td>1</td>\n      <td>2022-03-01</td>\n      <td>2022-07-31</td>\n      <td>520192.00</td>\n      <td>0</td>\n      <td>26009.60</td>\n      <td>0.050000</td>\n    </tr>\n  </tbody>\n</table>\n<p>6359 rows × 12 columns</p>\n</div>"
     },
     "execution_count": 9,
     "metadata": {},
     "output_type": "execute_result"
    }
   ],
   "source": [
    "data = data.drop(columns=data[['customer inn', 'supplier inn', 'protocol date', 'doc']])\n",
    "data = data.assign(bg=data.amount / data.price)\n",
    "data = data.drop_duplicates()\n",
    "data = data[data.bg <= 1]\n",
    "data"
   ],
   "metadata": {
    "collapsed": false
   }
  },
  {
   "cell_type": "code",
   "execution_count": 10,
   "outputs": [],
   "source": [
    "data['st date'] = data['st date'].astype('datetime64[ns]')\n",
    "data['end date'] = data['end date'].astype('datetime64[ns]')"
   ],
   "metadata": {
    "collapsed": false
   }
  },
  {
   "cell_type": "code",
   "execution_count": 11,
   "outputs": [],
   "source": [
    "date_list = pd.date_range('01.01.2019', '01.05.2023', freq='M')"
   ],
   "metadata": {
    "collapsed": false
   }
  },
  {
   "cell_type": "code",
   "execution_count": 12,
   "outputs": [],
   "source": [
    "t = (data.iloc[1])"
   ],
   "metadata": {
    "collapsed": false
   }
  },
  {
   "cell_type": "code",
   "execution_count": 13,
   "outputs": [],
   "source": [
    "d = list(map(lambda x: datetime.datetime(2019,6,25)<= x<= datetime.datetime(2021,12,31),date_list))"
   ],
   "metadata": {
    "collapsed": false
   }
  },
  {
   "cell_type": "code",
   "execution_count": 14,
   "outputs": [],
   "source": [
    "def check(st, end):\n",
    "    return list(map(lambda x: st<= x <= end, date_list))"
   ],
   "metadata": {
    "collapsed": false
   }
  },
  {
   "cell_type": "code",
   "execution_count": 15,
   "outputs": [],
   "source": [
    "t_arr = np.zeros(len(date_list))"
   ],
   "metadata": {
    "collapsed": false
   }
  },
  {
   "cell_type": "code",
   "execution_count": 16,
   "outputs": [],
   "source": [
    "for r in data.iterrows():\n",
    "    t_arr+=np.array(check(r[1]['st date'], r[1]['end date'])) * r[1]['amount']"
   ],
   "metadata": {
    "collapsed": false
   }
  },
  {
   "cell_type": "code",
   "execution_count": 17,
   "outputs": [],
   "source": [
    "df = pd.DataFrame(t_arr)"
   ],
   "metadata": {
    "collapsed": false
   }
  },
  {
   "cell_type": "code",
   "execution_count": 18,
   "outputs": [
    {
     "data": {
      "text/plain": "array([0.00000000e+00, 0.00000000e+00, 0.00000000e+00, 3.35125800e+06,\n       3.35125800e+06, 3.51246190e+06, 1.52740937e+07, 1.52740937e+07,\n       1.52740937e+07, 1.59160563e+07, 3.89691768e+08, 3.89759621e+08,\n       3.88154395e+08, 4.02240035e+08, 4.52801145e+08, 4.74597792e+08,\n       5.70950077e+08, 1.36250850e+09, 1.36454380e+09, 1.37109330e+09,\n       1.52058201e+09, 1.52178014e+09, 1.55929842e+09, 1.57743131e+09,\n       1.59636854e+09, 1.85164850e+09, 2.38791960e+09, 3.87949800e+09,\n       4.78166245e+09, 4.90425817e+09, 5.14158360e+09, 5.22076973e+09,\n       5.05966589e+09, 5.52158463e+09, 5.65319448e+09, 4.26604306e+09,\n       2.45213939e+09, 2.44173101e+09, 2.14538657e+09, 1.97475195e+09,\n       1.97128065e+09, 1.92525599e+09, 1.92020616e+09, 1.91925165e+09,\n       1.87933916e+09, 1.73247153e+09, 1.73171462e+09, 4.95965493e+08])"
     },
     "execution_count": 18,
     "metadata": {},
     "output_type": "execute_result"
    }
   ],
   "source": [
    "t_arr"
   ],
   "metadata": {
    "collapsed": false
   }
  },
  {
   "cell_type": "code",
   "execution_count": 19,
   "outputs": [
    {
     "data": {
      "text/plain": "<AxesSubplot:>"
     },
     "execution_count": 19,
     "metadata": {},
     "output_type": "execute_result"
    },
    {
     "data": {
      "text/plain": "<Figure size 504x360 with 1 Axes>",
      "image/png": "[encoded data removed]"
     },
     "metadata": {
      "needs_background": "light"
     },
     "output_type": "display_data"
    },
    {
     "data": {
      "text/plain": "<Figure size 504x360 with 1 Axes>",
      "image/png": "[encoded data removed]"
     },
     "metadata": {
      "needs_background": "light"
     },
     "output_type": "display_data"
    }
   ],
   "source": [
    "from pylab import rcParams\n",
    "rcParams['figure.figsize'] = 7,5\n",
    "plt.xlabel('Период')\n",
    "plt.ylabel('Сумма гарантии')\n",
    "plt.title('Зависимость размера банковских гарантий от времени')\n",
    "df.plot()"
   ],
   "metadata": {
    "collapsed": false
   }
  },
  {
   "cell_type": "markdown",
   "source": [
    "# Задачи\n",
    "* Подгрузка данных и их форматирование\n",
    "* Анализ Корреляции двух рядов\n",
    "* Продумать методы прогнозирования ряда\n",
    " + Какие модели можно использовать\n",
    " + Что делать с идеей аккумулирующего эффекта\n",
    " + Первый драфт\n"
   ],
   "metadata": {
    "collapsed": false
   }
  },
  {
   "cell_type": "code",
   "execution_count": 20,
   "outputs": [],
   "source": [
    "res = pd.DataFrame(results.iloc[0])"
   ],
   "metadata": {
    "collapsed": false
   }
  },
  {
   "cell_type": "code",
   "execution_count": 21,
   "outputs": [
    {
     "name": "stderr",
     "output_type": "stream",
     "text": [
      "C:\\Users\\gosti\\anaconda3\\lib\\site-packages\\IPython\\core\\interactiveshell.py:3369: UserWarning: Parsing '31.01.2019' in DD/MM/YYYY format. Provide format or specify infer_datetime_format=True for consistent parsing.\n",
      "  exec(code_obj, self.user_global_ns, self.user_ns)\n",
      "C:\\Users\\gosti\\anaconda3\\lib\\site-packages\\IPython\\core\\interactiveshell.py:3369: UserWarning: Parsing '31.07.2022' in DD/MM/YYYY format. Provide format or specify infer_datetime_format=True for consistent parsing.\n",
      "  exec(code_obj, self.user_global_ns, self.user_ns)\n"
     ]
    }
   ],
   "source": [
    "res1 = pd.DataFrame(res[-43:])\n",
    "res1 = res1.rename_axis('date').reset_index()\n",
    "res1 = res1.rename(columns={0: \"credit\"})\n",
    "res1['date'] = pd.date_range('31.01.2019', '31.07.2022', freq='M')\n",
    "res1 = res1.set_index('date')"
   ],
   "metadata": {
    "collapsed": false
   }
  },
  {
   "cell_type": "code",
   "execution_count": 22,
   "outputs": [],
   "source": [
    "df2 = df[:43]"
   ],
   "metadata": {
    "collapsed": false
   }
  },
  {
   "cell_type": "code",
   "execution_count": 23,
   "outputs": [
    {
     "name": "stderr",
     "output_type": "stream",
     "text": [
      "C:\\Users\\gosti\\anaconda3\\lib\\site-packages\\IPython\\core\\interactiveshell.py:3369: UserWarning: Parsing '31.01.2019' in DD/MM/YYYY format. Provide format or specify infer_datetime_format=True for consistent parsing.\n",
      "  exec(code_obj, self.user_global_ns, self.user_ns)\n",
      "C:\\Users\\gosti\\anaconda3\\lib\\site-packages\\IPython\\core\\interactiveshell.py:3369: UserWarning: Parsing '31.07.2022' in DD/MM/YYYY format. Provide format or specify infer_datetime_format=True for consistent parsing.\n",
      "  exec(code_obj, self.user_global_ns, self.user_ns)\n"
     ]
    }
   ],
   "source": [
    "df2 = df2.rename(columns={0: \"amount\"})\n",
    "df2 = df2.rename_axis('date').reset_index()\n",
    "df2['date'] = pd.date_range('31.01.2019', '31.07.2022', freq='M')"
   ],
   "metadata": {
    "collapsed": false
   }
  },
  {
   "cell_type": "code",
   "execution_count": 24,
   "outputs": [],
   "source": [
    "df2 = df2.set_index('date')"
   ],
   "metadata": {
    "collapsed": false
   }
  },
  {
   "cell_type": "code",
   "execution_count": 25,
   "outputs": [],
   "source": [
    "data1 = pd.concat([df2,res1], axis=1, join='inner')"
   ],
   "metadata": {
    "collapsed": false
   }
  },
  {
   "cell_type": "code",
   "execution_count": 26,
   "outputs": [],
   "source": [
    "data1.credit = data1.credit.astype(int)\n",
    "data1 = data1.reindex(columns=['credit', 'amount'])"
   ],
   "metadata": {
    "collapsed": false
   }
  },
  {
   "cell_type": "code",
   "execution_count": 27,
   "outputs": [
    {
     "name": "stdout",
     "output_type": "stream",
     "text": [
      "DataFrame is written successfully\n"
     ]
    }
   ],
   "source": [
    "writer = pd.ExcelWriter('Data.xlsx')\n",
    "data1.to_excel(writer,'data')\n",
    "writer.save()\n",
    "print('DataFrame is written successfully')"
   ],
   "metadata": {
    "collapsed": false
   }
  },
  {
   "cell_type": "code",
   "execution_count": null,
   "outputs": [],
   "source": [],
   "metadata": {
    "collapsed": false
   }
  },
  {
   "cell_type": "code",
   "execution_count": 28,
   "outputs": [
    {
     "data": {
      "text/plain": "             credit        amount\ndate                             \n2019-01-31  3202534  0.000000e+00\n2019-02-28  3504045  0.000000e+00\n2019-03-31  4174296  0.000000e+00\n2019-04-30  4637280  3.351258e+06\n2019-05-31  3345201  3.351258e+06\n2019-06-30  4124086  3.512462e+06\n2019-07-31  5143083  1.527409e+07\n2019-08-31  5062245  1.527409e+07\n2019-09-30  5264321  1.527409e+07\n2019-10-31  5693608  1.591606e+07\n2019-11-30  5575864  3.896918e+08\n2019-12-31  7582892  3.897596e+08\n2020-01-31  4617861  3.881544e+08\n2020-02-29  5544875  4.022400e+08\n2020-03-31  6771485  4.528011e+08\n2020-04-30  4850422  4.745978e+08\n2020-05-31  4291769  5.709501e+08\n2020-06-30  6156469  1.362508e+09\n2020-07-31  7509959  1.364544e+09\n2020-08-31  6367608  1.371093e+09\n2020-09-30  6903225  1.520582e+09\n2020-10-31  6848928  1.521780e+09\n2020-11-30  6521792  1.559298e+09\n2020-12-31  8429181  1.577431e+09\n2021-01-31  4515167  1.596369e+09\n2021-02-28  5449873  1.851649e+09\n2021-03-31  6974057  2.387920e+09\n2021-04-30  7684793  3.879498e+09\n2021-05-31  6119425  4.781662e+09\n2021-06-30  7362232  4.904258e+09\n2021-07-31  8269601  5.141584e+09\n2021-08-31  8152489  5.220770e+09\n2021-09-30  7565255  5.059666e+09\n2021-10-31  7414571  5.521585e+09\n2021-11-30  6982998  5.653194e+09\n2021-12-31  9160939  4.266043e+09\n2022-01-31  5399672  2.452139e+09\n2022-02-28  6370846  2.441731e+09\n2022-03-31  5318699  2.145387e+09\n2022-04-30  4768289  1.974752e+09\n2022-05-31  3932303  1.971281e+09\n2022-06-30  5209410  1.925256e+09\n2022-07-31  4874474  1.920206e+09",
      "text/html": "<div>\n<style scoped>\n    .dataframe tbody tr th:only-of-type {\n        vertical-align: middle;\n    }\n\n    .dataframe tbody tr th {\n        vertical-align: top;\n    }\n\n    .dataframe thead th {\n        text-align: right;\n    }\n</style>\n<table border=\"1\" class=\"dataframe\">\n  <thead>\n    <tr style=\"text-align: right;\">\n      <th></th>\n      <th>credit</th>\n      <th>amount</th>\n    </tr>\n    <tr>\n      <th>date</th>\n      <th></th>\n      <th></th>\n    </tr>\n  </thead>\n  <tbody>\n    <tr>\n      <th>2019-01-31</th>\n      <td>3202534</td>\n      <td>0.000000e+00</td>\n    </tr>\n    <tr>\n      <th>2019-02-28</th>\n      <td>3504045</td>\n      <td>0.000000e+00</td>\n    </tr>\n    <tr>\n      <th>2019-03-31</th>\n      <td>4174296</td>\n      <td>0.000000e+00</td>\n    </tr>\n    <tr>\n      <th>2019-04-30</th>\n      <td>4637280</td>\n      <td>3.351258e+06</td>\n    </tr>\n    <tr>\n      <th>2019-05-31</th>\n      <td>3345201</td>\n      <td>3.351258e+06</td>\n    </tr>\n    <tr>\n      <th>2019-06-30</th>\n      <td>4124086</td>\n      <td>3.512462e+06</td>\n    </tr>\n    <tr>\n      <th>2019-07-31</th>\n      <td>5143083</td>\n      <td>1.527409e+07</td>\n    </tr>\n    <tr>\n      <th>2019-08-31</th>\n      <td>5062245</td>\n      <td>1.527409e+07</td>\n    </tr>\n    <tr>\n      <th>2019-09-30</th>\n      <td>5264321</td>\n      <td>1.527409e+07</td>\n    </tr>\n    <tr>\n      <th>2019-10-31</th>\n      <td>5693608</td>\n      <td>1.591606e+07</td>\n    </tr>\n    <tr>\n      <th>2019-11-30</th>\n      <td>5575864</td>\n      <td>3.896918e+08</td>\n    </tr>\n    <tr>\n      <th>2019-12-31</th>\n      <td>7582892</td>\n      <td>3.897596e+08</td>\n    </tr>\n    <tr>\n      <th>2020-01-31</th>\n      <td>4617861</td>\n      <td>3.881544e+08</td>\n    </tr>\n    <tr>\n      <th>2020-02-29</th>\n      <td>5544875</td>\n      <td>4.022400e+08</td>\n    </tr>\n    <tr>\n      <th>2020-03-31</th>\n      <td>6771485</td>\n      <td>4.528011e+08</td>\n    </tr>\n    <tr>\n      <th>2020-04-30</th>\n      <td>4850422</td>\n      <td>4.745978e+08</td>\n    </tr>\n    <tr>\n      <th>2020-05-31</th>\n      <td>4291769</td>\n      <td>5.709501e+08</td>\n    </tr>\n    <tr>\n      <th>2020-06-30</th>\n      <td>6156469</td>\n      <td>1.362508e+09</td>\n    </tr>\n    <tr>\n      <th>2020-07-31</th>\n      <td>7509959</td>\n      <td>1.364544e+09</td>\n    </tr>\n    <tr>\n      <th>2020-08-31</th>\n      <td>6367608</td>\n      <td>1.371093e+09</td>\n    </tr>\n    <tr>\n      <th>2020-09-30</th>\n      <td>6903225</td>\n      <td>1.520582e+09</td>\n    </tr>\n    <tr>\n      <th>2020-10-31</th>\n      <td>6848928</td>\n      <td>1.521780e+09</td>\n    </tr>\n    <tr>\n      <th>2020-11-30</th>\n      <td>6521792</td>\n      <td>1.559298e+09</td>\n    </tr>\n    <tr>\n      <th>2020-12-31</th>\n      <td>8429181</td>\n      <td>1.577431e+09</td>\n    </tr>\n    <tr>\n      <th>2021-01-31</th>\n      <td>4515167</td>\n      <td>1.596369e+09</td>\n    </tr>\n    <tr>\n      <th>2021-02-28</th>\n      <td>5449873</td>\n      <td>1.851649e+09</td>\n    </tr>\n    <tr>\n      <th>2021-03-31</th>\n      <td>6974057</td>\n      <td>2.387920e+09</td>\n    </tr>\n    <tr>\n      <th>2021-04-30</th>\n      <td>7684793</td>\n      <td>3.879498e+09</td>\n    </tr>\n    <tr>\n      <th>2021-05-31</th>\n      <td>6119425</td>\n      <td>4.781662e+09</td>\n    </tr>\n    <tr>\n      <th>2021-06-30</th>\n      <td>7362232</td>\n      <td>4.904258e+09</td>\n    </tr>\n    <tr>\n      <th>2021-07-31</th>\n      <td>8269601</td>\n      <td>5.141584e+09</td>\n    </tr>\n    <tr>\n      <th>2021-08-31</th>\n      <td>8152489</td>\n      <td>5.220770e+09</td>\n    </tr>\n    <tr>\n      <th>2021-09-30</th>\n      <td>7565255</td>\n      <td>5.059666e+09</td>\n    </tr>\n    <tr>\n      <th>2021-10-31</th>\n      <td>7414571</td>\n      <td>5.521585e+09</td>\n    </tr>\n    <tr>\n      <th>2021-11-30</th>\n      <td>6982998</td>\n      <td>5.653194e+09</td>\n    </tr>\n    <tr>\n      <th>2021-12-31</th>\n      <td>9160939</td>\n      <td>4.266043e+09</td>\n    </tr>\n    <tr>\n      <th>2022-01-31</th>\n      <td>5399672</td>\n      <td>2.452139e+09</td>\n    </tr>\n    <tr>\n      <th>2022-02-28</th>\n      <td>6370846</td>\n      <td>2.441731e+09</td>\n    </tr>\n    <tr>\n      <th>2022-03-31</th>\n      <td>5318699</td>\n      <td>2.145387e+09</td>\n    </tr>\n    <tr>\n      <th>2022-04-30</th>\n      <td>4768289</td>\n      <td>1.974752e+09</td>\n    </tr>\n    <tr>\n      <th>2022-05-31</th>\n      <td>3932303</td>\n      <td>1.971281e+09</td>\n    </tr>\n    <tr>\n      <th>2022-06-30</th>\n      <td>5209410</td>\n      <td>1.925256e+09</td>\n    </tr>\n    <tr>\n      <th>2022-07-31</th>\n      <td>4874474</td>\n      <td>1.920206e+09</td>\n    </tr>\n  </tbody>\n</table>\n</div>"
     },
     "execution_count": 28,
     "metadata": {},
     "output_type": "execute_result"
    }
   ],
   "source": [
    "data1"
   ],
   "metadata": {
    "collapsed": false
   }
  },
  {
   "cell_type": "code",
   "execution_count": 29,
   "outputs": [
    {
     "ename": "AttributeError",
     "evalue": "'DataFrame' object has no attribute 'month_num'",
     "output_type": "error",
     "traceback": [
      "\u001B[1;31m---------------------------------------------------------------------------\u001B[0m",
      "\u001B[1;31mAttributeError\u001B[0m                            Traceback (most recent call last)",
      "Input \u001B[1;32mIn [29]\u001B[0m, in \u001B[0;36m<cell line: 1>\u001B[1;34m()\u001B[0m\n\u001B[1;32m----> 1\u001B[0m r1 \u001B[38;5;241m=\u001B[39m \u001B[43mdf2\u001B[49m\u001B[38;5;241;43m.\u001B[39;49m\u001B[43mmonth_num\u001B[49m\u001B[38;5;241m.\u001B[39mcorr(data1\u001B[38;5;241m.\u001B[39mamount)\n\u001B[0;32m      2\u001B[0m r2 \u001B[38;5;241m=\u001B[39m data1\u001B[38;5;241m.\u001B[39mcredit\u001B[38;5;241m.\u001B[39mastype(\u001B[38;5;28mint\u001B[39m)\u001B[38;5;241m.\u001B[39mcorr(data1\u001B[38;5;241m.\u001B[39mamount)\n\u001B[0;32m      3\u001B[0m \u001B[38;5;28mprint\u001B[39m(\u001B[38;5;124m'\u001B[39m\u001B[38;5;124mЗначение коэффициента корреляции между объемом банковских гарантий и периодом = \u001B[39m\u001B[38;5;124m'\u001B[39m, np\u001B[38;5;241m.\u001B[39mround(r1, \u001B[38;5;241m3\u001B[39m))\n",
      "File \u001B[1;32m~\\anaconda3\\lib\\site-packages\\pandas\\core\\generic.py:5575\u001B[0m, in \u001B[0;36mNDFrame.__getattr__\u001B[1;34m(self, name)\u001B[0m\n\u001B[0;32m   5568\u001B[0m \u001B[38;5;28;01mif\u001B[39;00m (\n\u001B[0;32m   5569\u001B[0m     name \u001B[38;5;129;01mnot\u001B[39;00m \u001B[38;5;129;01min\u001B[39;00m \u001B[38;5;28mself\u001B[39m\u001B[38;5;241m.\u001B[39m_internal_names_set\n\u001B[0;32m   5570\u001B[0m     \u001B[38;5;129;01mand\u001B[39;00m name \u001B[38;5;129;01mnot\u001B[39;00m \u001B[38;5;129;01min\u001B[39;00m \u001B[38;5;28mself\u001B[39m\u001B[38;5;241m.\u001B[39m_metadata\n\u001B[0;32m   5571\u001B[0m     \u001B[38;5;129;01mand\u001B[39;00m name \u001B[38;5;129;01mnot\u001B[39;00m \u001B[38;5;129;01min\u001B[39;00m \u001B[38;5;28mself\u001B[39m\u001B[38;5;241m.\u001B[39m_accessors\n\u001B[0;32m   5572\u001B[0m     \u001B[38;5;129;01mand\u001B[39;00m \u001B[38;5;28mself\u001B[39m\u001B[38;5;241m.\u001B[39m_info_axis\u001B[38;5;241m.\u001B[39m_can_hold_identifiers_and_holds_name(name)\n\u001B[0;32m   5573\u001B[0m ):\n\u001B[0;32m   5574\u001B[0m     \u001B[38;5;28;01mreturn\u001B[39;00m \u001B[38;5;28mself\u001B[39m[name]\n\u001B[1;32m-> 5575\u001B[0m \u001B[38;5;28;01mreturn\u001B[39;00m \u001B[38;5;28;43mobject\u001B[39;49m\u001B[38;5;241;43m.\u001B[39;49m\u001B[38;5;21;43m__getattribute__\u001B[39;49m\u001B[43m(\u001B[49m\u001B[38;5;28;43mself\u001B[39;49m\u001B[43m,\u001B[49m\u001B[43m \u001B[49m\u001B[43mname\u001B[49m\u001B[43m)\u001B[49m\n",
      "\u001B[1;31mAttributeError\u001B[0m: 'DataFrame' object has no attribute 'month_num'"
     ]
    }
   ],
   "source": [
    "r1 = df2.month_num.corr(data1.amount)\n",
    "r2 = data1.credit.astype(int).corr(data1.amount)\n",
    "print('Значение коэффициента корреляции между объемом банковских гарантий и периодом = ', np.round(r1, 3))\n",
    "print('Значение коэффициента корреляции между объемом банковских гарантий и размером кредита = ', np.round(r2, 3))"
   ],
   "metadata": {
    "collapsed": false
   }
  },
  {
   "cell_type": "markdown",
   "source": [
    "## Прогнозирование\n",
    "sklearn:\n",
    "* OLS и GLS - разница\n",
    "* Регуляризация L1, L2"
   ],
   "metadata": {
    "collapsed": false
   }
  },
  {
   "cell_type": "markdown",
   "source": [
    "Этапы жизни модели:\n",
    "* EDA\n",
    "* preprocessing (Standartscaler, RFE and feature selection)\n",
    "* data to : train, test, predict\n",
    "    + fit\n",
    "    + predict on test ( Metrics: r2,MAPE,MAE)\n",
    "    + predict on predict with fitting on train+test\n"
   ],
   "metadata": {
    "collapsed": false
   }
  },
  {
   "cell_type": "markdown",
   "source": [
    "y = x0 + a1x1 + b(x2)^ + a2*t"
   ],
   "metadata": {
    "collapsed": false
   }
  },
  {
   "cell_type": "markdown",
   "source": [
    "### Что посмотреть:\n",
    "* Борьба с сезнонностью (Ряд Фурье, STL разложение)\n",
    "* Модели Экспоненциального сглаживания  (ETS Хольт-Уинтерс)\n",
    "* ACF\n",
    "* stl = STL(*params)\n",
    "* res = stl.fit(y)"
   ],
   "metadata": {
    "collapsed": false
   }
  },
  {
   "cell_type": "code",
   "execution_count": null,
   "outputs": [],
   "source": [
    "from statsmodels.tsa.stattools import adfuller"
   ],
   "metadata": {
    "collapsed": false
   }
  },
  {
   "cell_type": "code",
   "execution_count": null,
   "outputs": [],
   "source": [
    "from statsmodels.graphics.tsaplots import plot_acf"
   ],
   "metadata": {
    "collapsed": false
   }
  },
  {
   "cell_type": "markdown",
   "source": [
    "### Что сделать:\n",
    "* Построить регрессию от времени\n",
    "* Построить регрессию от времени + кредиты\n",
    "* Построить регрессию от кредитов\n",
    "* Сравнить между собой по r^2,MAE,MAPE\n",
    "* Экспоненциальное сглаживание\n"
   ],
   "metadata": {
    "collapsed": false
   }
  },
  {
   "cell_type": "markdown",
   "source": [
    "**Регрессионная модель**"
   ],
   "metadata": {
    "collapsed": false
   }
  },
  {
   "cell_type": "markdown",
   "source": [
    "*Гарантии+время*"
   ],
   "metadata": {
    "collapsed": false
   }
  },
  {
   "cell_type": "code",
   "execution_count": null,
   "outputs": [],
   "source": [
    "df2"
   ],
   "metadata": {
    "collapsed": false
   }
  },
  {
   "cell_type": "code",
   "execution_count": null,
   "outputs": [],
   "source": [
    "data1.amount.plot()\n",
    "plt.ylabel('Amount')"
   ],
   "metadata": {
    "collapsed": false
   }
  },
  {
   "cell_type": "code",
   "execution_count": null,
   "outputs": [],
   "source": [
    "stl = STL(df2, period=12).fit()\n",
    "stl.plot()"
   ],
   "metadata": {
    "collapsed": false
   }
  },
  {
   "cell_type": "markdown",
   "source": [],
   "metadata": {
    "collapsed": false
   }
  },
  {
   "cell_type": "code",
   "execution_count": null,
   "outputs": [],
   "source": [
    "from statsmodels.tsa.stattools import adfuller\n",
    "adf_test = adfuller(stl.observed)\n",
    "print('p-value = ' + str(adf_test[1]))\n",
    "if adf_test[1]>0.05:\n",
    "    print('Ряд не стационарный')\n",
    "else:\n",
    "    print('Ряд стационарный')"
   ],
   "metadata": {
    "collapsed": false
   }
  },
  {
   "cell_type": "code",
   "execution_count": null,
   "outputs": [],
   "source": [
    "from statsmodels.graphics.tsaplots import plot_acf\n",
    "plot_acf(stl.resid)"
   ],
   "metadata": {
    "collapsed": false
   }
  },
  {
   "cell_type": "code",
   "execution_count": null,
   "outputs": [],
   "source": [
    "fig = plt.figure(figsize=(12,4))\n",
    "ax1 = fig.add_subplot(121)\n",
    "data1['amount'].plot(ax=ax1)\n",
    "ax1.set_title(u'Объем банковских гарантий')\n",
    "ax1.set_ylabel(u'Руб.')\n",
    "ax2 = fig.add_subplot(122)\n",
    "pd.Series(np.log10(data1['amount'])).plot(ax=ax2)\n",
    "ax2.set_title(u'log10 от объема банковских гарантий')\n",
    "ax2.set_ylabel(u'log10 от руб.')"
   ],
   "metadata": {
    "collapsed": false
   }
  },
  {
   "cell_type": "code",
   "execution_count": null,
   "outputs": [],
   "source": [
    "new_dates = pd.date_range('2019-01-01', '2019-12-01', freq='M')\n",
    "new_dates = pd.Index(df2['date']) | new_dates\n",
    "df3 = pd.DataFrame({'date': new_dates})\n",
    "df4 = pd.merge(df2, df3, on='date', how='right')"
   ],
   "metadata": {
    "collapsed": false
   }
  },
  {
   "cell_type": "code",
   "execution_count": null,
   "outputs": [],
   "source": [
    "df4"
   ],
   "metadata": {
    "collapsed": false
   }
  },
  {
   "cell_type": "code",
   "execution_count": null,
   "outputs": [],
   "source": [
    "df2['month_num'] = range(1,len(df2)+1)\n",
    "df2['log_y'] = np.log10(df2['amount'])"
   ],
   "metadata": {
    "collapsed": false
   }
  },
  {
   "cell_type": "code",
   "execution_count": null,
   "outputs": [],
   "source": [
    "for x in range(1,13):\n",
    "    df2['season_' + str(x)] = df2['date'].dt.month == x"
   ],
   "metadata": {
    "collapsed": false
   }
  },
  {
   "cell_type": "code",
   "execution_count": null,
   "outputs": [],
   "source": [
    "season_columns = ['season_' + str(x) for x in range(1,13)]\n",
    "X = df2[['month_num'] + season_columns]\n",
    "Y = df2['log_y']\n",
    "X1 = X[X.index < 36]\n",
    "Y1 = Y[Y.index < 36]"
   ],
   "metadata": {
    "collapsed": false
   }
  },
  {
   "cell_type": "code",
   "execution_count": null,
   "outputs": [],
   "source": [
    "df2.fillna(0, inplace=True)"
   ],
   "metadata": {
    "collapsed": false
   }
  },
  {
   "cell_type": "code",
   "execution_count": null,
   "outputs": [],
   "source": [
    "df2"
   ],
   "metadata": {
    "collapsed": false
   }
  },
  {
   "cell_type": "code",
   "execution_count": null,
   "outputs": [],
   "source": [
    "from sklearn.linear_model import LinearRegression"
   ],
   "metadata": {
    "collapsed": false
   }
  },
  {
   "cell_type": "code",
   "execution_count": null,
   "outputs": [],
   "source": [
    "model = LinearRegression()\n",
    "model.fit(X1,Y1)"
   ],
   "metadata": {
    "collapsed": false
   }
  },
  {
   "cell_type": "code",
   "execution_count": null,
   "outputs": [],
   "source": [
    "import math"
   ],
   "metadata": {
    "collapsed": false
   }
  },
  {
   "cell_type": "code",
   "execution_count": null,
   "outputs": [],
   "source": [
    "pred = pd.DataFrame({\n",
    "    'pred': model.predict(X1),\n",
    "    'real': Y1})\n",
    "pred.plot()"
   ],
   "metadata": {
    "collapsed": false
   }
  },
  {
   "cell_type": "code",
   "execution_count": null,
   "outputs": [],
   "source": [
    "#прогноз\n",
    "pred = pd.DataFrame({\n",
    "    'pred': model.predict(X),\n",
    "    'real': Y})\n",
    "pred.plot()"
   ],
   "metadata": {
    "collapsed": false
   }
  },
  {
   "cell_type": "code",
   "execution_count": null,
   "outputs": [],
   "source": [
    "from sklearn.metrics import r2_score, mean_absolute_error, mean_squared_error\n",
    "mae = mean_absolute_error(Y, model.predict(X))\n",
    "mse = mean_squared_error(Y, model.predict(X))\n",
    "R2 = r2_score(Y, model.predict(X))\n",
    "print('MAE = ', np.round(mae, 3))\n",
    "print('MSE =', np.round(mse, 3))\n",
    "print('Коэффициент детерминации =', np.round(R2, 3))"
   ],
   "metadata": {
    "collapsed": false
   }
  },
  {
   "cell_type": "markdown",
   "source": [
    "*Гарантии+время, полином 3 степени*"
   ],
   "metadata": {
    "collapsed": false
   }
  },
  {
   "cell_type": "code",
   "execution_count": null,
   "outputs": [],
   "source": [
    "df2['t^2'] = df2['month_num']**2\n",
    "df2['t^3'] = df2['month_num']**3"
   ],
   "metadata": {
    "collapsed": false
   }
  },
  {
   "cell_type": "code",
   "execution_count": null,
   "outputs": [],
   "source": [
    "df2"
   ],
   "metadata": {
    "collapsed": false
   }
  },
  {
   "cell_type": "code",
   "execution_count": null,
   "outputs": [],
   "source": [
    "season_columns = ['season_' + str(x) for x in range(1,13)]\n",
    "X2 = df2[['month_num', 't^2', 't^3'] + season_columns]\n",
    "Y2 = df2['amount']\n",
    "X3 = X2[X.index < 36]\n",
    "Y3 = Y2[Y.index < 36]"
   ],
   "metadata": {
    "collapsed": false
   }
  },
  {
   "cell_type": "code",
   "execution_count": null,
   "outputs": [],
   "source": [
    "model2 = LinearRegression()\n",
    "model.fit(X3,Y3)"
   ],
   "metadata": {
    "collapsed": false
   }
  },
  {
   "cell_type": "code",
   "execution_count": null,
   "outputs": [],
   "source": [
    "pred = pd.DataFrame({\n",
    "    'pred': model.predict(X3),\n",
    "    'real': Y3})\n",
    "pred.plot()"
   ],
   "metadata": {
    "collapsed": false
   }
  },
  {
   "cell_type": "code",
   "execution_count": null,
   "outputs": [],
   "source": [
    "#прогноз\n",
    "pred2 = pd.DataFrame({\n",
    "    'pred': model.predict(X2),\n",
    "    'real': Y2})\n",
    "pred.plot()"
   ],
   "metadata": {
    "collapsed": false
   }
  },
  {
   "cell_type": "code",
   "execution_count": null,
   "outputs": [],
   "source": [
    "from sklearn.metrics import r2_score, mean_absolute_error, mean_squared_error"
   ],
   "metadata": {
    "collapsed": false
   }
  },
  {
   "cell_type": "code",
   "execution_count": null,
   "outputs": [],
   "source": [
    "\n",
    "mae = mean_absolute_error(Y2, model.predict(X2))\n",
    "mse = mean_squared_error(Y2, model.predict(X2))\n",
    "R2 = r2_score(Y2, model.predict(X2))\n",
    "print('MAE = ', np.round(mae, 3))\n",
    "print('MSE =', np.round(mse, 3))\n",
    "print('Коэффициент детерминации =', np.round(R2, 3))\n"
   ],
   "metadata": {
    "collapsed": false
   }
  },
  {
   "cell_type": "markdown",
   "source": [
    "*Гарантии+кредит полином 3 степени*"
   ],
   "metadata": {
    "collapsed": false
   }
  },
  {
   "cell_type": "code",
   "execution_count": null,
   "outputs": [],
   "source": [
    "fig = plt.figure(figsize=(12,4))\n",
    "ax1 = fig.add_subplot(121)\n",
    "data1['amount'].plot(ax=ax1)\n",
    "ax1.set_title(u'Объем банковских гарантий')\n",
    "ax1.set_ylabel(u'Руб.')\n",
    "ax2 = fig.add_subplot(122)\n",
    "pd.Series(np.log10(data1['amount'])).plot(ax=ax2)\n",
    "ax2.set_title(u'log10 от объема банковских гарантий')\n",
    "ax2.set_ylabel(u'log10 от руб.')"
   ],
   "metadata": {
    "collapsed": false
   }
  },
  {
   "cell_type": "code",
   "execution_count": null,
   "outputs": [],
   "source": [
    "data1.credit.plot()\n",
    "plt.ylabel('Credit')"
   ],
   "metadata": {
    "collapsed": false
   }
  },
  {
   "cell_type": "code",
   "execution_count": null,
   "outputs": [],
   "source": [
    "stl_credit = STL(res1, period=12).fit()\n",
    "stl_credit.plot()"
   ],
   "metadata": {
    "collapsed": false
   }
  },
  {
   "cell_type": "code",
   "execution_count": null,
   "outputs": [],
   "source": [
    "adf_test = adfuller(stl_credit.observed)\n",
    "print('p-value = ' + str(adf_test[1]))\n",
    "if adf_test[1]>0.05:\n",
    "    print('Ряд не стационарный')\n",
    "else:\n",
    "    print('Ряд стационарный')"
   ],
   "metadata": {
    "collapsed": false
   }
  },
  {
   "cell_type": "code",
   "execution_count": null,
   "outputs": [],
   "source": [
    "new_data['credit'].hist()"
   ],
   "metadata": {
    "collapsed": false
   }
  },
  {
   "cell_type": "code",
   "execution_count": null,
   "outputs": [],
   "source": [
    "plt.scatter(new_data.credit, new_data.amount, color='blue')\n",
    "plt.xlabel('credits')\n",
    "plt.ylabel('amount')\n",
    "plt.show()"
   ],
   "metadata": {
    "collapsed": false
   }
  },
  {
   "cell_type": "code",
   "execution_count": null,
   "outputs": [],
   "source": [
    "reg_model = LinearRegression()"
   ],
   "metadata": {
    "collapsed": false
   }
  },
  {
   "cell_type": "code",
   "execution_count": null,
   "outputs": [],
   "source": [
    "train_x = np.asanyarray(new_data[['credit']][:24])\n",
    "train_y = np.asanyarray(new_data[['amount']][:24])\n",
    "test_x = np.asanyarray(new_data[['credit']][24:])\n",
    "test_y = np.asanyarray(new_data[['amount']][24:])"
   ],
   "metadata": {
    "collapsed": false
   }
  },
  {
   "cell_type": "code",
   "execution_count": null,
   "outputs": [],
   "source": [
    "reg_model.fit(train_x,train_y)"
   ],
   "metadata": {
    "collapsed": false
   }
  },
  {
   "cell_type": "code",
   "execution_count": null,
   "outputs": [],
   "source": [
    "reg_model.predict(test_x)"
   ],
   "metadata": {
    "collapsed": false
   }
  },
  {
   "cell_type": "code",
   "execution_count": null,
   "outputs": [],
   "source": [
    "test_y"
   ],
   "metadata": {
    "collapsed": false
   }
  },
  {
   "cell_type": "code",
   "execution_count": null,
   "outputs": [],
   "source": [
    "predict = pd.DataFrame({\n",
    "    'pred': reg_model.predict(test_x),\n",
    "    'real': np.asanyarray(new_data[['amount']][24:])})\n",
    "pred.plot()"
   ],
   "metadata": {
    "collapsed": false
   }
  },
  {
   "cell_type": "code",
   "execution_count": null,
   "outputs": [],
   "source": [
    "for x in range(1,13):\n",
    "    res1['season_' + str(x)] = res1['']"
   ],
   "metadata": {
    "collapsed": false
   }
  },
  {
   "cell_type": "code",
   "execution_count": null,
   "outputs": [],
   "source": [],
   "metadata": {
    "collapsed": false
   }
  },
  {
   "cell_type": "markdown",
   "source": [
    "**Модель Хольта-Винтерса**"
   ],
   "metadata": {
    "collapsed": false
   }
  },
  {
   "cell_type": "code",
   "execution_count": null,
   "outputs": [],
   "source": [
    "from statsmodels.tsa.seasonal import seasonal_decompose"
   ],
   "metadata": {
    "collapsed": false
   }
  },
  {
   "cell_type": "code",
   "execution_count": null,
   "outputs": [],
   "source": [
    "decompose_result = seasonal_decompose(data1['amount'],model='additive')\n",
    "decompose_result.plot()"
   ],
   "metadata": {
    "collapsed": false
   }
  },
  {
   "cell_type": "code",
   "execution_count": null,
   "outputs": [],
   "source": [
    "from statsmodels.tsa.holtwinters import ExponentialSmoothing"
   ],
   "metadata": {
    "collapsed": false
   }
  },
  {
   "cell_type": "code",
   "execution_count": null,
   "outputs": [],
   "source": [
    "m = 12\n",
    "alpha = 1/(2*m)"
   ],
   "metadata": {
    "collapsed": false
   }
  },
  {
   "cell_type": "code",
   "execution_count": null,
   "outputs": [],
   "source": [
    "df2.amount"
   ],
   "metadata": {
    "collapsed": false
   }
  },
  {
   "cell_type": "code",
   "execution_count": null,
   "outputs": [],
   "source": [
    "new_data = data1[3:]"
   ],
   "metadata": {
    "collapsed": false
   }
  },
  {
   "cell_type": "code",
   "execution_count": null,
   "outputs": [],
   "source": [
    "new_data"
   ],
   "metadata": {
    "collapsed": false
   }
  },
  {
   "cell_type": "markdown",
   "source": [
    "*Мультипликативный тренд*"
   ],
   "metadata": {
    "collapsed": false
   }
  },
  {
   "cell_type": "code",
   "execution_count": null,
   "outputs": [],
   "source": [
    "new_data['HWES3_MUL'] = ExponentialSmoothing(new_data['amount'],trend='mul',seasonal='add',seasonal_periods=12).fit().fittedvalues\n",
    "new_data[['amount','HWES3_MUL']].plot(title='Holt Winters Triple Exponential Smoothing: Additive Seasonality')"
   ],
   "metadata": {
    "collapsed": false
   }
  },
  {
   "cell_type": "code",
   "execution_count": null,
   "outputs": [],
   "source": [
    "train_amount_mul = data1.amount[:24]\n",
    "test_amount_mul = data1.amount[24:]"
   ],
   "metadata": {
    "collapsed": false
   }
  },
  {
   "cell_type": "code",
   "execution_count": null,
   "outputs": [],
   "source": [
    "fitted_model_mul = ExponentialSmoothing(data1['amount'],trend='mul',seasonal='add',seasonal_periods=12).fit()\n",
    "test_predictions_mul = fitted_model_mul.forecast(19)"
   ],
   "metadata": {
    "collapsed": false
   }
  },
  {
   "cell_type": "markdown",
   "source": [
    "*Аддитивный тренд*"
   ],
   "metadata": {
    "collapsed": false
   }
  },
  {
   "cell_type": "code",
   "execution_count": null,
   "outputs": [],
   "source": [
    "new_data['HWES3_ADD'] = ExponentialSmoothing(new_data['amount'],trend='add',seasonal='add',seasonal_periods=12).fit().fittedvalues\n",
    "new_data[['amount','HWES3_ADD']].plot(title='Holt Winters Triple Exponential Smoothing: Additive Seasonality')"
   ],
   "metadata": {
    "collapsed": false
   }
  },
  {
   "cell_type": "code",
   "execution_count": null,
   "outputs": [],
   "source": [
    "train_amount_add = new_data.amount[:24]\n",
    "test_amount_add = new_data.amount[24:]"
   ],
   "metadata": {
    "collapsed": false
   }
  },
  {
   "cell_type": "code",
   "execution_count": null,
   "outputs": [],
   "source": [
    "fitted_model_add = ExponentialSmoothing(new_data['amount'],trend='add',seasonal='add',seasonal_periods=12).fit()\n",
    "test_predictions_add = fitted_model_add.forecast(16)"
   ],
   "metadata": {
    "collapsed": false
   }
  },
  {
   "cell_type": "code",
   "execution_count": null,
   "outputs": [],
   "source": [
    "new_data.amount.plot(legend=True,label='REAL')\n",
    "train_amount_add.plot(legend=True,label='TRAIN')\n",
    "test_amount_add.plot(legend=True,label='TEST', figsize=(6,4))\n",
    "test_predictions_add.plot(legend=True,label='PREDICTION')\n",
    "plt.title('Train, Test and Predicted Test')"
   ],
   "metadata": {
    "collapsed": false
   }
  },
  {
   "cell_type": "code",
   "execution_count": null,
   "outputs": [],
   "source": [
    "test_amount_add.plot(legend=True,label='TEST',figsize=(9,6))\n",
    "test_predictions_add.plot(legend=True,label='PREDICTION',xlim=['2022–31–07','2023–31–07'])"
   ],
   "metadata": {
    "collapsed": false
   }
  },
  {
   "cell_type": "code",
   "execution_count": null,
   "outputs": [],
   "source": [
    "mae = mean_absolute_error(test_amount_add, test_predictions_add)\n",
    "mse = mean_squared_error(test_amount_add, test_predictions_add)\n",
    "R2 = r2_score(test_amount_add, test_predictions_add)\n",
    "print('MAE = ', np.round(mae, 3))\n",
    "print('MSE =', np.round(mse, 3))\n",
    "print('Коэффициент детерминации =', np.round(R2, 3))"
   ],
   "metadata": {
    "collapsed": false
   }
  },
  {
   "cell_type": "code",
   "execution_count": null,
   "outputs": [],
   "source": [],
   "metadata": {
    "collapsed": false
   }
  }
 ],
 "metadata": {
  "kernelspec": {
   "display_name": "Python 3",
   "language": "python",
   "name": "python3"
  },
  "language_info": {
   "codemirror_mode": {
    "name": "ipython",
    "version": 2
   },
   "file_extension": ".py",
   "mimetype": "text/x-python",
   "name": "python",
   "nbconvert_exporter": "python",
   "pygments_lexer": "ipython2",
   "version": "2.7.6"
  }
 },
 "nbformat": 4,
 "nbformat_minor": 0
}
