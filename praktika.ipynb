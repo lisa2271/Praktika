{
 "cells": [
  {
   "cell_type": "code",
   "execution_count": 15,
   "metadata": {
    "collapsed": true
   },
   "outputs": [],
   "source": [
    "import numpy as np\n",
    "import pandas as pd\n",
    "import os"
   ]
  },
  {
   "cell_type": "code",
   "execution_count": 16,
   "outputs": [
    {
     "name": "stdout",
     "output_type": "stream",
     "text": [
      "<class 'pandas.core.frame.DataFrame'>\n",
      "RangeIndex: 6364 entries, 0 to 6363\n",
      "Data columns (total 15 columns):\n",
      " #   Column           Non-Null Count  Dtype  \n",
      "---  ------           --------------  -----  \n",
      " 0   Unnamed: 0       6364 non-null   int64  \n",
      " 1   obj hash         6364 non-null   int64  \n",
      " 2   name             6364 non-null   object \n",
      " 3   reg num          6364 non-null   int64  \n",
      " 4   customer inn     6364 non-null   int64  \n",
      " 5   sign date        6364 non-null   object \n",
      " 6   suppliers count  6364 non-null   int64  \n",
      " 7   supplier inn     6355 non-null   float64\n",
      " 8   st date          6364 non-null   object \n",
      " 9   end date         6364 non-null   object \n",
      " 10  price            6364 non-null   float64\n",
      " 11  enforcement      6364 non-null   int64  \n",
      " 12  amount           6364 non-null   float64\n",
      " 13  doc              6335 non-null   object \n",
      " 14  protocol date    6293 non-null   object \n",
      "dtypes: float64(3), int64(6), object(6)\n",
      "memory usage: 745.9+ KB\n"
     ]
    }
   ],
   "source": [
    "df = pd.read_csv(r'C:\\Users\\gosti\\Downloads\\Telegram Desktop\\results\\results\\Adygeja_Resp_2022-03-20.csv', encoding = 'utf-8')\n",
    "df.info()"
   ],
   "metadata": {
    "collapsed": false
   }
  },
  {
   "cell_type": "code",
   "execution_count": 17,
   "outputs": [
    {
     "name": "stdout",
     "output_type": "stream",
     "text": [
      "<class 'pandas.core.frame.DataFrame'>\n",
      "RangeIndex: 6364 entries, 0 to 6363\n",
      "Data columns (total 15 columns):\n",
      " #   Column           Non-Null Count  Dtype         \n",
      "---  ------           --------------  -----         \n",
      " 0   Unnamed: 0       6364 non-null   int64         \n",
      " 1   obj hash         6364 non-null   int64         \n",
      " 2   name             6364 non-null   object        \n",
      " 3   reg num          6364 non-null   int64         \n",
      " 4   customer inn     6364 non-null   int64         \n",
      " 5   sign date        6364 non-null   datetime64[ns]\n",
      " 6   suppliers count  6364 non-null   int64         \n",
      " 7   supplier inn     6355 non-null   float64       \n",
      " 8   st date          6364 non-null   datetime64[ns]\n",
      " 9   end date         6364 non-null   datetime64[ns]\n",
      " 10  price            6364 non-null   float64       \n",
      " 11  enforcement      6364 non-null   int64         \n",
      " 12  amount           6364 non-null   float64       \n",
      " 13  doc              6335 non-null   object        \n",
      " 14  protocol date    6293 non-null   object        \n",
      "dtypes: datetime64[ns](3), float64(3), int64(6), object(3)\n",
      "memory usage: 745.9+ KB\n"
     ]
    }
   ],
   "source": [
    "df[['sign date', 'st date', 'end date']] = df[['sign date', 'st date', 'end date']].apply(pd.to_datetime)\n",
    "df.info()"
   ],
   "metadata": {
    "collapsed": false
   }
  },
  {
   "cell_type": "code",
   "execution_count": 18,
   "outputs": [
    {
     "data": {
      "text/plain": "      Unnamed: 0             obj hash              name              reg num  \\\n2618        2618  2990506132419929638  contracts_output  3010100215621000110   \n3964        3964  3282453306607635055  contracts_output  3010400830020000019   \n4611        4611 -8881755931885313735  contracts_output  3010503414121000005   \n4940        4940 -6045479158888222238  contracts_output  3010503474421000049   \n5294        5294  6158923093362237096  contracts_output  3010503896421000003   \n\n      sign date  suppliers count    st date   end date      price  \\\n2618 2021-12-20                1 2021-12-20 2021-12-31  139472.67   \n3964 2020-09-23                1 2020-09-23 2020-12-31   94111.75   \n4611 2021-06-07                1 2021-06-07 2021-12-31  195500.00   \n4940 2021-12-20                1 2021-12-20 2022-09-21   21473.59   \n5294 2021-06-28                1 2021-06-28 2022-01-31  196515.62   \n\n      enforcement     amount        bg  \n2618            0  139472.67  1.000000  \n3964            0   94111.75  1.000000  \n4611            1  230000.00  0.850000  \n4940            0   24977.75  0.859709  \n5294            0  196515.62  1.000000  ",
      "text/html": "<div>\n<style scoped>\n    .dataframe tbody tr th:only-of-type {\n        vertical-align: middle;\n    }\n\n    .dataframe tbody tr th {\n        vertical-align: top;\n    }\n\n    .dataframe thead th {\n        text-align: right;\n    }\n</style>\n<table border=\"1\" class=\"dataframe\">\n  <thead>\n    <tr style=\"text-align: right;\">\n      <th></th>\n      <th>Unnamed: 0</th>\n      <th>obj hash</th>\n      <th>name</th>\n      <th>reg num</th>\n      <th>sign date</th>\n      <th>suppliers count</th>\n      <th>st date</th>\n      <th>end date</th>\n      <th>price</th>\n      <th>enforcement</th>\n      <th>amount</th>\n      <th>bg</th>\n    </tr>\n  </thead>\n  <tbody>\n    <tr>\n      <th>2618</th>\n      <td>2618</td>\n      <td>2990506132419929638</td>\n      <td>contracts_output</td>\n      <td>3010100215621000110</td>\n      <td>2021-12-20</td>\n      <td>1</td>\n      <td>2021-12-20</td>\n      <td>2021-12-31</td>\n      <td>139472.67</td>\n      <td>0</td>\n      <td>139472.67</td>\n      <td>1.000000</td>\n    </tr>\n    <tr>\n      <th>3964</th>\n      <td>3964</td>\n      <td>3282453306607635055</td>\n      <td>contracts_output</td>\n      <td>3010400830020000019</td>\n      <td>2020-09-23</td>\n      <td>1</td>\n      <td>2020-09-23</td>\n      <td>2020-12-31</td>\n      <td>94111.75</td>\n      <td>0</td>\n      <td>94111.75</td>\n      <td>1.000000</td>\n    </tr>\n    <tr>\n      <th>4611</th>\n      <td>4611</td>\n      <td>-8881755931885313735</td>\n      <td>contracts_output</td>\n      <td>3010503414121000005</td>\n      <td>2021-06-07</td>\n      <td>1</td>\n      <td>2021-06-07</td>\n      <td>2021-12-31</td>\n      <td>195500.00</td>\n      <td>1</td>\n      <td>230000.00</td>\n      <td>0.850000</td>\n    </tr>\n    <tr>\n      <th>4940</th>\n      <td>4940</td>\n      <td>-6045479158888222238</td>\n      <td>contracts_output</td>\n      <td>3010503474421000049</td>\n      <td>2021-12-20</td>\n      <td>1</td>\n      <td>2021-12-20</td>\n      <td>2022-09-21</td>\n      <td>21473.59</td>\n      <td>0</td>\n      <td>24977.75</td>\n      <td>0.859709</td>\n    </tr>\n    <tr>\n      <th>5294</th>\n      <td>5294</td>\n      <td>6158923093362237096</td>\n      <td>contracts_output</td>\n      <td>3010503896421000003</td>\n      <td>2021-06-28</td>\n      <td>1</td>\n      <td>2021-06-28</td>\n      <td>2022-01-31</td>\n      <td>196515.62</td>\n      <td>0</td>\n      <td>196515.62</td>\n      <td>1.000000</td>\n    </tr>\n  </tbody>\n</table>\n</div>"
     },
     "execution_count": 18,
     "metadata": {},
     "output_type": "execute_result"
    }
   ],
   "source": [
    "df = df.drop(columns=['customer inn', 'supplier inn', 'protocol date', 'doc'])\n",
    "df = df.drop_duplicates(subset='reg num')\n",
    "df = df.assign(bg=df.price / df.amount)\n",
    "df = df[df.bg <= 1]\n",
    "df.tail()"
   ],
   "metadata": {
    "collapsed": false
   }
  },
  {
   "cell_type": "code",
   "execution_count": 19,
   "outputs": [],
   "source": [
    "df = df.rename(columns = {'obj hash': 'obj_hash',\n",
    "                     'reg num': 'reg_num',\n",
    "                     'sign date': 'sign_date',\n",
    "                     'suppliers count': 'suppliers_count',\n",
    "                     'st date': 'st_date',\n",
    "                     'end date': 'end_date'})"
   ],
   "metadata": {
    "collapsed": false
   }
  },
  {
   "cell_type": "code",
   "execution_count": 20,
   "outputs": [],
   "source": [
    "import math"
   ],
   "metadata": {
    "collapsed": false
   }
  },
  {
   "cell_type": "code",
   "execution_count": 22,
   "outputs": [
    {
     "data": {
      "text/plain": "            Unnamed: 0             obj_hash              reg_num  \\\nend_date                                                           \n2020-12-31        3964  3282453306607634944  3010400830020000256   \n2021-01-31           0                    0                    0   \n2021-02-28           0                    0                    0   \n2021-03-31           0                    0                    0   \n2021-04-30           0                    0                    0   \n2021-05-31           0                    0                    0   \n2021-06-30           0                    0                    0   \n2021-07-31           0                    0                    0   \n2021-08-31           0                    0                    0   \n2021-09-30        1142 -1894050369019973632  2010501406420999936   \n2021-10-31        2267 -7325695340427526144  2010503349020999936   \n2021-11-30           0                    0                    0   \n2021-12-31        9198  -833560445593280512  8031106226263000064   \n2022-01-31        5294  6158923093362237440  3010503896421000192   \n2022-02-28           0                    0                    0   \n2022-03-31           0                    0                    0   \n2022-04-30           0                    0                    0   \n2022-05-31           0                    0                    0   \n2022-06-30           0                    0                    0   \n2022-07-31           0                    0                    0   \n2022-08-31           0                    0                    0   \n2022-09-30        4940 -6045479158888222720  3010503474421000192   \n2022-10-31           0                    0                    0   \n2022-11-30           0                    0                    0   \n2022-12-31        2118   139290527350354544  2010502596522000128   \n\n            suppliers_count       price  enforcement      amount        bg  \nend_date                                                                    \n2020-12-31                1    94111.75            0    94111.75  1.000000  \n2021-01-31                0        0.00            0        0.00  0.000000  \n2021-02-28                0        0.00            0        0.00  0.000000  \n2021-03-31                0        0.00            0        0.00  0.000000  \n2021-04-30                0        0.00            0        0.00  0.000000  \n2021-05-31                0        0.00            0        0.00  0.000000  \n2021-06-30                0        0.00            0        0.00  0.000000  \n2021-07-31                0        0.00            0        0.00  0.000000  \n2021-08-31                0        0.00            0        0.00  0.000000  \n2021-09-30                1    81490.50            0    81490.50  1.000000  \n2021-10-31                1  1183800.00            0  1183800.00  1.000000  \n2021-11-30                0        0.00            0        0.00  0.000000  \n2021-12-31                3  1720652.67            1  1755152.67  2.850000  \n2022-01-31                1   196515.62            0   196515.62  1.000000  \n2022-02-28                0        0.00            0        0.00  0.000000  \n2022-03-31                0        0.00            0        0.00  0.000000  \n2022-04-30                0        0.00            0        0.00  0.000000  \n2022-05-31                0        0.00            0        0.00  0.000000  \n2022-06-30                0        0.00            0        0.00  0.000000  \n2022-07-31                0        0.00            0        0.00  0.000000  \n2022-08-31                0        0.00            0        0.00  0.000000  \n2022-09-30                1    21473.59            0    24977.75  0.859709  \n2022-10-31                0        0.00            0        0.00  0.000000  \n2022-11-30                0        0.00            0        0.00  0.000000  \n2022-12-31                1   312000.00            0   500108.18  0.623865  ",
      "text/html": "<div>\n<style scoped>\n    .dataframe tbody tr th:only-of-type {\n        vertical-align: middle;\n    }\n\n    .dataframe tbody tr th {\n        vertical-align: top;\n    }\n\n    .dataframe thead th {\n        text-align: right;\n    }\n</style>\n<table border=\"1\" class=\"dataframe\">\n  <thead>\n    <tr style=\"text-align: right;\">\n      <th></th>\n      <th>Unnamed: 0</th>\n      <th>obj_hash</th>\n      <th>reg_num</th>\n      <th>suppliers_count</th>\n      <th>price</th>\n      <th>enforcement</th>\n      <th>amount</th>\n      <th>bg</th>\n    </tr>\n    <tr>\n      <th>end_date</th>\n      <th></th>\n      <th></th>\n      <th></th>\n      <th></th>\n      <th></th>\n      <th></th>\n      <th></th>\n      <th></th>\n    </tr>\n  </thead>\n  <tbody>\n    <tr>\n      <th>2020-12-31</th>\n      <td>3964</td>\n      <td>3282453306607634944</td>\n      <td>3010400830020000256</td>\n      <td>1</td>\n      <td>94111.75</td>\n      <td>0</td>\n      <td>94111.75</td>\n      <td>1.000000</td>\n    </tr>\n    <tr>\n      <th>2021-01-31</th>\n      <td>0</td>\n      <td>0</td>\n      <td>0</td>\n      <td>0</td>\n      <td>0.00</td>\n      <td>0</td>\n      <td>0.00</td>\n      <td>0.000000</td>\n    </tr>\n    <tr>\n      <th>2021-02-28</th>\n      <td>0</td>\n      <td>0</td>\n      <td>0</td>\n      <td>0</td>\n      <td>0.00</td>\n      <td>0</td>\n      <td>0.00</td>\n      <td>0.000000</td>\n    </tr>\n    <tr>\n      <th>2021-03-31</th>\n      <td>0</td>\n      <td>0</td>\n      <td>0</td>\n      <td>0</td>\n      <td>0.00</td>\n      <td>0</td>\n      <td>0.00</td>\n      <td>0.000000</td>\n    </tr>\n    <tr>\n      <th>2021-04-30</th>\n      <td>0</td>\n      <td>0</td>\n      <td>0</td>\n      <td>0</td>\n      <td>0.00</td>\n      <td>0</td>\n      <td>0.00</td>\n      <td>0.000000</td>\n    </tr>\n    <tr>\n      <th>2021-05-31</th>\n      <td>0</td>\n      <td>0</td>\n      <td>0</td>\n      <td>0</td>\n      <td>0.00</td>\n      <td>0</td>\n      <td>0.00</td>\n      <td>0.000000</td>\n    </tr>\n    <tr>\n      <th>2021-06-30</th>\n      <td>0</td>\n      <td>0</td>\n      <td>0</td>\n      <td>0</td>\n      <td>0.00</td>\n      <td>0</td>\n      <td>0.00</td>\n      <td>0.000000</td>\n    </tr>\n    <tr>\n      <th>2021-07-31</th>\n      <td>0</td>\n      <td>0</td>\n      <td>0</td>\n      <td>0</td>\n      <td>0.00</td>\n      <td>0</td>\n      <td>0.00</td>\n      <td>0.000000</td>\n    </tr>\n    <tr>\n      <th>2021-08-31</th>\n      <td>0</td>\n      <td>0</td>\n      <td>0</td>\n      <td>0</td>\n      <td>0.00</td>\n      <td>0</td>\n      <td>0.00</td>\n      <td>0.000000</td>\n    </tr>\n    <tr>\n      <th>2021-09-30</th>\n      <td>1142</td>\n      <td>-1894050369019973632</td>\n      <td>2010501406420999936</td>\n      <td>1</td>\n      <td>81490.50</td>\n      <td>0</td>\n      <td>81490.50</td>\n      <td>1.000000</td>\n    </tr>\n    <tr>\n      <th>2021-10-31</th>\n      <td>2267</td>\n      <td>-7325695340427526144</td>\n      <td>2010503349020999936</td>\n      <td>1</td>\n      <td>1183800.00</td>\n      <td>0</td>\n      <td>1183800.00</td>\n      <td>1.000000</td>\n    </tr>\n    <tr>\n      <th>2021-11-30</th>\n      <td>0</td>\n      <td>0</td>\n      <td>0</td>\n      <td>0</td>\n      <td>0.00</td>\n      <td>0</td>\n      <td>0.00</td>\n      <td>0.000000</td>\n    </tr>\n    <tr>\n      <th>2021-12-31</th>\n      <td>9198</td>\n      <td>-833560445593280512</td>\n      <td>8031106226263000064</td>\n      <td>3</td>\n      <td>1720652.67</td>\n      <td>1</td>\n      <td>1755152.67</td>\n      <td>2.850000</td>\n    </tr>\n    <tr>\n      <th>2022-01-31</th>\n      <td>5294</td>\n      <td>6158923093362237440</td>\n      <td>3010503896421000192</td>\n      <td>1</td>\n      <td>196515.62</td>\n      <td>0</td>\n      <td>196515.62</td>\n      <td>1.000000</td>\n    </tr>\n    <tr>\n      <th>2022-02-28</th>\n      <td>0</td>\n      <td>0</td>\n      <td>0</td>\n      <td>0</td>\n      <td>0.00</td>\n      <td>0</td>\n      <td>0.00</td>\n      <td>0.000000</td>\n    </tr>\n    <tr>\n      <th>2022-03-31</th>\n      <td>0</td>\n      <td>0</td>\n      <td>0</td>\n      <td>0</td>\n      <td>0.00</td>\n      <td>0</td>\n      <td>0.00</td>\n      <td>0.000000</td>\n    </tr>\n    <tr>\n      <th>2022-04-30</th>\n      <td>0</td>\n      <td>0</td>\n      <td>0</td>\n      <td>0</td>\n      <td>0.00</td>\n      <td>0</td>\n      <td>0.00</td>\n      <td>0.000000</td>\n    </tr>\n    <tr>\n      <th>2022-05-31</th>\n      <td>0</td>\n      <td>0</td>\n      <td>0</td>\n      <td>0</td>\n      <td>0.00</td>\n      <td>0</td>\n      <td>0.00</td>\n      <td>0.000000</td>\n    </tr>\n    <tr>\n      <th>2022-06-30</th>\n      <td>0</td>\n      <td>0</td>\n      <td>0</td>\n      <td>0</td>\n      <td>0.00</td>\n      <td>0</td>\n      <td>0.00</td>\n      <td>0.000000</td>\n    </tr>\n    <tr>\n      <th>2022-07-31</th>\n      <td>0</td>\n      <td>0</td>\n      <td>0</td>\n      <td>0</td>\n      <td>0.00</td>\n      <td>0</td>\n      <td>0.00</td>\n      <td>0.000000</td>\n    </tr>\n    <tr>\n      <th>2022-08-31</th>\n      <td>0</td>\n      <td>0</td>\n      <td>0</td>\n      <td>0</td>\n      <td>0.00</td>\n      <td>0</td>\n      <td>0.00</td>\n      <td>0.000000</td>\n    </tr>\n    <tr>\n      <th>2022-09-30</th>\n      <td>4940</td>\n      <td>-6045479158888222720</td>\n      <td>3010503474421000192</td>\n      <td>1</td>\n      <td>21473.59</td>\n      <td>0</td>\n      <td>24977.75</td>\n      <td>0.859709</td>\n    </tr>\n    <tr>\n      <th>2022-10-31</th>\n      <td>0</td>\n      <td>0</td>\n      <td>0</td>\n      <td>0</td>\n      <td>0.00</td>\n      <td>0</td>\n      <td>0.00</td>\n      <td>0.000000</td>\n    </tr>\n    <tr>\n      <th>2022-11-30</th>\n      <td>0</td>\n      <td>0</td>\n      <td>0</td>\n      <td>0</td>\n      <td>0.00</td>\n      <td>0</td>\n      <td>0.00</td>\n      <td>0.000000</td>\n    </tr>\n    <tr>\n      <th>2022-12-31</th>\n      <td>2118</td>\n      <td>139290527350354544</td>\n      <td>2010502596522000128</td>\n      <td>1</td>\n      <td>312000.00</td>\n      <td>0</td>\n      <td>500108.18</td>\n      <td>0.623865</td>\n    </tr>\n  </tbody>\n</table>\n</div>"
     },
     "execution_count": 22,
     "metadata": {},
     "output_type": "execute_result"
    }
   ],
   "source": [
    "df.groupby(pd.Grouper(key = 'end_date', axis =0,\n",
    "                      freq='M')).sum()"
   ],
   "metadata": {
    "collapsed": false
   }
  },
  {
   "cell_type": "code",
   "execution_count": 23,
   "outputs": [],
   "source": [
    "import os"
   ],
   "metadata": {
    "collapsed": false
   }
  },
  {
   "cell_type": "code",
   "execution_count": 24,
   "outputs": [],
   "source": [
    "files = os.listdir('C:\\\\Users\\\\gosti\\\\Downloads\\\\Telegram Desktop\\\\results\\\\results')"
   ],
   "metadata": {
    "collapsed": false
   }
  },
  {
   "cell_type": "code",
   "execution_count": 27,
   "outputs": [],
   "source": [
    "dfs = []\n",
    "for f in files:\n",
    "    df1 = pd.read_csv('C:\\\\Users\\\\gosti\\\\Downloads\\\\Telegram Desktop\\\\results\\\\results\\\\Adygeja_Resp_2022-03-20.csv', encoding = 'utf-8')\n",
    "    dfs.append(df1)"
   ],
   "metadata": {
    "collapsed": false
   }
  },
  {
   "cell_type": "code",
   "execution_count": 28,
   "outputs": [
    {
     "data": {
      "text/plain": "list"
     },
     "execution_count": 28,
     "metadata": {},
     "output_type": "execute_result"
    }
   ],
   "source": [
    "type(dfs)"
   ],
   "metadata": {
    "collapsed": false
   }
  },
  {
   "cell_type": "code",
   "execution_count": null,
   "outputs": [],
   "source": [],
   "metadata": {
    "collapsed": false
   }
  }
 ],
 "metadata": {
  "kernelspec": {
   "display_name": "Python 3",
   "language": "python",
   "name": "python3"
  },
  "language_info": {
   "codemirror_mode": {
    "name": "ipython",
    "version": 2
   },
   "file_extension": ".py",
   "mimetype": "text/x-python",
   "name": "python",
   "nbconvert_exporter": "python",
   "pygments_lexer": "ipython2",
   "version": "2.7.6"
  }
 },
 "nbformat": 4,
 "nbformat_minor": 0
}
