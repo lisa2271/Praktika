{
 "cells": [
  {
   "cell_type": "code",
   "execution_count": 1,
   "metadata": {
    "collapsed": true
   },
   "outputs": [],
   "source": [
    "import numpy as np\n",
    "import pandas as pd\n",
    "import matplotlib.pyplot as plt\n",
    "import datetime\n",
    "import seaborn as sns"
   ]
  },
  {
   "cell_type": "code",
   "execution_count": 23,
   "outputs": [],
   "source": [
    "pas = pd.read_csv(r'C:\\Users\\gosti\\Downloads\\Telegram Desktop\\09-20220927T115737Z-001\\09\\passerbys.csv')"
   ],
   "metadata": {
    "collapsed": false
   }
  },
  {
   "cell_type": "code",
   "execution_count": 24,
   "outputs": [],
   "source": [
    "weather = pd.read_csv(r'C:\\Users\\gosti\\Downloads\\Telegram Desktop\\09-20220927T115737Z-001\\09\\weather.csv')"
   ],
   "metadata": {
    "collapsed": false
   }
  },
  {
   "cell_type": "code",
   "execution_count": 25,
   "outputs": [],
   "source": [
    "pas['Date'] = pas['Date'].astype('datetime64')"
   ],
   "metadata": {
    "collapsed": false
   }
  },
  {
   "cell_type": "code",
   "execution_count": 26,
   "outputs": [],
   "source": [
    "pas = pas.set_index('Date')"
   ],
   "metadata": {
    "collapsed": false
   }
  },
  {
   "cell_type": "code",
   "execution_count": 27,
   "outputs": [],
   "source": [
    "pas = pas.resample('D').sum()"
   ],
   "metadata": {
    "collapsed": false
   }
  },
  {
   "cell_type": "code",
   "execution_count": 28,
   "outputs": [],
   "source": [
    "pas1 = pas.index"
   ],
   "metadata": {
    "collapsed": false
   }
  },
  {
   "cell_type": "code",
   "execution_count": 29,
   "outputs": [
    {
     "data": {
      "text/plain": "            Fremont Bridge East Sidewalk  Fremont Bridge West Sidewalk\nDate                                                                  \n2012-10-03                        1760.0                        1761.0\n2012-10-04                        1708.0                        1767.0\n2012-10-05                        1558.0                        1590.0\n2012-10-06                        1080.0                         926.0\n2012-10-07                        1191.0                         951.0\n...                                  ...                           ...\n2019-06-26                        1891.0                        3141.0\n2019-06-27                        1446.0                        2523.0\n2019-06-28                        1753.0                        3044.0\n2019-06-29                        1435.0                        1748.0\n2019-06-30                        1541.0                        1993.0\n\n[2462 rows x 2 columns]",
      "text/html": "<div>\n<style scoped>\n    .dataframe tbody tr th:only-of-type {\n        vertical-align: middle;\n    }\n\n    .dataframe tbody tr th {\n        vertical-align: top;\n    }\n\n    .dataframe thead th {\n        text-align: right;\n    }\n</style>\n<table border=\"1\" class=\"dataframe\">\n  <thead>\n    <tr style=\"text-align: right;\">\n      <th></th>\n      <th>Fremont Bridge East Sidewalk</th>\n      <th>Fremont Bridge West Sidewalk</th>\n    </tr>\n    <tr>\n      <th>Date</th>\n      <th></th>\n      <th></th>\n    </tr>\n  </thead>\n  <tbody>\n    <tr>\n      <th>2012-10-03</th>\n      <td>1760.0</td>\n      <td>1761.0</td>\n    </tr>\n    <tr>\n      <th>2012-10-04</th>\n      <td>1708.0</td>\n      <td>1767.0</td>\n    </tr>\n    <tr>\n      <th>2012-10-05</th>\n      <td>1558.0</td>\n      <td>1590.0</td>\n    </tr>\n    <tr>\n      <th>2012-10-06</th>\n      <td>1080.0</td>\n      <td>926.0</td>\n    </tr>\n    <tr>\n      <th>2012-10-07</th>\n      <td>1191.0</td>\n      <td>951.0</td>\n    </tr>\n    <tr>\n      <th>...</th>\n      <td>...</td>\n      <td>...</td>\n    </tr>\n    <tr>\n      <th>2019-06-26</th>\n      <td>1891.0</td>\n      <td>3141.0</td>\n    </tr>\n    <tr>\n      <th>2019-06-27</th>\n      <td>1446.0</td>\n      <td>2523.0</td>\n    </tr>\n    <tr>\n      <th>2019-06-28</th>\n      <td>1753.0</td>\n      <td>3044.0</td>\n    </tr>\n    <tr>\n      <th>2019-06-29</th>\n      <td>1435.0</td>\n      <td>1748.0</td>\n    </tr>\n    <tr>\n      <th>2019-06-30</th>\n      <td>1541.0</td>\n      <td>1993.0</td>\n    </tr>\n  </tbody>\n</table>\n<p>2462 rows × 2 columns</p>\n</div>"
     },
     "execution_count": 29,
     "metadata": {},
     "output_type": "execute_result"
    }
   ],
   "source": [
    "pas"
   ],
   "metadata": {
    "collapsed": false
   }
  },
  {
   "cell_type": "code",
   "execution_count": 30,
   "outputs": [],
   "source": [
    "pas2 = pd.DataFrame(pas1.dayofweek)"
   ],
   "metadata": {
    "collapsed": false
   }
  },
  {
   "cell_type": "code",
   "execution_count": 31,
   "outputs": [
    {
     "data": {
      "text/plain": "      Date\n0        2\n1        3\n2        4\n3        5\n4        6\n...    ...\n2457     2\n2458     3\n2459     4\n2460     5\n2461     6\n\n[2462 rows x 1 columns]",
      "text/html": "<div>\n<style scoped>\n    .dataframe tbody tr th:only-of-type {\n        vertical-align: middle;\n    }\n\n    .dataframe tbody tr th {\n        vertical-align: top;\n    }\n\n    .dataframe thead th {\n        text-align: right;\n    }\n</style>\n<table border=\"1\" class=\"dataframe\">\n  <thead>\n    <tr style=\"text-align: right;\">\n      <th></th>\n      <th>Date</th>\n    </tr>\n  </thead>\n  <tbody>\n    <tr>\n      <th>0</th>\n      <td>2</td>\n    </tr>\n    <tr>\n      <th>1</th>\n      <td>3</td>\n    </tr>\n    <tr>\n      <th>2</th>\n      <td>4</td>\n    </tr>\n    <tr>\n      <th>3</th>\n      <td>5</td>\n    </tr>\n    <tr>\n      <th>4</th>\n      <td>6</td>\n    </tr>\n    <tr>\n      <th>...</th>\n      <td>...</td>\n    </tr>\n    <tr>\n      <th>2457</th>\n      <td>2</td>\n    </tr>\n    <tr>\n      <th>2458</th>\n      <td>3</td>\n    </tr>\n    <tr>\n      <th>2459</th>\n      <td>4</td>\n    </tr>\n    <tr>\n      <th>2460</th>\n      <td>5</td>\n    </tr>\n    <tr>\n      <th>2461</th>\n      <td>6</td>\n    </tr>\n  </tbody>\n</table>\n<p>2462 rows × 1 columns</p>\n</div>"
     },
     "execution_count": 31,
     "metadata": {},
     "output_type": "execute_result"
    }
   ],
   "source": [
    "pas2"
   ],
   "metadata": {
    "collapsed": false
   }
  },
  {
   "cell_type": "code",
   "execution_count": 33,
   "outputs": [],
   "source": [
    "pas2.index = pas.index"
   ],
   "metadata": {
    "collapsed": false
   }
  },
  {
   "cell_type": "code",
   "execution_count": 34,
   "outputs": [],
   "source": [
    "pas2.index = pas.index"
   ],
   "metadata": {
    "collapsed": false
   }
  },
  {
   "cell_type": "code",
   "execution_count": 35,
   "outputs": [],
   "source": [
    "pas3 = pd.concat([pas, pas2], axis=1, join='inner')"
   ],
   "metadata": {
    "collapsed": false
   }
  },
  {
   "cell_type": "code",
   "execution_count": 36,
   "outputs": [
    {
     "data": {
      "text/plain": "            Fremont Bridge East Sidewalk  Fremont Bridge West Sidewalk  \\\nDate                                                                     \n2012-10-03                        1760.0                        1761.0   \n2012-10-04                        1708.0                        1767.0   \n2012-10-05                        1558.0                        1590.0   \n2012-10-06                        1080.0                         926.0   \n2012-10-07                        1191.0                         951.0   \n...                                  ...                           ...   \n2019-06-26                        1891.0                        3141.0   \n2019-06-27                        1446.0                        2523.0   \n2019-06-28                        1753.0                        3044.0   \n2019-06-29                        1435.0                        1748.0   \n2019-06-30                        1541.0                        1993.0   \n\n            Dayofweek  \nDate                   \n2012-10-03          2  \n2012-10-04          3  \n2012-10-05          4  \n2012-10-06          5  \n2012-10-07          6  \n...               ...  \n2019-06-26          2  \n2019-06-27          3  \n2019-06-28          4  \n2019-06-29          5  \n2019-06-30          6  \n\n[2462 rows x 3 columns]",
      "text/html": "<div>\n<style scoped>\n    .dataframe tbody tr th:only-of-type {\n        vertical-align: middle;\n    }\n\n    .dataframe tbody tr th {\n        vertical-align: top;\n    }\n\n    .dataframe thead th {\n        text-align: right;\n    }\n</style>\n<table border=\"1\" class=\"dataframe\">\n  <thead>\n    <tr style=\"text-align: right;\">\n      <th></th>\n      <th>Fremont Bridge East Sidewalk</th>\n      <th>Fremont Bridge West Sidewalk</th>\n      <th>Dayofweek</th>\n    </tr>\n    <tr>\n      <th>Date</th>\n      <th></th>\n      <th></th>\n      <th></th>\n    </tr>\n  </thead>\n  <tbody>\n    <tr>\n      <th>2012-10-03</th>\n      <td>1760.0</td>\n      <td>1761.0</td>\n      <td>2</td>\n    </tr>\n    <tr>\n      <th>2012-10-04</th>\n      <td>1708.0</td>\n      <td>1767.0</td>\n      <td>3</td>\n    </tr>\n    <tr>\n      <th>2012-10-05</th>\n      <td>1558.0</td>\n      <td>1590.0</td>\n      <td>4</td>\n    </tr>\n    <tr>\n      <th>2012-10-06</th>\n      <td>1080.0</td>\n      <td>926.0</td>\n      <td>5</td>\n    </tr>\n    <tr>\n      <th>2012-10-07</th>\n      <td>1191.0</td>\n      <td>951.0</td>\n      <td>6</td>\n    </tr>\n    <tr>\n      <th>...</th>\n      <td>...</td>\n      <td>...</td>\n      <td>...</td>\n    </tr>\n    <tr>\n      <th>2019-06-26</th>\n      <td>1891.0</td>\n      <td>3141.0</td>\n      <td>2</td>\n    </tr>\n    <tr>\n      <th>2019-06-27</th>\n      <td>1446.0</td>\n      <td>2523.0</td>\n      <td>3</td>\n    </tr>\n    <tr>\n      <th>2019-06-28</th>\n      <td>1753.0</td>\n      <td>3044.0</td>\n      <td>4</td>\n    </tr>\n    <tr>\n      <th>2019-06-29</th>\n      <td>1435.0</td>\n      <td>1748.0</td>\n      <td>5</td>\n    </tr>\n    <tr>\n      <th>2019-06-30</th>\n      <td>1541.0</td>\n      <td>1993.0</td>\n      <td>6</td>\n    </tr>\n  </tbody>\n</table>\n<p>2462 rows × 3 columns</p>\n</div>"
     },
     "execution_count": 36,
     "metadata": {},
     "output_type": "execute_result"
    }
   ],
   "source": [
    "pas3.rename(columns={'Date' : 'Dayofweek'})"
   ],
   "metadata": {
    "collapsed": false
   }
  },
  {
   "cell_type": "code",
   "execution_count": 37,
   "outputs": [],
   "source": [
    "weather['DATE'] = weather['DATE'].astype('datetime64')"
   ],
   "metadata": {
    "collapsed": false
   }
  },
  {
   "cell_type": "code",
   "execution_count": 38,
   "outputs": [],
   "source": [
    "weather.rename(columns={'DATE' : 'Date'}, inplace=True)"
   ],
   "metadata": {
    "collapsed": false
   }
  },
  {
   "cell_type": "code",
   "execution_count": 39,
   "outputs": [],
   "source": [
    "weather = weather.set_index('Date')"
   ],
   "metadata": {
    "collapsed": false
   }
  },
  {
   "cell_type": "code",
   "execution_count": 40,
   "outputs": [],
   "source": [
    "weather = weather['2012-10-03':'2019-06-30']"
   ],
   "metadata": {
    "collapsed": false
   }
  },
  {
   "cell_type": "code",
   "execution_count": 41,
   "outputs": [],
   "source": [
    "weather.index = weather.index.astype(str)\n",
    "pas3.index = pas3.index.astype(str)"
   ],
   "metadata": {
    "collapsed": false
   }
  },
  {
   "cell_type": "code",
   "execution_count": 55,
   "outputs": [],
   "source": [
    "df = pd.merge(weather, how='inner',right=pas3,left_on=weather.index,right_on=pas3.index)"
   ],
   "metadata": {
    "collapsed": false
   }
  },
  {
   "cell_type": "code",
   "execution_count": 56,
   "outputs": [
    {
     "data": {
      "text/plain": "           key_0  TAVG  PRCP  Fremont Bridge East Sidewalk  \\\n0     2012-10-03   NaN   0.0                        1760.0   \n1     2012-10-04   NaN   0.0                        1708.0   \n2     2012-10-05   NaN   0.0                        1558.0   \n3     2012-10-06   NaN   0.0                        1080.0   \n4     2012-10-07   NaN   0.0                        1191.0   \n...          ...   ...   ...                           ...   \n2457  2019-06-26   NaN   0.3                        1891.0   \n2458  2019-06-27   NaN   2.0                        1446.0   \n2459  2019-06-28  16.1   0.0                        1753.0   \n2460  2019-06-29  18.0   0.0                        1435.0   \n2461  2019-06-30  19.8   0.0                        1541.0   \n\n      Fremont Bridge West Sidewalk  Date  \n0                           1761.0     2  \n1                           1767.0     3  \n2                           1590.0     4  \n3                            926.0     5  \n4                            951.0     6  \n...                            ...   ...  \n2457                        3141.0     2  \n2458                        2523.0     3  \n2459                        3044.0     4  \n2460                        1748.0     5  \n2461                        1993.0     6  \n\n[2462 rows x 6 columns]",
      "text/html": "<div>\n<style scoped>\n    .dataframe tbody tr th:only-of-type {\n        vertical-align: middle;\n    }\n\n    .dataframe tbody tr th {\n        vertical-align: top;\n    }\n\n    .dataframe thead th {\n        text-align: right;\n    }\n</style>\n<table border=\"1\" class=\"dataframe\">\n  <thead>\n    <tr style=\"text-align: right;\">\n      <th></th>\n      <th>key_0</th>\n      <th>TAVG</th>\n      <th>PRCP</th>\n      <th>Fremont Bridge East Sidewalk</th>\n      <th>Fremont Bridge West Sidewalk</th>\n      <th>Date</th>\n    </tr>\n  </thead>\n  <tbody>\n    <tr>\n      <th>0</th>\n      <td>2012-10-03</td>\n      <td>NaN</td>\n      <td>0.0</td>\n      <td>1760.0</td>\n      <td>1761.0</td>\n      <td>2</td>\n    </tr>\n    <tr>\n      <th>1</th>\n      <td>2012-10-04</td>\n      <td>NaN</td>\n      <td>0.0</td>\n      <td>1708.0</td>\n      <td>1767.0</td>\n      <td>3</td>\n    </tr>\n    <tr>\n      <th>2</th>\n      <td>2012-10-05</td>\n      <td>NaN</td>\n      <td>0.0</td>\n      <td>1558.0</td>\n      <td>1590.0</td>\n      <td>4</td>\n    </tr>\n    <tr>\n      <th>3</th>\n      <td>2012-10-06</td>\n      <td>NaN</td>\n      <td>0.0</td>\n      <td>1080.0</td>\n      <td>926.0</td>\n      <td>5</td>\n    </tr>\n    <tr>\n      <th>4</th>\n      <td>2012-10-07</td>\n      <td>NaN</td>\n      <td>0.0</td>\n      <td>1191.0</td>\n      <td>951.0</td>\n      <td>6</td>\n    </tr>\n    <tr>\n      <th>...</th>\n      <td>...</td>\n      <td>...</td>\n      <td>...</td>\n      <td>...</td>\n      <td>...</td>\n      <td>...</td>\n    </tr>\n    <tr>\n      <th>2457</th>\n      <td>2019-06-26</td>\n      <td>NaN</td>\n      <td>0.3</td>\n      <td>1891.0</td>\n      <td>3141.0</td>\n      <td>2</td>\n    </tr>\n    <tr>\n      <th>2458</th>\n      <td>2019-06-27</td>\n      <td>NaN</td>\n      <td>2.0</td>\n      <td>1446.0</td>\n      <td>2523.0</td>\n      <td>3</td>\n    </tr>\n    <tr>\n      <th>2459</th>\n      <td>2019-06-28</td>\n      <td>16.1</td>\n      <td>0.0</td>\n      <td>1753.0</td>\n      <td>3044.0</td>\n      <td>4</td>\n    </tr>\n    <tr>\n      <th>2460</th>\n      <td>2019-06-29</td>\n      <td>18.0</td>\n      <td>0.0</td>\n      <td>1435.0</td>\n      <td>1748.0</td>\n      <td>5</td>\n    </tr>\n    <tr>\n      <th>2461</th>\n      <td>2019-06-30</td>\n      <td>19.8</td>\n      <td>0.0</td>\n      <td>1541.0</td>\n      <td>1993.0</td>\n      <td>6</td>\n    </tr>\n  </tbody>\n</table>\n<p>2462 rows × 6 columns</p>\n</div>"
     },
     "execution_count": 56,
     "metadata": {},
     "output_type": "execute_result"
    }
   ],
   "source": [
    "df"
   ],
   "metadata": {
    "collapsed": false
   }
  },
  {
   "cell_type": "code",
   "execution_count": 57,
   "outputs": [],
   "source": [
    "df.rename(columns={'Date' : 'Dayofweek'}, inplace=True)\n",
    "df.rename(columns={'key_0' : 'Date'}, inplace=True)"
   ],
   "metadata": {
    "collapsed": false
   }
  },
  {
   "cell_type": "code",
   "execution_count": 58,
   "outputs": [
    {
     "data": {
      "text/plain": "            Date  TAVG  PRCP  Fremont Bridge East Sidewalk  \\\n0     2012-10-03   NaN   0.0                        1760.0   \n1     2012-10-04   NaN   0.0                        1708.0   \n2     2012-10-05   NaN   0.0                        1558.0   \n3     2012-10-06   NaN   0.0                        1080.0   \n4     2012-10-07   NaN   0.0                        1191.0   \n...          ...   ...   ...                           ...   \n2457  2019-06-26   NaN   0.3                        1891.0   \n2458  2019-06-27   NaN   2.0                        1446.0   \n2459  2019-06-28  16.1   0.0                        1753.0   \n2460  2019-06-29  18.0   0.0                        1435.0   \n2461  2019-06-30  19.8   0.0                        1541.0   \n\n      Fremont Bridge West Sidewalk  Dayofweek  \n0                           1761.0          2  \n1                           1767.0          3  \n2                           1590.0          4  \n3                            926.0          5  \n4                            951.0          6  \n...                            ...        ...  \n2457                        3141.0          2  \n2458                        2523.0          3  \n2459                        3044.0          4  \n2460                        1748.0          5  \n2461                        1993.0          6  \n\n[2462 rows x 6 columns]",
      "text/html": "<div>\n<style scoped>\n    .dataframe tbody tr th:only-of-type {\n        vertical-align: middle;\n    }\n\n    .dataframe tbody tr th {\n        vertical-align: top;\n    }\n\n    .dataframe thead th {\n        text-align: right;\n    }\n</style>\n<table border=\"1\" class=\"dataframe\">\n  <thead>\n    <tr style=\"text-align: right;\">\n      <th></th>\n      <th>Date</th>\n      <th>TAVG</th>\n      <th>PRCP</th>\n      <th>Fremont Bridge East Sidewalk</th>\n      <th>Fremont Bridge West Sidewalk</th>\n      <th>Dayofweek</th>\n    </tr>\n  </thead>\n  <tbody>\n    <tr>\n      <th>0</th>\n      <td>2012-10-03</td>\n      <td>NaN</td>\n      <td>0.0</td>\n      <td>1760.0</td>\n      <td>1761.0</td>\n      <td>2</td>\n    </tr>\n    <tr>\n      <th>1</th>\n      <td>2012-10-04</td>\n      <td>NaN</td>\n      <td>0.0</td>\n      <td>1708.0</td>\n      <td>1767.0</td>\n      <td>3</td>\n    </tr>\n    <tr>\n      <th>2</th>\n      <td>2012-10-05</td>\n      <td>NaN</td>\n      <td>0.0</td>\n      <td>1558.0</td>\n      <td>1590.0</td>\n      <td>4</td>\n    </tr>\n    <tr>\n      <th>3</th>\n      <td>2012-10-06</td>\n      <td>NaN</td>\n      <td>0.0</td>\n      <td>1080.0</td>\n      <td>926.0</td>\n      <td>5</td>\n    </tr>\n    <tr>\n      <th>4</th>\n      <td>2012-10-07</td>\n      <td>NaN</td>\n      <td>0.0</td>\n      <td>1191.0</td>\n      <td>951.0</td>\n      <td>6</td>\n    </tr>\n    <tr>\n      <th>...</th>\n      <td>...</td>\n      <td>...</td>\n      <td>...</td>\n      <td>...</td>\n      <td>...</td>\n      <td>...</td>\n    </tr>\n    <tr>\n      <th>2457</th>\n      <td>2019-06-26</td>\n      <td>NaN</td>\n      <td>0.3</td>\n      <td>1891.0</td>\n      <td>3141.0</td>\n      <td>2</td>\n    </tr>\n    <tr>\n      <th>2458</th>\n      <td>2019-06-27</td>\n      <td>NaN</td>\n      <td>2.0</td>\n      <td>1446.0</td>\n      <td>2523.0</td>\n      <td>3</td>\n    </tr>\n    <tr>\n      <th>2459</th>\n      <td>2019-06-28</td>\n      <td>16.1</td>\n      <td>0.0</td>\n      <td>1753.0</td>\n      <td>3044.0</td>\n      <td>4</td>\n    </tr>\n    <tr>\n      <th>2460</th>\n      <td>2019-06-29</td>\n      <td>18.0</td>\n      <td>0.0</td>\n      <td>1435.0</td>\n      <td>1748.0</td>\n      <td>5</td>\n    </tr>\n    <tr>\n      <th>2461</th>\n      <td>2019-06-30</td>\n      <td>19.8</td>\n      <td>0.0</td>\n      <td>1541.0</td>\n      <td>1993.0</td>\n      <td>6</td>\n    </tr>\n  </tbody>\n</table>\n<p>2462 rows × 6 columns</p>\n</div>"
     },
     "execution_count": 58,
     "metadata": {},
     "output_type": "execute_result"
    }
   ],
   "source": [
    "df"
   ],
   "metadata": {
    "collapsed": false
   }
  },
  {
   "cell_type": "code",
   "execution_count": 59,
   "outputs": [],
   "source": [
    "df = df.set_index('Date')"
   ],
   "metadata": {
    "collapsed": false
   }
  },
  {
   "cell_type": "code",
   "execution_count": 60,
   "outputs": [],
   "source": [
    "df = df.dropna(axis=0)"
   ],
   "metadata": {
    "collapsed": false
   }
  },
  {
   "cell_type": "code",
   "execution_count": 61,
   "outputs": [],
   "source": [
    "df['count'] = df['Fremont Bridge East Sidewalk'] + df['Fremont Bridge East Sidewalk']"
   ],
   "metadata": {
    "collapsed": false
   }
  },
  {
   "cell_type": "code",
   "execution_count": 62,
   "outputs": [
    {
     "data": {
      "text/plain": "            TAVG  PRCP  Fremont Bridge East Sidewalk  \\\nDate                                                   \n2013-04-01  12.8   0.0                        1654.0   \n2013-04-02  11.5   0.0                        1685.0   \n2013-04-03  11.7   0.0                        1739.0   \n2013-04-04  12.0   8.4                        1016.0   \n2013-04-05  12.2  18.5                         914.0   \n...          ...   ...                           ...   \n2019-06-24  14.7   0.0                        1862.0   \n2019-06-25  16.6   0.0                        2294.0   \n2019-06-28  16.1   0.0                        1753.0   \n2019-06-29  18.0   0.0                        1435.0   \n2019-06-30  19.8   0.0                        1541.0   \n\n            Fremont Bridge West Sidewalk  Dayofweek   count  \nDate                                                         \n2013-04-01                        1594.0          0  3308.0  \n2013-04-02                        1602.0          1  3370.0  \n2013-04-03                        1747.0          2  3478.0  \n2013-04-04                         991.0          3  2032.0  \n2013-04-05                         928.0          4  1828.0  \n...                                  ...        ...     ...  \n2019-06-24                        3086.0          0  3724.0  \n2019-06-25                        3766.0          1  4588.0  \n2019-06-28                        3044.0          4  3506.0  \n2019-06-29                        1748.0          5  2870.0  \n2019-06-30                        1993.0          6  3082.0  \n\n[2280 rows x 6 columns]",
      "text/html": "<div>\n<style scoped>\n    .dataframe tbody tr th:only-of-type {\n        vertical-align: middle;\n    }\n\n    .dataframe tbody tr th {\n        vertical-align: top;\n    }\n\n    .dataframe thead th {\n        text-align: right;\n    }\n</style>\n<table border=\"1\" class=\"dataframe\">\n  <thead>\n    <tr style=\"text-align: right;\">\n      <th></th>\n      <th>TAVG</th>\n      <th>PRCP</th>\n      <th>Fremont Bridge East Sidewalk</th>\n      <th>Fremont Bridge West Sidewalk</th>\n      <th>Dayofweek</th>\n      <th>count</th>\n    </tr>\n    <tr>\n      <th>Date</th>\n      <th></th>\n      <th></th>\n      <th></th>\n      <th></th>\n      <th></th>\n      <th></th>\n    </tr>\n  </thead>\n  <tbody>\n    <tr>\n      <th>2013-04-01</th>\n      <td>12.8</td>\n      <td>0.0</td>\n      <td>1654.0</td>\n      <td>1594.0</td>\n      <td>0</td>\n      <td>3308.0</td>\n    </tr>\n    <tr>\n      <th>2013-04-02</th>\n      <td>11.5</td>\n      <td>0.0</td>\n      <td>1685.0</td>\n      <td>1602.0</td>\n      <td>1</td>\n      <td>3370.0</td>\n    </tr>\n    <tr>\n      <th>2013-04-03</th>\n      <td>11.7</td>\n      <td>0.0</td>\n      <td>1739.0</td>\n      <td>1747.0</td>\n      <td>2</td>\n      <td>3478.0</td>\n    </tr>\n    <tr>\n      <th>2013-04-04</th>\n      <td>12.0</td>\n      <td>8.4</td>\n      <td>1016.0</td>\n      <td>991.0</td>\n      <td>3</td>\n      <td>2032.0</td>\n    </tr>\n    <tr>\n      <th>2013-04-05</th>\n      <td>12.2</td>\n      <td>18.5</td>\n      <td>914.0</td>\n      <td>928.0</td>\n      <td>4</td>\n      <td>1828.0</td>\n    </tr>\n    <tr>\n      <th>...</th>\n      <td>...</td>\n      <td>...</td>\n      <td>...</td>\n      <td>...</td>\n      <td>...</td>\n      <td>...</td>\n    </tr>\n    <tr>\n      <th>2019-06-24</th>\n      <td>14.7</td>\n      <td>0.0</td>\n      <td>1862.0</td>\n      <td>3086.0</td>\n      <td>0</td>\n      <td>3724.0</td>\n    </tr>\n    <tr>\n      <th>2019-06-25</th>\n      <td>16.6</td>\n      <td>0.0</td>\n      <td>2294.0</td>\n      <td>3766.0</td>\n      <td>1</td>\n      <td>4588.0</td>\n    </tr>\n    <tr>\n      <th>2019-06-28</th>\n      <td>16.1</td>\n      <td>0.0</td>\n      <td>1753.0</td>\n      <td>3044.0</td>\n      <td>4</td>\n      <td>3506.0</td>\n    </tr>\n    <tr>\n      <th>2019-06-29</th>\n      <td>18.0</td>\n      <td>0.0</td>\n      <td>1435.0</td>\n      <td>1748.0</td>\n      <td>5</td>\n      <td>2870.0</td>\n    </tr>\n    <tr>\n      <th>2019-06-30</th>\n      <td>19.8</td>\n      <td>0.0</td>\n      <td>1541.0</td>\n      <td>1993.0</td>\n      <td>6</td>\n      <td>3082.0</td>\n    </tr>\n  </tbody>\n</table>\n<p>2280 rows × 6 columns</p>\n</div>"
     },
     "execution_count": 62,
     "metadata": {},
     "output_type": "execute_result"
    }
   ],
   "source": [
    "df"
   ],
   "metadata": {
    "collapsed": false
   }
  },
  {
   "cell_type": "code",
   "execution_count": 130,
   "outputs": [],
   "source": [
    "df1 = df[df['PRCP']>0]"
   ],
   "metadata": {
    "collapsed": false
   }
  },
  {
   "cell_type": "code",
   "execution_count": 131,
   "outputs": [
    {
     "data": {
      "text/plain": "            TAVG  PRCP  Fremont Bridge East Sidewalk  \\\nDate                                                   \n2013-04-04  12.0   8.4                        1016.0   \n2013-04-05  12.2  18.5                         914.0   \n2013-04-06   9.8  12.7                         429.0   \n2013-04-07   7.2  39.1                         314.0   \n2013-04-08   7.7   0.8                        1334.0   \n...          ...   ...                           ...   \n2019-06-06  13.6   0.3                        1831.0   \n2019-06-07  13.2   2.5                        1241.0   \n2019-06-18  17.2   5.3                        1469.0   \n2019-06-19  15.1   2.0                        2029.0   \n2019-06-20  14.1  10.4                        1817.0   \n\n            Fremont Bridge West Sidewalk  Dayofweek   count  \nDate                                                         \n2013-04-04                         991.0          3  2032.0  \n2013-04-05                         928.0          4  1828.0  \n2013-04-06                         360.0          5   858.0  \n2013-04-07                         263.0          6   628.0  \n2013-04-08                        1355.0          0  2668.0  \n...                                  ...        ...     ...  \n2019-06-06                        2883.0          3  3662.0  \n2019-06-07                        2046.0          4  2482.0  \n2019-06-18                        2467.0          1  2938.0  \n2019-06-19                        3343.0          2  4058.0  \n2019-06-20                        3091.0          3  3634.0  \n\n[958 rows x 6 columns]",
      "text/html": "<div>\n<style scoped>\n    .dataframe tbody tr th:only-of-type {\n        vertical-align: middle;\n    }\n\n    .dataframe tbody tr th {\n        vertical-align: top;\n    }\n\n    .dataframe thead th {\n        text-align: right;\n    }\n</style>\n<table border=\"1\" class=\"dataframe\">\n  <thead>\n    <tr style=\"text-align: right;\">\n      <th></th>\n      <th>TAVG</th>\n      <th>PRCP</th>\n      <th>Fremont Bridge East Sidewalk</th>\n      <th>Fremont Bridge West Sidewalk</th>\n      <th>Dayofweek</th>\n      <th>count</th>\n    </tr>\n    <tr>\n      <th>Date</th>\n      <th></th>\n      <th></th>\n      <th></th>\n      <th></th>\n      <th></th>\n      <th></th>\n    </tr>\n  </thead>\n  <tbody>\n    <tr>\n      <th>2013-04-04</th>\n      <td>12.0</td>\n      <td>8.4</td>\n      <td>1016.0</td>\n      <td>991.0</td>\n      <td>3</td>\n      <td>2032.0</td>\n    </tr>\n    <tr>\n      <th>2013-04-05</th>\n      <td>12.2</td>\n      <td>18.5</td>\n      <td>914.0</td>\n      <td>928.0</td>\n      <td>4</td>\n      <td>1828.0</td>\n    </tr>\n    <tr>\n      <th>2013-04-06</th>\n      <td>9.8</td>\n      <td>12.7</td>\n      <td>429.0</td>\n      <td>360.0</td>\n      <td>5</td>\n      <td>858.0</td>\n    </tr>\n    <tr>\n      <th>2013-04-07</th>\n      <td>7.2</td>\n      <td>39.1</td>\n      <td>314.0</td>\n      <td>263.0</td>\n      <td>6</td>\n      <td>628.0</td>\n    </tr>\n    <tr>\n      <th>2013-04-08</th>\n      <td>7.7</td>\n      <td>0.8</td>\n      <td>1334.0</td>\n      <td>1355.0</td>\n      <td>0</td>\n      <td>2668.0</td>\n    </tr>\n    <tr>\n      <th>...</th>\n      <td>...</td>\n      <td>...</td>\n      <td>...</td>\n      <td>...</td>\n      <td>...</td>\n      <td>...</td>\n    </tr>\n    <tr>\n      <th>2019-06-06</th>\n      <td>13.6</td>\n      <td>0.3</td>\n      <td>1831.0</td>\n      <td>2883.0</td>\n      <td>3</td>\n      <td>3662.0</td>\n    </tr>\n    <tr>\n      <th>2019-06-07</th>\n      <td>13.2</td>\n      <td>2.5</td>\n      <td>1241.0</td>\n      <td>2046.0</td>\n      <td>4</td>\n      <td>2482.0</td>\n    </tr>\n    <tr>\n      <th>2019-06-18</th>\n      <td>17.2</td>\n      <td>5.3</td>\n      <td>1469.0</td>\n      <td>2467.0</td>\n      <td>1</td>\n      <td>2938.0</td>\n    </tr>\n    <tr>\n      <th>2019-06-19</th>\n      <td>15.1</td>\n      <td>2.0</td>\n      <td>2029.0</td>\n      <td>3343.0</td>\n      <td>2</td>\n      <td>4058.0</td>\n    </tr>\n    <tr>\n      <th>2019-06-20</th>\n      <td>14.1</td>\n      <td>10.4</td>\n      <td>1817.0</td>\n      <td>3091.0</td>\n      <td>3</td>\n      <td>3634.0</td>\n    </tr>\n  </tbody>\n</table>\n<p>958 rows × 6 columns</p>\n</div>"
     },
     "execution_count": 131,
     "metadata": {},
     "output_type": "execute_result"
    }
   ],
   "source": [
    "df1"
   ],
   "metadata": {
    "collapsed": false
   }
  },
  {
   "cell_type": "code",
   "execution_count": 132,
   "outputs": [],
   "source": [
    "data = pd.get_dummies(df1, columns=['Dayofweek'])"
   ],
   "metadata": {
    "collapsed": false
   }
  },
  {
   "cell_type": "code",
   "execution_count": 133,
   "outputs": [
    {
     "data": {
      "text/plain": "            TAVG  PRCP  Fremont Bridge East Sidewalk  \\\nDate                                                   \n2013-04-04  12.0   8.4                        1016.0   \n2013-04-05  12.2  18.5                         914.0   \n2013-04-06   9.8  12.7                         429.0   \n2013-04-07   7.2  39.1                         314.0   \n2013-04-08   7.7   0.8                        1334.0   \n...          ...   ...                           ...   \n2019-06-06  13.6   0.3                        1831.0   \n2019-06-07  13.2   2.5                        1241.0   \n2019-06-18  17.2   5.3                        1469.0   \n2019-06-19  15.1   2.0                        2029.0   \n2019-06-20  14.1  10.4                        1817.0   \n\n            Fremont Bridge West Sidewalk   count  Dayofweek_0  Dayofweek_1  \\\nDate                                                                         \n2013-04-04                         991.0  2032.0            0            0   \n2013-04-05                         928.0  1828.0            0            0   \n2013-04-06                         360.0   858.0            0            0   \n2013-04-07                         263.0   628.0            0            0   \n2013-04-08                        1355.0  2668.0            1            0   \n...                                  ...     ...          ...          ...   \n2019-06-06                        2883.0  3662.0            0            0   \n2019-06-07                        2046.0  2482.0            0            0   \n2019-06-18                        2467.0  2938.0            0            1   \n2019-06-19                        3343.0  4058.0            0            0   \n2019-06-20                        3091.0  3634.0            0            0   \n\n            Dayofweek_2  Dayofweek_3  Dayofweek_4  Dayofweek_5  Dayofweek_6  \nDate                                                                         \n2013-04-04            0            1            0            0            0  \n2013-04-05            0            0            1            0            0  \n2013-04-06            0            0            0            1            0  \n2013-04-07            0            0            0            0            1  \n2013-04-08            0            0            0            0            0  \n...                 ...          ...          ...          ...          ...  \n2019-06-06            0            1            0            0            0  \n2019-06-07            0            0            1            0            0  \n2019-06-18            0            0            0            0            0  \n2019-06-19            1            0            0            0            0  \n2019-06-20            0            1            0            0            0  \n\n[958 rows x 12 columns]",
      "text/html": "<div>\n<style scoped>\n    .dataframe tbody tr th:only-of-type {\n        vertical-align: middle;\n    }\n\n    .dataframe tbody tr th {\n        vertical-align: top;\n    }\n\n    .dataframe thead th {\n        text-align: right;\n    }\n</style>\n<table border=\"1\" class=\"dataframe\">\n  <thead>\n    <tr style=\"text-align: right;\">\n      <th></th>\n      <th>TAVG</th>\n      <th>PRCP</th>\n      <th>Fremont Bridge East Sidewalk</th>\n      <th>Fremont Bridge West Sidewalk</th>\n      <th>count</th>\n      <th>Dayofweek_0</th>\n      <th>Dayofweek_1</th>\n      <th>Dayofweek_2</th>\n      <th>Dayofweek_3</th>\n      <th>Dayofweek_4</th>\n      <th>Dayofweek_5</th>\n      <th>Dayofweek_6</th>\n    </tr>\n    <tr>\n      <th>Date</th>\n      <th></th>\n      <th></th>\n      <th></th>\n      <th></th>\n      <th></th>\n      <th></th>\n      <th></th>\n      <th></th>\n      <th></th>\n      <th></th>\n      <th></th>\n      <th></th>\n    </tr>\n  </thead>\n  <tbody>\n    <tr>\n      <th>2013-04-04</th>\n      <td>12.0</td>\n      <td>8.4</td>\n      <td>1016.0</td>\n      <td>991.0</td>\n      <td>2032.0</td>\n      <td>0</td>\n      <td>0</td>\n      <td>0</td>\n      <td>1</td>\n      <td>0</td>\n      <td>0</td>\n      <td>0</td>\n    </tr>\n    <tr>\n      <th>2013-04-05</th>\n      <td>12.2</td>\n      <td>18.5</td>\n      <td>914.0</td>\n      <td>928.0</td>\n      <td>1828.0</td>\n      <td>0</td>\n      <td>0</td>\n      <td>0</td>\n      <td>0</td>\n      <td>1</td>\n      <td>0</td>\n      <td>0</td>\n    </tr>\n    <tr>\n      <th>2013-04-06</th>\n      <td>9.8</td>\n      <td>12.7</td>\n      <td>429.0</td>\n      <td>360.0</td>\n      <td>858.0</td>\n      <td>0</td>\n      <td>0</td>\n      <td>0</td>\n      <td>0</td>\n      <td>0</td>\n      <td>1</td>\n      <td>0</td>\n    </tr>\n    <tr>\n      <th>2013-04-07</th>\n      <td>7.2</td>\n      <td>39.1</td>\n      <td>314.0</td>\n      <td>263.0</td>\n      <td>628.0</td>\n      <td>0</td>\n      <td>0</td>\n      <td>0</td>\n      <td>0</td>\n      <td>0</td>\n      <td>0</td>\n      <td>1</td>\n    </tr>\n    <tr>\n      <th>2013-04-08</th>\n      <td>7.7</td>\n      <td>0.8</td>\n      <td>1334.0</td>\n      <td>1355.0</td>\n      <td>2668.0</td>\n      <td>1</td>\n      <td>0</td>\n      <td>0</td>\n      <td>0</td>\n      <td>0</td>\n      <td>0</td>\n      <td>0</td>\n    </tr>\n    <tr>\n      <th>...</th>\n      <td>...</td>\n      <td>...</td>\n      <td>...</td>\n      <td>...</td>\n      <td>...</td>\n      <td>...</td>\n      <td>...</td>\n      <td>...</td>\n      <td>...</td>\n      <td>...</td>\n      <td>...</td>\n      <td>...</td>\n    </tr>\n    <tr>\n      <th>2019-06-06</th>\n      <td>13.6</td>\n      <td>0.3</td>\n      <td>1831.0</td>\n      <td>2883.0</td>\n      <td>3662.0</td>\n      <td>0</td>\n      <td>0</td>\n      <td>0</td>\n      <td>1</td>\n      <td>0</td>\n      <td>0</td>\n      <td>0</td>\n    </tr>\n    <tr>\n      <th>2019-06-07</th>\n      <td>13.2</td>\n      <td>2.5</td>\n      <td>1241.0</td>\n      <td>2046.0</td>\n      <td>2482.0</td>\n      <td>0</td>\n      <td>0</td>\n      <td>0</td>\n      <td>0</td>\n      <td>1</td>\n      <td>0</td>\n      <td>0</td>\n    </tr>\n    <tr>\n      <th>2019-06-18</th>\n      <td>17.2</td>\n      <td>5.3</td>\n      <td>1469.0</td>\n      <td>2467.0</td>\n      <td>2938.0</td>\n      <td>0</td>\n      <td>1</td>\n      <td>0</td>\n      <td>0</td>\n      <td>0</td>\n      <td>0</td>\n      <td>0</td>\n    </tr>\n    <tr>\n      <th>2019-06-19</th>\n      <td>15.1</td>\n      <td>2.0</td>\n      <td>2029.0</td>\n      <td>3343.0</td>\n      <td>4058.0</td>\n      <td>0</td>\n      <td>0</td>\n      <td>1</td>\n      <td>0</td>\n      <td>0</td>\n      <td>0</td>\n      <td>0</td>\n    </tr>\n    <tr>\n      <th>2019-06-20</th>\n      <td>14.1</td>\n      <td>10.4</td>\n      <td>1817.0</td>\n      <td>3091.0</td>\n      <td>3634.0</td>\n      <td>0</td>\n      <td>0</td>\n      <td>0</td>\n      <td>1</td>\n      <td>0</td>\n      <td>0</td>\n      <td>0</td>\n    </tr>\n  </tbody>\n</table>\n<p>958 rows × 12 columns</p>\n</div>"
     },
     "execution_count": 133,
     "metadata": {},
     "output_type": "execute_result"
    }
   ],
   "source": [
    "data"
   ],
   "metadata": {
    "collapsed": false
   }
  },
  {
   "cell_type": "code",
   "execution_count": 134,
   "outputs": [],
   "source": [
    "data.rename(columns={'key_0' : 'Date','Dayofweek_0':'D1','Dayofweek_1':'D2','Dayofweek_2': 'D3','Dayofweek_3': 'D4','Dayofweek_4': 'D5','Dayofweek_5': 'D6','Dayofweek_6':'D7'}, inplace=True)"
   ],
   "metadata": {
    "collapsed": false
   }
  },
  {
   "cell_type": "code",
   "execution_count": 135,
   "outputs": [],
   "source": [
    "from datetime import date"
   ],
   "metadata": {
    "collapsed": false
   }
  },
  {
   "cell_type": "code",
   "execution_count": 136,
   "outputs": [
    {
     "data": {
      "text/plain": "Date\n2013-04-01    3308.0\n2013-04-02    3370.0\n2013-04-03    3478.0\n2013-04-04    2032.0\n2013-04-05    1828.0\n               ...  \n2019-06-24    3724.0\n2019-06-25    4588.0\n2019-06-28    3506.0\n2019-06-29    2870.0\n2019-06-30    3082.0\nName: count, Length: 2280, dtype: float64"
     },
     "execution_count": 136,
     "metadata": {},
     "output_type": "execute_result"
    }
   ],
   "source": [
    "Y"
   ],
   "metadata": {
    "collapsed": false
   }
  },
  {
   "cell_type": "code",
   "execution_count": 137,
   "outputs": [
    {
     "data": {
      "text/plain": "            TAVG  PRCP  D1  D2  D3  D4  D5  D6  D7\nDate                                              \n2013-04-04  12.0   8.4   0   0   0   1   0   0   0\n2013-04-05  12.2  18.5   0   0   0   0   1   0   0\n2013-04-06   9.8  12.7   0   0   0   0   0   1   0\n2013-04-07   7.2  39.1   0   0   0   0   0   0   1\n2013-04-08   7.7   0.8   1   0   0   0   0   0   0\n...          ...   ...  ..  ..  ..  ..  ..  ..  ..\n2019-06-06  13.6   0.3   0   0   0   1   0   0   0\n2019-06-07  13.2   2.5   0   0   0   0   1   0   0\n2019-06-18  17.2   5.3   0   1   0   0   0   0   0\n2019-06-19  15.1   2.0   0   0   1   0   0   0   0\n2019-06-20  14.1  10.4   0   0   0   1   0   0   0\n\n[958 rows x 9 columns]",
      "text/html": "<div>\n<style scoped>\n    .dataframe tbody tr th:only-of-type {\n        vertical-align: middle;\n    }\n\n    .dataframe tbody tr th {\n        vertical-align: top;\n    }\n\n    .dataframe thead th {\n        text-align: right;\n    }\n</style>\n<table border=\"1\" class=\"dataframe\">\n  <thead>\n    <tr style=\"text-align: right;\">\n      <th></th>\n      <th>TAVG</th>\n      <th>PRCP</th>\n      <th>D1</th>\n      <th>D2</th>\n      <th>D3</th>\n      <th>D4</th>\n      <th>D5</th>\n      <th>D6</th>\n      <th>D7</th>\n    </tr>\n    <tr>\n      <th>Date</th>\n      <th></th>\n      <th></th>\n      <th></th>\n      <th></th>\n      <th></th>\n      <th></th>\n      <th></th>\n      <th></th>\n      <th></th>\n    </tr>\n  </thead>\n  <tbody>\n    <tr>\n      <th>2013-04-04</th>\n      <td>12.0</td>\n      <td>8.4</td>\n      <td>0</td>\n      <td>0</td>\n      <td>0</td>\n      <td>1</td>\n      <td>0</td>\n      <td>0</td>\n      <td>0</td>\n    </tr>\n    <tr>\n      <th>2013-04-05</th>\n      <td>12.2</td>\n      <td>18.5</td>\n      <td>0</td>\n      <td>0</td>\n      <td>0</td>\n      <td>0</td>\n      <td>1</td>\n      <td>0</td>\n      <td>0</td>\n    </tr>\n    <tr>\n      <th>2013-04-06</th>\n      <td>9.8</td>\n      <td>12.7</td>\n      <td>0</td>\n      <td>0</td>\n      <td>0</td>\n      <td>0</td>\n      <td>0</td>\n      <td>1</td>\n      <td>0</td>\n    </tr>\n    <tr>\n      <th>2013-04-07</th>\n      <td>7.2</td>\n      <td>39.1</td>\n      <td>0</td>\n      <td>0</td>\n      <td>0</td>\n      <td>0</td>\n      <td>0</td>\n      <td>0</td>\n      <td>1</td>\n    </tr>\n    <tr>\n      <th>2013-04-08</th>\n      <td>7.7</td>\n      <td>0.8</td>\n      <td>1</td>\n      <td>0</td>\n      <td>0</td>\n      <td>0</td>\n      <td>0</td>\n      <td>0</td>\n      <td>0</td>\n    </tr>\n    <tr>\n      <th>...</th>\n      <td>...</td>\n      <td>...</td>\n      <td>...</td>\n      <td>...</td>\n      <td>...</td>\n      <td>...</td>\n      <td>...</td>\n      <td>...</td>\n      <td>...</td>\n    </tr>\n    <tr>\n      <th>2019-06-06</th>\n      <td>13.6</td>\n      <td>0.3</td>\n      <td>0</td>\n      <td>0</td>\n      <td>0</td>\n      <td>1</td>\n      <td>0</td>\n      <td>0</td>\n      <td>0</td>\n    </tr>\n    <tr>\n      <th>2019-06-07</th>\n      <td>13.2</td>\n      <td>2.5</td>\n      <td>0</td>\n      <td>0</td>\n      <td>0</td>\n      <td>0</td>\n      <td>1</td>\n      <td>0</td>\n      <td>0</td>\n    </tr>\n    <tr>\n      <th>2019-06-18</th>\n      <td>17.2</td>\n      <td>5.3</td>\n      <td>0</td>\n      <td>1</td>\n      <td>0</td>\n      <td>0</td>\n      <td>0</td>\n      <td>0</td>\n      <td>0</td>\n    </tr>\n    <tr>\n      <th>2019-06-19</th>\n      <td>15.1</td>\n      <td>2.0</td>\n      <td>0</td>\n      <td>0</td>\n      <td>1</td>\n      <td>0</td>\n      <td>0</td>\n      <td>0</td>\n      <td>0</td>\n    </tr>\n    <tr>\n      <th>2019-06-20</th>\n      <td>14.1</td>\n      <td>10.4</td>\n      <td>0</td>\n      <td>0</td>\n      <td>0</td>\n      <td>1</td>\n      <td>0</td>\n      <td>0</td>\n      <td>0</td>\n    </tr>\n  </tbody>\n</table>\n<p>958 rows × 9 columns</p>\n</div>"
     },
     "execution_count": 137,
     "metadata": {},
     "output_type": "execute_result"
    }
   ],
   "source": [
    "data[['TAVG', 'PRCP', 'D1', 'D2', 'D3','D4','D5','D6','D7']]"
   ],
   "metadata": {
    "collapsed": false
   }
  },
  {
   "cell_type": "code",
   "execution_count": 138,
   "outputs": [],
   "source": [
    "X = data[['TAVG', 'PRCP', 'D1', 'D2', 'D3','D4','D5','D6','D7']]\n",
    "Y = data['count']"
   ],
   "metadata": {
    "collapsed": false
   }
  },
  {
   "cell_type": "code",
   "execution_count": 139,
   "outputs": [],
   "source": [
    "from sklearn.model_selection import train_test_split"
   ],
   "metadata": {
    "collapsed": false
   }
  },
  {
   "cell_type": "code",
   "execution_count": 140,
   "outputs": [],
   "source": [
    "X_train, X_test, Y_train, Y_test = train_test_split(X, Y, test_size=0.2, random_state=0)"
   ],
   "metadata": {
    "collapsed": false
   }
  },
  {
   "cell_type": "code",
   "execution_count": 141,
   "outputs": [],
   "source": [
    "from sklearn.linear_model import LinearRegression"
   ],
   "metadata": {
    "collapsed": false
   }
  },
  {
   "cell_type": "code",
   "execution_count": 142,
   "outputs": [],
   "source": [
    "model = LinearRegression()"
   ],
   "metadata": {
    "collapsed": false
   }
  },
  {
   "cell_type": "code",
   "execution_count": 143,
   "outputs": [
    {
     "data": {
      "text/plain": "LinearRegression()"
     },
     "execution_count": 143,
     "metadata": {},
     "output_type": "execute_result"
    }
   ],
   "source": [
    "model.fit(X_train, Y_train)"
   ],
   "metadata": {
    "collapsed": false
   }
  },
  {
   "cell_type": "code",
   "execution_count": 144,
   "outputs": [],
   "source": [
    "Y_pred = model.predict(X_test)"
   ],
   "metadata": {
    "collapsed": false
   }
  },
  {
   "cell_type": "code",
   "execution_count": 145,
   "outputs": [],
   "source": [
    "from sklearn.metrics import r2_score, mean_absolute_error, mean_squared_error"
   ],
   "metadata": {
    "collapsed": false
   }
  },
  {
   "cell_type": "code",
   "execution_count": 146,
   "outputs": [
    {
     "name": "stdout",
     "output_type": "stream",
     "text": [
      "MAE =  383.458\n",
      "MSE = 268974.41\n",
      "Коэффициент детерминации = 0.695\n"
     ]
    }
   ],
   "source": [
    "MAE = mean_absolute_error(Y_test, Y_pred)\n",
    "MSE = mean_squared_error(Y_test, Y_pred)\n",
    "R2 = r2_score(Y_test, Y_pred)\n",
    "print('MAE = ', np.round(MAE, 3))\n",
    "print('MSE =', np.round(MSE, 3))\n",
    "print('Коэффициент детерминации =', np.round(R2, 3))"
   ],
   "metadata": {
    "collapsed": false
   }
  },
  {
   "cell_type": "code",
   "execution_count": 147,
   "outputs": [
    {
     "data": {
      "text/plain": "1025.765441415583"
     },
     "execution_count": 147,
     "metadata": {},
     "output_type": "execute_result"
    }
   ],
   "source": [
    "model.intercept_"
   ],
   "metadata": {
    "collapsed": false
   }
  },
  {
   "cell_type": "code",
   "execution_count": 148,
   "outputs": [
    {
     "data": {
      "text/plain": "array([ 107.49374248,  -29.78987404,  372.6273339 ,  550.51484967,\n        462.28485712,  356.03714495,   78.39580502, -855.45658939,\n       -964.40340126])"
     },
     "execution_count": 148,
     "metadata": {},
     "output_type": "execute_result"
    }
   ],
   "source": [
    "model.coef_"
   ],
   "metadata": {
    "collapsed": false
   }
  },
  {
   "cell_type": "markdown",
   "source": [
    "Ридж-регрессия\n",
    "="
   ],
   "metadata": {
    "collapsed": false
   }
  },
  {
   "cell_type": "code",
   "execution_count": 149,
   "outputs": [],
   "source": [
    "from sklearn.linear_model import Ridge, Lasso\n",
    "from sklearn.model_selection import GridSearchCV"
   ],
   "metadata": {
    "collapsed": false
   }
  },
  {
   "cell_type": "code",
   "execution_count": 150,
   "outputs": [
    {
     "data": {
      "text/plain": "GridSearchCV(cv=5, estimator=Ridge(),\n             param_grid={'alpha': array([1, 2, 3, 4, 5, 6, 7, 8, 9])},\n             scoring='neg_mean_squared_error')"
     },
     "execution_count": 150,
     "metadata": {},
     "output_type": "execute_result"
    }
   ],
   "source": [
    "ridge = Ridge()\n",
    "parameters = {\n",
    "    'alpha': np.arange(1, 10)\n",
    "}\n",
    "grid = GridSearchCV(ridge, parameters, scoring='neg_mean_squared_error', cv=5)\n",
    "grid.fit(X_train, Y_train)"
   ],
   "metadata": {
    "collapsed": false
   }
  },
  {
   "cell_type": "code",
   "execution_count": 151,
   "outputs": [
    {
     "data": {
      "text/plain": "{'mean_fit_time': array([0.02187128, 0.00625477, 0.00936627, 0.00739489, 0.02479191,\n        0.01047978, 0.00551825, 0.0031703 , 0.00379243]),\n 'std_fit_time': array([0.03643438, 0.0076605 , 0.00764754, 0.00923572, 0.03467496,\n        0.00679996, 0.00685694, 0.00437925, 0.00605611]),\n 'mean_score_time': array([0.00312295, 0.        , 0.        , 0.00630088, 0.00805283,\n        0.00553594, 0.00937352, 0.01052179, 0.00592732]),\n 'std_score_time': array([0.0062459 , 0.        , 0.        , 0.00771745, 0.01610565,\n        0.0050837 , 0.00765345, 0.00650581, 0.00736253]),\n 'param_alpha': masked_array(data=[1, 2, 3, 4, 5, 6, 7, 8, 9],\n              mask=[False, False, False, False, False, False, False, False,\n                    False],\n        fill_value='?',\n             dtype=object),\n 'params': [{'alpha': 1},\n  {'alpha': 2},\n  {'alpha': 3},\n  {'alpha': 4},\n  {'alpha': 5},\n  {'alpha': 6},\n  {'alpha': 7},\n  {'alpha': 8},\n  {'alpha': 9}],\n 'split0_test_score': array([-268238.95559766, -268547.8089326 , -268923.0148316 ,\n        -269360.11208784, -269854.9269685 , -270403.55298062,\n        -271002.33221991, -271647.83816513, -272336.85979401]),\n 'split1_test_score': array([-266057.53308777, -266895.70496909, -267801.43997469,\n        -268769.62791212, -269795.50977515, -270874.65163419,\n        -272002.92067976, -273176.46322207, -274391.6844698 ]),\n 'split2_test_score': array([-248618.58468185, -249307.07786017, -250065.0223524 ,\n        -250887.35181508, -251769.34067497, -252706.57930501,\n        -253694.95120369, -254730.61199891, -255809.97011493]),\n 'split3_test_score': array([-336278.56525942, -335941.82107209, -335694.15564393,\n        -335529.92296687, -335443.84383884, -335430.97931267,\n        -335486.7063024 , -335606.69515171, -335786.88898809]),\n 'split4_test_score': array([-282871.73195199, -281832.40021594, -280918.85904883,\n        -280123.32515338, -279438.52782506, -278857.67083982,\n        -278374.39754851, -277982.75887519, -277677.1839482 ]),\n 'mean_test_score': array([-280413.07411574, -280504.96260998, -280680.49837029,\n        -280934.06798706, -281260.4298165 , -281654.68681446,\n        -282112.26159085, -282628.8734826 , -283200.517463  ]),\n 'std_test_score': array([29973.91658539, 29585.47210105, 29216.34897983, 28865.55003852,\n        28532.14295319, 28215.25485488, 27914.06745636, 27627.81265297,\n        27355.76854694]),\n 'rank_test_score': array([1, 2, 3, 4, 5, 6, 7, 8, 9])}"
     },
     "execution_count": 151,
     "metadata": {},
     "output_type": "execute_result"
    }
   ],
   "source": [
    "grid.cv_results_"
   ],
   "metadata": {
    "collapsed": false
   }
  },
  {
   "cell_type": "code",
   "execution_count": 152,
   "outputs": [
    {
     "data": {
      "text/plain": "{'alpha': 1}"
     },
     "execution_count": 152,
     "metadata": {},
     "output_type": "execute_result"
    }
   ],
   "source": [
    "grid.best_params_"
   ],
   "metadata": {
    "collapsed": false
   }
  },
  {
   "cell_type": "code",
   "execution_count": 153,
   "outputs": [
    {
     "data": {
      "text/plain": "268631.2599026105"
     },
     "execution_count": 153,
     "metadata": {},
     "output_type": "execute_result"
    }
   ],
   "source": [
    "ridge_best = Ridge(**grid.best_params_)\n",
    "ridge_best.fit(X_train, Y_train)\n",
    "mean_squared_error(Y_test, ridge_best.predict(X_test))"
   ],
   "metadata": {
    "collapsed": false
   }
  },
  {
   "cell_type": "markdown",
   "source": [
    "Lasso\n",
    "="
   ],
   "metadata": {
    "collapsed": false
   }
  },
  {
   "cell_type": "code",
   "execution_count": 154,
   "outputs": [],
   "source": [
    "lasso = Lasso()\n",
    "parameters = {\n",
    "    'alpha': np.arange(1, 10)\n",
    "}\n",
    "grid = GridSearchCV(lasso, parameters, scoring='neg_mean_squared_error', cv=5)\n",
    "grid.fit(X_train, Y_train);"
   ],
   "metadata": {
    "collapsed": false
   }
  },
  {
   "cell_type": "code",
   "execution_count": 155,
   "outputs": [
    {
     "data": {
      "text/plain": "268623.4108667053"
     },
     "execution_count": 155,
     "metadata": {},
     "output_type": "execute_result"
    }
   ],
   "source": [
    "lasso_best = Lasso(**grid.best_params_)\n",
    "lasso_best.fit(X_train, Y_train)\n",
    "mean_squared_error(Y_test, lasso_best.predict(X_test))"
   ],
   "metadata": {
    "collapsed": false
   }
  },
  {
   "cell_type": "code",
   "execution_count": 157,
   "outputs": [],
   "source": [
    "from scipy.stats import ttest_ind"
   ],
   "metadata": {
    "collapsed": false
   }
  },
  {
   "cell_type": "code",
   "execution_count": 161,
   "outputs": [
    {
     "data": {
      "text/plain": "Ttest_indResult(statistic=array([ 0.35722257,  0.83136968, -1.23748718,  1.55384318, -2.00294042,\n        0.82829457, -0.07544612,  0.96965443, -0.12500834]), pvalue=array([0.72100403, 0.40597242, 0.21621013, 0.1205528 , 0.04546562,\n       0.40771043, 0.93987555, 0.33246402, 0.90054323]))"
     },
     "execution_count": 161,
     "metadata": {},
     "output_type": "execute_result"
    }
   ],
   "source": [
    "ttest_ind(X_train, X_test)"
   ],
   "metadata": {
    "collapsed": false
   }
  },
  {
   "cell_type": "code",
   "execution_count": null,
   "outputs": [],
   "source": [],
   "metadata": {
    "collapsed": false
   }
  }
 ],
 "metadata": {
  "kernelspec": {
   "display_name": "Python 3",
   "language": "python",
   "name": "python3"
  },
  "language_info": {
   "codemirror_mode": {
    "name": "ipython",
    "version": 2
   },
   "file_extension": ".py",
   "mimetype": "text/x-python",
   "name": "python",
   "nbconvert_exporter": "python",
   "pygments_lexer": "ipython2",
   "version": "2.7.6"
  }
 },
 "nbformat": 4,
 "nbformat_minor": 0
}
